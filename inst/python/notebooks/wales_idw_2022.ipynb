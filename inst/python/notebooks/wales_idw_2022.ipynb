{
 "cells": [
  {
   "cell_type": "markdown",
   "id": "c1e211fb-7136-4aed-9640-a51afa09ae4b",
   "metadata": {},
   "source": [
    "# Mapping loneliness area scores from GP points, Wales 2022"
   ]
  },
  {
   "cell_type": "markdown",
   "id": "542d96c7",
   "metadata": {},
   "source": [
    "### Check venv is activated"
   ]
  },
  {
   "cell_type": "code",
   "execution_count": 1,
   "id": "8b5ffcc1",
   "metadata": {},
   "outputs": [
    {
     "name": "stdout",
     "output_type": "stream",
     "text": [
      "You are in a virtual environment - venv_loneliness\n"
     ]
    }
   ],
   "source": [
    "import sys\n",
    "import os\n",
    "if sys.base_prefix != sys.prefix:\n",
    "    venv_name = os.path.basename(sys.prefix)\n",
    "    print(f\"You are in a virtual environment - {venv_name}\")\n",
    "else:\n",
    "    print(\"You are not in a virtual environment. Activate your venev\")"
   ]
  },
  {
   "cell_type": "code",
   "execution_count": 2,
   "id": "49a79b54-38d6-4e83-999b-b9cdcc718c15",
   "metadata": {},
   "outputs": [],
   "source": [
    "import pandas as pd\n",
    "import numpy as np\n",
    "import matplotlib.pyplot as plt\n",
    "import geopandas as gpd\n",
    "from sklearn.neighbors import KNeighborsRegressor\n",
    "from sklearn.model_selection import train_test_split, GridSearchCV, KFold\n",
    "from sklearn.metrics import mean_squared_error, r2_score\n",
    "from shapely.geometry import Point\n",
    "import rasterio as rst\n",
    "from rasterstats import zonal_stats"
   ]
  },
  {
   "cell_type": "markdown",
   "id": "d0f849e9-f02e-4c45-8f79-a47100e98d42",
   "metadata": {},
   "source": [
    "## Join GPs postcodes to coordinates"
   ]
  },
  {
   "cell_type": "markdown",
   "id": "eeb0f968-d7e5-417d-9715-390cad0481ee",
   "metadata": {},
   "source": [
    "- Get coordinates for postcodes in the UK\n",
    "- https://geoportal.statistics.gov.uk/datasets/9ac0331178b0435e839f62f41cc61c16\n",
    "\n",
    "*File needs to be manually downloaded*"
   ]
  },
  {
   "cell_type": "code",
   "execution_count": 3,
   "id": "01d66732-a7b9-4838-bf00-d25f32b0c324",
   "metadata": {},
   "outputs": [],
   "source": [
    "nspl = pd.read_csv(\"C:/Users/JennaTan/Downloads/NSPL_MAY_2022_UK.csv\", low_memory = False)"
   ]
  },
  {
   "cell_type": "code",
   "execution_count": 4,
   "id": "2ea7b1b4-2761-408a-8b30-a068165bd961",
   "metadata": {},
   "outputs": [
    {
     "data": {
      "text/html": [
       "<div>\n",
       "<style scoped>\n",
       "    .dataframe tbody tr th:only-of-type {\n",
       "        vertical-align: middle;\n",
       "    }\n",
       "\n",
       "    .dataframe tbody tr th {\n",
       "        vertical-align: top;\n",
       "    }\n",
       "\n",
       "    .dataframe thead th {\n",
       "        text-align: right;\n",
       "    }\n",
       "</style>\n",
       "<table border=\"1\" class=\"dataframe\">\n",
       "  <thead>\n",
       "    <tr style=\"text-align: right;\">\n",
       "      <th></th>\n",
       "      <th>pcd</th>\n",
       "      <th>pcd2</th>\n",
       "      <th>pcds</th>\n",
       "      <th>dointr</th>\n",
       "      <th>doterm</th>\n",
       "      <th>usertype</th>\n",
       "      <th>oseast1m</th>\n",
       "      <th>osnrth1m</th>\n",
       "      <th>osgrdind</th>\n",
       "      <th>oa11</th>\n",
       "      <th>...</th>\n",
       "      <th>ru11ind</th>\n",
       "      <th>oac11</th>\n",
       "      <th>lat</th>\n",
       "      <th>long</th>\n",
       "      <th>lep1</th>\n",
       "      <th>lep2</th>\n",
       "      <th>pfa</th>\n",
       "      <th>imd</th>\n",
       "      <th>calncv</th>\n",
       "      <th>stp</th>\n",
       "    </tr>\n",
       "  </thead>\n",
       "  <tbody>\n",
       "    <tr>\n",
       "      <th>0</th>\n",
       "      <td>AB1 0AA</td>\n",
       "      <td>AB1  0AA</td>\n",
       "      <td>AB1 0AA</td>\n",
       "      <td>198001</td>\n",
       "      <td>199606.0</td>\n",
       "      <td>0</td>\n",
       "      <td>385386.0</td>\n",
       "      <td>801193.0</td>\n",
       "      <td>1</td>\n",
       "      <td>S00090303</td>\n",
       "      <td>...</td>\n",
       "      <td>3</td>\n",
       "      <td>1C3</td>\n",
       "      <td>57.101474</td>\n",
       "      <td>-2.242851</td>\n",
       "      <td>S99999999</td>\n",
       "      <td>S99999999</td>\n",
       "      <td>S23000009</td>\n",
       "      <td>6715</td>\n",
       "      <td>S99999999</td>\n",
       "      <td>S99999999</td>\n",
       "    </tr>\n",
       "    <tr>\n",
       "      <th>1</th>\n",
       "      <td>AB1 0AB</td>\n",
       "      <td>AB1  0AB</td>\n",
       "      <td>AB1 0AB</td>\n",
       "      <td>198001</td>\n",
       "      <td>199606.0</td>\n",
       "      <td>0</td>\n",
       "      <td>385177.0</td>\n",
       "      <td>801314.0</td>\n",
       "      <td>1</td>\n",
       "      <td>S00090303</td>\n",
       "      <td>...</td>\n",
       "      <td>3</td>\n",
       "      <td>1C3</td>\n",
       "      <td>57.102554</td>\n",
       "      <td>-2.246308</td>\n",
       "      <td>S99999999</td>\n",
       "      <td>S99999999</td>\n",
       "      <td>S23000009</td>\n",
       "      <td>6715</td>\n",
       "      <td>S99999999</td>\n",
       "      <td>S99999999</td>\n",
       "    </tr>\n",
       "  </tbody>\n",
       "</table>\n",
       "<p>2 rows × 41 columns</p>\n",
       "</div>"
      ],
      "text/plain": [
       "       pcd      pcd2     pcds  dointr    doterm  usertype  oseast1m  osnrth1m  \\\n",
       "0  AB1 0AA  AB1  0AA  AB1 0AA  198001  199606.0         0  385386.0  801193.0   \n",
       "1  AB1 0AB  AB1  0AB  AB1 0AB  198001  199606.0         0  385177.0  801314.0   \n",
       "\n",
       "   osgrdind       oa11  ... ru11ind oac11        lat      long       lep1  \\\n",
       "0         1  S00090303  ...       3   1C3  57.101474 -2.242851  S99999999   \n",
       "1         1  S00090303  ...       3   1C3  57.102554 -2.246308  S99999999   \n",
       "\n",
       "        lep2        pfa   imd     calncv        stp  \n",
       "0  S99999999  S23000009  6715  S99999999  S99999999  \n",
       "1  S99999999  S23000009  6715  S99999999  S99999999  \n",
       "\n",
       "[2 rows x 41 columns]"
      ]
     },
     "execution_count": 4,
     "metadata": {},
     "output_type": "execute_result"
    }
   ],
   "source": [
    "nspl.head(2)"
   ]
  },
  {
   "cell_type": "code",
   "execution_count": 5,
   "id": "1490906f-5cb1-4355-8932-fac5ce59478f",
   "metadata": {},
   "outputs": [],
   "source": [
    "nspl = nspl[[\"pcds\", \"oseast1m\", \"osnrth1m\", \"lsoa11\", \"msoa11\" ]]\n",
    "nspl[\"pcds\"] = nspl.pcds.str.replace(\" \", \"\")"
   ]
  },
  {
   "cell_type": "code",
   "execution_count": 6,
   "id": "e22d53cc-7bf0-49b4-a86a-cfe4655b71bd",
   "metadata": {},
   "outputs": [],
   "source": [
    "# Read loneliness scores by GP df\n",
    "df = pd.read_csv(\"../../extdata/wales_gp_2022.csv\")"
   ]
  },
  {
   "cell_type": "code",
   "execution_count": 7,
   "id": "6d28cd87-bf17-4fc4-97b3-159e4b3e91eb",
   "metadata": {},
   "outputs": [
    {
     "name": "stdout",
     "output_type": "stream",
     "text": [
      "475\n"
     ]
    },
    {
     "data": {
      "text/html": [
       "<div>\n",
       "<style scoped>\n",
       "    .dataframe tbody tr th:only-of-type {\n",
       "        vertical-align: middle;\n",
       "    }\n",
       "\n",
       "    .dataframe tbody tr th {\n",
       "        vertical-align: top;\n",
       "    }\n",
       "\n",
       "    .dataframe thead th {\n",
       "        text-align: right;\n",
       "    }\n",
       "</style>\n",
       "<table border=\"1\" class=\"dataframe\">\n",
       "  <thead>\n",
       "    <tr style=\"text-align: right;\">\n",
       "      <th></th>\n",
       "      <th>postcode</th>\n",
       "      <th>loneliness_zscore</th>\n",
       "    </tr>\n",
       "  </thead>\n",
       "  <tbody>\n",
       "    <tr>\n",
       "      <th>0</th>\n",
       "      <td>CF834AU</td>\n",
       "      <td>2.394639</td>\n",
       "    </tr>\n",
       "    <tr>\n",
       "      <th>1</th>\n",
       "      <td>LL113NS</td>\n",
       "      <td>0.923323</td>\n",
       "    </tr>\n",
       "  </tbody>\n",
       "</table>\n",
       "</div>"
      ],
      "text/plain": [
       "  postcode  loneliness_zscore\n",
       "0  CF834AU           2.394639\n",
       "1  LL113NS           0.923323"
      ]
     },
     "execution_count": 7,
     "metadata": {},
     "output_type": "execute_result"
    }
   ],
   "source": [
    "print(len(df))\n",
    "df.head(2)"
   ]
  },
  {
   "cell_type": "code",
   "execution_count": 8,
   "id": "9374d406-ea45-4828-8653-0ff911251759",
   "metadata": {},
   "outputs": [],
   "source": [
    "df.rename(columns = {\"postcode\":\"pcds\"}, inplace = True)"
   ]
  },
  {
   "cell_type": "code",
   "execution_count": 9,
   "id": "f0aa7d8d-af8e-49f0-9d05-2c6aecbd97a8",
   "metadata": {},
   "outputs": [],
   "source": [
    "df = df.merge(nspl, on = \"pcds\", how = \"left\")"
   ]
  },
  {
   "cell_type": "code",
   "execution_count": 10,
   "id": "7622eda4-a69b-48b3-8a87-b9d1a7c359fb",
   "metadata": {},
   "outputs": [
    {
     "data": {
      "text/plain": [
       "pcds   loneliness_zscore  oseast1m  osnrth1m  lsoa11  msoa11\n",
       "False  False              False     False     False   False     474\n",
       "                          True      True      True    True        1\n",
       "Name: count, dtype: int64"
      ]
     },
     "execution_count": 10,
     "metadata": {},
     "output_type": "execute_result"
    }
   ],
   "source": [
    "# Check all postcodes have matched - there is one that hasnt\n",
    "df.isna().value_counts()"
   ]
  },
  {
   "cell_type": "code",
   "execution_count": 11,
   "id": "21928224-3c73-46ab-9a0e-9343c82c64ef",
   "metadata": {},
   "outputs": [
    {
     "data": {
      "text/html": [
       "<div>\n",
       "<style scoped>\n",
       "    .dataframe tbody tr th:only-of-type {\n",
       "        vertical-align: middle;\n",
       "    }\n",
       "\n",
       "    .dataframe tbody tr th {\n",
       "        vertical-align: top;\n",
       "    }\n",
       "\n",
       "    .dataframe thead th {\n",
       "        text-align: right;\n",
       "    }\n",
       "</style>\n",
       "<table border=\"1\" class=\"dataframe\">\n",
       "  <thead>\n",
       "    <tr style=\"text-align: right;\">\n",
       "      <th></th>\n",
       "      <th>pcds</th>\n",
       "      <th>loneliness_zscore</th>\n",
       "      <th>oseast1m</th>\n",
       "      <th>osnrth1m</th>\n",
       "      <th>lsoa11</th>\n",
       "      <th>msoa11</th>\n",
       "    </tr>\n",
       "  </thead>\n",
       "  <tbody>\n",
       "    <tr>\n",
       "      <th>365</th>\n",
       "      <td>LD3OAW</td>\n",
       "      <td>0.151096</td>\n",
       "      <td>NaN</td>\n",
       "      <td>NaN</td>\n",
       "      <td>NaN</td>\n",
       "      <td>NaN</td>\n",
       "    </tr>\n",
       "  </tbody>\n",
       "</table>\n",
       "</div>"
      ],
      "text/plain": [
       "       pcds  loneliness_zscore  oseast1m  osnrth1m lsoa11 msoa11\n",
       "365  LD3OAW           0.151096       NaN       NaN    NaN    NaN"
      ]
     },
     "execution_count": 11,
     "metadata": {},
     "output_type": "execute_result"
    }
   ],
   "source": [
    "# investigate postcode that didn't match - could be data entry error o instead of 0\n",
    "df[df.msoa11.isna()]"
   ]
  },
  {
   "cell_type": "code",
   "execution_count": 12,
   "id": "152a6eea-7505-4a79-90ed-9354cac86328",
   "metadata": {},
   "outputs": [
    {
     "data": {
      "text/html": [
       "<div>\n",
       "<style scoped>\n",
       "    .dataframe tbody tr th:only-of-type {\n",
       "        vertical-align: middle;\n",
       "    }\n",
       "\n",
       "    .dataframe tbody tr th {\n",
       "        vertical-align: top;\n",
       "    }\n",
       "\n",
       "    .dataframe thead th {\n",
       "        text-align: right;\n",
       "    }\n",
       "</style>\n",
       "<table border=\"1\" class=\"dataframe\">\n",
       "  <thead>\n",
       "    <tr style=\"text-align: right;\">\n",
       "      <th></th>\n",
       "      <th>pcds</th>\n",
       "      <th>oseast1m</th>\n",
       "      <th>osnrth1m</th>\n",
       "      <th>lsoa11</th>\n",
       "      <th>msoa11</th>\n",
       "    </tr>\n",
       "  </thead>\n",
       "  <tbody>\n",
       "    <tr>\n",
       "      <th>1246366</th>\n",
       "      <td>LD30AW</td>\n",
       "      <td>315492.0</td>\n",
       "      <td>234175.0</td>\n",
       "      <td>W01000494</td>\n",
       "      <td>W02000111</td>\n",
       "    </tr>\n",
       "  </tbody>\n",
       "</table>\n",
       "</div>"
      ],
      "text/plain": [
       "           pcds  oseast1m  osnrth1m     lsoa11     msoa11\n",
       "1246366  LD30AW  315492.0  234175.0  W01000494  W02000111"
      ]
     },
     "execution_count": 12,
     "metadata": {},
     "output_type": "execute_result"
    }
   ],
   "source": [
    "nspl[nspl.pcds==\"LD30AW\"]"
   ]
  },
  {
   "cell_type": "code",
   "execution_count": 13,
   "id": "f48f5870-1356-4d0f-8050-ac88dfc31dc4",
   "metadata": {},
   "outputs": [],
   "source": [
    "# drop it for now\n",
    "df.dropna(inplace = True)"
   ]
  },
  {
   "cell_type": "markdown",
   "id": "46df5fdd-d51b-4cf9-ad60-ada087645b30",
   "metadata": {},
   "source": [
    "## Read DF as Geopanda"
   ]
  },
  {
   "cell_type": "code",
   "execution_count": 14,
   "id": "525975b9-c1f0-4502-bd8b-2e2abf04a01a",
   "metadata": {},
   "outputs": [
    {
     "name": "stderr",
     "output_type": "stream",
     "text": [
      "C:\\Users\\JennaTan\\Documents\\loneliness\\venv_loneliness\\lib\\site-packages\\pyproj\\crs\\crs.py:141: FutureWarning: '+init=<authority>:<code>' syntax is deprecated. '<authority>:<code>' is the preferred initialization method. When making the change, be mindful of axis order changes: https://pyproj4.github.io/pyproj/stable/gotchas.html#axis-order-changes-in-proj-6\n",
      "  in_crs_string = _prepare_from_proj_string(in_crs_string)\n"
     ]
    },
    {
     "data": {
      "text/html": [
       "<div>\n",
       "<style scoped>\n",
       "    .dataframe tbody tr th:only-of-type {\n",
       "        vertical-align: middle;\n",
       "    }\n",
       "\n",
       "    .dataframe tbody tr th {\n",
       "        vertical-align: top;\n",
       "    }\n",
       "\n",
       "    .dataframe thead th {\n",
       "        text-align: right;\n",
       "    }\n",
       "</style>\n",
       "<table border=\"1\" class=\"dataframe\">\n",
       "  <thead>\n",
       "    <tr style=\"text-align: right;\">\n",
       "      <th></th>\n",
       "      <th>pcds</th>\n",
       "      <th>loneliness_zscore</th>\n",
       "      <th>oseast1m</th>\n",
       "      <th>osnrth1m</th>\n",
       "      <th>lsoa11</th>\n",
       "      <th>msoa11</th>\n",
       "      <th>geometry</th>\n",
       "    </tr>\n",
       "  </thead>\n",
       "  <tbody>\n",
       "    <tr>\n",
       "      <th>0</th>\n",
       "      <td>CF834AU</td>\n",
       "      <td>2.394639</td>\n",
       "      <td>312091.0</td>\n",
       "      <td>189331.0</td>\n",
       "      <td>W01001331</td>\n",
       "      <td>W02000307</td>\n",
       "      <td>POINT (312091.000 189331.000)</td>\n",
       "    </tr>\n",
       "    <tr>\n",
       "      <th>1</th>\n",
       "      <td>LL113NS</td>\n",
       "      <td>0.923323</td>\n",
       "      <td>328624.0</td>\n",
       "      <td>351132.0</td>\n",
       "      <td>W01000364</td>\n",
       "      <td>W02000083</td>\n",
       "      <td>POINT (328624.000 351132.000)</td>\n",
       "    </tr>\n",
       "    <tr>\n",
       "      <th>2</th>\n",
       "      <td>CH51XS</td>\n",
       "      <td>-9.339888</td>\n",
       "      <td>330760.0</td>\n",
       "      <td>367615.0</td>\n",
       "      <td>W01000335</td>\n",
       "      <td>W02000066</td>\n",
       "      <td>POINT (330760.000 367615.000)</td>\n",
       "    </tr>\n",
       "    <tr>\n",
       "      <th>3</th>\n",
       "      <td>NP447XX</td>\n",
       "      <td>-9.481488</td>\n",
       "      <td>329326.0</td>\n",
       "      <td>193774.0</td>\n",
       "      <td>W01001504</td>\n",
       "      <td>W02000335</td>\n",
       "      <td>POINT (329326.000 193774.000)</td>\n",
       "    </tr>\n",
       "    <tr>\n",
       "      <th>4</th>\n",
       "      <td>NP447XX</td>\n",
       "      <td>-5.242755</td>\n",
       "      <td>329326.0</td>\n",
       "      <td>193774.0</td>\n",
       "      <td>W01001504</td>\n",
       "      <td>W02000335</td>\n",
       "      <td>POINT (329326.000 193774.000)</td>\n",
       "    </tr>\n",
       "  </tbody>\n",
       "</table>\n",
       "</div>"
      ],
      "text/plain": [
       "      pcds  loneliness_zscore  oseast1m  osnrth1m     lsoa11     msoa11  \\\n",
       "0  CF834AU           2.394639  312091.0  189331.0  W01001331  W02000307   \n",
       "1  LL113NS           0.923323  328624.0  351132.0  W01000364  W02000083   \n",
       "2   CH51XS          -9.339888  330760.0  367615.0  W01000335  W02000066   \n",
       "3  NP447XX          -9.481488  329326.0  193774.0  W01001504  W02000335   \n",
       "4  NP447XX          -5.242755  329326.0  193774.0  W01001504  W02000335   \n",
       "\n",
       "                        geometry  \n",
       "0  POINT (312091.000 189331.000)  \n",
       "1  POINT (328624.000 351132.000)  \n",
       "2  POINT (330760.000 367615.000)  \n",
       "3  POINT (329326.000 193774.000)  \n",
       "4  POINT (329326.000 193774.000)  "
      ]
     },
     "execution_count": 14,
     "metadata": {},
     "output_type": "execute_result"
    }
   ],
   "source": [
    "# CRS =  EPSG 27700, reads gpd as British National Grid coords\n",
    "# Create a new col 'geometry'\n",
    "\n",
    "geo_data = gpd.GeoDataFrame(data = df, \n",
    "                            crs = {'init':'epsg:27700'}, \n",
    "                            geometry = df.apply(lambda geom: Point(geom['oseast1m'],geom['osnrth1m']),axis=1))\n",
    "geo_data.head()"
   ]
  },
  {
   "cell_type": "code",
   "execution_count": 15,
   "id": "57a55ddd-10c0-42a6-8cab-78550495d3a5",
   "metadata": {},
   "outputs": [
    {
     "data": {
      "image/png": "[encoded data removed]",
      "text/plain": [
       "<Figure size 300x300 with 1 Axes>"
      ]
     },
     "metadata": {},
     "output_type": "display_data"
    }
   ],
   "source": [
    "# Visualise loneliness score geographically using geometry col\n",
    "geo_data.plot(column = 'loneliness_zscore', scheme = 'quantiles', cmap = 'Blues', marker = '.', figsize=(3,3));"
   ]
  },
  {
   "cell_type": "markdown",
   "id": "41d21780-b141-4508-a6b8-8f6cd89ce677",
   "metadata": {},
   "source": [
    "- Reflects shape of Wales\n",
    "- Not very evenly distributed - quite a few gaps in the middle; with huge cluster around Cardiff area\n",
    "- Darker dots higher levels of loneliness - expect to see replication - in south east and north east"
   ]
  },
  {
   "cell_type": "markdown",
   "id": "a43c8809-e71e-4bff-bf7f-c78c58b739ae",
   "metadata": {},
   "source": [
    "## Develop KNN; predict unknown points"
   ]
  },
  {
   "cell_type": "markdown",
   "id": "2fe81153-09cb-4f47-8dd0-3a01ddab1a6f",
   "metadata": {},
   "source": [
    "### Instantiate KNN as IDW model"
   ]
  },
  {
   "cell_type": "code",
   "execution_count": 16,
   "id": "c3a09ef7-d04c-4105-9dee-677c949cbf74",
   "metadata": {},
   "outputs": [],
   "source": [
    "def idw_model(k, p):\n",
    "    \"\"\"\n",
    "    Instantiates a KNN regressor as an IDW interpolater. k = no. neighbours, p = power for idw\n",
    "    \"\"\"\n",
    "    def _inv_distance_index(weights, index=p):\n",
    "        \"\"\"Weights set as distance from the input points and neighbour, with an inverse calculation of (1/dist**power).\n",
    "        Values not dividable by 0 are ignored.\n",
    "        \"\"\"\n",
    "        #return (test==0).astype(int) if np.any(weights == 0) else 1. / weights**index\n",
    "        \n",
    "        with np.errstate(divide='ignore', invalid='ignore'):\n",
    "            safe_weights = 1. / weights**index\n",
    "        return np.nan_to_num(safe_weights, posinf=0) # ignore weights that are negative\n",
    "        \n",
    "    return KNeighborsRegressor(k, weights=_inv_distance_index)"
   ]
  },
  {
   "cell_type": "markdown",
   "id": "25eaa27a-14ed-4f86-b17e-d259bf023941",
   "metadata": {},
   "source": [
    "### Train test split"
   ]
  },
  {
   "cell_type": "code",
   "execution_count": 17,
   "id": "0ade6c7d-0276-4f4c-8db1-4b4f4b85f4f8",
   "metadata": {},
   "outputs": [],
   "source": [
    "# Get existing point locations and values to fit the model\n",
    "points = geo_data[['oseast1m','osnrth1m']].values\n",
    "vals = geo_data['loneliness_zscore'].values"
   ]
  },
  {
   "cell_type": "code",
   "execution_count": 18,
   "id": "47b2b4c2-4c35-4791-8bee-b691fed65083",
   "metadata": {},
   "outputs": [
    {
     "data": {
      "text/plain": [
       "0"
      ]
     },
     "execution_count": 18,
     "metadata": {},
     "output_type": "execute_result"
    }
   ],
   "source": [
    "np.isnan(points).sum()"
   ]
  },
  {
   "cell_type": "code",
   "execution_count": 19,
   "id": "8b76a1c1-502d-44df-b993-7c3c033af1c1",
   "metadata": {},
   "outputs": [
    {
     "data": {
      "text/plain": [
       "0"
      ]
     },
     "execution_count": 19,
     "metadata": {},
     "output_type": "execute_result"
    }
   ],
   "source": [
    "np.isnan(vals).sum()"
   ]
  },
  {
   "cell_type": "code",
   "execution_count": 20,
   "id": "2c13ef4e-d286-4518-b65a-230ae01d1dab",
   "metadata": {},
   "outputs": [
    {
     "data": {
      "text/plain": [
       "474"
      ]
     },
     "execution_count": 20,
     "metadata": {},
     "output_type": "execute_result"
    }
   ],
   "source": [
    "len(vals)"
   ]
  },
  {
   "cell_type": "code",
   "execution_count": 21,
   "id": "37880df7-9730-4dfc-ae43-7ff7ac74854c",
   "metadata": {},
   "outputs": [],
   "source": [
    "X_train, X_test, y_train, y_test = train_test_split(points, vals, test_size=0.2, random_state=42)"
   ]
  },
  {
   "cell_type": "code",
   "execution_count": 22,
   "id": "e534e9b8-99e0-4e68-90f7-770b051a89c8",
   "metadata": {},
   "outputs": [
    {
     "data": {
      "text/plain": [
       "0"
      ]
     },
     "execution_count": 22,
     "metadata": {},
     "output_type": "execute_result"
    }
   ],
   "source": [
    "pd.isna(X_train).sum()"
   ]
  },
  {
   "cell_type": "code",
   "execution_count": 23,
   "id": "c338f83e-c320-492a-8fec-5440adb65686",
   "metadata": {},
   "outputs": [
    {
     "data": {
      "text/plain": [
       "0"
      ]
     },
     "execution_count": 23,
     "metadata": {},
     "output_type": "execute_result"
    }
   ],
   "source": [
    "pd.isna(y_train).sum()"
   ]
  },
  {
   "cell_type": "markdown",
   "id": "829343f5-c3e9-412d-bc2b-6d96fe7dacba",
   "metadata": {},
   "source": [
    "### Find best k and p"
   ]
  },
  {
   "cell_type": "code",
   "execution_count": 24,
   "id": "c2165de8-fbb1-477c-9e42-49e08efb8db0",
   "metadata": {},
   "outputs": [
    {
     "data": {
      "text/html": [
       "<style>#sk-container-id-1 {color: black;}#sk-container-id-1 pre{padding: 0;}#sk-container-id-1 div.sk-toggleable {background-color: white;}#sk-container-id-1 label.sk-toggleable__label {cursor: pointer;display: block;width: 100%;margin-bottom: 0;padding: 0.3em;box-sizing: border-box;text-align: center;}#sk-container-id-1 label.sk-toggleable__label-arrow:before {content: \"▸\";float: left;margin-right: 0.25em;color: #696969;}#sk-container-id-1 label.sk-toggleable__label-arrow:hover:before {color: black;}#sk-container-id-1 div.sk-estimator:hover label.sk-toggleable__label-arrow:before {color: black;}#sk-container-id-1 div.sk-toggleable__content {max-height: 0;max-width: 0;overflow: hidden;text-align: left;background-color: #f0f8ff;}#sk-container-id-1 div.sk-toggleable__content pre {margin: 0.2em;color: black;border-radius: 0.25em;background-color: #f0f8ff;}#sk-container-id-1 input.sk-toggleable__control:checked~div.sk-toggleable__content {max-height: 200px;max-width: 100%;overflow: auto;}#sk-container-id-1 input.sk-toggleable__control:checked~label.sk-toggleable__label-arrow:before {content: \"▾\";}#sk-container-id-1 div.sk-estimator input.sk-toggleable__control:checked~label.sk-toggleable__label {background-color: #d4ebff;}#sk-container-id-1 div.sk-label input.sk-toggleable__control:checked~label.sk-toggleable__label {background-color: #d4ebff;}#sk-container-id-1 input.sk-hidden--visually {border: 0;clip: rect(1px 1px 1px 1px);clip: rect(1px, 1px, 1px, 1px);height: 1px;margin: -1px;overflow: hidden;padding: 0;position: absolute;width: 1px;}#sk-container-id-1 div.sk-estimator {font-family: monospace;background-color: #f0f8ff;border: 1px dotted black;border-radius: 0.25em;box-sizing: border-box;margin-bottom: 0.5em;}#sk-container-id-1 div.sk-estimator:hover {background-color: #d4ebff;}#sk-container-id-1 div.sk-parallel-item::after {content: \"\";width: 100%;border-bottom: 1px solid gray;flex-grow: 1;}#sk-container-id-1 div.sk-label:hover label.sk-toggleable__label {background-color: #d4ebff;}#sk-container-id-1 div.sk-serial::before {content: \"\";position: absolute;border-left: 1px solid gray;box-sizing: border-box;top: 0;bottom: 0;left: 50%;z-index: 0;}#sk-container-id-1 div.sk-serial {display: flex;flex-direction: column;align-items: center;background-color: white;padding-right: 0.2em;padding-left: 0.2em;position: relative;}#sk-container-id-1 div.sk-item {position: relative;z-index: 1;}#sk-container-id-1 div.sk-parallel {display: flex;align-items: stretch;justify-content: center;background-color: white;position: relative;}#sk-container-id-1 div.sk-item::before, #sk-container-id-1 div.sk-parallel-item::before {content: \"\";position: absolute;border-left: 1px solid gray;box-sizing: border-box;top: 0;bottom: 0;left: 50%;z-index: -1;}#sk-container-id-1 div.sk-parallel-item {display: flex;flex-direction: column;z-index: 1;position: relative;background-color: white;}#sk-container-id-1 div.sk-parallel-item:first-child::after {align-self: flex-end;width: 50%;}#sk-container-id-1 div.sk-parallel-item:last-child::after {align-self: flex-start;width: 50%;}#sk-container-id-1 div.sk-parallel-item:only-child::after {width: 0;}#sk-container-id-1 div.sk-dashed-wrapped {border: 1px dashed gray;margin: 0 0.4em 0.5em 0.4em;box-sizing: border-box;padding-bottom: 0.4em;background-color: white;}#sk-container-id-1 div.sk-label label {font-family: monospace;font-weight: bold;display: inline-block;line-height: 1.2em;}#sk-container-id-1 div.sk-label-container {text-align: center;}#sk-container-id-1 div.sk-container {/* jupyter's `normalize.less` sets `[hidden] { display: none; }` but bootstrap.min.css set `[hidden] { display: none !important; }` so we also need the `!important` here to be able to override the default hidden behavior on the sphinx rendered scikit-learn.org. See: https://github.com/scikit-learn/scikit-learn/issues/21755 */display: inline-block !important;position: relative;}#sk-container-id-1 div.sk-text-repr-fallback {display: none;}</style><div id=\"sk-container-id-1\" class=\"sk-top-container\"><div class=\"sk-text-repr-fallback\"><pre>GridSearchCV(cv=KFold(n_splits=5, random_state=42, shuffle=True),\n",
       "             estimator=KNeighborsRegressor(n_neighbors=1,\n",
       "                                           weights=&lt;function idw_model.&lt;locals&gt;._inv_distance_index at 0x000002980CA7ED30&gt;),\n",
       "             param_grid={&#x27;n_neighbors&#x27;: [5, 6, 7, 8, 9, 10],\n",
       "                         &#x27;p&#x27;: [1, 1.5, 2, 2.5, 3]})</pre><b>In a Jupyter environment, please rerun this cell to show the HTML representation or trust the notebook. <br />On GitHub, the HTML representation is unable to render, please try loading this page with nbviewer.org.</b></div><div class=\"sk-container\" hidden><div class=\"sk-item sk-dashed-wrapped\"><div class=\"sk-label-container\"><div class=\"sk-label sk-toggleable\"><input class=\"sk-toggleable__control sk-hidden--visually\" id=\"sk-estimator-id-1\" type=\"checkbox\" ><label for=\"sk-estimator-id-1\" class=\"sk-toggleable__label sk-toggleable__label-arrow\">GridSearchCV</label><div class=\"sk-toggleable__content\"><pre>GridSearchCV(cv=KFold(n_splits=5, random_state=42, shuffle=True),\n",
       "             estimator=KNeighborsRegressor(n_neighbors=1,\n",
       "                                           weights=&lt;function idw_model.&lt;locals&gt;._inv_distance_index at 0x000002980CA7ED30&gt;),\n",
       "             param_grid={&#x27;n_neighbors&#x27;: [5, 6, 7, 8, 9, 10],\n",
       "                         &#x27;p&#x27;: [1, 1.5, 2, 2.5, 3]})</pre></div></div></div><div class=\"sk-parallel\"><div class=\"sk-parallel-item\"><div class=\"sk-item\"><div class=\"sk-label-container\"><div class=\"sk-label sk-toggleable\"><input class=\"sk-toggleable__control sk-hidden--visually\" id=\"sk-estimator-id-2\" type=\"checkbox\" ><label for=\"sk-estimator-id-2\" class=\"sk-toggleable__label sk-toggleable__label-arrow\">estimator: KNeighborsRegressor</label><div class=\"sk-toggleable__content\"><pre>KNeighborsRegressor(n_neighbors=1,\n",
       "                    weights=&lt;function idw_model.&lt;locals&gt;._inv_distance_index at 0x000002980CA7ED30&gt;)</pre></div></div></div><div class=\"sk-serial\"><div class=\"sk-item\"><div class=\"sk-estimator sk-toggleable\"><input class=\"sk-toggleable__control sk-hidden--visually\" id=\"sk-estimator-id-3\" type=\"checkbox\" ><label for=\"sk-estimator-id-3\" class=\"sk-toggleable__label sk-toggleable__label-arrow\">KNeighborsRegressor</label><div class=\"sk-toggleable__content\"><pre>KNeighborsRegressor(n_neighbors=1,\n",
       "                    weights=&lt;function idw_model.&lt;locals&gt;._inv_distance_index at 0x000002980CA7ED30&gt;)</pre></div></div></div></div></div></div></div></div></div></div>"
      ],
      "text/plain": [
       "GridSearchCV(cv=KFold(n_splits=5, random_state=42, shuffle=True),\n",
       "             estimator=KNeighborsRegressor(n_neighbors=1,\n",
       "                                           weights=<function idw_model.<locals>._inv_distance_index at 0x000002980CA7ED30>),\n",
       "             param_grid={'n_neighbors': [5, 6, 7, 8, 9, 10],\n",
       "                         'p': [1, 1.5, 2, 2.5, 3]})"
      ]
     },
     "execution_count": 24,
     "metadata": {},
     "output_type": "execute_result"
    }
   ],
   "source": [
    "param_grid = {\n",
    "    'n_neighbors': [ 5, 6, 7, 8, 9, 10],\n",
    "    'p': [1, 1.5, 2, 2.5, 3]\n",
    "}\n",
    "\n",
    "knn_model = idw_model(1,1)\n",
    "kf = KFold(n_splits=5, shuffle=True, random_state=42)\n",
    "\n",
    "\n",
    "grid_search = GridSearchCV(knn_model, param_grid, cv=kf)\n",
    "grid_search.fit(X_train, y_train)\n"
   ]
  },
  {
   "cell_type": "code",
   "execution_count": 25,
   "id": "41190bd7-8cac-4654-bef1-ecc33888d4bf",
   "metadata": {},
   "outputs": [
    {
     "name": "stdout",
     "output_type": "stream",
     "text": [
      "Best k: 10\n",
      "Best p: 1.5\n"
     ]
    }
   ],
   "source": [
    "best_k = grid_search.best_params_['n_neighbors']\n",
    "best_p = grid_search.best_params_['p']\n",
    "\n",
    "print(\"Best k:\", best_k)\n",
    "print(\"Best p:\", best_p)"
   ]
  },
  {
   "cell_type": "code",
   "execution_count": 26,
   "id": "83193ce9-069b-4d48-b46d-5c40c1e47003",
   "metadata": {},
   "outputs": [],
   "source": [
    "grid = idw_model(10,1.5).fit(X_train, y_train)\n",
    "original = idw_model(5,2).fit(X_train, y_train)\n",
    "\n",
    "y_pred_grid = grid.predict(X_test)\n",
    "y_pred_original = original.predict(X_test)"
   ]
  },
  {
   "cell_type": "code",
   "execution_count": 27,
   "id": "9aeac1b0-4596-453e-aedb-206a48c1891d",
   "metadata": {},
   "outputs": [
    {
     "name": "stdout",
     "output_type": "stream",
     "text": [
      " Grid Search MSE: 21.759521089655234\n",
      " Original params MSE: 22.713657155004597\n"
     ]
    }
   ],
   "source": [
    "print(f\" Grid Search MSE: {mean_squared_error(y_test, y_pred_grid)}\")\n",
    "print(f\" Original params MSE: {mean_squared_error(y_test, y_pred_original)}\")"
   ]
  },
  {
   "cell_type": "markdown",
   "id": "050e20cd-2298-48de-9dfc-1d911749d950",
   "metadata": {},
   "source": [
    "### Use best params to fit model"
   ]
  },
  {
   "cell_type": "code",
   "execution_count": 28,
   "id": "66b38a9c-95de-4b18-9aeb-6f05ac170c9f",
   "metadata": {},
   "outputs": [],
   "source": [
    "idw = idw_model(10, 1.5).fit(points, vals)"
   ]
  },
  {
   "cell_type": "markdown",
   "id": "8f2dcf33-942b-46bb-8796-051cc1699e69",
   "metadata": {},
   "source": [
    "### Create grid of values to predict"
   ]
  },
  {
   "cell_type": "code",
   "execution_count": 29,
   "id": "7086cc84-d378-488c-8bf2-308051041ac1",
   "metadata": {},
   "outputs": [
    {
     "name": "stdout",
     "output_type": "stream",
     "text": [
      "xmin =  175485.0 \n",
      " xmax =  356308.0 \n",
      " ymin =  167517.0 \n",
      " ymax =  393061.0\n"
     ]
    }
   ],
   "source": [
    "# Get minimum and maximum coords from the data\n",
    "print(\"xmin = \", geo_data['oseast1m'].min(), \"\\n\\r\",\n",
    "      \"xmax = \", geo_data['oseast1m'].max(), \"\\n\\r\",\n",
    "      \"ymin = \", geo_data['osnrth1m'].min(), \"\\n\\r\",\n",
    "      \"ymax = \", geo_data['osnrth1m'].max())"
   ]
  },
  {
   "cell_type": "code",
   "execution_count": 30,
   "id": "136ed84a-5891-4bc9-b406-ceb8341b0c93",
   "metadata": {},
   "outputs": [],
   "source": [
    "xmin =  175485.0 \n",
    "xmax =  356308.0 \n",
    "ymin =  167517.0  \n",
    "ymax =  393061.0"
   ]
  },
  {
   "cell_type": "code",
   "execution_count": 31,
   "id": "9b617e2a-98e5-4e11-8b8f-96e911e93e44",
   "metadata": {},
   "outputs": [],
   "source": [
    "def grid(xmin, xmax, ymin, ymax, cellsize):\n",
    "    \"\"\"\n",
    "    Creates an evenly spaced grid structure of all possible x and y coords within the bounds of the data that will be \n",
    "    used for prediction. Even spacing ensures reliable and uniform coverage of the surface for estimation.\n",
    "    \n",
    "    \"\"\"\n",
    "    # Adjust x and y ranges to be perfectly divisible by cellsize using floor and ceiling division, ensuring even spacing\n",
    "    xmin = (xmin // cellsize) * cellsize \n",
    "    xmax = -(-xmax // cellsize) * cellsize \n",
    "    ymin = (ymin // cellsize) * cellsize\n",
    "    ymax = -(-ymax // cellsize) * cellsize\n",
    "    \n",
    "    # Generate coords within adjusted min/max range with regular spacing determined by cellsize\n",
    "    x = np.linspace(xmin,xmax,int((xmax-xmin)/cellsize))\n",
    "    y = np.linspace(ymin,ymax,int((ymax-ymin)/cellsize))\n",
    "    \n",
    "    # Create grid structure of all possible x and y points, returns two 2D arrays\n",
    "    xx,yy = np.meshgrid(x,y)\n",
    "   \n",
    "    return xx, yy"
   ]
  },
  {
   "cell_type": "code",
   "execution_count": 32,
   "id": "c436b439-6c20-44c5-9937-98b72b84210b",
   "metadata": {},
   "outputs": [],
   "source": [
    "# cellsize = 250 represents BNG 250m x 250m square\n",
    "xx,yy = grid(xmin, xmax, ymin, ymax, 200 )"
   ]
  },
  {
   "cell_type": "code",
   "execution_count": 33,
   "id": "c301381e-583e-473f-b56c-2f6d63363a2d",
   "metadata": {},
   "outputs": [],
   "source": [
    "def reshape_grid(xx,yy):\n",
    "    \"\"\" \n",
    "    Reshape output of the meshgrid into a single array combining x and y coords.\n",
    "    Ravel flattens xx/yy into (1,n) and [] turns it into a col vector (n,1). \n",
    "    Two col vectors combined to form xy\n",
    "    \"\"\"\n",
    "    return np.append(xx.ravel()[:,np.newaxis],yy.ravel()[:,np.newaxis],1)"
   ]
  },
  {
   "cell_type": "code",
   "execution_count": 34,
   "id": "8c18dc08-348b-45d1-bbd1-c5bd39a56313",
   "metadata": {},
   "outputs": [],
   "source": [
    "xy = reshape_grid(xx,yy)"
   ]
  },
  {
   "cell_type": "markdown",
   "id": "fa816f9e-3fe3-4eb3-9416-985547a44265",
   "metadata": {},
   "source": [
    "### Predict unknown values using trained KNN model"
   ]
  },
  {
   "cell_type": "code",
   "execution_count": 35,
   "id": "46c7b746-c1b8-4774-88f8-ba5b7f83a6dc",
   "metadata": {},
   "outputs": [],
   "source": [
    "# Predict values in the grid. Returns 1D array, (n,1)\n",
    "scores = idw.predict(xy)"
   ]
  },
  {
   "cell_type": "code",
   "execution_count": 36,
   "id": "e1e25271-cc97-4fbe-a138-1a2ac29ad90b",
   "metadata": {},
   "outputs": [
    {
     "data": {
      "text/plain": [
       "(1021745,)"
      ]
     },
     "execution_count": 36,
     "metadata": {},
     "output_type": "execute_result"
    }
   ],
   "source": [
    "scores.shape"
   ]
  },
  {
   "cell_type": "markdown",
   "id": "b25d5d10-911a-40c2-bdc1-d0645f9bc882",
   "metadata": {},
   "source": [
    "### Reshape predictions to grid"
   ]
  },
  {
   "cell_type": "markdown",
   "id": "6b36ee96-0259-44a8-91d2-b78fe0b0d34f",
   "metadata": {},
   "source": [
    "- KNN Regresor outputs a 1D array - predictions per coordinate\n",
    "- It needs to be reshaped to 2D to allign with the xx,yy meshgrid"
   ]
  },
  {
   "cell_type": "code",
   "execution_count": 37,
   "id": "724cd981-9b97-4960-a46c-bd2549e624ae",
   "metadata": {},
   "outputs": [],
   "source": [
    "def reshape_image(scores, xx):\n",
    "    return np.flip(scores.reshape(np.shape(xx)),0)\n",
    "\n",
    "scores = reshape_image(scores, xx)"
   ]
  },
  {
   "cell_type": "code",
   "execution_count": 38,
   "id": "7aa0cac3-237c-4fda-8577-6fbc79efd918",
   "metadata": {},
   "outputs": [
    {
     "data": {
      "text/plain": [
       "True"
      ]
     },
     "execution_count": 38,
     "metadata": {},
     "output_type": "execute_result"
    }
   ],
   "source": [
    "scores.shape == xx.shape"
   ]
  },
  {
   "cell_type": "markdown",
   "id": "cdfbc640-1145-4188-9c17-00e5d1bec95f",
   "metadata": {},
   "source": [
    "### Inspect surface outcome"
   ]
  },
  {
   "cell_type": "code",
   "execution_count": 39,
   "id": "d4bc9a27-7339-444e-939d-8cfc3b54bd16",
   "metadata": {},
   "outputs": [
    {
     "data": {
      "image/png": "[encoded data removed]",
      "text/plain": [
       "<Figure size 300x500 with 2 Axes>"
      ]
     },
     "metadata": {},
     "output_type": "display_data"
    }
   ],
   "source": [
    "f, ax = plt.subplots(figsize = (3,5))\n",
    "#ax.imshow(z, cmap='Reds')\n",
    "#ax.set_aspect('equal')\n",
    "\n",
    "heatmap = ax.imshow(scores, cmap='Blues', extent=[xmin, xmax, ymin, ymax])\n",
    "ax.scatter(points[:, 0], points[:, 1], color='grey', s=0.5)\n",
    "cbar = plt.colorbar(heatmap, ax=ax, label='Loneliness z_score prediction')\n"
   ]
  },
  {
   "cell_type": "markdown",
   "id": "e300bb11-4056-4cec-a29e-4c079754e337",
   "metadata": {},
   "source": [
    "Darker areas around the cities; roughly matches"
   ]
  },
  {
   "cell_type": "markdown",
   "id": "40ff4e82-ddab-41df-86e3-3869df50772a",
   "metadata": {},
   "source": [
    "## Map to LSOA- 1,917 in Wales"
   ]
  },
  {
   "cell_type": "markdown",
   "id": "77254d00-7f77-466b-9408-841e3fef5591",
   "metadata": {},
   "source": [
    "- Use API to get shape file : https://geoportal.statistics.gov.uk/datasets/766da1380a3544c5a7ca9131dfd4acb6_0/about\n",
    "- Calculate zonal stats "
   ]
  },
  {
   "cell_type": "code",
   "execution_count": 61,
   "id": "d7af8fc0-5dcc-4886-80d4-29ab2efbc927",
   "metadata": {},
   "outputs": [],
   "source": [
    "url = \"https://services1.arcgis.com/ESMARspQHYMw9BZ9/arcgis/rest/services/LSOA_Dec_2021_Boundaries_Generalised_Clipped_EW_BGC_2022/FeatureServer/0/query?where=LSOA21CD+LIKE+'W%25'&outFields=*&outSR=4326&f=json\"\n",
    "lsoa = gpd.read_file(url)"
   ]
  },
  {
   "cell_type": "code",
   "execution_count": 62,
   "id": "ddc1b063",
   "metadata": {},
   "outputs": [
    {
     "data": {
      "text/html": [
       "<div>\n",
       "<style scoped>\n",
       "    .dataframe tbody tr th:only-of-type {\n",
       "        vertical-align: middle;\n",
       "    }\n",
       "\n",
       "    .dataframe tbody tr th {\n",
       "        vertical-align: top;\n",
       "    }\n",
       "\n",
       "    .dataframe thead th {\n",
       "        text-align: right;\n",
       "    }\n",
       "</style>\n",
       "<table border=\"1\" class=\"dataframe\">\n",
       "  <thead>\n",
       "    <tr style=\"text-align: right;\">\n",
       "      <th></th>\n",
       "      <th>OBJECTID</th>\n",
       "      <th>LSOA21CD</th>\n",
       "      <th>LSOA21NM</th>\n",
       "      <th>GlobalID</th>\n",
       "      <th>Shape__Area</th>\n",
       "      <th>Shape__Length</th>\n",
       "      <th>geometry</th>\n",
       "    </tr>\n",
       "  </thead>\n",
       "  <tbody>\n",
       "    <tr>\n",
       "      <th>0</th>\n",
       "      <td>33756</td>\n",
       "      <td>W01000003</td>\n",
       "      <td>Isle of Anglesey 001A</td>\n",
       "      <td>3b4e11d6-8a05-4b5f-a741-4958ac33207f</td>\n",
       "      <td>2.666529e+06</td>\n",
       "      <td>11956.587766</td>\n",
       "      <td>POLYGON ((-4.33667 53.41845, -4.33667 53.41844...</td>\n",
       "    </tr>\n",
       "    <tr>\n",
       "      <th>1</th>\n",
       "      <td>33757</td>\n",
       "      <td>W01000004</td>\n",
       "      <td>Isle of Anglesey 001B</td>\n",
       "      <td>ff970f3f-77d8-43f2-99c6-fc7540dc64bf</td>\n",
       "      <td>1.551382e+07</td>\n",
       "      <td>26700.322323</td>\n",
       "      <td>POLYGON ((-4.39403 53.42572, -4.39343 53.42522...</td>\n",
       "    </tr>\n",
       "  </tbody>\n",
       "</table>\n",
       "</div>"
      ],
      "text/plain": [
       "   OBJECTID   LSOA21CD               LSOA21NM  \\\n",
       "0     33756  W01000003  Isle of Anglesey 001A   \n",
       "1     33757  W01000004  Isle of Anglesey 001B   \n",
       "\n",
       "                               GlobalID   Shape__Area  Shape__Length  \\\n",
       "0  3b4e11d6-8a05-4b5f-a741-4958ac33207f  2.666529e+06   11956.587766   \n",
       "1  ff970f3f-77d8-43f2-99c6-fc7540dc64bf  1.551382e+07   26700.322323   \n",
       "\n",
       "                                            geometry  \n",
       "0  POLYGON ((-4.33667 53.41845, -4.33667 53.41844...  \n",
       "1  POLYGON ((-4.39403 53.42572, -4.39343 53.42522...  "
      ]
     },
     "execution_count": 62,
     "metadata": {},
     "output_type": "execute_result"
    }
   ],
   "source": [
    "lsoa.head(2)"
   ]
  },
  {
   "cell_type": "code",
   "execution_count": 63,
   "id": "ad64d9d8-556c-4e32-a955-48bf01c2093b",
   "metadata": {
    "scrolled": true
   },
   "outputs": [
    {
     "data": {
      "text/plain": [
       "1917"
      ]
     },
     "execution_count": 63,
     "metadata": {},
     "output_type": "execute_result"
    }
   ],
   "source": [
    "# Check there are 1917 LSOAs\n",
    "lsoa.LSOA21CD.nunique()"
   ]
  },
  {
   "cell_type": "code",
   "execution_count": 64,
   "id": "cda84977-08cc-4ac1-9c3a-02332dd8c6d9",
   "metadata": {},
   "outputs": [
    {
     "name": "stdout",
     "output_type": "stream",
     "text": [
      "<class 'geopandas.geodataframe.GeoDataFrame'>\n",
      "RangeIndex: 1917 entries, 0 to 1916\n",
      "Data columns (total 7 columns):\n",
      " #   Column         Non-Null Count  Dtype   \n",
      "---  ------         --------------  -----   \n",
      " 0   OBJECTID       1917 non-null   int64   \n",
      " 1   LSOA21CD       1917 non-null   object  \n",
      " 2   LSOA21NM       1917 non-null   object  \n",
      " 3   GlobalID       1917 non-null   object  \n",
      " 4   Shape__Area    1917 non-null   float64 \n",
      " 5   Shape__Length  1917 non-null   float64 \n",
      " 6   geometry       1917 non-null   geometry\n",
      "dtypes: float64(2), geometry(1), int64(1), object(3)\n",
      "memory usage: 105.0+ KB\n"
     ]
    }
   ],
   "source": [
    "lsoa.info()"
   ]
  },
  {
   "cell_type": "code",
   "execution_count": 65,
   "id": "3bb4224f-0620-425d-8307-6c99bba35ad7",
   "metadata": {},
   "outputs": [],
   "source": [
    "# # Get Super Data Zones which we use to aggregate the z score variable.\n",
    "# filestring = r'C:/Users/JennaTan/Downloads/LSOA_2021/LSOA_2021_EW_BGC.shp'\n",
    "\n",
    "#lsoa = gpd.read_file(filestring)\n",
    "lsoa = lsoa.to_crs('epsg:27700') # projects coordinates onto British National Grid\n"
   ]
  },
  {
   "cell_type": "code",
   "execution_count": 66,
   "id": "c9c23a15-c518-43fe-b665-0d7982a9cc39",
   "metadata": {},
   "outputs": [],
   "source": [
    "# Affine transformation maps pixels from the KNN estimates to spatial coordinates of each IZ's geometry in BNG space\n",
    "# 250 = pixels resolution (size of each pixel in x/y direction) = 250mx250m\n",
    "# 125 = spatial alignment in x/y direction = centres \n",
    "\n",
    "trans = rst.Affine.from_gdal(xmin-100,200,0,ymax+100,0,-200)\n"
   ]
  },
  {
   "cell_type": "code",
   "execution_count": 67,
   "id": "a0bdbe16-ed1b-4a89-a84b-02211b9bf206",
   "metadata": {},
   "outputs": [],
   "source": [
    "# Get the mean predicted score based on MSOA polygon shape, returns a dictionary\n",
    "lsoa_zone = zonal_stats(lsoa['geometry'], scores, affine = trans, stats = 'mean', nodata = np.nan)"
   ]
  },
  {
   "cell_type": "code",
   "execution_count": 68,
   "id": "d15c1e87-bb4b-447c-b110-6d2ce6d58a95",
   "metadata": {},
   "outputs": [],
   "source": [
    "# Extract score from dictionary, turn into a list and add as col in .shp\n",
    "lsoa['loneliness_zscore'] = list(map(lambda x: x['mean'] , lsoa_zone))"
   ]
  },
  {
   "cell_type": "code",
   "execution_count": 69,
   "id": "3ad6a2d9",
   "metadata": {},
   "outputs": [
    {
     "data": {
      "text/plain": [
       "<Projected CRS: EPSG:27700>\n",
       "Name: OSGB36 / British National Grid\n",
       "Axis Info [cartesian]:\n",
       "- E[east]: Easting (metre)\n",
       "- N[north]: Northing (metre)\n",
       "Area of Use:\n",
       "- name: United Kingdom (UK) - offshore to boundary of UKCS within 49°45'N to 61°N and 9°W to 2°E; onshore Great Britain (England, Wales and Scotland). Isle of Man onshore.\n",
       "- bounds: (-9.01, 49.75, 2.01, 61.01)\n",
       "Coordinate Operation:\n",
       "- name: British National Grid\n",
       "- method: Transverse Mercator\n",
       "Datum: Ordnance Survey of Great Britain 1936\n",
       "- Ellipsoid: Airy 1830\n",
       "- Prime Meridian: Greenwich"
      ]
     },
     "execution_count": 69,
     "metadata": {},
     "output_type": "execute_result"
    }
   ],
   "source": [
    "lsoa.crs"
   ]
  },
  {
   "cell_type": "code",
   "execution_count": 70,
   "id": "2deba165-c376-48fe-8e73-2662c081c1c1",
   "metadata": {},
   "outputs": [
    {
     "data": {
      "text/plain": [
       "<Axes: >"
      ]
     },
     "execution_count": 70,
     "metadata": {},
     "output_type": "execute_result"
    },
    {
     "data": {
      "image/png": "[encoded data removed]",
      "text/plain": [
       "<Figure size 500x300 with 1 Axes>"
      ]
     },
     "metadata": {},
     "output_type": "display_data"
    }
   ],
   "source": [
    "lsoa['loneliness_zscore'].hist(bins = 100, figsize = (5,3))"
   ]
  },
  {
   "cell_type": "code",
   "execution_count": 71,
   "id": "108b7552-1fe4-4153-9ff5-39e1b953c195",
   "metadata": {},
   "outputs": [
    {
     "data": {
      "text/plain": [
       "loneliness_zscore\n",
       "False    1912\n",
       "True        5\n",
       "Name: count, dtype: int64"
      ]
     },
     "execution_count": 71,
     "metadata": {},
     "output_type": "execute_result"
    }
   ],
   "source": [
    "lsoa['loneliness_zscore'].isna().value_counts()"
   ]
  },
  {
   "cell_type": "code",
   "execution_count": 72,
   "id": "c3a3550f-0351-45e0-95cd-87b5f6f9dac1",
   "metadata": {},
   "outputs": [],
   "source": [
    "lsoa[\"rank\"] = lsoa[\"loneliness_zscore\"].rank()\n",
    "lsoa[\"deciles\"] = pd.qcut(lsoa[\"loneliness_zscore\"], q=10, labels=False)"
   ]
  },
  {
   "cell_type": "code",
   "execution_count": 73,
   "id": "1c62004a-c7bf-4a63-9a20-6e44866099cc",
   "metadata": {},
   "outputs": [
    {
     "name": "stderr",
     "output_type": "stream",
     "text": [
      "C:\\Users\\JennaTan\\AppData\\Local\\Temp\\ipykernel_17652\\1847009964.py:7: MatplotlibDeprecationWarning: The get_cmap function was deprecated in Matplotlib 3.7 and will be removed two minor releases later. Use ``matplotlib.colormaps[name]`` or ``matplotlib.colormaps.get_cmap(obj)`` instead.\n",
      "  cmap = cm.get_cmap('RdYlBu', len(decile_values))\n"
     ]
    },
    {
     "data": {
      "image/png": "[encoded data removed]",
      "text/plain": [
       "<Figure size 500x700 with 2 Axes>"
      ]
     },
     "metadata": {},
     "output_type": "display_data"
    }
   ],
   "source": [
    "from matplotlib.patches import Patch\n",
    "import matplotlib.cm as cm\n",
    "\n",
    "decile_values = lsoa['deciles'].unique()\n",
    "\n",
    "# Automatically generate colors based on the number of unique decile values\n",
    "cmap = cm.get_cmap('RdYlBu', len(decile_values))\n",
    "\n",
    "# Create the legend handles for each decile range\n",
    "handles = []\n",
    "for i, decile in enumerate(decile_values):\n",
    "    col = cmap(i)\n",
    "    handles.append(Patch(facecolor=col, label=f\"Decile {decile}\"))\n",
    "\n",
    "# Create the plot of Wales map with the decile colors\n",
    "fig, ax = plt.subplots(figsize=(5, 7))\n",
    "lsoa.plot(column='deciles', ax=ax, legend=True);\n"
   ]
  },
  {
   "cell_type": "markdown",
   "id": "7cdd6f32-22da-4073-b4da-e499aa91f271",
   "metadata": {},
   "source": [
    "There are 5 LSOAs with missing values"
   ]
  },
  {
   "cell_type": "markdown",
   "id": "139a7f32-a225-4f33-a4e0-78f65340724f",
   "metadata": {},
   "source": [
    "#### Investigate missing values"
   ]
  },
  {
   "cell_type": "code",
   "execution_count": 74,
   "id": "0db53a54-15e0-47e9-ac29-9ab126006044",
   "metadata": {},
   "outputs": [
    {
     "data": {
      "text/html": [
       "<div>\n",
       "<style scoped>\n",
       "    .dataframe tbody tr th:only-of-type {\n",
       "        vertical-align: middle;\n",
       "    }\n",
       "\n",
       "    .dataframe tbody tr th {\n",
       "        vertical-align: top;\n",
       "    }\n",
       "\n",
       "    .dataframe thead th {\n",
       "        text-align: right;\n",
       "    }\n",
       "</style>\n",
       "<table border=\"1\" class=\"dataframe\">\n",
       "  <thead>\n",
       "    <tr style=\"text-align: right;\">\n",
       "      <th></th>\n",
       "      <th>OBJECTID</th>\n",
       "      <th>LSOA21CD</th>\n",
       "      <th>LSOA21NM</th>\n",
       "      <th>GlobalID</th>\n",
       "      <th>Shape__Area</th>\n",
       "      <th>Shape__Length</th>\n",
       "      <th>geometry</th>\n",
       "      <th>loneliness_zscore</th>\n",
       "      <th>rank</th>\n",
       "      <th>deciles</th>\n",
       "    </tr>\n",
       "  </thead>\n",
       "  <tbody>\n",
       "    <tr>\n",
       "      <th>987</th>\n",
       "      <td>34743</td>\n",
       "      <td>W01001059</td>\n",
       "      <td>Vale of Glamorgan 015A</td>\n",
       "      <td>2f8dfcac-a3db-451d-b266-2247fddef9d1</td>\n",
       "      <td>6.462446e+05</td>\n",
       "      <td>5559.960774</td>\n",
       "      <td>POLYGON ((310328.501 167278.685, 310377.911 16...</td>\n",
       "      <td>NaN</td>\n",
       "      <td>NaN</td>\n",
       "      <td>NaN</td>\n",
       "    </tr>\n",
       "    <tr>\n",
       "      <th>988</th>\n",
       "      <td>34744</td>\n",
       "      <td>W01001060</td>\n",
       "      <td>Vale of Glamorgan 015B</td>\n",
       "      <td>87df6f6f-baa2-4518-a76b-025041dc27cb</td>\n",
       "      <td>9.170661e+05</td>\n",
       "      <td>5503.008676</td>\n",
       "      <td>POLYGON ((309349.112 167368.155, 309608.426 16...</td>\n",
       "      <td>NaN</td>\n",
       "      <td>NaN</td>\n",
       "      <td>NaN</td>\n",
       "    </tr>\n",
       "    <tr>\n",
       "      <th>1043</th>\n",
       "      <td>34799</td>\n",
       "      <td>W01001117</td>\n",
       "      <td>Vale of Glamorgan 014B</td>\n",
       "      <td>e99e9282-abe1-49f6-80de-6fcfec5fad0f</td>\n",
       "      <td>2.040107e+06</td>\n",
       "      <td>9109.036625</td>\n",
       "      <td>POLYGON ((304807.315 167182.932, 304828.273 16...</td>\n",
       "      <td>NaN</td>\n",
       "      <td>NaN</td>\n",
       "      <td>NaN</td>\n",
       "    </tr>\n",
       "    <tr>\n",
       "      <th>1876</th>\n",
       "      <td>35632</td>\n",
       "      <td>W01001998</td>\n",
       "      <td>Vale of Glamorgan 015G</td>\n",
       "      <td>9470fdc3-a528-4eb7-a2fc-c137f6017c8f</td>\n",
       "      <td>9.290809e+05</td>\n",
       "      <td>9900.194979</td>\n",
       "      <td>MULTIPOLYGON (((310385.866 166088.949, 310366....</td>\n",
       "      <td>NaN</td>\n",
       "      <td>NaN</td>\n",
       "      <td>NaN</td>\n",
       "    </tr>\n",
       "    <tr>\n",
       "      <th>1915</th>\n",
       "      <td>35671</td>\n",
       "      <td>W01002039</td>\n",
       "      <td>Vale of Glamorgan 014H</td>\n",
       "      <td>453d12bf-dc81-4daf-a21a-6135a84caaca</td>\n",
       "      <td>6.490006e+05</td>\n",
       "      <td>3634.870738</td>\n",
       "      <td>POLYGON ((306819.500 166519.042, 306843.511 16...</td>\n",
       "      <td>NaN</td>\n",
       "      <td>NaN</td>\n",
       "      <td>NaN</td>\n",
       "    </tr>\n",
       "  </tbody>\n",
       "</table>\n",
       "</div>"
      ],
      "text/plain": [
       "      OBJECTID   LSOA21CD                LSOA21NM  \\\n",
       "987      34743  W01001059  Vale of Glamorgan 015A   \n",
       "988      34744  W01001060  Vale of Glamorgan 015B   \n",
       "1043     34799  W01001117  Vale of Glamorgan 014B   \n",
       "1876     35632  W01001998  Vale of Glamorgan 015G   \n",
       "1915     35671  W01002039  Vale of Glamorgan 014H   \n",
       "\n",
       "                                  GlobalID   Shape__Area  Shape__Length  \\\n",
       "987   2f8dfcac-a3db-451d-b266-2247fddef9d1  6.462446e+05    5559.960774   \n",
       "988   87df6f6f-baa2-4518-a76b-025041dc27cb  9.170661e+05    5503.008676   \n",
       "1043  e99e9282-abe1-49f6-80de-6fcfec5fad0f  2.040107e+06    9109.036625   \n",
       "1876  9470fdc3-a528-4eb7-a2fc-c137f6017c8f  9.290809e+05    9900.194979   \n",
       "1915  453d12bf-dc81-4daf-a21a-6135a84caaca  6.490006e+05    3634.870738   \n",
       "\n",
       "                                               geometry  loneliness_zscore  \\\n",
       "987   POLYGON ((310328.501 167278.685, 310377.911 16...                NaN   \n",
       "988   POLYGON ((309349.112 167368.155, 309608.426 16...                NaN   \n",
       "1043  POLYGON ((304807.315 167182.932, 304828.273 16...                NaN   \n",
       "1876  MULTIPOLYGON (((310385.866 166088.949, 310366....                NaN   \n",
       "1915  POLYGON ((306819.500 166519.042, 306843.511 16...                NaN   \n",
       "\n",
       "      rank  deciles  \n",
       "987    NaN      NaN  \n",
       "988    NaN      NaN  \n",
       "1043   NaN      NaN  \n",
       "1876   NaN      NaN  \n",
       "1915   NaN      NaN  "
      ]
     },
     "execution_count": 74,
     "metadata": {},
     "output_type": "execute_result"
    }
   ],
   "source": [
    "# Investigate missing values\n",
    "lsoa[lsoa.loneliness_zscore.isna() == True]"
   ]
  },
  {
   "cell_type": "code",
   "execution_count": 75,
   "id": "8d92ad14-eef0-4ed6-9b81-a07148087aea",
   "metadata": {},
   "outputs": [
    {
     "data": {
      "text/plain": [
       "472"
      ]
     },
     "execution_count": 75,
     "metadata": {},
     "output_type": "execute_result"
    }
   ],
   "source": [
    "# check all postcodes fall within boundaires of the sdz geometry\n",
    "intersections = gpd.overlay(geo_data, lsoa, how='intersection')\n",
    "len(intersections['pcds']) "
   ]
  },
  {
   "cell_type": "markdown",
   "id": "6493758a-c423-40ba-a2b7-25b2e1219a24",
   "metadata": {},
   "source": [
    "Total postcodes are 230 so all GP postcodes have been assigned an SDZ"
   ]
  },
  {
   "cell_type": "code",
   "execution_count": 99,
   "id": "daac6e91-7b74-4ad5-93b6-ea9285c9a1d1",
   "metadata": {},
   "outputs": [
    {
     "name": "stdout",
     "output_type": "stream",
     "text": [
      "0\n",
      "0\n",
      "0\n",
      "0\n",
      "0\n"
     ]
    }
   ],
   "source": [
    "# Check if any of the GP postcodes call within the missing SDZ\n",
    "code = ['W01001059', 'W01001060', 'W01001117', 'W01001998', 'W01002039' ]\n",
    "\n",
    "for c in code:\n",
    "    intersections = gpd.overlay(geo_data, lsoa[lsoa['LSOA21CD']==c], how='intersection')\n",
    "    print(len(intersections['pcds']))\n"
   ]
  },
  {
   "cell_type": "markdown",
   "id": "0fd51a7d-c442-47c0-8646-ce0da2b413fa",
   "metadata": {},
   "source": [
    "- SDZs without scores don't have GP postcodes within its catchment area explaining the no data. \n",
    "- There are 317 active GPs in NI in March 2023 so unlikely Gps have been missed out from preproc script.\n",
    "- Although seems unusual that 3 SDZ would not have a GP\n",
    "- Can impute missing values or leave as NA"
   ]
  },
  {
   "cell_type": "code",
   "execution_count": null,
   "id": "a1e0414a-c348-49bf-943a-2b2d000559b6",
   "metadata": {},
   "outputs": [],
   "source": []
  }
 ],
 "metadata": {
  "kernelspec": {
   "display_name": "Python 3 (ipykernel)",
   "language": "python",
   "name": "python3"
  },
  "language_info": {
   "codemirror_mode": {
    "name": "ipython",
    "version": 3
   },
   "file_extension": ".py",
   "mimetype": "text/x-python",
   "name": "python",
   "nbconvert_exporter": "python",
   "pygments_lexer": "ipython3",
   "version": "3.9.13"
  }
 },
 "nbformat": 4,
 "nbformat_minor": 5
}
