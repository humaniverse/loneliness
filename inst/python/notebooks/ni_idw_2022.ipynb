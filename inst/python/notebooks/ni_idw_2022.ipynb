{
 "cells": [
  {
   "cell_type": "markdown",
   "id": "c1e211fb-7136-4aed-9640-a51afa09ae4b",
   "metadata": {},
   "source": [
    "# Mapping loneliness area scores from GP points, NI 2022"
   ]
  },
  {
   "cell_type": "code",
   "execution_count": 1,
   "id": "49a79b54-38d6-4e83-999b-b9cdcc718c15",
   "metadata": {},
   "outputs": [],
   "source": [
    "import pandas as pd\n",
    "import numpy as np\n",
    "import matplotlib.pyplot as plt\n",
    "import geopandas as gpd\n",
    "from sklearn.neighbors import KNeighborsRegressor\n",
    "from sklearn.model_selection import train_test_split, GridSearchCV, KFold\n",
    "from sklearn.metrics import mean_squared_error, r2_score\n",
    "from shapely.geometry import Point\n",
    "import rasterio as rst\n",
    "from rasterstats import zonal_stats"
   ]
  },
  {
   "cell_type": "markdown",
   "id": "d0f849e9-f02e-4c45-8f79-a47100e98d42",
   "metadata": {},
   "source": [
    "## Join GPs to postcodes"
   ]
  },
  {
   "cell_type": "markdown",
   "id": "eeb0f968-d7e5-417d-9715-390cad0481ee",
   "metadata": {},
   "source": [
    "- Get coordinates for postcodes in the UK\n",
    "- https://geoportal.statistics.gov.uk/datasets/9ac0331178b0435e839f62f41cc61c16\n",
    "\n",
    "*File needs to be manually downloaded and saved in mapping_data/ folder*"
   ]
  },
  {
   "cell_type": "code",
   "execution_count": 3,
   "id": "01d66732-a7b9-4838-bf00-d25f32b0c324",
   "metadata": {},
   "outputs": [],
   "source": [
    "nspl = pd.read_csv(\"C:/Users/JennaTan/Downloads/NSPL_MAY_2022_UK.csv\", low_memory = False)"
   ]
  },
  {
   "cell_type": "code",
   "execution_count": 4,
   "id": "2ea7b1b4-2761-408a-8b30-a068165bd961",
   "metadata": {},
   "outputs": [
    {
     "data": {
      "text/html": [
       "<div>\n",
       "<style scoped>\n",
       "    .dataframe tbody tr th:only-of-type {\n",
       "        vertical-align: middle;\n",
       "    }\n",
       "\n",
       "    .dataframe tbody tr th {\n",
       "        vertical-align: top;\n",
       "    }\n",
       "\n",
       "    .dataframe thead th {\n",
       "        text-align: right;\n",
       "    }\n",
       "</style>\n",
       "<table border=\"1\" class=\"dataframe\">\n",
       "  <thead>\n",
       "    <tr style=\"text-align: right;\">\n",
       "      <th></th>\n",
       "      <th>pcd</th>\n",
       "      <th>pcd2</th>\n",
       "      <th>pcds</th>\n",
       "      <th>dointr</th>\n",
       "      <th>doterm</th>\n",
       "      <th>usertype</th>\n",
       "      <th>oseast1m</th>\n",
       "      <th>osnrth1m</th>\n",
       "      <th>osgrdind</th>\n",
       "      <th>oa11</th>\n",
       "      <th>...</th>\n",
       "      <th>ru11ind</th>\n",
       "      <th>oac11</th>\n",
       "      <th>lat</th>\n",
       "      <th>long</th>\n",
       "      <th>lep1</th>\n",
       "      <th>lep2</th>\n",
       "      <th>pfa</th>\n",
       "      <th>imd</th>\n",
       "      <th>calncv</th>\n",
       "      <th>stp</th>\n",
       "    </tr>\n",
       "  </thead>\n",
       "  <tbody>\n",
       "    <tr>\n",
       "      <th>0</th>\n",
       "      <td>AB1 0AA</td>\n",
       "      <td>AB1  0AA</td>\n",
       "      <td>AB1 0AA</td>\n",
       "      <td>198001</td>\n",
       "      <td>199606.0</td>\n",
       "      <td>0</td>\n",
       "      <td>385386.0</td>\n",
       "      <td>801193.0</td>\n",
       "      <td>1</td>\n",
       "      <td>S00090303</td>\n",
       "      <td>...</td>\n",
       "      <td>3</td>\n",
       "      <td>1C3</td>\n",
       "      <td>57.101474</td>\n",
       "      <td>-2.242851</td>\n",
       "      <td>S99999999</td>\n",
       "      <td>S99999999</td>\n",
       "      <td>S23000009</td>\n",
       "      <td>6715</td>\n",
       "      <td>S99999999</td>\n",
       "      <td>S99999999</td>\n",
       "    </tr>\n",
       "    <tr>\n",
       "      <th>1</th>\n",
       "      <td>AB1 0AB</td>\n",
       "      <td>AB1  0AB</td>\n",
       "      <td>AB1 0AB</td>\n",
       "      <td>198001</td>\n",
       "      <td>199606.0</td>\n",
       "      <td>0</td>\n",
       "      <td>385177.0</td>\n",
       "      <td>801314.0</td>\n",
       "      <td>1</td>\n",
       "      <td>S00090303</td>\n",
       "      <td>...</td>\n",
       "      <td>3</td>\n",
       "      <td>1C3</td>\n",
       "      <td>57.102554</td>\n",
       "      <td>-2.246308</td>\n",
       "      <td>S99999999</td>\n",
       "      <td>S99999999</td>\n",
       "      <td>S23000009</td>\n",
       "      <td>6715</td>\n",
       "      <td>S99999999</td>\n",
       "      <td>S99999999</td>\n",
       "    </tr>\n",
       "  </tbody>\n",
       "</table>\n",
       "<p>2 rows × 41 columns</p>\n",
       "</div>"
      ],
      "text/plain": [
       "       pcd      pcd2     pcds  dointr    doterm  usertype  oseast1m  osnrth1m  \\\n",
       "0  AB1 0AA  AB1  0AA  AB1 0AA  198001  199606.0         0  385386.0  801193.0   \n",
       "1  AB1 0AB  AB1  0AB  AB1 0AB  198001  199606.0         0  385177.0  801314.0   \n",
       "\n",
       "   osgrdind       oa11  ... ru11ind oac11        lat      long       lep1  \\\n",
       "0         1  S00090303  ...       3   1C3  57.101474 -2.242851  S99999999   \n",
       "1         1  S00090303  ...       3   1C3  57.102554 -2.246308  S99999999   \n",
       "\n",
       "        lep2        pfa   imd     calncv        stp  \n",
       "0  S99999999  S23000009  6715  S99999999  S99999999  \n",
       "1  S99999999  S23000009  6715  S99999999  S99999999  \n",
       "\n",
       "[2 rows x 41 columns]"
      ]
     },
     "execution_count": 4,
     "metadata": {},
     "output_type": "execute_result"
    }
   ],
   "source": [
    "nspl.head(2)"
   ]
  },
  {
   "cell_type": "code",
   "execution_count": 5,
   "id": "1490906f-5cb1-4355-8932-fac5ce59478f",
   "metadata": {},
   "outputs": [],
   "source": [
    "nspl = nspl[[\"pcds\", \"oseast1m\", \"osnrth1m\", \"lsoa11\", \"msoa11\" ]]\n",
    "nspl[\"pcds\"] = nspl.pcds.str.replace(\" \", \"\")"
   ]
  },
  {
   "cell_type": "code",
   "execution_count": 183,
   "id": "e22d53cc-7bf0-49b4-a86a-cfe4655b71bd",
   "metadata": {},
   "outputs": [],
   "source": [
    "# Read loneliness scores by GP df\n",
    "df = pd.read_csv(\"../../extdata/ni_gp_2022.csv\")"
   ]
  },
  {
   "cell_type": "code",
   "execution_count": 17,
   "id": "6d28cd87-bf17-4fc4-97b3-159e4b3e91eb",
   "metadata": {},
   "outputs": [
    {
     "name": "stdout",
     "output_type": "stream",
     "text": [
      "231\n"
     ]
    },
    {
     "data": {
      "text/html": [
       "<div>\n",
       "<style scoped>\n",
       "    .dataframe tbody tr th:only-of-type {\n",
       "        vertical-align: middle;\n",
       "    }\n",
       "\n",
       "    .dataframe tbody tr th {\n",
       "        vertical-align: top;\n",
       "    }\n",
       "\n",
       "    .dataframe thead th {\n",
       "        text-align: right;\n",
       "    }\n",
       "</style>\n",
       "<table border=\"1\" class=\"dataframe\">\n",
       "  <thead>\n",
       "    <tr style=\"text-align: right;\">\n",
       "      <th></th>\n",
       "      <th>postcode</th>\n",
       "      <th>loneliness_zscore</th>\n",
       "    </tr>\n",
       "  </thead>\n",
       "  <tbody>\n",
       "    <tr>\n",
       "      <th>0</th>\n",
       "      <td>BT100BX</td>\n",
       "      <td>0.800423</td>\n",
       "    </tr>\n",
       "    <tr>\n",
       "      <th>1</th>\n",
       "      <td>BT119EA</td>\n",
       "      <td>-1.410811</td>\n",
       "    </tr>\n",
       "  </tbody>\n",
       "</table>\n",
       "</div>"
      ],
      "text/plain": [
       "  postcode  loneliness_zscore\n",
       "0  BT100BX           0.800423\n",
       "1  BT119EA          -1.410811"
      ]
     },
     "execution_count": 17,
     "metadata": {},
     "output_type": "execute_result"
    }
   ],
   "source": [
    "print(len(df))\n",
    "df.head(2)"
   ]
  },
  {
   "cell_type": "code",
   "execution_count": 18,
   "id": "9374d406-ea45-4828-8653-0ff911251759",
   "metadata": {},
   "outputs": [],
   "source": [
    "df.rename(columns = {\"postcode\":\"pcds\"}, inplace = True)"
   ]
  },
  {
   "cell_type": "code",
   "execution_count": 19,
   "id": "f0aa7d8d-af8e-49f0-9d05-2c6aecbd97a8",
   "metadata": {},
   "outputs": [],
   "source": [
    "df = df.merge(nspl, on = \"pcds\", how = \"left\")"
   ]
  },
  {
   "cell_type": "code",
   "execution_count": 20,
   "id": "7622eda4-a69b-48b3-8a87-b9d1a7c359fb",
   "metadata": {},
   "outputs": [
    {
     "data": {
      "text/plain": [
       "pcds   loneliness_zscore  oseast1m  osnrth1m  lsoa11  msoa11\n",
       "False  False              False     False     False   False     231\n",
       "Name: count, dtype: int64"
      ]
     },
     "execution_count": 20,
     "metadata": {},
     "output_type": "execute_result"
    }
   ],
   "source": [
    "df.isna().value_counts()"
   ]
  },
  {
   "cell_type": "code",
   "execution_count": 21,
   "id": "21928224-3c73-46ab-9a0e-9343c82c64ef",
   "metadata": {},
   "outputs": [
    {
     "data": {
      "text/html": [
       "<div>\n",
       "<style scoped>\n",
       "    .dataframe tbody tr th:only-of-type {\n",
       "        vertical-align: middle;\n",
       "    }\n",
       "\n",
       "    .dataframe tbody tr th {\n",
       "        vertical-align: top;\n",
       "    }\n",
       "\n",
       "    .dataframe thead th {\n",
       "        text-align: right;\n",
       "    }\n",
       "</style>\n",
       "<table border=\"1\" class=\"dataframe\">\n",
       "  <thead>\n",
       "    <tr style=\"text-align: right;\">\n",
       "      <th></th>\n",
       "      <th>pcds</th>\n",
       "      <th>loneliness_zscore</th>\n",
       "      <th>oseast1m</th>\n",
       "      <th>osnrth1m</th>\n",
       "      <th>lsoa11</th>\n",
       "      <th>msoa11</th>\n",
       "    </tr>\n",
       "  </thead>\n",
       "  <tbody>\n",
       "    <tr>\n",
       "      <th>0</th>\n",
       "      <td>BT100BX</td>\n",
       "      <td>0.800423</td>\n",
       "      <td>330432.0</td>\n",
       "      <td>369844.0</td>\n",
       "      <td>95GG23S3</td>\n",
       "      <td>N99999999</td>\n",
       "    </tr>\n",
       "    <tr>\n",
       "      <th>1</th>\n",
       "      <td>BT119EA</td>\n",
       "      <td>-1.410811</td>\n",
       "      <td>329737.0</td>\n",
       "      <td>371336.0</td>\n",
       "      <td>95GG01S2</td>\n",
       "      <td>N99999999</td>\n",
       "    </tr>\n",
       "  </tbody>\n",
       "</table>\n",
       "</div>"
      ],
      "text/plain": [
       "      pcds  loneliness_zscore  oseast1m  osnrth1m    lsoa11     msoa11\n",
       "0  BT100BX           0.800423  330432.0  369844.0  95GG23S3  N99999999\n",
       "1  BT119EA          -1.410811  329737.0  371336.0  95GG01S2  N99999999"
      ]
     },
     "execution_count": 21,
     "metadata": {},
     "output_type": "execute_result"
    }
   ],
   "source": [
    "df.head(2)"
   ]
  },
  {
   "cell_type": "markdown",
   "id": "46df5fdd-d51b-4cf9-ad60-ada087645b30",
   "metadata": {},
   "source": [
    "## Read DF as Geopanda"
   ]
  },
  {
   "cell_type": "code",
   "execution_count": 22,
   "id": "525975b9-c1f0-4502-bd8b-2e2abf04a01a",
   "metadata": {},
   "outputs": [
    {
     "name": "stderr",
     "output_type": "stream",
     "text": [
      "C:\\Users\\JennaTan\\Documents\\loneliness\\venv_loneliness\\lib\\site-packages\\pyproj\\crs\\crs.py:141: FutureWarning: '+init=<authority>:<code>' syntax is deprecated. '<authority>:<code>' is the preferred initialization method. When making the change, be mindful of axis order changes: https://pyproj4.github.io/pyproj/stable/gotchas.html#axis-order-changes-in-proj-6\n",
      "  in_crs_string = _prepare_from_proj_string(in_crs_string)\n"
     ]
    },
    {
     "data": {
      "text/html": [
       "<div>\n",
       "<style scoped>\n",
       "    .dataframe tbody tr th:only-of-type {\n",
       "        vertical-align: middle;\n",
       "    }\n",
       "\n",
       "    .dataframe tbody tr th {\n",
       "        vertical-align: top;\n",
       "    }\n",
       "\n",
       "    .dataframe thead th {\n",
       "        text-align: right;\n",
       "    }\n",
       "</style>\n",
       "<table border=\"1\" class=\"dataframe\">\n",
       "  <thead>\n",
       "    <tr style=\"text-align: right;\">\n",
       "      <th></th>\n",
       "      <th>pcds</th>\n",
       "      <th>loneliness_zscore</th>\n",
       "      <th>oseast1m</th>\n",
       "      <th>osnrth1m</th>\n",
       "      <th>lsoa11</th>\n",
       "      <th>msoa11</th>\n",
       "      <th>geometry</th>\n",
       "    </tr>\n",
       "  </thead>\n",
       "  <tbody>\n",
       "    <tr>\n",
       "      <th>0</th>\n",
       "      <td>BT100BX</td>\n",
       "      <td>0.800423</td>\n",
       "      <td>330432.0</td>\n",
       "      <td>369844.0</td>\n",
       "      <td>95GG23S3</td>\n",
       "      <td>N99999999</td>\n",
       "      <td>POINT (330432.000 369844.000)</td>\n",
       "    </tr>\n",
       "    <tr>\n",
       "      <th>1</th>\n",
       "      <td>BT119EA</td>\n",
       "      <td>-1.410811</td>\n",
       "      <td>329737.0</td>\n",
       "      <td>371336.0</td>\n",
       "      <td>95GG01S2</td>\n",
       "      <td>N99999999</td>\n",
       "      <td>POINT (329737.000 371336.000)</td>\n",
       "    </tr>\n",
       "    <tr>\n",
       "      <th>2</th>\n",
       "      <td>BT119FZ</td>\n",
       "      <td>-2.735769</td>\n",
       "      <td>329097.0</td>\n",
       "      <td>371029.0</td>\n",
       "      <td>95GG01S1</td>\n",
       "      <td>N99999999</td>\n",
       "      <td>POINT (329097.000 371029.000)</td>\n",
       "    </tr>\n",
       "    <tr>\n",
       "      <th>3</th>\n",
       "      <td>BT124HL</td>\n",
       "      <td>-7.883440</td>\n",
       "      <td>332828.0</td>\n",
       "      <td>374124.0</td>\n",
       "      <td>95GG21S2</td>\n",
       "      <td>N99999999</td>\n",
       "      <td>POINT (332828.000 374124.000)</td>\n",
       "    </tr>\n",
       "    <tr>\n",
       "      <th>4</th>\n",
       "      <td>BT124LP</td>\n",
       "      <td>0.207509</td>\n",
       "      <td>332449.0</td>\n",
       "      <td>373831.0</td>\n",
       "      <td>95GG21S1</td>\n",
       "      <td>N99999999</td>\n",
       "      <td>POINT (332449.000 373831.000)</td>\n",
       "    </tr>\n",
       "  </tbody>\n",
       "</table>\n",
       "</div>"
      ],
      "text/plain": [
       "      pcds  loneliness_zscore  oseast1m  osnrth1m    lsoa11     msoa11  \\\n",
       "0  BT100BX           0.800423  330432.0  369844.0  95GG23S3  N99999999   \n",
       "1  BT119EA          -1.410811  329737.0  371336.0  95GG01S2  N99999999   \n",
       "2  BT119FZ          -2.735769  329097.0  371029.0  95GG01S1  N99999999   \n",
       "3  BT124HL          -7.883440  332828.0  374124.0  95GG21S2  N99999999   \n",
       "4  BT124LP           0.207509  332449.0  373831.0  95GG21S1  N99999999   \n",
       "\n",
       "                        geometry  \n",
       "0  POINT (330432.000 369844.000)  \n",
       "1  POINT (329737.000 371336.000)  \n",
       "2  POINT (329097.000 371029.000)  \n",
       "3  POINT (332828.000 374124.000)  \n",
       "4  POINT (332449.000 373831.000)  "
      ]
     },
     "execution_count": 22,
     "metadata": {},
     "output_type": "execute_result"
    }
   ],
   "source": [
    "# CRS =  EPSG 27700, reads gpd as British National Grid coords\n",
    "# Create a new col 'geometry'\n",
    "\n",
    "geo_data = gpd.GeoDataFrame(data = df, \n",
    "                            crs = {'init':'epsg:27700'}, \n",
    "                            geometry = df.apply(lambda geom: Point(geom['oseast1m'],geom['osnrth1m']),axis=1))\n",
    "geo_data.head()"
   ]
  },
  {
   "cell_type": "code",
   "execution_count": 26,
   "id": "57a55ddd-10c0-42a6-8cab-78550495d3a5",
   "metadata": {},
   "outputs": [
    {
     "data": {
      "image/png": "[encoded data removed]",
      "text/plain": [
       "<Figure size 300x300 with 1 Axes>"
      ]
     },
     "metadata": {},
     "output_type": "display_data"
    }
   ],
   "source": [
    "# Visualise loneliness score geographically using geometry col\n",
    "geo_data.plot(column = 'loneliness_zscore', scheme = 'quantiles', cmap = 'Blues', marker = '.', figsize=(3,3));"
   ]
  },
  {
   "cell_type": "markdown",
   "id": "41d21780-b141-4508-a6b8-8f6cd89ce677",
   "metadata": {},
   "source": [
    "- Reflects shape of NI\n",
    "- Somewhat evenly distributed, with cluster around Belfast\n",
    "- Darker dots around Belfast and SE - higher levels of loneliness - expect to see replication"
   ]
  },
  {
   "cell_type": "markdown",
   "id": "a43c8809-e71e-4bff-bf7f-c78c58b739ae",
   "metadata": {},
   "source": [
    "## Develop KNN; predict unknown points"
   ]
  },
  {
   "cell_type": "markdown",
   "id": "2fe81153-09cb-4f47-8dd0-3a01ddab1a6f",
   "metadata": {},
   "source": [
    "### Instantiate KNN as IDW model"
   ]
  },
  {
   "cell_type": "code",
   "execution_count": 27,
   "id": "c3a09ef7-d04c-4105-9dee-677c949cbf74",
   "metadata": {},
   "outputs": [],
   "source": [
    "def idw_model(k, p):\n",
    "    \"\"\"\n",
    "    Instantiates a KNN regressor as an IDW interpolater. k = no. neighbours, p = power for idw\n",
    "    \"\"\"\n",
    "    def _inv_distance_index(weights, index=p):\n",
    "        \"\"\"Weights set as distance from the input points and neighbour, with an inverse calculation of (1/dist**power).\n",
    "        Values not dividable by 0 are ignored.\n",
    "        \"\"\"\n",
    "        #return (test==0).astype(int) if np.any(weights == 0) else 1. / weights**index\n",
    "        \n",
    "        with np.errstate(divide='ignore', invalid='ignore'):\n",
    "            safe_weights = 1. / weights**index\n",
    "        return np.nan_to_num(safe_weights, posinf=0) # ignore weights that are negative\n",
    "        \n",
    "    return KNeighborsRegressor(k, weights=_inv_distance_index)"
   ]
  },
  {
   "cell_type": "markdown",
   "id": "25eaa27a-14ed-4f86-b17e-d259bf023941",
   "metadata": {},
   "source": [
    "### Train test split"
   ]
  },
  {
   "cell_type": "code",
   "execution_count": 28,
   "id": "0ade6c7d-0276-4f4c-8db1-4b4f4b85f4f8",
   "metadata": {},
   "outputs": [],
   "source": [
    "# Get existing point locations and values to fit the model\n",
    "points = geo_data[['oseast1m','osnrth1m']].values\n",
    "vals = geo_data['loneliness_zscore'].values"
   ]
  },
  {
   "cell_type": "code",
   "execution_count": 29,
   "id": "2c13ef4e-d286-4518-b65a-230ae01d1dab",
   "metadata": {},
   "outputs": [
    {
     "data": {
      "text/plain": [
       "231"
      ]
     },
     "execution_count": 29,
     "metadata": {},
     "output_type": "execute_result"
    }
   ],
   "source": [
    "len(vals)"
   ]
  },
  {
   "cell_type": "code",
   "execution_count": 30,
   "id": "37880df7-9730-4dfc-ae43-7ff7ac74854c",
   "metadata": {},
   "outputs": [],
   "source": [
    "X_train, X_test, y_train, y_test = train_test_split(points, vals, test_size=0.2, random_state=42)"
   ]
  },
  {
   "cell_type": "markdown",
   "id": "829343f5-c3e9-412d-bc2b-6d96fe7dacba",
   "metadata": {},
   "source": [
    "### Find best k and p"
   ]
  },
  {
   "cell_type": "code",
   "execution_count": 160,
   "id": "c2165de8-fbb1-477c-9e42-49e08efb8db0",
   "metadata": {},
   "outputs": [
    {
     "name": "stderr",
     "output_type": "stream",
     "text": [
      "C:\\Users\\JennaTan\\Documents\\loneliness\\venv_loneliness\\lib\\site-packages\\sklearn\\neighbors\\_base.py:632: UserWarning: Mind that for 0 < p < 1, Minkowski metrics are not distance metrics. Continuing the execution with `algorithm='brute'`.\n",
      "  warnings.warn(\n",
      "C:\\Users\\JennaTan\\Documents\\loneliness\\venv_loneliness\\lib\\site-packages\\sklearn\\model_selection\\_validation.py:824: UserWarning: Scoring failed. The score on this train-test partition for these parameters will be set to nan. Details: \n",
      "Traceback (most recent call last):\n",
      "  File \"C:\\Users\\JennaTan\\Documents\\loneliness\\venv_loneliness\\lib\\site-packages\\sklearn\\model_selection\\_validation.py\", line 813, in _score\n",
      "    scores = scorer(estimator, X_test, y_test)\n",
      "  File \"C:\\Users\\JennaTan\\Documents\\loneliness\\venv_loneliness\\lib\\site-packages\\sklearn\\metrics\\_scorer.py\", line 527, in __call__\n",
      "    return estimator.score(*args, **kwargs)\n",
      "  File \"C:\\Users\\JennaTan\\Documents\\loneliness\\venv_loneliness\\lib\\site-packages\\sklearn\\base.py\", line 759, in score\n",
      "    y_pred = self.predict(X)\n",
      "  File \"C:\\Users\\JennaTan\\Documents\\loneliness\\venv_loneliness\\lib\\site-packages\\sklearn\\neighbors\\_regression.py\", line 240, in predict\n",
      "    neigh_dist, neigh_ind = self.kneighbors(X)\n",
      "  File \"C:\\Users\\JennaTan\\Documents\\loneliness\\venv_loneliness\\lib\\site-packages\\sklearn\\neighbors\\_base.py\", line 822, in kneighbors\n",
      "    results = ArgKmin.compute(\n",
      "  File \"C:\\Users\\JennaTan\\Documents\\loneliness\\venv_loneliness\\lib\\site-packages\\sklearn\\metrics\\_pairwise_distances_reduction\\_dispatcher.py\", line 258, in compute\n",
      "    return ArgKmin64.compute(\n",
      "  File \"sklearn\\metrics\\_pairwise_distances_reduction\\_argkmin.pyx\", line 82, in sklearn.metrics._pairwise_distances_reduction._argkmin.ArgKmin64.compute\n",
      "  File \"sklearn\\metrics\\_pairwise_distances_reduction\\_datasets_pair.pyx\", line 86, in sklearn.metrics._pairwise_distances_reduction._datasets_pair.DatasetsPair64.get_for\n",
      "  File \"sklearn\\metrics\\_dist_metrics.pyx\", line 86, in sklearn.metrics._dist_metrics.DistanceMetric.get_metric\n",
      "  File \"sklearn\\metrics\\_dist_metrics.pyx\", line 310, in sklearn.metrics._dist_metrics.DistanceMetric64.get_metric\n",
      "  File \"sklearn\\metrics\\_dist_metrics.pyx\", line 1277, in sklearn.metrics._dist_metrics.MinkowskiDistance64.__init__\n",
      "ValueError: p must be greater than 1\n",
      "\n",
      "  warnings.warn(\n",
      "C:\\Users\\JennaTan\\Documents\\loneliness\\venv_loneliness\\lib\\site-packages\\sklearn\\neighbors\\_base.py:632: UserWarning: Mind that for 0 < p < 1, Minkowski metrics are not distance metrics. Continuing the execution with `algorithm='brute'`.\n",
      "  warnings.warn(\n",
      "C:\\Users\\JennaTan\\Documents\\loneliness\\venv_loneliness\\lib\\site-packages\\sklearn\\model_selection\\_validation.py:824: UserWarning: Scoring failed. The score on this train-test partition for these parameters will be set to nan. Details: \n",
      "Traceback (most recent call last):\n",
      "  File \"C:\\Users\\JennaTan\\Documents\\loneliness\\venv_loneliness\\lib\\site-packages\\sklearn\\model_selection\\_validation.py\", line 813, in _score\n",
      "    scores = scorer(estimator, X_test, y_test)\n",
      "  File \"C:\\Users\\JennaTan\\Documents\\loneliness\\venv_loneliness\\lib\\site-packages\\sklearn\\metrics\\_scorer.py\", line 527, in __call__\n",
      "    return estimator.score(*args, **kwargs)\n",
      "  File \"C:\\Users\\JennaTan\\Documents\\loneliness\\venv_loneliness\\lib\\site-packages\\sklearn\\base.py\", line 759, in score\n",
      "    y_pred = self.predict(X)\n",
      "  File \"C:\\Users\\JennaTan\\Documents\\loneliness\\venv_loneliness\\lib\\site-packages\\sklearn\\neighbors\\_regression.py\", line 240, in predict\n",
      "    neigh_dist, neigh_ind = self.kneighbors(X)\n",
      "  File \"C:\\Users\\JennaTan\\Documents\\loneliness\\venv_loneliness\\lib\\site-packages\\sklearn\\neighbors\\_base.py\", line 822, in kneighbors\n",
      "    results = ArgKmin.compute(\n",
      "  File \"C:\\Users\\JennaTan\\Documents\\loneliness\\venv_loneliness\\lib\\site-packages\\sklearn\\metrics\\_pairwise_distances_reduction\\_dispatcher.py\", line 258, in compute\n",
      "    return ArgKmin64.compute(\n",
      "  File \"sklearn\\metrics\\_pairwise_distances_reduction\\_argkmin.pyx\", line 82, in sklearn.metrics._pairwise_distances_reduction._argkmin.ArgKmin64.compute\n",
      "  File \"sklearn\\metrics\\_pairwise_distances_reduction\\_datasets_pair.pyx\", line 86, in sklearn.metrics._pairwise_distances_reduction._datasets_pair.DatasetsPair64.get_for\n",
      "  File \"sklearn\\metrics\\_dist_metrics.pyx\", line 86, in sklearn.metrics._dist_metrics.DistanceMetric.get_metric\n",
      "  File \"sklearn\\metrics\\_dist_metrics.pyx\", line 310, in sklearn.metrics._dist_metrics.DistanceMetric64.get_metric\n",
      "  File \"sklearn\\metrics\\_dist_metrics.pyx\", line 1277, in sklearn.metrics._dist_metrics.MinkowskiDistance64.__init__\n",
      "ValueError: p must be greater than 1\n",
      "\n",
      "  warnings.warn(\n",
      "C:\\Users\\JennaTan\\Documents\\loneliness\\venv_loneliness\\lib\\site-packages\\sklearn\\neighbors\\_base.py:632: UserWarning: Mind that for 0 < p < 1, Minkowski metrics are not distance metrics. Continuing the execution with `algorithm='brute'`.\n",
      "  warnings.warn(\n",
      "C:\\Users\\JennaTan\\Documents\\loneliness\\venv_loneliness\\lib\\site-packages\\sklearn\\model_selection\\_validation.py:824: UserWarning: Scoring failed. The score on this train-test partition for these parameters will be set to nan. Details: \n",
      "Traceback (most recent call last):\n",
      "  File \"C:\\Users\\JennaTan\\Documents\\loneliness\\venv_loneliness\\lib\\site-packages\\sklearn\\model_selection\\_validation.py\", line 813, in _score\n",
      "    scores = scorer(estimator, X_test, y_test)\n",
      "  File \"C:\\Users\\JennaTan\\Documents\\loneliness\\venv_loneliness\\lib\\site-packages\\sklearn\\metrics\\_scorer.py\", line 527, in __call__\n",
      "    return estimator.score(*args, **kwargs)\n",
      "  File \"C:\\Users\\JennaTan\\Documents\\loneliness\\venv_loneliness\\lib\\site-packages\\sklearn\\base.py\", line 759, in score\n",
      "    y_pred = self.predict(X)\n",
      "  File \"C:\\Users\\JennaTan\\Documents\\loneliness\\venv_loneliness\\lib\\site-packages\\sklearn\\neighbors\\_regression.py\", line 240, in predict\n",
      "    neigh_dist, neigh_ind = self.kneighbors(X)\n",
      "  File \"C:\\Users\\JennaTan\\Documents\\loneliness\\venv_loneliness\\lib\\site-packages\\sklearn\\neighbors\\_base.py\", line 822, in kneighbors\n",
      "    results = ArgKmin.compute(\n",
      "  File \"C:\\Users\\JennaTan\\Documents\\loneliness\\venv_loneliness\\lib\\site-packages\\sklearn\\metrics\\_pairwise_distances_reduction\\_dispatcher.py\", line 258, in compute\n",
      "    return ArgKmin64.compute(\n",
      "  File \"sklearn\\metrics\\_pairwise_distances_reduction\\_argkmin.pyx\", line 82, in sklearn.metrics._pairwise_distances_reduction._argkmin.ArgKmin64.compute\n",
      "  File \"sklearn\\metrics\\_pairwise_distances_reduction\\_datasets_pair.pyx\", line 86, in sklearn.metrics._pairwise_distances_reduction._datasets_pair.DatasetsPair64.get_for\n",
      "  File \"sklearn\\metrics\\_dist_metrics.pyx\", line 86, in sklearn.metrics._dist_metrics.DistanceMetric.get_metric\n",
      "  File \"sklearn\\metrics\\_dist_metrics.pyx\", line 310, in sklearn.metrics._dist_metrics.DistanceMetric64.get_metric\n",
      "  File \"sklearn\\metrics\\_dist_metrics.pyx\", line 1277, in sklearn.metrics._dist_metrics.MinkowskiDistance64.__init__\n",
      "ValueError: p must be greater than 1\n",
      "\n",
      "  warnings.warn(\n",
      "C:\\Users\\JennaTan\\Documents\\loneliness\\venv_loneliness\\lib\\site-packages\\sklearn\\neighbors\\_base.py:632: UserWarning: Mind that for 0 < p < 1, Minkowski metrics are not distance metrics. Continuing the execution with `algorithm='brute'`.\n",
      "  warnings.warn(\n",
      "C:\\Users\\JennaTan\\Documents\\loneliness\\venv_loneliness\\lib\\site-packages\\sklearn\\model_selection\\_validation.py:824: UserWarning: Scoring failed. The score on this train-test partition for these parameters will be set to nan. Details: \n",
      "Traceback (most recent call last):\n",
      "  File \"C:\\Users\\JennaTan\\Documents\\loneliness\\venv_loneliness\\lib\\site-packages\\sklearn\\model_selection\\_validation.py\", line 813, in _score\n",
      "    scores = scorer(estimator, X_test, y_test)\n",
      "  File \"C:\\Users\\JennaTan\\Documents\\loneliness\\venv_loneliness\\lib\\site-packages\\sklearn\\metrics\\_scorer.py\", line 527, in __call__\n",
      "    return estimator.score(*args, **kwargs)\n",
      "  File \"C:\\Users\\JennaTan\\Documents\\loneliness\\venv_loneliness\\lib\\site-packages\\sklearn\\base.py\", line 759, in score\n",
      "    y_pred = self.predict(X)\n",
      "  File \"C:\\Users\\JennaTan\\Documents\\loneliness\\venv_loneliness\\lib\\site-packages\\sklearn\\neighbors\\_regression.py\", line 240, in predict\n",
      "    neigh_dist, neigh_ind = self.kneighbors(X)\n",
      "  File \"C:\\Users\\JennaTan\\Documents\\loneliness\\venv_loneliness\\lib\\site-packages\\sklearn\\neighbors\\_base.py\", line 822, in kneighbors\n",
      "    results = ArgKmin.compute(\n",
      "  File \"C:\\Users\\JennaTan\\Documents\\loneliness\\venv_loneliness\\lib\\site-packages\\sklearn\\metrics\\_pairwise_distances_reduction\\_dispatcher.py\", line 258, in compute\n",
      "    return ArgKmin64.compute(\n",
      "  File \"sklearn\\metrics\\_pairwise_distances_reduction\\_argkmin.pyx\", line 82, in sklearn.metrics._pairwise_distances_reduction._argkmin.ArgKmin64.compute\n",
      "  File \"sklearn\\metrics\\_pairwise_distances_reduction\\_datasets_pair.pyx\", line 86, in sklearn.metrics._pairwise_distances_reduction._datasets_pair.DatasetsPair64.get_for\n",
      "  File \"sklearn\\metrics\\_dist_metrics.pyx\", line 86, in sklearn.metrics._dist_metrics.DistanceMetric.get_metric\n",
      "  File \"sklearn\\metrics\\_dist_metrics.pyx\", line 310, in sklearn.metrics._dist_metrics.DistanceMetric64.get_metric\n",
      "  File \"sklearn\\metrics\\_dist_metrics.pyx\", line 1277, in sklearn.metrics._dist_metrics.MinkowskiDistance64.__init__\n",
      "ValueError: p must be greater than 1\n",
      "\n",
      "  warnings.warn(\n",
      "C:\\Users\\JennaTan\\Documents\\loneliness\\venv_loneliness\\lib\\site-packages\\sklearn\\neighbors\\_base.py:632: UserWarning: Mind that for 0 < p < 1, Minkowski metrics are not distance metrics. Continuing the execution with `algorithm='brute'`.\n",
      "  warnings.warn(\n",
      "C:\\Users\\JennaTan\\Documents\\loneliness\\venv_loneliness\\lib\\site-packages\\sklearn\\model_selection\\_validation.py:824: UserWarning: Scoring failed. The score on this train-test partition for these parameters will be set to nan. Details: \n",
      "Traceback (most recent call last):\n",
      "  File \"C:\\Users\\JennaTan\\Documents\\loneliness\\venv_loneliness\\lib\\site-packages\\sklearn\\model_selection\\_validation.py\", line 813, in _score\n",
      "    scores = scorer(estimator, X_test, y_test)\n",
      "  File \"C:\\Users\\JennaTan\\Documents\\loneliness\\venv_loneliness\\lib\\site-packages\\sklearn\\metrics\\_scorer.py\", line 527, in __call__\n",
      "    return estimator.score(*args, **kwargs)\n",
      "  File \"C:\\Users\\JennaTan\\Documents\\loneliness\\venv_loneliness\\lib\\site-packages\\sklearn\\base.py\", line 759, in score\n",
      "    y_pred = self.predict(X)\n",
      "  File \"C:\\Users\\JennaTan\\Documents\\loneliness\\venv_loneliness\\lib\\site-packages\\sklearn\\neighbors\\_regression.py\", line 240, in predict\n",
      "    neigh_dist, neigh_ind = self.kneighbors(X)\n",
      "  File \"C:\\Users\\JennaTan\\Documents\\loneliness\\venv_loneliness\\lib\\site-packages\\sklearn\\neighbors\\_base.py\", line 822, in kneighbors\n",
      "    results = ArgKmin.compute(\n",
      "  File \"C:\\Users\\JennaTan\\Documents\\loneliness\\venv_loneliness\\lib\\site-packages\\sklearn\\metrics\\_pairwise_distances_reduction\\_dispatcher.py\", line 258, in compute\n",
      "    return ArgKmin64.compute(\n",
      "  File \"sklearn\\metrics\\_pairwise_distances_reduction\\_argkmin.pyx\", line 82, in sklearn.metrics._pairwise_distances_reduction._argkmin.ArgKmin64.compute\n",
      "  File \"sklearn\\metrics\\_pairwise_distances_reduction\\_datasets_pair.pyx\", line 86, in sklearn.metrics._pairwise_distances_reduction._datasets_pair.DatasetsPair64.get_for\n",
      "  File \"sklearn\\metrics\\_dist_metrics.pyx\", line 86, in sklearn.metrics._dist_metrics.DistanceMetric.get_metric\n",
      "  File \"sklearn\\metrics\\_dist_metrics.pyx\", line 310, in sklearn.metrics._dist_metrics.DistanceMetric64.get_metric\n",
      "  File \"sklearn\\metrics\\_dist_metrics.pyx\", line 1277, in sklearn.metrics._dist_metrics.MinkowskiDistance64.__init__\n",
      "ValueError: p must be greater than 1\n",
      "\n",
      "  warnings.warn(\n",
      "C:\\Users\\JennaTan\\Documents\\loneliness\\venv_loneliness\\lib\\site-packages\\sklearn\\neighbors\\_base.py:632: UserWarning: Mind that for 0 < p < 1, Minkowski metrics are not distance metrics. Continuing the execution with `algorithm='brute'`.\n",
      "  warnings.warn(\n",
      "C:\\Users\\JennaTan\\Documents\\loneliness\\venv_loneliness\\lib\\site-packages\\sklearn\\model_selection\\_validation.py:824: UserWarning: Scoring failed. The score on this train-test partition for these parameters will be set to nan. Details: \n",
      "Traceback (most recent call last):\n",
      "  File \"C:\\Users\\JennaTan\\Documents\\loneliness\\venv_loneliness\\lib\\site-packages\\sklearn\\model_selection\\_validation.py\", line 813, in _score\n",
      "    scores = scorer(estimator, X_test, y_test)\n",
      "  File \"C:\\Users\\JennaTan\\Documents\\loneliness\\venv_loneliness\\lib\\site-packages\\sklearn\\metrics\\_scorer.py\", line 527, in __call__\n",
      "    return estimator.score(*args, **kwargs)\n",
      "  File \"C:\\Users\\JennaTan\\Documents\\loneliness\\venv_loneliness\\lib\\site-packages\\sklearn\\base.py\", line 759, in score\n",
      "    y_pred = self.predict(X)\n",
      "  File \"C:\\Users\\JennaTan\\Documents\\loneliness\\venv_loneliness\\lib\\site-packages\\sklearn\\neighbors\\_regression.py\", line 240, in predict\n",
      "    neigh_dist, neigh_ind = self.kneighbors(X)\n",
      "  File \"C:\\Users\\JennaTan\\Documents\\loneliness\\venv_loneliness\\lib\\site-packages\\sklearn\\neighbors\\_base.py\", line 822, in kneighbors\n",
      "    results = ArgKmin.compute(\n",
      "  File \"C:\\Users\\JennaTan\\Documents\\loneliness\\venv_loneliness\\lib\\site-packages\\sklearn\\metrics\\_pairwise_distances_reduction\\_dispatcher.py\", line 258, in compute\n",
      "    return ArgKmin64.compute(\n",
      "  File \"sklearn\\metrics\\_pairwise_distances_reduction\\_argkmin.pyx\", line 82, in sklearn.metrics._pairwise_distances_reduction._argkmin.ArgKmin64.compute\n",
      "  File \"sklearn\\metrics\\_pairwise_distances_reduction\\_datasets_pair.pyx\", line 86, in sklearn.metrics._pairwise_distances_reduction._datasets_pair.DatasetsPair64.get_for\n",
      "  File \"sklearn\\metrics\\_dist_metrics.pyx\", line 86, in sklearn.metrics._dist_metrics.DistanceMetric.get_metric\n",
      "  File \"sklearn\\metrics\\_dist_metrics.pyx\", line 310, in sklearn.metrics._dist_metrics.DistanceMetric64.get_metric\n",
      "  File \"sklearn\\metrics\\_dist_metrics.pyx\", line 1277, in sklearn.metrics._dist_metrics.MinkowskiDistance64.__init__\n",
      "ValueError: p must be greater than 1\n",
      "\n",
      "  warnings.warn(\n",
      "C:\\Users\\JennaTan\\Documents\\loneliness\\venv_loneliness\\lib\\site-packages\\sklearn\\neighbors\\_base.py:632: UserWarning: Mind that for 0 < p < 1, Minkowski metrics are not distance metrics. Continuing the execution with `algorithm='brute'`.\n",
      "  warnings.warn(\n",
      "C:\\Users\\JennaTan\\Documents\\loneliness\\venv_loneliness\\lib\\site-packages\\sklearn\\model_selection\\_validation.py:824: UserWarning: Scoring failed. The score on this train-test partition for these parameters will be set to nan. Details: \n",
      "Traceback (most recent call last):\n",
      "  File \"C:\\Users\\JennaTan\\Documents\\loneliness\\venv_loneliness\\lib\\site-packages\\sklearn\\model_selection\\_validation.py\", line 813, in _score\n",
      "    scores = scorer(estimator, X_test, y_test)\n",
      "  File \"C:\\Users\\JennaTan\\Documents\\loneliness\\venv_loneliness\\lib\\site-packages\\sklearn\\metrics\\_scorer.py\", line 527, in __call__\n",
      "    return estimator.score(*args, **kwargs)\n",
      "  File \"C:\\Users\\JennaTan\\Documents\\loneliness\\venv_loneliness\\lib\\site-packages\\sklearn\\base.py\", line 759, in score\n",
      "    y_pred = self.predict(X)\n",
      "  File \"C:\\Users\\JennaTan\\Documents\\loneliness\\venv_loneliness\\lib\\site-packages\\sklearn\\neighbors\\_regression.py\", line 240, in predict\n",
      "    neigh_dist, neigh_ind = self.kneighbors(X)\n",
      "  File \"C:\\Users\\JennaTan\\Documents\\loneliness\\venv_loneliness\\lib\\site-packages\\sklearn\\neighbors\\_base.py\", line 822, in kneighbors\n",
      "    results = ArgKmin.compute(\n",
      "  File \"C:\\Users\\JennaTan\\Documents\\loneliness\\venv_loneliness\\lib\\site-packages\\sklearn\\metrics\\_pairwise_distances_reduction\\_dispatcher.py\", line 258, in compute\n",
      "    return ArgKmin64.compute(\n",
      "  File \"sklearn\\metrics\\_pairwise_distances_reduction\\_argkmin.pyx\", line 82, in sklearn.metrics._pairwise_distances_reduction._argkmin.ArgKmin64.compute\n",
      "  File \"sklearn\\metrics\\_pairwise_distances_reduction\\_datasets_pair.pyx\", line 86, in sklearn.metrics._pairwise_distances_reduction._datasets_pair.DatasetsPair64.get_for\n",
      "  File \"sklearn\\metrics\\_dist_metrics.pyx\", line 86, in sklearn.metrics._dist_metrics.DistanceMetric.get_metric\n",
      "  File \"sklearn\\metrics\\_dist_metrics.pyx\", line 310, in sklearn.metrics._dist_metrics.DistanceMetric64.get_metric\n",
      "  File \"sklearn\\metrics\\_dist_metrics.pyx\", line 1277, in sklearn.metrics._dist_metrics.MinkowskiDistance64.__init__\n",
      "ValueError: p must be greater than 1\n",
      "\n",
      "  warnings.warn(\n",
      "C:\\Users\\JennaTan\\Documents\\loneliness\\venv_loneliness\\lib\\site-packages\\sklearn\\neighbors\\_base.py:632: UserWarning: Mind that for 0 < p < 1, Minkowski metrics are not distance metrics. Continuing the execution with `algorithm='brute'`.\n",
      "  warnings.warn(\n",
      "C:\\Users\\JennaTan\\Documents\\loneliness\\venv_loneliness\\lib\\site-packages\\sklearn\\model_selection\\_validation.py:824: UserWarning: Scoring failed. The score on this train-test partition for these parameters will be set to nan. Details: \n",
      "Traceback (most recent call last):\n",
      "  File \"C:\\Users\\JennaTan\\Documents\\loneliness\\venv_loneliness\\lib\\site-packages\\sklearn\\model_selection\\_validation.py\", line 813, in _score\n",
      "    scores = scorer(estimator, X_test, y_test)\n",
      "  File \"C:\\Users\\JennaTan\\Documents\\loneliness\\venv_loneliness\\lib\\site-packages\\sklearn\\metrics\\_scorer.py\", line 527, in __call__\n",
      "    return estimator.score(*args, **kwargs)\n",
      "  File \"C:\\Users\\JennaTan\\Documents\\loneliness\\venv_loneliness\\lib\\site-packages\\sklearn\\base.py\", line 759, in score\n",
      "    y_pred = self.predict(X)\n",
      "  File \"C:\\Users\\JennaTan\\Documents\\loneliness\\venv_loneliness\\lib\\site-packages\\sklearn\\neighbors\\_regression.py\", line 240, in predict\n",
      "    neigh_dist, neigh_ind = self.kneighbors(X)\n",
      "  File \"C:\\Users\\JennaTan\\Documents\\loneliness\\venv_loneliness\\lib\\site-packages\\sklearn\\neighbors\\_base.py\", line 822, in kneighbors\n",
      "    results = ArgKmin.compute(\n",
      "  File \"C:\\Users\\JennaTan\\Documents\\loneliness\\venv_loneliness\\lib\\site-packages\\sklearn\\metrics\\_pairwise_distances_reduction\\_dispatcher.py\", line 258, in compute\n",
      "    return ArgKmin64.compute(\n",
      "  File \"sklearn\\metrics\\_pairwise_distances_reduction\\_argkmin.pyx\", line 82, in sklearn.metrics._pairwise_distances_reduction._argkmin.ArgKmin64.compute\n",
      "  File \"sklearn\\metrics\\_pairwise_distances_reduction\\_datasets_pair.pyx\", line 86, in sklearn.metrics._pairwise_distances_reduction._datasets_pair.DatasetsPair64.get_for\n",
      "  File \"sklearn\\metrics\\_dist_metrics.pyx\", line 86, in sklearn.metrics._dist_metrics.DistanceMetric.get_metric\n",
      "  File \"sklearn\\metrics\\_dist_metrics.pyx\", line 310, in sklearn.metrics._dist_metrics.DistanceMetric64.get_metric\n",
      "  File \"sklearn\\metrics\\_dist_metrics.pyx\", line 1277, in sklearn.metrics._dist_metrics.MinkowskiDistance64.__init__\n",
      "ValueError: p must be greater than 1\n",
      "\n",
      "  warnings.warn(\n",
      "C:\\Users\\JennaTan\\Documents\\loneliness\\venv_loneliness\\lib\\site-packages\\sklearn\\neighbors\\_base.py:632: UserWarning: Mind that for 0 < p < 1, Minkowski metrics are not distance metrics. Continuing the execution with `algorithm='brute'`.\n",
      "  warnings.warn(\n",
      "C:\\Users\\JennaTan\\Documents\\loneliness\\venv_loneliness\\lib\\site-packages\\sklearn\\model_selection\\_validation.py:824: UserWarning: Scoring failed. The score on this train-test partition for these parameters will be set to nan. Details: \n",
      "Traceback (most recent call last):\n",
      "  File \"C:\\Users\\JennaTan\\Documents\\loneliness\\venv_loneliness\\lib\\site-packages\\sklearn\\model_selection\\_validation.py\", line 813, in _score\n",
      "    scores = scorer(estimator, X_test, y_test)\n",
      "  File \"C:\\Users\\JennaTan\\Documents\\loneliness\\venv_loneliness\\lib\\site-packages\\sklearn\\metrics\\_scorer.py\", line 527, in __call__\n",
      "    return estimator.score(*args, **kwargs)\n",
      "  File \"C:\\Users\\JennaTan\\Documents\\loneliness\\venv_loneliness\\lib\\site-packages\\sklearn\\base.py\", line 759, in score\n",
      "    y_pred = self.predict(X)\n",
      "  File \"C:\\Users\\JennaTan\\Documents\\loneliness\\venv_loneliness\\lib\\site-packages\\sklearn\\neighbors\\_regression.py\", line 240, in predict\n",
      "    neigh_dist, neigh_ind = self.kneighbors(X)\n",
      "  File \"C:\\Users\\JennaTan\\Documents\\loneliness\\venv_loneliness\\lib\\site-packages\\sklearn\\neighbors\\_base.py\", line 822, in kneighbors\n",
      "    results = ArgKmin.compute(\n",
      "  File \"C:\\Users\\JennaTan\\Documents\\loneliness\\venv_loneliness\\lib\\site-packages\\sklearn\\metrics\\_pairwise_distances_reduction\\_dispatcher.py\", line 258, in compute\n",
      "    return ArgKmin64.compute(\n",
      "  File \"sklearn\\metrics\\_pairwise_distances_reduction\\_argkmin.pyx\", line 82, in sklearn.metrics._pairwise_distances_reduction._argkmin.ArgKmin64.compute\n",
      "  File \"sklearn\\metrics\\_pairwise_distances_reduction\\_datasets_pair.pyx\", line 86, in sklearn.metrics._pairwise_distances_reduction._datasets_pair.DatasetsPair64.get_for\n",
      "  File \"sklearn\\metrics\\_dist_metrics.pyx\", line 86, in sklearn.metrics._dist_metrics.DistanceMetric.get_metric\n",
      "  File \"sklearn\\metrics\\_dist_metrics.pyx\", line 310, in sklearn.metrics._dist_metrics.DistanceMetric64.get_metric\n",
      "  File \"sklearn\\metrics\\_dist_metrics.pyx\", line 1277, in sklearn.metrics._dist_metrics.MinkowskiDistance64.__init__\n",
      "ValueError: p must be greater than 1\n",
      "\n",
      "  warnings.warn(\n",
      "C:\\Users\\JennaTan\\Documents\\loneliness\\venv_loneliness\\lib\\site-packages\\sklearn\\neighbors\\_base.py:632: UserWarning: Mind that for 0 < p < 1, Minkowski metrics are not distance metrics. Continuing the execution with `algorithm='brute'`.\n",
      "  warnings.warn(\n",
      "C:\\Users\\JennaTan\\Documents\\loneliness\\venv_loneliness\\lib\\site-packages\\sklearn\\model_selection\\_validation.py:824: UserWarning: Scoring failed. The score on this train-test partition for these parameters will be set to nan. Details: \n",
      "Traceback (most recent call last):\n",
      "  File \"C:\\Users\\JennaTan\\Documents\\loneliness\\venv_loneliness\\lib\\site-packages\\sklearn\\model_selection\\_validation.py\", line 813, in _score\n",
      "    scores = scorer(estimator, X_test, y_test)\n",
      "  File \"C:\\Users\\JennaTan\\Documents\\loneliness\\venv_loneliness\\lib\\site-packages\\sklearn\\metrics\\_scorer.py\", line 527, in __call__\n",
      "    return estimator.score(*args, **kwargs)\n",
      "  File \"C:\\Users\\JennaTan\\Documents\\loneliness\\venv_loneliness\\lib\\site-packages\\sklearn\\base.py\", line 759, in score\n",
      "    y_pred = self.predict(X)\n",
      "  File \"C:\\Users\\JennaTan\\Documents\\loneliness\\venv_loneliness\\lib\\site-packages\\sklearn\\neighbors\\_regression.py\", line 240, in predict\n",
      "    neigh_dist, neigh_ind = self.kneighbors(X)\n",
      "  File \"C:\\Users\\JennaTan\\Documents\\loneliness\\venv_loneliness\\lib\\site-packages\\sklearn\\neighbors\\_base.py\", line 822, in kneighbors\n",
      "    results = ArgKmin.compute(\n",
      "  File \"C:\\Users\\JennaTan\\Documents\\loneliness\\venv_loneliness\\lib\\site-packages\\sklearn\\metrics\\_pairwise_distances_reduction\\_dispatcher.py\", line 258, in compute\n",
      "    return ArgKmin64.compute(\n",
      "  File \"sklearn\\metrics\\_pairwise_distances_reduction\\_argkmin.pyx\", line 82, in sklearn.metrics._pairwise_distances_reduction._argkmin.ArgKmin64.compute\n",
      "  File \"sklearn\\metrics\\_pairwise_distances_reduction\\_datasets_pair.pyx\", line 86, in sklearn.metrics._pairwise_distances_reduction._datasets_pair.DatasetsPair64.get_for\n",
      "  File \"sklearn\\metrics\\_dist_metrics.pyx\", line 86, in sklearn.metrics._dist_metrics.DistanceMetric.get_metric\n",
      "  File \"sklearn\\metrics\\_dist_metrics.pyx\", line 310, in sklearn.metrics._dist_metrics.DistanceMetric64.get_metric\n",
      "  File \"sklearn\\metrics\\_dist_metrics.pyx\", line 1277, in sklearn.metrics._dist_metrics.MinkowskiDistance64.__init__\n",
      "ValueError: p must be greater than 1\n",
      "\n",
      "  warnings.warn(\n",
      "C:\\Users\\JennaTan\\Documents\\loneliness\\venv_loneliness\\lib\\site-packages\\sklearn\\neighbors\\_base.py:632: UserWarning: Mind that for 0 < p < 1, Minkowski metrics are not distance metrics. Continuing the execution with `algorithm='brute'`.\n",
      "  warnings.warn(\n",
      "C:\\Users\\JennaTan\\Documents\\loneliness\\venv_loneliness\\lib\\site-packages\\sklearn\\model_selection\\_validation.py:824: UserWarning: Scoring failed. The score on this train-test partition for these parameters will be set to nan. Details: \n",
      "Traceback (most recent call last):\n",
      "  File \"C:\\Users\\JennaTan\\Documents\\loneliness\\venv_loneliness\\lib\\site-packages\\sklearn\\model_selection\\_validation.py\", line 813, in _score\n",
      "    scores = scorer(estimator, X_test, y_test)\n",
      "  File \"C:\\Users\\JennaTan\\Documents\\loneliness\\venv_loneliness\\lib\\site-packages\\sklearn\\metrics\\_scorer.py\", line 527, in __call__\n",
      "    return estimator.score(*args, **kwargs)\n",
      "  File \"C:\\Users\\JennaTan\\Documents\\loneliness\\venv_loneliness\\lib\\site-packages\\sklearn\\base.py\", line 759, in score\n",
      "    y_pred = self.predict(X)\n",
      "  File \"C:\\Users\\JennaTan\\Documents\\loneliness\\venv_loneliness\\lib\\site-packages\\sklearn\\neighbors\\_regression.py\", line 240, in predict\n",
      "    neigh_dist, neigh_ind = self.kneighbors(X)\n",
      "  File \"C:\\Users\\JennaTan\\Documents\\loneliness\\venv_loneliness\\lib\\site-packages\\sklearn\\neighbors\\_base.py\", line 822, in kneighbors\n",
      "    results = ArgKmin.compute(\n",
      "  File \"C:\\Users\\JennaTan\\Documents\\loneliness\\venv_loneliness\\lib\\site-packages\\sklearn\\metrics\\_pairwise_distances_reduction\\_dispatcher.py\", line 258, in compute\n",
      "    return ArgKmin64.compute(\n",
      "  File \"sklearn\\metrics\\_pairwise_distances_reduction\\_argkmin.pyx\", line 82, in sklearn.metrics._pairwise_distances_reduction._argkmin.ArgKmin64.compute\n",
      "  File \"sklearn\\metrics\\_pairwise_distances_reduction\\_datasets_pair.pyx\", line 86, in sklearn.metrics._pairwise_distances_reduction._datasets_pair.DatasetsPair64.get_for\n",
      "  File \"sklearn\\metrics\\_dist_metrics.pyx\", line 86, in sklearn.metrics._dist_metrics.DistanceMetric.get_metric\n",
      "  File \"sklearn\\metrics\\_dist_metrics.pyx\", line 310, in sklearn.metrics._dist_metrics.DistanceMetric64.get_metric\n",
      "  File \"sklearn\\metrics\\_dist_metrics.pyx\", line 1277, in sklearn.metrics._dist_metrics.MinkowskiDistance64.__init__\n",
      "ValueError: p must be greater than 1\n",
      "\n",
      "  warnings.warn(\n",
      "C:\\Users\\JennaTan\\Documents\\loneliness\\venv_loneliness\\lib\\site-packages\\sklearn\\neighbors\\_base.py:632: UserWarning: Mind that for 0 < p < 1, Minkowski metrics are not distance metrics. Continuing the execution with `algorithm='brute'`.\n",
      "  warnings.warn(\n",
      "C:\\Users\\JennaTan\\Documents\\loneliness\\venv_loneliness\\lib\\site-packages\\sklearn\\model_selection\\_validation.py:824: UserWarning: Scoring failed. The score on this train-test partition for these parameters will be set to nan. Details: \n",
      "Traceback (most recent call last):\n",
      "  File \"C:\\Users\\JennaTan\\Documents\\loneliness\\venv_loneliness\\lib\\site-packages\\sklearn\\model_selection\\_validation.py\", line 813, in _score\n",
      "    scores = scorer(estimator, X_test, y_test)\n",
      "  File \"C:\\Users\\JennaTan\\Documents\\loneliness\\venv_loneliness\\lib\\site-packages\\sklearn\\metrics\\_scorer.py\", line 527, in __call__\n",
      "    return estimator.score(*args, **kwargs)\n",
      "  File \"C:\\Users\\JennaTan\\Documents\\loneliness\\venv_loneliness\\lib\\site-packages\\sklearn\\base.py\", line 759, in score\n",
      "    y_pred = self.predict(X)\n",
      "  File \"C:\\Users\\JennaTan\\Documents\\loneliness\\venv_loneliness\\lib\\site-packages\\sklearn\\neighbors\\_regression.py\", line 240, in predict\n",
      "    neigh_dist, neigh_ind = self.kneighbors(X)\n",
      "  File \"C:\\Users\\JennaTan\\Documents\\loneliness\\venv_loneliness\\lib\\site-packages\\sklearn\\neighbors\\_base.py\", line 822, in kneighbors\n",
      "    results = ArgKmin.compute(\n",
      "  File \"C:\\Users\\JennaTan\\Documents\\loneliness\\venv_loneliness\\lib\\site-packages\\sklearn\\metrics\\_pairwise_distances_reduction\\_dispatcher.py\", line 258, in compute\n",
      "    return ArgKmin64.compute(\n",
      "  File \"sklearn\\metrics\\_pairwise_distances_reduction\\_argkmin.pyx\", line 82, in sklearn.metrics._pairwise_distances_reduction._argkmin.ArgKmin64.compute\n",
      "  File \"sklearn\\metrics\\_pairwise_distances_reduction\\_datasets_pair.pyx\", line 86, in sklearn.metrics._pairwise_distances_reduction._datasets_pair.DatasetsPair64.get_for\n",
      "  File \"sklearn\\metrics\\_dist_metrics.pyx\", line 86, in sklearn.metrics._dist_metrics.DistanceMetric.get_metric\n",
      "  File \"sklearn\\metrics\\_dist_metrics.pyx\", line 310, in sklearn.metrics._dist_metrics.DistanceMetric64.get_metric\n",
      "  File \"sklearn\\metrics\\_dist_metrics.pyx\", line 1277, in sklearn.metrics._dist_metrics.MinkowskiDistance64.__init__\n",
      "ValueError: p must be greater than 1\n",
      "\n",
      "  warnings.warn(\n",
      "C:\\Users\\JennaTan\\Documents\\loneliness\\venv_loneliness\\lib\\site-packages\\sklearn\\neighbors\\_base.py:632: UserWarning: Mind that for 0 < p < 1, Minkowski metrics are not distance metrics. Continuing the execution with `algorithm='brute'`.\n",
      "  warnings.warn(\n",
      "C:\\Users\\JennaTan\\Documents\\loneliness\\venv_loneliness\\lib\\site-packages\\sklearn\\model_selection\\_validation.py:824: UserWarning: Scoring failed. The score on this train-test partition for these parameters will be set to nan. Details: \n",
      "Traceback (most recent call last):\n",
      "  File \"C:\\Users\\JennaTan\\Documents\\loneliness\\venv_loneliness\\lib\\site-packages\\sklearn\\model_selection\\_validation.py\", line 813, in _score\n",
      "    scores = scorer(estimator, X_test, y_test)\n",
      "  File \"C:\\Users\\JennaTan\\Documents\\loneliness\\venv_loneliness\\lib\\site-packages\\sklearn\\metrics\\_scorer.py\", line 527, in __call__\n",
      "    return estimator.score(*args, **kwargs)\n",
      "  File \"C:\\Users\\JennaTan\\Documents\\loneliness\\venv_loneliness\\lib\\site-packages\\sklearn\\base.py\", line 759, in score\n",
      "    y_pred = self.predict(X)\n",
      "  File \"C:\\Users\\JennaTan\\Documents\\loneliness\\venv_loneliness\\lib\\site-packages\\sklearn\\neighbors\\_regression.py\", line 240, in predict\n",
      "    neigh_dist, neigh_ind = self.kneighbors(X)\n",
      "  File \"C:\\Users\\JennaTan\\Documents\\loneliness\\venv_loneliness\\lib\\site-packages\\sklearn\\neighbors\\_base.py\", line 822, in kneighbors\n",
      "    results = ArgKmin.compute(\n",
      "  File \"C:\\Users\\JennaTan\\Documents\\loneliness\\venv_loneliness\\lib\\site-packages\\sklearn\\metrics\\_pairwise_distances_reduction\\_dispatcher.py\", line 258, in compute\n",
      "    return ArgKmin64.compute(\n",
      "  File \"sklearn\\metrics\\_pairwise_distances_reduction\\_argkmin.pyx\", line 82, in sklearn.metrics._pairwise_distances_reduction._argkmin.ArgKmin64.compute\n",
      "  File \"sklearn\\metrics\\_pairwise_distances_reduction\\_datasets_pair.pyx\", line 86, in sklearn.metrics._pairwise_distances_reduction._datasets_pair.DatasetsPair64.get_for\n",
      "  File \"sklearn\\metrics\\_dist_metrics.pyx\", line 86, in sklearn.metrics._dist_metrics.DistanceMetric.get_metric\n",
      "  File \"sklearn\\metrics\\_dist_metrics.pyx\", line 310, in sklearn.metrics._dist_metrics.DistanceMetric64.get_metric\n",
      "  File \"sklearn\\metrics\\_dist_metrics.pyx\", line 1277, in sklearn.metrics._dist_metrics.MinkowskiDistance64.__init__\n",
      "ValueError: p must be greater than 1\n",
      "\n",
      "  warnings.warn(\n",
      "C:\\Users\\JennaTan\\Documents\\loneliness\\venv_loneliness\\lib\\site-packages\\sklearn\\neighbors\\_base.py:632: UserWarning: Mind that for 0 < p < 1, Minkowski metrics are not distance metrics. Continuing the execution with `algorithm='brute'`.\n",
      "  warnings.warn(\n",
      "C:\\Users\\JennaTan\\Documents\\loneliness\\venv_loneliness\\lib\\site-packages\\sklearn\\model_selection\\_validation.py:824: UserWarning: Scoring failed. The score on this train-test partition for these parameters will be set to nan. Details: \n",
      "Traceback (most recent call last):\n",
      "  File \"C:\\Users\\JennaTan\\Documents\\loneliness\\venv_loneliness\\lib\\site-packages\\sklearn\\model_selection\\_validation.py\", line 813, in _score\n",
      "    scores = scorer(estimator, X_test, y_test)\n",
      "  File \"C:\\Users\\JennaTan\\Documents\\loneliness\\venv_loneliness\\lib\\site-packages\\sklearn\\metrics\\_scorer.py\", line 527, in __call__\n",
      "    return estimator.score(*args, **kwargs)\n",
      "  File \"C:\\Users\\JennaTan\\Documents\\loneliness\\venv_loneliness\\lib\\site-packages\\sklearn\\base.py\", line 759, in score\n",
      "    y_pred = self.predict(X)\n",
      "  File \"C:\\Users\\JennaTan\\Documents\\loneliness\\venv_loneliness\\lib\\site-packages\\sklearn\\neighbors\\_regression.py\", line 240, in predict\n",
      "    neigh_dist, neigh_ind = self.kneighbors(X)\n",
      "  File \"C:\\Users\\JennaTan\\Documents\\loneliness\\venv_loneliness\\lib\\site-packages\\sklearn\\neighbors\\_base.py\", line 822, in kneighbors\n",
      "    results = ArgKmin.compute(\n",
      "  File \"C:\\Users\\JennaTan\\Documents\\loneliness\\venv_loneliness\\lib\\site-packages\\sklearn\\metrics\\_pairwise_distances_reduction\\_dispatcher.py\", line 258, in compute\n",
      "    return ArgKmin64.compute(\n",
      "  File \"sklearn\\metrics\\_pairwise_distances_reduction\\_argkmin.pyx\", line 82, in sklearn.metrics._pairwise_distances_reduction._argkmin.ArgKmin64.compute\n",
      "  File \"sklearn\\metrics\\_pairwise_distances_reduction\\_datasets_pair.pyx\", line 86, in sklearn.metrics._pairwise_distances_reduction._datasets_pair.DatasetsPair64.get_for\n",
      "  File \"sklearn\\metrics\\_dist_metrics.pyx\", line 86, in sklearn.metrics._dist_metrics.DistanceMetric.get_metric\n",
      "  File \"sklearn\\metrics\\_dist_metrics.pyx\", line 310, in sklearn.metrics._dist_metrics.DistanceMetric64.get_metric\n",
      "  File \"sklearn\\metrics\\_dist_metrics.pyx\", line 1277, in sklearn.metrics._dist_metrics.MinkowskiDistance64.__init__\n",
      "ValueError: p must be greater than 1\n",
      "\n",
      "  warnings.warn(\n",
      "C:\\Users\\JennaTan\\Documents\\loneliness\\venv_loneliness\\lib\\site-packages\\sklearn\\neighbors\\_base.py:632: UserWarning: Mind that for 0 < p < 1, Minkowski metrics are not distance metrics. Continuing the execution with `algorithm='brute'`.\n",
      "  warnings.warn(\n",
      "C:\\Users\\JennaTan\\Documents\\loneliness\\venv_loneliness\\lib\\site-packages\\sklearn\\model_selection\\_validation.py:824: UserWarning: Scoring failed. The score on this train-test partition for these parameters will be set to nan. Details: \n",
      "Traceback (most recent call last):\n",
      "  File \"C:\\Users\\JennaTan\\Documents\\loneliness\\venv_loneliness\\lib\\site-packages\\sklearn\\model_selection\\_validation.py\", line 813, in _score\n",
      "    scores = scorer(estimator, X_test, y_test)\n",
      "  File \"C:\\Users\\JennaTan\\Documents\\loneliness\\venv_loneliness\\lib\\site-packages\\sklearn\\metrics\\_scorer.py\", line 527, in __call__\n",
      "    return estimator.score(*args, **kwargs)\n",
      "  File \"C:\\Users\\JennaTan\\Documents\\loneliness\\venv_loneliness\\lib\\site-packages\\sklearn\\base.py\", line 759, in score\n",
      "    y_pred = self.predict(X)\n",
      "  File \"C:\\Users\\JennaTan\\Documents\\loneliness\\venv_loneliness\\lib\\site-packages\\sklearn\\neighbors\\_regression.py\", line 240, in predict\n",
      "    neigh_dist, neigh_ind = self.kneighbors(X)\n",
      "  File \"C:\\Users\\JennaTan\\Documents\\loneliness\\venv_loneliness\\lib\\site-packages\\sklearn\\neighbors\\_base.py\", line 822, in kneighbors\n",
      "    results = ArgKmin.compute(\n",
      "  File \"C:\\Users\\JennaTan\\Documents\\loneliness\\venv_loneliness\\lib\\site-packages\\sklearn\\metrics\\_pairwise_distances_reduction\\_dispatcher.py\", line 258, in compute\n",
      "    return ArgKmin64.compute(\n",
      "  File \"sklearn\\metrics\\_pairwise_distances_reduction\\_argkmin.pyx\", line 82, in sklearn.metrics._pairwise_distances_reduction._argkmin.ArgKmin64.compute\n",
      "  File \"sklearn\\metrics\\_pairwise_distances_reduction\\_datasets_pair.pyx\", line 86, in sklearn.metrics._pairwise_distances_reduction._datasets_pair.DatasetsPair64.get_for\n",
      "  File \"sklearn\\metrics\\_dist_metrics.pyx\", line 86, in sklearn.metrics._dist_metrics.DistanceMetric.get_metric\n",
      "  File \"sklearn\\metrics\\_dist_metrics.pyx\", line 310, in sklearn.metrics._dist_metrics.DistanceMetric64.get_metric\n",
      "  File \"sklearn\\metrics\\_dist_metrics.pyx\", line 1277, in sklearn.metrics._dist_metrics.MinkowskiDistance64.__init__\n",
      "ValueError: p must be greater than 1\n",
      "\n",
      "  warnings.warn(\n",
      "C:\\Users\\JennaTan\\Documents\\loneliness\\venv_loneliness\\lib\\site-packages\\sklearn\\neighbors\\_base.py:632: UserWarning: Mind that for 0 < p < 1, Minkowski metrics are not distance metrics. Continuing the execution with `algorithm='brute'`.\n",
      "  warnings.warn(\n",
      "C:\\Users\\JennaTan\\Documents\\loneliness\\venv_loneliness\\lib\\site-packages\\sklearn\\model_selection\\_validation.py:824: UserWarning: Scoring failed. The score on this train-test partition for these parameters will be set to nan. Details: \n",
      "Traceback (most recent call last):\n",
      "  File \"C:\\Users\\JennaTan\\Documents\\loneliness\\venv_loneliness\\lib\\site-packages\\sklearn\\model_selection\\_validation.py\", line 813, in _score\n",
      "    scores = scorer(estimator, X_test, y_test)\n",
      "  File \"C:\\Users\\JennaTan\\Documents\\loneliness\\venv_loneliness\\lib\\site-packages\\sklearn\\metrics\\_scorer.py\", line 527, in __call__\n",
      "    return estimator.score(*args, **kwargs)\n",
      "  File \"C:\\Users\\JennaTan\\Documents\\loneliness\\venv_loneliness\\lib\\site-packages\\sklearn\\base.py\", line 759, in score\n",
      "    y_pred = self.predict(X)\n",
      "  File \"C:\\Users\\JennaTan\\Documents\\loneliness\\venv_loneliness\\lib\\site-packages\\sklearn\\neighbors\\_regression.py\", line 240, in predict\n",
      "    neigh_dist, neigh_ind = self.kneighbors(X)\n",
      "  File \"C:\\Users\\JennaTan\\Documents\\loneliness\\venv_loneliness\\lib\\site-packages\\sklearn\\neighbors\\_base.py\", line 822, in kneighbors\n",
      "    results = ArgKmin.compute(\n",
      "  File \"C:\\Users\\JennaTan\\Documents\\loneliness\\venv_loneliness\\lib\\site-packages\\sklearn\\metrics\\_pairwise_distances_reduction\\_dispatcher.py\", line 258, in compute\n",
      "    return ArgKmin64.compute(\n",
      "  File \"sklearn\\metrics\\_pairwise_distances_reduction\\_argkmin.pyx\", line 82, in sklearn.metrics._pairwise_distances_reduction._argkmin.ArgKmin64.compute\n",
      "  File \"sklearn\\metrics\\_pairwise_distances_reduction\\_datasets_pair.pyx\", line 86, in sklearn.metrics._pairwise_distances_reduction._datasets_pair.DatasetsPair64.get_for\n",
      "  File \"sklearn\\metrics\\_dist_metrics.pyx\", line 86, in sklearn.metrics._dist_metrics.DistanceMetric.get_metric\n",
      "  File \"sklearn\\metrics\\_dist_metrics.pyx\", line 310, in sklearn.metrics._dist_metrics.DistanceMetric64.get_metric\n",
      "  File \"sklearn\\metrics\\_dist_metrics.pyx\", line 1277, in sklearn.metrics._dist_metrics.MinkowskiDistance64.__init__\n",
      "ValueError: p must be greater than 1\n",
      "\n",
      "  warnings.warn(\n",
      "C:\\Users\\JennaTan\\Documents\\loneliness\\venv_loneliness\\lib\\site-packages\\sklearn\\neighbors\\_base.py:632: UserWarning: Mind that for 0 < p < 1, Minkowski metrics are not distance metrics. Continuing the execution with `algorithm='brute'`.\n",
      "  warnings.warn(\n",
      "C:\\Users\\JennaTan\\Documents\\loneliness\\venv_loneliness\\lib\\site-packages\\sklearn\\model_selection\\_validation.py:824: UserWarning: Scoring failed. The score on this train-test partition for these parameters will be set to nan. Details: \n",
      "Traceback (most recent call last):\n",
      "  File \"C:\\Users\\JennaTan\\Documents\\loneliness\\venv_loneliness\\lib\\site-packages\\sklearn\\model_selection\\_validation.py\", line 813, in _score\n",
      "    scores = scorer(estimator, X_test, y_test)\n",
      "  File \"C:\\Users\\JennaTan\\Documents\\loneliness\\venv_loneliness\\lib\\site-packages\\sklearn\\metrics\\_scorer.py\", line 527, in __call__\n",
      "    return estimator.score(*args, **kwargs)\n",
      "  File \"C:\\Users\\JennaTan\\Documents\\loneliness\\venv_loneliness\\lib\\site-packages\\sklearn\\base.py\", line 759, in score\n",
      "    y_pred = self.predict(X)\n",
      "  File \"C:\\Users\\JennaTan\\Documents\\loneliness\\venv_loneliness\\lib\\site-packages\\sklearn\\neighbors\\_regression.py\", line 240, in predict\n",
      "    neigh_dist, neigh_ind = self.kneighbors(X)\n",
      "  File \"C:\\Users\\JennaTan\\Documents\\loneliness\\venv_loneliness\\lib\\site-packages\\sklearn\\neighbors\\_base.py\", line 822, in kneighbors\n",
      "    results = ArgKmin.compute(\n",
      "  File \"C:\\Users\\JennaTan\\Documents\\loneliness\\venv_loneliness\\lib\\site-packages\\sklearn\\metrics\\_pairwise_distances_reduction\\_dispatcher.py\", line 258, in compute\n",
      "    return ArgKmin64.compute(\n",
      "  File \"sklearn\\metrics\\_pairwise_distances_reduction\\_argkmin.pyx\", line 82, in sklearn.metrics._pairwise_distances_reduction._argkmin.ArgKmin64.compute\n",
      "  File \"sklearn\\metrics\\_pairwise_distances_reduction\\_datasets_pair.pyx\", line 86, in sklearn.metrics._pairwise_distances_reduction._datasets_pair.DatasetsPair64.get_for\n",
      "  File \"sklearn\\metrics\\_dist_metrics.pyx\", line 86, in sklearn.metrics._dist_metrics.DistanceMetric.get_metric\n",
      "  File \"sklearn\\metrics\\_dist_metrics.pyx\", line 310, in sklearn.metrics._dist_metrics.DistanceMetric64.get_metric\n",
      "  File \"sklearn\\metrics\\_dist_metrics.pyx\", line 1277, in sklearn.metrics._dist_metrics.MinkowskiDistance64.__init__\n",
      "ValueError: p must be greater than 1\n",
      "\n",
      "  warnings.warn(\n",
      "C:\\Users\\JennaTan\\Documents\\loneliness\\venv_loneliness\\lib\\site-packages\\sklearn\\neighbors\\_base.py:632: UserWarning: Mind that for 0 < p < 1, Minkowski metrics are not distance metrics. Continuing the execution with `algorithm='brute'`.\n",
      "  warnings.warn(\n",
      "C:\\Users\\JennaTan\\Documents\\loneliness\\venv_loneliness\\lib\\site-packages\\sklearn\\model_selection\\_validation.py:824: UserWarning: Scoring failed. The score on this train-test partition for these parameters will be set to nan. Details: \n",
      "Traceback (most recent call last):\n",
      "  File \"C:\\Users\\JennaTan\\Documents\\loneliness\\venv_loneliness\\lib\\site-packages\\sklearn\\model_selection\\_validation.py\", line 813, in _score\n",
      "    scores = scorer(estimator, X_test, y_test)\n",
      "  File \"C:\\Users\\JennaTan\\Documents\\loneliness\\venv_loneliness\\lib\\site-packages\\sklearn\\metrics\\_scorer.py\", line 527, in __call__\n",
      "    return estimator.score(*args, **kwargs)\n",
      "  File \"C:\\Users\\JennaTan\\Documents\\loneliness\\venv_loneliness\\lib\\site-packages\\sklearn\\base.py\", line 759, in score\n",
      "    y_pred = self.predict(X)\n",
      "  File \"C:\\Users\\JennaTan\\Documents\\loneliness\\venv_loneliness\\lib\\site-packages\\sklearn\\neighbors\\_regression.py\", line 240, in predict\n",
      "    neigh_dist, neigh_ind = self.kneighbors(X)\n",
      "  File \"C:\\Users\\JennaTan\\Documents\\loneliness\\venv_loneliness\\lib\\site-packages\\sklearn\\neighbors\\_base.py\", line 822, in kneighbors\n",
      "    results = ArgKmin.compute(\n",
      "  File \"C:\\Users\\JennaTan\\Documents\\loneliness\\venv_loneliness\\lib\\site-packages\\sklearn\\metrics\\_pairwise_distances_reduction\\_dispatcher.py\", line 258, in compute\n",
      "    return ArgKmin64.compute(\n",
      "  File \"sklearn\\metrics\\_pairwise_distances_reduction\\_argkmin.pyx\", line 82, in sklearn.metrics._pairwise_distances_reduction._argkmin.ArgKmin64.compute\n",
      "  File \"sklearn\\metrics\\_pairwise_distances_reduction\\_datasets_pair.pyx\", line 86, in sklearn.metrics._pairwise_distances_reduction._datasets_pair.DatasetsPair64.get_for\n",
      "  File \"sklearn\\metrics\\_dist_metrics.pyx\", line 86, in sklearn.metrics._dist_metrics.DistanceMetric.get_metric\n",
      "  File \"sklearn\\metrics\\_dist_metrics.pyx\", line 310, in sklearn.metrics._dist_metrics.DistanceMetric64.get_metric\n",
      "  File \"sklearn\\metrics\\_dist_metrics.pyx\", line 1277, in sklearn.metrics._dist_metrics.MinkowskiDistance64.__init__\n",
      "ValueError: p must be greater than 1\n",
      "\n",
      "  warnings.warn(\n",
      "C:\\Users\\JennaTan\\Documents\\loneliness\\venv_loneliness\\lib\\site-packages\\sklearn\\neighbors\\_base.py:632: UserWarning: Mind that for 0 < p < 1, Minkowski metrics are not distance metrics. Continuing the execution with `algorithm='brute'`.\n",
      "  warnings.warn(\n",
      "C:\\Users\\JennaTan\\Documents\\loneliness\\venv_loneliness\\lib\\site-packages\\sklearn\\model_selection\\_validation.py:824: UserWarning: Scoring failed. The score on this train-test partition for these parameters will be set to nan. Details: \n",
      "Traceback (most recent call last):\n",
      "  File \"C:\\Users\\JennaTan\\Documents\\loneliness\\venv_loneliness\\lib\\site-packages\\sklearn\\model_selection\\_validation.py\", line 813, in _score\n",
      "    scores = scorer(estimator, X_test, y_test)\n",
      "  File \"C:\\Users\\JennaTan\\Documents\\loneliness\\venv_loneliness\\lib\\site-packages\\sklearn\\metrics\\_scorer.py\", line 527, in __call__\n",
      "    return estimator.score(*args, **kwargs)\n",
      "  File \"C:\\Users\\JennaTan\\Documents\\loneliness\\venv_loneliness\\lib\\site-packages\\sklearn\\base.py\", line 759, in score\n",
      "    y_pred = self.predict(X)\n",
      "  File \"C:\\Users\\JennaTan\\Documents\\loneliness\\venv_loneliness\\lib\\site-packages\\sklearn\\neighbors\\_regression.py\", line 240, in predict\n",
      "    neigh_dist, neigh_ind = self.kneighbors(X)\n",
      "  File \"C:\\Users\\JennaTan\\Documents\\loneliness\\venv_loneliness\\lib\\site-packages\\sklearn\\neighbors\\_base.py\", line 822, in kneighbors\n",
      "    results = ArgKmin.compute(\n",
      "  File \"C:\\Users\\JennaTan\\Documents\\loneliness\\venv_loneliness\\lib\\site-packages\\sklearn\\metrics\\_pairwise_distances_reduction\\_dispatcher.py\", line 258, in compute\n",
      "    return ArgKmin64.compute(\n",
      "  File \"sklearn\\metrics\\_pairwise_distances_reduction\\_argkmin.pyx\", line 82, in sklearn.metrics._pairwise_distances_reduction._argkmin.ArgKmin64.compute\n",
      "  File \"sklearn\\metrics\\_pairwise_distances_reduction\\_datasets_pair.pyx\", line 86, in sklearn.metrics._pairwise_distances_reduction._datasets_pair.DatasetsPair64.get_for\n",
      "  File \"sklearn\\metrics\\_dist_metrics.pyx\", line 86, in sklearn.metrics._dist_metrics.DistanceMetric.get_metric\n",
      "  File \"sklearn\\metrics\\_dist_metrics.pyx\", line 310, in sklearn.metrics._dist_metrics.DistanceMetric64.get_metric\n",
      "  File \"sklearn\\metrics\\_dist_metrics.pyx\", line 1277, in sklearn.metrics._dist_metrics.MinkowskiDistance64.__init__\n",
      "ValueError: p must be greater than 1\n",
      "\n",
      "  warnings.warn(\n",
      "C:\\Users\\JennaTan\\Documents\\loneliness\\venv_loneliness\\lib\\site-packages\\sklearn\\neighbors\\_base.py:632: UserWarning: Mind that for 0 < p < 1, Minkowski metrics are not distance metrics. Continuing the execution with `algorithm='brute'`.\n",
      "  warnings.warn(\n",
      "C:\\Users\\JennaTan\\Documents\\loneliness\\venv_loneliness\\lib\\site-packages\\sklearn\\model_selection\\_validation.py:824: UserWarning: Scoring failed. The score on this train-test partition for these parameters will be set to nan. Details: \n",
      "Traceback (most recent call last):\n",
      "  File \"C:\\Users\\JennaTan\\Documents\\loneliness\\venv_loneliness\\lib\\site-packages\\sklearn\\model_selection\\_validation.py\", line 813, in _score\n",
      "    scores = scorer(estimator, X_test, y_test)\n",
      "  File \"C:\\Users\\JennaTan\\Documents\\loneliness\\venv_loneliness\\lib\\site-packages\\sklearn\\metrics\\_scorer.py\", line 527, in __call__\n",
      "    return estimator.score(*args, **kwargs)\n",
      "  File \"C:\\Users\\JennaTan\\Documents\\loneliness\\venv_loneliness\\lib\\site-packages\\sklearn\\base.py\", line 759, in score\n",
      "    y_pred = self.predict(X)\n",
      "  File \"C:\\Users\\JennaTan\\Documents\\loneliness\\venv_loneliness\\lib\\site-packages\\sklearn\\neighbors\\_regression.py\", line 240, in predict\n",
      "    neigh_dist, neigh_ind = self.kneighbors(X)\n",
      "  File \"C:\\Users\\JennaTan\\Documents\\loneliness\\venv_loneliness\\lib\\site-packages\\sklearn\\neighbors\\_base.py\", line 822, in kneighbors\n",
      "    results = ArgKmin.compute(\n",
      "  File \"C:\\Users\\JennaTan\\Documents\\loneliness\\venv_loneliness\\lib\\site-packages\\sklearn\\metrics\\_pairwise_distances_reduction\\_dispatcher.py\", line 258, in compute\n",
      "    return ArgKmin64.compute(\n",
      "  File \"sklearn\\metrics\\_pairwise_distances_reduction\\_argkmin.pyx\", line 82, in sklearn.metrics._pairwise_distances_reduction._argkmin.ArgKmin64.compute\n",
      "  File \"sklearn\\metrics\\_pairwise_distances_reduction\\_datasets_pair.pyx\", line 86, in sklearn.metrics._pairwise_distances_reduction._datasets_pair.DatasetsPair64.get_for\n",
      "  File \"sklearn\\metrics\\_dist_metrics.pyx\", line 86, in sklearn.metrics._dist_metrics.DistanceMetric.get_metric\n",
      "  File \"sklearn\\metrics\\_dist_metrics.pyx\", line 310, in sklearn.metrics._dist_metrics.DistanceMetric64.get_metric\n",
      "  File \"sklearn\\metrics\\_dist_metrics.pyx\", line 1277, in sklearn.metrics._dist_metrics.MinkowskiDistance64.__init__\n",
      "ValueError: p must be greater than 1\n",
      "\n",
      "  warnings.warn(\n",
      "C:\\Users\\JennaTan\\Documents\\loneliness\\venv_loneliness\\lib\\site-packages\\sklearn\\model_selection\\_search.py:976: UserWarning: One or more of the test scores are non-finite: [        nan -0.28548177 -0.27942653 -0.31561007         nan -0.18446372\n",
      " -0.19748964 -0.22526012         nan -0.12859618 -0.10592767 -0.1148809\n",
      "         nan -0.02852406 -0.04344846 -0.04723167]\n",
      "  warnings.warn(\n"
     ]
    },
    {
     "data": {
      "text/html": [
       "<style>#sk-container-id-9 {color: black;}#sk-container-id-9 pre{padding: 0;}#sk-container-id-9 div.sk-toggleable {background-color: white;}#sk-container-id-9 label.sk-toggleable__label {cursor: pointer;display: block;width: 100%;margin-bottom: 0;padding: 0.3em;box-sizing: border-box;text-align: center;}#sk-container-id-9 label.sk-toggleable__label-arrow:before {content: \"▸\";float: left;margin-right: 0.25em;color: #696969;}#sk-container-id-9 label.sk-toggleable__label-arrow:hover:before {color: black;}#sk-container-id-9 div.sk-estimator:hover label.sk-toggleable__label-arrow:before {color: black;}#sk-container-id-9 div.sk-toggleable__content {max-height: 0;max-width: 0;overflow: hidden;text-align: left;background-color: #f0f8ff;}#sk-container-id-9 div.sk-toggleable__content pre {margin: 0.2em;color: black;border-radius: 0.25em;background-color: #f0f8ff;}#sk-container-id-9 input.sk-toggleable__control:checked~div.sk-toggleable__content {max-height: 200px;max-width: 100%;overflow: auto;}#sk-container-id-9 input.sk-toggleable__control:checked~label.sk-toggleable__label-arrow:before {content: \"▾\";}#sk-container-id-9 div.sk-estimator input.sk-toggleable__control:checked~label.sk-toggleable__label {background-color: #d4ebff;}#sk-container-id-9 div.sk-label input.sk-toggleable__control:checked~label.sk-toggleable__label {background-color: #d4ebff;}#sk-container-id-9 input.sk-hidden--visually {border: 0;clip: rect(1px 1px 1px 1px);clip: rect(1px, 1px, 1px, 1px);height: 1px;margin: -1px;overflow: hidden;padding: 0;position: absolute;width: 1px;}#sk-container-id-9 div.sk-estimator {font-family: monospace;background-color: #f0f8ff;border: 1px dotted black;border-radius: 0.25em;box-sizing: border-box;margin-bottom: 0.5em;}#sk-container-id-9 div.sk-estimator:hover {background-color: #d4ebff;}#sk-container-id-9 div.sk-parallel-item::after {content: \"\";width: 100%;border-bottom: 1px solid gray;flex-grow: 1;}#sk-container-id-9 div.sk-label:hover label.sk-toggleable__label {background-color: #d4ebff;}#sk-container-id-9 div.sk-serial::before {content: \"\";position: absolute;border-left: 1px solid gray;box-sizing: border-box;top: 0;bottom: 0;left: 50%;z-index: 0;}#sk-container-id-9 div.sk-serial {display: flex;flex-direction: column;align-items: center;background-color: white;padding-right: 0.2em;padding-left: 0.2em;position: relative;}#sk-container-id-9 div.sk-item {position: relative;z-index: 1;}#sk-container-id-9 div.sk-parallel {display: flex;align-items: stretch;justify-content: center;background-color: white;position: relative;}#sk-container-id-9 div.sk-item::before, #sk-container-id-9 div.sk-parallel-item::before {content: \"\";position: absolute;border-left: 1px solid gray;box-sizing: border-box;top: 0;bottom: 0;left: 50%;z-index: -1;}#sk-container-id-9 div.sk-parallel-item {display: flex;flex-direction: column;z-index: 1;position: relative;background-color: white;}#sk-container-id-9 div.sk-parallel-item:first-child::after {align-self: flex-end;width: 50%;}#sk-container-id-9 div.sk-parallel-item:last-child::after {align-self: flex-start;width: 50%;}#sk-container-id-9 div.sk-parallel-item:only-child::after {width: 0;}#sk-container-id-9 div.sk-dashed-wrapped {border: 1px dashed gray;margin: 0 0.4em 0.5em 0.4em;box-sizing: border-box;padding-bottom: 0.4em;background-color: white;}#sk-container-id-9 div.sk-label label {font-family: monospace;font-weight: bold;display: inline-block;line-height: 1.2em;}#sk-container-id-9 div.sk-label-container {text-align: center;}#sk-container-id-9 div.sk-container {/* jupyter's `normalize.less` sets `[hidden] { display: none; }` but bootstrap.min.css set `[hidden] { display: none !important; }` so we also need the `!important` here to be able to override the default hidden behavior on the sphinx rendered scikit-learn.org. See: https://github.com/scikit-learn/scikit-learn/issues/21755 */display: inline-block !important;position: relative;}#sk-container-id-9 div.sk-text-repr-fallback {display: none;}</style><div id=\"sk-container-id-9\" class=\"sk-top-container\"><div class=\"sk-text-repr-fallback\"><pre>GridSearchCV(cv=KFold(n_splits=5, random_state=42, shuffle=True),\n",
       "             estimator=KNeighborsRegressor(n_neighbors=1,\n",
       "                                           weights=&lt;function idw_model.&lt;locals&gt;._inv_distance_index at 0x000001C813319280&gt;),\n",
       "             param_grid={&#x27;n_neighbors&#x27;: [2, 3, 4, 5], &#x27;p&#x27;: [0.5, 1, 1.5, 2]})</pre><b>In a Jupyter environment, please rerun this cell to show the HTML representation or trust the notebook. <br />On GitHub, the HTML representation is unable to render, please try loading this page with nbviewer.org.</b></div><div class=\"sk-container\" hidden><div class=\"sk-item sk-dashed-wrapped\"><div class=\"sk-label-container\"><div class=\"sk-label sk-toggleable\"><input class=\"sk-toggleable__control sk-hidden--visually\" id=\"sk-estimator-id-25\" type=\"checkbox\" ><label for=\"sk-estimator-id-25\" class=\"sk-toggleable__label sk-toggleable__label-arrow\">GridSearchCV</label><div class=\"sk-toggleable__content\"><pre>GridSearchCV(cv=KFold(n_splits=5, random_state=42, shuffle=True),\n",
       "             estimator=KNeighborsRegressor(n_neighbors=1,\n",
       "                                           weights=&lt;function idw_model.&lt;locals&gt;._inv_distance_index at 0x000001C813319280&gt;),\n",
       "             param_grid={&#x27;n_neighbors&#x27;: [2, 3, 4, 5], &#x27;p&#x27;: [0.5, 1, 1.5, 2]})</pre></div></div></div><div class=\"sk-parallel\"><div class=\"sk-parallel-item\"><div class=\"sk-item\"><div class=\"sk-label-container\"><div class=\"sk-label sk-toggleable\"><input class=\"sk-toggleable__control sk-hidden--visually\" id=\"sk-estimator-id-26\" type=\"checkbox\" ><label for=\"sk-estimator-id-26\" class=\"sk-toggleable__label sk-toggleable__label-arrow\">estimator: KNeighborsRegressor</label><div class=\"sk-toggleable__content\"><pre>KNeighborsRegressor(n_neighbors=1,\n",
       "                    weights=&lt;function idw_model.&lt;locals&gt;._inv_distance_index at 0x000001C813319280&gt;)</pre></div></div></div><div class=\"sk-serial\"><div class=\"sk-item\"><div class=\"sk-estimator sk-toggleable\"><input class=\"sk-toggleable__control sk-hidden--visually\" id=\"sk-estimator-id-27\" type=\"checkbox\" ><label for=\"sk-estimator-id-27\" class=\"sk-toggleable__label sk-toggleable__label-arrow\">KNeighborsRegressor</label><div class=\"sk-toggleable__content\"><pre>KNeighborsRegressor(n_neighbors=1,\n",
       "                    weights=&lt;function idw_model.&lt;locals&gt;._inv_distance_index at 0x000001C813319280&gt;)</pre></div></div></div></div></div></div></div></div></div></div>"
      ],
      "text/plain": [
       "GridSearchCV(cv=KFold(n_splits=5, random_state=42, shuffle=True),\n",
       "             estimator=KNeighborsRegressor(n_neighbors=1,\n",
       "                                           weights=<function idw_model.<locals>._inv_distance_index at 0x000001C813319280>),\n",
       "             param_grid={'n_neighbors': [2, 3, 4, 5], 'p': [0.5, 1, 1.5, 2]})"
      ]
     },
     "execution_count": 160,
     "metadata": {},
     "output_type": "execute_result"
    }
   ],
   "source": [
    "param_grid = {\n",
    "    'n_neighbors': [2, 3, 4, 5],\n",
    "    'p': [0.5, 1, 1.5, 2]\n",
    "}\n",
    "\n",
    "knn_model = idw_model(1,1)\n",
    "kf = KFold(n_splits=5, shuffle=True, random_state=42)\n",
    "\n",
    "\n",
    "grid_search = GridSearchCV(knn_model, param_grid, cv=kf)\n",
    "grid_search.fit(X_train, y_train)\n"
   ]
  },
  {
   "cell_type": "code",
   "execution_count": 161,
   "id": "41190bd7-8cac-4654-bef1-ecc33888d4bf",
   "metadata": {},
   "outputs": [
    {
     "name": "stdout",
     "output_type": "stream",
     "text": [
      "Best k: 5\n",
      "Best p: 1\n"
     ]
    }
   ],
   "source": [
    "best_k = grid_search.best_params_['n_neighbors']\n",
    "best_p = grid_search.best_params_['p']\n",
    "\n",
    "print(\"Best k:\", best_k)\n",
    "print(\"Best p:\", best_p)"
   ]
  },
  {
   "cell_type": "code",
   "execution_count": 162,
   "id": "83193ce9-069b-4d48-b46d-5c40c1e47003",
   "metadata": {},
   "outputs": [],
   "source": [
    "grid = idw_model(5,1).fit(X_train, y_train)\n",
    "original = idw_model(5,2).fit(X_train, y_train)\n",
    "\n",
    "y_pred_grid = grid.predict(X_test)\n",
    "y_pred_original = original.predict(X_test)"
   ]
  },
  {
   "cell_type": "code",
   "execution_count": 163,
   "id": "9aeac1b0-4596-453e-aedb-206a48c1891d",
   "metadata": {},
   "outputs": [
    {
     "name": "stdout",
     "output_type": "stream",
     "text": [
      " Grid Search MSE: 7.193070857673738\n",
      " Original params MSE: 8.602814620068047\n"
     ]
    }
   ],
   "source": [
    "print(f\" Grid Search MSE: {mean_squared_error(y_test, y_pred_grid)}\")\n",
    "print(f\" Original params MSE: {mean_squared_error(y_test, y_pred_original)}\")"
   ]
  },
  {
   "cell_type": "markdown",
   "id": "ca93d739-8478-4cbb-93ee-7172407a0ee7",
   "metadata": {},
   "source": [
    "Note that the dataset is small - don't want too many neighbours"
   ]
  },
  {
   "cell_type": "markdown",
   "id": "050e20cd-2298-48de-9dfc-1d911749d950",
   "metadata": {},
   "source": [
    "### Use best params to fit model"
   ]
  },
  {
   "cell_type": "code",
   "execution_count": 164,
   "id": "66b38a9c-95de-4b18-9aeb-6f05ac170c9f",
   "metadata": {},
   "outputs": [],
   "source": [
    "idw = idw_model(5, 1).fit(points, vals)"
   ]
  },
  {
   "cell_type": "markdown",
   "id": "8f2dcf33-942b-46bb-8796-051cc1699e69",
   "metadata": {},
   "source": [
    "### Create grid of values to predict"
   ]
  },
  {
   "cell_type": "code",
   "execution_count": 165,
   "id": "7086cc84-d378-488c-8bf2-308051041ac1",
   "metadata": {},
   "outputs": [
    {
     "name": "stdout",
     "output_type": "stream",
     "text": [
      "xmin =  194098.0 \n",
      " xmax =  362801.0 \n",
      " ymin =  314327.0 \n",
      " ymax =  440595.0\n"
     ]
    }
   ],
   "source": [
    "# Get minimum and maximum coords from the data\n",
    "print(\"xmin = \", geo_data['oseast1m'].min(), \"\\n\\r\",\n",
    "      \"xmax = \", geo_data['oseast1m'].max(), \"\\n\\r\",\n",
    "      \"ymin = \", geo_data['osnrth1m'].min(), \"\\n\\r\",\n",
    "      \"ymax = \", geo_data['osnrth1m'].max())"
   ]
  },
  {
   "cell_type": "code",
   "execution_count": 166,
   "id": "136ed84a-5891-4bc9-b406-ceb8341b0c93",
   "metadata": {},
   "outputs": [],
   "source": [
    "xmin =  194098.0 \n",
    "xmax =  362801.0 \n",
    "ymin =  314327.0 \n",
    "ymax =  440595.0"
   ]
  },
  {
   "cell_type": "code",
   "execution_count": 167,
   "id": "9b617e2a-98e5-4e11-8b8f-96e911e93e44",
   "metadata": {},
   "outputs": [],
   "source": [
    "def grid(xmin, xmax, ymin, ymax, cellsize):\n",
    "    \"\"\"\n",
    "    Creates an evenly spaced grid structure of all possible x and y coords within the bounds of the data that will be \n",
    "    used for prediction. Even spacing ensures reliable and uniform coverage of the surface for estimation.\n",
    "    \n",
    "    \"\"\"\n",
    "    # Adjust x and y ranges to be perfectly divisible by cellsize using floor and ceiling division, ensuring even spacing\n",
    "    xmin = (xmin // cellsize) * cellsize \n",
    "    xmax = -(-xmax // cellsize) * cellsize \n",
    "    ymin = (ymin // cellsize) * cellsize\n",
    "    ymax = -(-ymax // cellsize) * cellsize\n",
    "    \n",
    "    # Generate coords within adjusted min/max range with regular spacing determined by cellsize\n",
    "    x = np.linspace(xmin,xmax,int((xmax-xmin)/cellsize))\n",
    "    y = np.linspace(ymin,ymax,int((ymax-ymin)/cellsize))\n",
    "    \n",
    "    # Create grid structure of all possible x and y points, returns two 2D arrays\n",
    "    xx,yy = np.meshgrid(x,y)\n",
    "   \n",
    "    return xx, yy"
   ]
  },
  {
   "cell_type": "code",
   "execution_count": 168,
   "id": "c436b439-6c20-44c5-9937-98b72b84210b",
   "metadata": {},
   "outputs": [],
   "source": [
    "# cellsize = 250 represents BNG 250m x 250m square\n",
    "xx,yy = grid(xmin, xmax, ymin, ymax, 200 )"
   ]
  },
  {
   "cell_type": "code",
   "execution_count": 169,
   "id": "c301381e-583e-473f-b56c-2f6d63363a2d",
   "metadata": {},
   "outputs": [],
   "source": [
    "def reshape_grid(xx,yy):\n",
    "    \"\"\" \n",
    "    Reshape output of the meshgrid into a single array combining x and y coords.\n",
    "    Ravel flattens xx/yy into (1,n) and [] turns it into a col vector (n,1). \n",
    "    Two col vectors combined to form xy\n",
    "    \"\"\"\n",
    "    return np.append(xx.ravel()[:,np.newaxis],yy.ravel()[:,np.newaxis],1)"
   ]
  },
  {
   "cell_type": "code",
   "execution_count": 170,
   "id": "8c18dc08-348b-45d1-bbd1-c5bd39a56313",
   "metadata": {},
   "outputs": [],
   "source": [
    "xy = reshape_grid(xx,yy)"
   ]
  },
  {
   "cell_type": "markdown",
   "id": "fa816f9e-3fe3-4eb3-9416-985547a44265",
   "metadata": {},
   "source": [
    "### Predict unknown values using trained KNN model"
   ]
  },
  {
   "cell_type": "code",
   "execution_count": 171,
   "id": "46c7b746-c1b8-4774-88f8-ba5b7f83a6dc",
   "metadata": {},
   "outputs": [],
   "source": [
    "# Predict values in the grid. Returns 1D array, (n,1)\n",
    "scores = idw.predict(xy)"
   ]
  },
  {
   "cell_type": "code",
   "execution_count": 172,
   "id": "e1e25271-cc97-4fbe-a138-1a2ac29ad90b",
   "metadata": {},
   "outputs": [
    {
     "data": {
      "text/plain": [
       "(534040,)"
      ]
     },
     "execution_count": 172,
     "metadata": {},
     "output_type": "execute_result"
    }
   ],
   "source": [
    "scores.shape"
   ]
  },
  {
   "cell_type": "markdown",
   "id": "b25d5d10-911a-40c2-bdc1-d0645f9bc882",
   "metadata": {},
   "source": [
    "### Reshape predictions to grid"
   ]
  },
  {
   "cell_type": "markdown",
   "id": "6b36ee96-0259-44a8-91d2-b78fe0b0d34f",
   "metadata": {},
   "source": [
    "- KNN Regresor outputs a 1D array - predictions per coordinate\n",
    "- It needs to be reshaped to 2D to allign with the xx,yy meshgrid"
   ]
  },
  {
   "cell_type": "code",
   "execution_count": 173,
   "id": "724cd981-9b97-4960-a46c-bd2549e624ae",
   "metadata": {},
   "outputs": [],
   "source": [
    "def reshape_image(scores, xx):\n",
    "    return np.flip(scores.reshape(np.shape(xx)),0)\n",
    "\n",
    "scores = reshape_image(scores, xx)"
   ]
  },
  {
   "cell_type": "code",
   "execution_count": 174,
   "id": "7aa0cac3-237c-4fda-8577-6fbc79efd918",
   "metadata": {},
   "outputs": [
    {
     "data": {
      "text/plain": [
       "True"
      ]
     },
     "execution_count": 174,
     "metadata": {},
     "output_type": "execute_result"
    }
   ],
   "source": [
    "scores.shape == xx.shape"
   ]
  },
  {
   "cell_type": "markdown",
   "id": "cdfbc640-1145-4188-9c17-00e5d1bec95f",
   "metadata": {},
   "source": [
    "### Inspect surface outcome"
   ]
  },
  {
   "cell_type": "code",
   "execution_count": 175,
   "id": "d4bc9a27-7339-444e-939d-8cfc3b54bd16",
   "metadata": {},
   "outputs": [
    {
     "data": {
      "image/png": "[encoded data removed]",
      "text/plain": [
       "<Figure size 300x500 with 2 Axes>"
      ]
     },
     "metadata": {},
     "output_type": "display_data"
    }
   ],
   "source": [
    "f, ax = plt.subplots(figsize = (3,5))\n",
    "#ax.imshow(z, cmap='Reds')\n",
    "#ax.set_aspect('equal')\n",
    "\n",
    "heatmap = ax.imshow(scores, cmap='Blues', extent=[xmin, xmax, ymin, ymax])\n",
    "ax.scatter(points[:, 0], points[:, 1], color='grey', s=0.5)\n",
    "cbar = plt.colorbar(heatmap, ax=ax, label='Loneliness z_score prediction')\n"
   ]
  },
  {
   "cell_type": "markdown",
   "id": "e300bb11-4056-4cec-a29e-4c079754e337",
   "metadata": {},
   "source": [
    "Lighter areas around the cities"
   ]
  },
  {
   "cell_type": "markdown",
   "id": "40ff4e82-ddab-41df-86e3-3869df50772a",
   "metadata": {},
   "source": [
    "## Map to Super Data Zones - 850 in NI"
   ]
  },
  {
   "cell_type": "markdown",
   "id": "77254d00-7f77-466b-9408-841e3fef5591",
   "metadata": {},
   "source": [
    "- Get shape files : https://www.nisra.gov.uk/publications/geography-super-data-zone-boundaries-gis-format\n",
    "- Get zonal stats "
   ]
  },
  {
   "cell_type": "code",
   "execution_count": 209,
   "id": "3bb4224f-0620-425d-8307-6c99bba35ad7",
   "metadata": {},
   "outputs": [
    {
     "name": "stderr",
     "output_type": "stream",
     "text": [
      "C:\\Users\\JennaTan\\Documents\\loneliness\\venv_loneliness\\lib\\site-packages\\pyproj\\crs\\crs.py:141: FutureWarning: '+init=<authority>:<code>' syntax is deprecated. '<authority>:<code>' is the preferred initialization method. When making the change, be mindful of axis order changes: https://pyproj4.github.io/pyproj/stable/gotchas.html#axis-order-changes-in-proj-6\n",
      "  in_crs_string = _prepare_from_proj_string(in_crs_string)\n"
     ]
    },
    {
     "data": {
      "text/html": [
       "<div>\n",
       "<style scoped>\n",
       "    .dataframe tbody tr th:only-of-type {\n",
       "        vertical-align: middle;\n",
       "    }\n",
       "\n",
       "    .dataframe tbody tr th {\n",
       "        vertical-align: top;\n",
       "    }\n",
       "\n",
       "    .dataframe thead th {\n",
       "        text-align: right;\n",
       "    }\n",
       "</style>\n",
       "<table border=\"1\" class=\"dataframe\">\n",
       "  <thead>\n",
       "    <tr style=\"text-align: right;\">\n",
       "      <th></th>\n",
       "      <th>SDZ2021_cd</th>\n",
       "      <th>SDZ2021_nm</th>\n",
       "      <th>DEA2014_cd</th>\n",
       "      <th>DEA2014_nm</th>\n",
       "      <th>LGD2014_cd</th>\n",
       "      <th>LGD2014_nm</th>\n",
       "      <th>Area_ha</th>\n",
       "      <th>Perim_km</th>\n",
       "      <th>geometry</th>\n",
       "    </tr>\n",
       "  </thead>\n",
       "  <tbody>\n",
       "    <tr>\n",
       "      <th>0</th>\n",
       "      <td>N21000001</td>\n",
       "      <td>Dunsilly_A</td>\n",
       "      <td>N10000104</td>\n",
       "      <td>Dunsilly</td>\n",
       "      <td>N09000001</td>\n",
       "      <td>Antrim and Newtownabbey</td>\n",
       "      <td>6611.41</td>\n",
       "      <td>57.65</td>\n",
       "      <td>POLYGON ((117031.303 551876.113, 117034.808 55...</td>\n",
       "    </tr>\n",
       "    <tr>\n",
       "      <th>1</th>\n",
       "      <td>N21000002</td>\n",
       "      <td>Dunsilly_B</td>\n",
       "      <td>N10000104</td>\n",
       "      <td>Dunsilly</td>\n",
       "      <td>N09000001</td>\n",
       "      <td>Antrim and Newtownabbey</td>\n",
       "      <td>7296.19</td>\n",
       "      <td>51.27</td>\n",
       "      <td>POLYGON ((134309.284 553534.212, 134307.618 55...</td>\n",
       "    </tr>\n",
       "    <tr>\n",
       "      <th>2</th>\n",
       "      <td>N21000003</td>\n",
       "      <td>Dunsilly_C</td>\n",
       "      <td>N10000104</td>\n",
       "      <td>Dunsilly</td>\n",
       "      <td>N09000001</td>\n",
       "      <td>Antrim and Newtownabbey</td>\n",
       "      <td>2794.37</td>\n",
       "      <td>28.18</td>\n",
       "      <td>POLYGON ((117027.220 551873.797, 117031.284 55...</td>\n",
       "    </tr>\n",
       "    <tr>\n",
       "      <th>3</th>\n",
       "      <td>N21000004</td>\n",
       "      <td>Dunsilly_D</td>\n",
       "      <td>N10000104</td>\n",
       "      <td>Dunsilly</td>\n",
       "      <td>N09000001</td>\n",
       "      <td>Antrim and Newtownabbey</td>\n",
       "      <td>111.61</td>\n",
       "      <td>7.45</td>\n",
       "      <td>POLYGON ((121508.686 547161.486, 121421.232 54...</td>\n",
       "    </tr>\n",
       "    <tr>\n",
       "      <th>4</th>\n",
       "      <td>N21000005</td>\n",
       "      <td>Dunsilly_E</td>\n",
       "      <td>N10000104</td>\n",
       "      <td>Dunsilly</td>\n",
       "      <td>N09000001</td>\n",
       "      <td>Antrim and Newtownabbey</td>\n",
       "      <td>80.94</td>\n",
       "      <td>5.43</td>\n",
       "      <td>POLYGON ((122838.655 548253.411, 122850.384 54...</td>\n",
       "    </tr>\n",
       "  </tbody>\n",
       "</table>\n",
       "</div>"
      ],
      "text/plain": [
       "  SDZ2021_cd  SDZ2021_nm DEA2014_cd DEA2014_nm LGD2014_cd  \\\n",
       "0  N21000001  Dunsilly_A  N10000104   Dunsilly  N09000001   \n",
       "1  N21000002  Dunsilly_B  N10000104   Dunsilly  N09000001   \n",
       "2  N21000003  Dunsilly_C  N10000104   Dunsilly  N09000001   \n",
       "3  N21000004  Dunsilly_D  N10000104   Dunsilly  N09000001   \n",
       "4  N21000005  Dunsilly_E  N10000104   Dunsilly  N09000001   \n",
       "\n",
       "                LGD2014_nm  Area_ha  Perim_km  \\\n",
       "0  Antrim and Newtownabbey  6611.41     57.65   \n",
       "1  Antrim and Newtownabbey  7296.19     51.27   \n",
       "2  Antrim and Newtownabbey  2794.37     28.18   \n",
       "3  Antrim and Newtownabbey   111.61      7.45   \n",
       "4  Antrim and Newtownabbey    80.94      5.43   \n",
       "\n",
       "                                            geometry  \n",
       "0  POLYGON ((117031.303 551876.113, 117034.808 55...  \n",
       "1  POLYGON ((134309.284 553534.212, 134307.618 55...  \n",
       "2  POLYGON ((117027.220 551873.797, 117031.284 55...  \n",
       "3  POLYGON ((121508.686 547161.486, 121421.232 54...  \n",
       "4  POLYGON ((122838.655 548253.411, 122850.384 54...  "
      ]
     },
     "execution_count": 209,
     "metadata": {},
     "output_type": "execute_result"
    }
   ],
   "source": [
    "# Get Super Data Zones which we use to aggregate the z score variable.\n",
    "filestring = r'C:/Users/JennaTan/Downloads/geography-sdz2021-esri-shapefile/SDZ2021.shp'\n",
    "\n",
    "sdz = gpd.read_file(filestring)\n",
    "sdz.to_crs({'init':'epsg:27700'}).head(5) # projects coordinates onto British National Grid"
   ]
  },
  {
   "cell_type": "code",
   "execution_count": 223,
   "id": "c8454f04-34a5-403d-b167-5419ba02802e",
   "metadata": {},
   "outputs": [
    {
     "data": {
      "text/plain": [
       "850"
      ]
     },
     "execution_count": 223,
     "metadata": {},
     "output_type": "execute_result"
    }
   ],
   "source": [
    "# Check there are 850 SDZ\n",
    "sdz.SDZ2021_cd.nunique()"
   ]
  },
  {
   "cell_type": "code",
   "execution_count": 211,
   "id": "c9c23a15-c518-43fe-b665-0d7982a9cc39",
   "metadata": {},
   "outputs": [],
   "source": [
    "# Affine transformation maps pixels from the KNN estimates to spatial coordinates of each IZ's geometry in BNG space\n",
    "# 250 = pixels resolution (size of each pixel in x/y direction) = 250mx250m\n",
    "# 125 = spatial alignment in x/y direction = centres \n",
    "\n",
    "trans = rst.Affine.from_gdal(xmin-100,200,0,ymax+100,0,-200)"
   ]
  },
  {
   "cell_type": "code",
   "execution_count": 212,
   "id": "a0bdbe16-ed1b-4a89-a84b-02211b9bf206",
   "metadata": {},
   "outputs": [],
   "source": [
    "# Get the mean predicted score based on MSOA polygon shape, returns a dictionary\n",
    "sdz_zone = zonal_stats(sdz['geometry'], scores, affine = trans, stats = 'mean', nodata = np.nan)"
   ]
  },
  {
   "cell_type": "code",
   "execution_count": 214,
   "id": "d15c1e87-bb4b-447c-b110-6d2ce6d58a95",
   "metadata": {},
   "outputs": [],
   "source": [
    "# Extract score from dictionary, turn into a list and add as col in .shp\n",
    "sdz['loneliness_zscore'] = list(map(lambda x: x['mean'] , sdz_zone))"
   ]
  },
  {
   "cell_type": "code",
   "execution_count": 215,
   "id": "2deba165-c376-48fe-8e73-2662c081c1c1",
   "metadata": {},
   "outputs": [
    {
     "data": {
      "text/plain": [
       "<Axes: >"
      ]
     },
     "execution_count": 215,
     "metadata": {},
     "output_type": "execute_result"
    },
    {
     "data": {
      "image/png": "[encoded data removed]",
      "text/plain": [
       "<Figure size 500x300 with 1 Axes>"
      ]
     },
     "metadata": {},
     "output_type": "display_data"
    }
   ],
   "source": [
    "sdz['loneliness_zscore'].hist(bins = 100, figsize = (5,3))"
   ]
  },
  {
   "cell_type": "code",
   "execution_count": 216,
   "id": "108b7552-1fe4-4153-9ff5-39e1b953c195",
   "metadata": {},
   "outputs": [
    {
     "data": {
      "text/plain": [
       "loneliness_zscore\n",
       "False    847\n",
       "True       3\n",
       "Name: count, dtype: int64"
      ]
     },
     "execution_count": 216,
     "metadata": {},
     "output_type": "execute_result"
    }
   ],
   "source": [
    "sdz['loneliness_zscore'].isna().value_counts()"
   ]
  },
  {
   "cell_type": "code",
   "execution_count": 217,
   "id": "c3a3550f-0351-45e0-95cd-87b5f6f9dac1",
   "metadata": {},
   "outputs": [],
   "source": [
    "sdz[\"rank\"] = sdz[\"loneliness_zscore\"].rank()\n",
    "sdz[\"deciles\"] = pd.qcut(sdz[\"loneliness_zscore\"], q=10, labels=False)"
   ]
  },
  {
   "cell_type": "code",
   "execution_count": 218,
   "id": "1c62004a-c7bf-4a63-9a20-6e44866099cc",
   "metadata": {},
   "outputs": [
    {
     "name": "stderr",
     "output_type": "stream",
     "text": [
      "C:\\Users\\JennaTan\\AppData\\Local\\Temp\\ipykernel_15968\\1612988582.py:7: MatplotlibDeprecationWarning: The get_cmap function was deprecated in Matplotlib 3.7 and will be removed two minor releases later. Use ``matplotlib.colormaps[name]`` or ``matplotlib.colormaps.get_cmap(obj)`` instead.\n",
      "  cmap = cm.get_cmap('RdYlBu', len(decile_values))\n"
     ]
    },
    {
     "data": {
      "image/png": "[encoded data removed]",
      "text/plain": [
       "<Figure size 500x700 with 2 Axes>"
      ]
     },
     "metadata": {},
     "output_type": "display_data"
    }
   ],
   "source": [
    "from matplotlib.patches import Patch\n",
    "import matplotlib.cm as cm\n",
    "\n",
    "decile_values = sdz['deciles'].unique()\n",
    "\n",
    "# Automatically generate colors based on the number of unique decile values\n",
    "cmap = cm.get_cmap('RdYlBu', len(decile_values))\n",
    "\n",
    "# Create the legend handles for each decile range\n",
    "handles = []\n",
    "for i, decile in enumerate(decile_values):\n",
    "    col = cmap(i)\n",
    "    handles.append(Patch(facecolor=col, label=f\"Decile {decile}\"))\n",
    "\n",
    "# Create the plot of Scotland map with the decile colors\n",
    "fig, ax = plt.subplots(figsize=(5, 7))\n",
    "sdz.plot(column='deciles', ax=ax, legend=True);\n"
   ]
  },
  {
   "cell_type": "markdown",
   "id": "7cdd6f32-22da-4073-b4da-e499aa91f271",
   "metadata": {},
   "source": [
    "There are 3 SDZ without values:\n",
    "- Could be due to the sparse ness in GP data\n",
    "- k has been reduced to account for only 200+ data points"
   ]
  },
  {
   "cell_type": "markdown",
   "id": "139a7f32-a225-4f33-a4e0-78f65340724f",
   "metadata": {},
   "source": [
    "#### Investigate missing values"
   ]
  },
  {
   "cell_type": "code",
   "execution_count": 182,
   "id": "fd7163c0-fadb-4ff3-b87a-505ee37c6c67",
   "metadata": {
    "scrolled": true
   },
   "outputs": [
    {
     "data": {
      "image/png": "[encoded data removed]",
      "text/plain": [
       "<Figure size 300x300 with 1 Axes>"
      ]
     },
     "metadata": {},
     "output_type": "display_data"
    }
   ],
   "source": [
    "geo_data.plot(column = 'loneliness_zscore', scheme = 'quantiles', cmap = 'Blues', marker = '.', figsize=(3,3));"
   ]
  },
  {
   "cell_type": "markdown",
   "id": "eab6c215-70b2-4070-a62e-87c7440e3f49",
   "metadata": {},
   "source": [
    "Gaps in the heatmap do roughly match gaps in GP data - although not directly, there are many more gaps in the GP data"
   ]
  },
  {
   "cell_type": "code",
   "execution_count": 222,
   "id": "0db53a54-15e0-47e9-ac29-9ab126006044",
   "metadata": {},
   "outputs": [
    {
     "data": {
      "text/html": [
       "<div>\n",
       "<style scoped>\n",
       "    .dataframe tbody tr th:only-of-type {\n",
       "        vertical-align: middle;\n",
       "    }\n",
       "\n",
       "    .dataframe tbody tr th {\n",
       "        vertical-align: top;\n",
       "    }\n",
       "\n",
       "    .dataframe thead th {\n",
       "        text-align: right;\n",
       "    }\n",
       "</style>\n",
       "<table border=\"1\" class=\"dataframe\">\n",
       "  <thead>\n",
       "    <tr style=\"text-align: right;\">\n",
       "      <th></th>\n",
       "      <th>SDZ2021_cd</th>\n",
       "      <th>SDZ2021_nm</th>\n",
       "      <th>DEA2014_cd</th>\n",
       "      <th>DEA2014_nm</th>\n",
       "      <th>LGD2014_cd</th>\n",
       "      <th>LGD2014_nm</th>\n",
       "      <th>Area_ha</th>\n",
       "      <th>Perim_km</th>\n",
       "      <th>geometry</th>\n",
       "      <th>loneliness_zscore</th>\n",
       "      <th>rank</th>\n",
       "      <th>deciles</th>\n",
       "    </tr>\n",
       "  </thead>\n",
       "  <tbody>\n",
       "    <tr>\n",
       "      <th>844</th>\n",
       "      <td>N21000845</td>\n",
       "      <td>Ards_Peninsula_G</td>\n",
       "      <td>N10001101</td>\n",
       "      <td>Ards Peninsula</td>\n",
       "      <td>N09000011</td>\n",
       "      <td>Ards and North Down</td>\n",
       "      <td>63.22</td>\n",
       "      <td>6.67</td>\n",
       "      <td>POLYGON ((365209.077 363362.186, 365188.863 36...</td>\n",
       "      <td>NaN</td>\n",
       "      <td>NaN</td>\n",
       "      <td>NaN</td>\n",
       "    </tr>\n",
       "    <tr>\n",
       "      <th>846</th>\n",
       "      <td>N21000847</td>\n",
       "      <td>Ards_Peninsula_J</td>\n",
       "      <td>N10001101</td>\n",
       "      <td>Ards Peninsula</td>\n",
       "      <td>N09000011</td>\n",
       "      <td>Ards and North Down</td>\n",
       "      <td>118.41</td>\n",
       "      <td>7.82</td>\n",
       "      <td>POLYGON ((365372.330 358780.347, 365372.362 35...</td>\n",
       "      <td>NaN</td>\n",
       "      <td>NaN</td>\n",
       "      <td>NaN</td>\n",
       "    </tr>\n",
       "    <tr>\n",
       "      <th>847</th>\n",
       "      <td>N21000848</td>\n",
       "      <td>Ards_Peninsula_K</td>\n",
       "      <td>N10001101</td>\n",
       "      <td>Ards Peninsula</td>\n",
       "      <td>N09000011</td>\n",
       "      <td>Ards and North Down</td>\n",
       "      <td>89.58</td>\n",
       "      <td>9.82</td>\n",
       "      <td>POLYGON ((365256.349 358088.025, 365257.143 35...</td>\n",
       "      <td>NaN</td>\n",
       "      <td>NaN</td>\n",
       "      <td>NaN</td>\n",
       "    </tr>\n",
       "  </tbody>\n",
       "</table>\n",
       "</div>"
      ],
      "text/plain": [
       "    SDZ2021_cd        SDZ2021_nm DEA2014_cd      DEA2014_nm LGD2014_cd  \\\n",
       "844  N21000845  Ards_Peninsula_G  N10001101  Ards Peninsula  N09000011   \n",
       "846  N21000847  Ards_Peninsula_J  N10001101  Ards Peninsula  N09000011   \n",
       "847  N21000848  Ards_Peninsula_K  N10001101  Ards Peninsula  N09000011   \n",
       "\n",
       "              LGD2014_nm  Area_ha  Perim_km  \\\n",
       "844  Ards and North Down    63.22      6.67   \n",
       "846  Ards and North Down   118.41      7.82   \n",
       "847  Ards and North Down    89.58      9.82   \n",
       "\n",
       "                                              geometry  loneliness_zscore  \\\n",
       "844  POLYGON ((365209.077 363362.186, 365188.863 36...                NaN   \n",
       "846  POLYGON ((365372.330 358780.347, 365372.362 35...                NaN   \n",
       "847  POLYGON ((365256.349 358088.025, 365257.143 35...                NaN   \n",
       "\n",
       "     rank  deciles  \n",
       "844   NaN      NaN  \n",
       "846   NaN      NaN  \n",
       "847   NaN      NaN  "
      ]
     },
     "execution_count": 222,
     "metadata": {},
     "output_type": "execute_result"
    }
   ],
   "source": [
    "# Investigate missing values\n",
    "sdz[sdz.loneliness_zscore.isna() == True]"
   ]
  },
  {
   "cell_type": "code",
   "execution_count": 227,
   "id": "8d92ad14-eef0-4ed6-9b81-a07148087aea",
   "metadata": {},
   "outputs": [
    {
     "name": "stderr",
     "output_type": "stream",
     "text": [
      "C:\\Users\\JennaTan\\AppData\\Local\\Temp\\ipykernel_15968\\2566458583.py:2: UserWarning: CRS mismatch between the CRS of left geometries and the CRS of right geometries.\n",
      "Use `to_crs()` to reproject one of the input geometries to match the CRS of the other.\n",
      "\n",
      "Left CRS: EPSG:27700\n",
      "Right CRS: EPSG:29902\n",
      "\n",
      "  intersections = gpd.overlay(geo_data, sdz, how='intersection')\n"
     ]
    },
    {
     "data": {
      "text/plain": [
       "231"
      ]
     },
     "execution_count": 227,
     "metadata": {},
     "output_type": "execute_result"
    }
   ],
   "source": [
    "# check all postcodes fall within boundaires of the sdz geometry\n",
    "intersections = gpd.overlay(geo_data, sdz, how='intersection')\n",
    "len(intersections['pcds']) "
   ]
  },
  {
   "cell_type": "markdown",
   "id": "6493758a-c423-40ba-a2b7-25b2e1219a24",
   "metadata": {},
   "source": [
    "Total postcodes are 230 so all GP postcodes have been assigned an SDZ"
   ]
  },
  {
   "cell_type": "code",
   "execution_count": 228,
   "id": "daac6e91-7b74-4ad5-93b6-ea9285c9a1d1",
   "metadata": {},
   "outputs": [
    {
     "name": "stdout",
     "output_type": "stream",
     "text": [
      "0\n",
      "0\n",
      "0\n"
     ]
    },
    {
     "name": "stderr",
     "output_type": "stream",
     "text": [
      "C:\\Users\\JennaTan\\AppData\\Local\\Temp\\ipykernel_15968\\1590212210.py:4: UserWarning: CRS mismatch between the CRS of left geometries and the CRS of right geometries.\n",
      "Use `to_crs()` to reproject one of the input geometries to match the CRS of the other.\n",
      "\n",
      "Left CRS: EPSG:27700\n",
      "Right CRS: EPSG:29902\n",
      "\n",
      "  intersections = gpd.overlay(geo_data, sdz[sdz['SDZ2021_cd']==c], how='intersection')\n",
      "C:\\Users\\JennaTan\\AppData\\Local\\Temp\\ipykernel_15968\\1590212210.py:4: UserWarning: CRS mismatch between the CRS of left geometries and the CRS of right geometries.\n",
      "Use `to_crs()` to reproject one of the input geometries to match the CRS of the other.\n",
      "\n",
      "Left CRS: EPSG:27700\n",
      "Right CRS: EPSG:29902\n",
      "\n",
      "  intersections = gpd.overlay(geo_data, sdz[sdz['SDZ2021_cd']==c], how='intersection')\n",
      "C:\\Users\\JennaTan\\AppData\\Local\\Temp\\ipykernel_15968\\1590212210.py:4: UserWarning: CRS mismatch between the CRS of left geometries and the CRS of right geometries.\n",
      "Use `to_crs()` to reproject one of the input geometries to match the CRS of the other.\n",
      "\n",
      "Left CRS: EPSG:27700\n",
      "Right CRS: EPSG:29902\n",
      "\n",
      "  intersections = gpd.overlay(geo_data, sdz[sdz['SDZ2021_cd']==c], how='intersection')\n"
     ]
    }
   ],
   "source": [
    "# Check if any of the GP postcodes call within the missing SDZ\n",
    "code = ['N21000845', 'N21000847', 'N21000848']\n",
    "\n",
    "for c in code:\n",
    "    intersections = gpd.overlay(geo_data, sdz[sdz['SDZ2021_cd']==c], how='intersection')\n",
    "    print(len(intersections['pcds']))\n"
   ]
  },
  {
   "cell_type": "markdown",
   "id": "0fd51a7d-c442-47c0-8646-ce0da2b413fa",
   "metadata": {},
   "source": [
    "SDZs without scores don't have GP postcodes within its catchment area explaining the no data. Can go back to check the pre-proc scripts to see if GPs have been missed out. If no data then can impute the 3 missing values."
   ]
  },
  {
   "cell_type": "code",
   "execution_count": null,
   "id": "a1e0414a-c348-49bf-943a-2b2d000559b6",
   "metadata": {},
   "outputs": [],
   "source": []
  }
 ],
 "metadata": {
  "kernelspec": {
   "display_name": "Python 3 (ipykernel)",
   "language": "python",
   "name": "python3"
  },
  "language_info": {
   "codemirror_mode": {
    "name": "ipython",
    "version": 3
   },
   "file_extension": ".py",
   "mimetype": "text/x-python",
   "name": "python",
   "nbconvert_exporter": "python",
   "pygments_lexer": "ipython3",
   "version": "3.9.6"
  }
 },
 "nbformat": 4,
 "nbformat_minor": 5
}
