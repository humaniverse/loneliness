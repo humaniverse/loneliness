{
 "cells": [
  {
   "cell_type": "markdown",
   "id": "88780422",
   "metadata": {},
   "source": [
    "# England 2020-2021 - Community Life Survey"
   ]
  },
  {
   "cell_type": "code",
   "execution_count": 1,
   "id": "a46d5426",
   "metadata": {},
   "outputs": [],
   "source": [
    "import pandas as pd\n",
    "import numpy as np\n",
    "\n",
    "# Note: requires installation of odfpy and feather-format"
   ]
  },
  {
   "cell_type": "markdown",
   "id": "a10d9a05",
   "metadata": {},
   "source": [
    "## Load Community Life Survey"
   ]
  },
  {
   "cell_type": "markdown",
   "id": "87b8ee27",
   "metadata": {},
   "source": [
    "- Community Life Survey is household self completion study conducted every year by DCSM \n",
    "- Asks 1 direct and 3 indirect questions on loneliness \n",
    "- The raw data is not published, only qual summaries\n",
    "- However there is an ad-hoc release - Community Life Survey: Strength of community variables by Output Area Classification, 2017/18 to 2020/21 \n",
    "- https://www.gov.uk/government/statistical-data-sets/dcms-community-life-survey-ad-hoc-statistical-releases\n",
    "- Data only provided for the one direct question of loneliness\n",
    "- This notebook isolates 2020/21 and maps the results to LSOA 21\n",
    "- Numbers represent responses of \"Often/always & some of the time\" to \"How often do you feel lonely?\""
   ]
  },
  {
   "cell_type": "code",
   "execution_count": 2,
   "id": "d0346460",
   "metadata": {},
   "outputs": [],
   "source": [
    "# Read loneliness sheet of community life survey for 2020/21\n",
    "df = pd.read_excel(\"../../extdata/cls.ods\",  engine=\"odf\", sheet_name = \"A6\", skiprows = 26, nrows =1)"
   ]
  },
  {
   "cell_type": "code",
   "execution_count": 3,
   "id": "5ec9d189",
   "metadata": {},
   "outputs": [],
   "source": [
    "df.drop(columns=df.columns[:3], axis=1, inplace=True)"
   ]
  },
  {
   "cell_type": "code",
   "execution_count": 4,
   "id": "a75c143d",
   "metadata": {},
   "outputs": [],
   "source": [
    "df = (df.T).reset_index()\n",
    "df.rename(columns = {\"index\": \"oac_11\", 0: \"perc\" }, inplace = True)\n",
    "df.drop(index=df.index[-1],axis=0,inplace=True)"
   ]
  },
  {
   "cell_type": "code",
   "execution_count": 5,
   "id": "e4f7aa50",
   "metadata": {},
   "outputs": [],
   "source": [
    "df['oac_11'] = df.oac_11.str[-2:]"
   ]
  },
  {
   "cell_type": "code",
   "execution_count": 6,
   "id": "8d1a4941",
   "metadata": {},
   "outputs": [],
   "source": [
    "# No data for one of the OACs (\"where total number of responses is less than 30. this data has been supressed\"); \n",
    "# replace with np.nan\n",
    "df.loc[19, 'perc'] = np.nan"
   ]
  },
  {
   "cell_type": "code",
   "execution_count": 7,
   "id": "46a9f8da",
   "metadata": {},
   "outputs": [
    {
     "name": "stdout",
     "output_type": "stream",
     "text": [
      " Length of df: 26\n"
     ]
    },
    {
     "data": {
      "image/png": "[encoded data removed]",
      "text/plain": [
       "<Figure size 200x200 with 1 Axes>"
      ]
     },
     "metadata": {},
     "output_type": "display_data"
    }
   ],
   "source": [
    "print(f\" Length of df: {len(df)}\")\n",
    "df.perc.hist(figsize = (2,2));"
   ]
  },
  {
   "cell_type": "markdown",
   "id": "325f5fd5",
   "metadata": {},
   "source": [
    "## Join OAC to OA"
   ]
  },
  {
   "cell_type": "markdown",
   "id": "1802472c",
   "metadata": {},
   "source": [
    "- Data is analysed by the 26 groups of the 2011 Area Classification for Output Areas which groups areas with similar characteristics\n",
    "- Lookup for OAC '11 TO OA'11 is here https://www.ons.gov.uk/methodology/geography/geographicalproducts/areaclassifications/2011areaclassifications/datasets\n",
    "\n",
    "**NB: File needs to be downloaded locally as it is >100mb**"
   ]
  },
  {
   "cell_type": "code",
   "execution_count": 8,
   "id": "ad3c609e",
   "metadata": {},
   "outputs": [],
   "source": [
    "# Read csv to join OAC to OA\n",
    "oa = pd.read_csv(\"../../extdata/oac_lookup.csv\")\n",
    "oa = oa[[\"Output Area Code\", \"Group Code\"]]\n",
    "oa.rename(columns = {\"Group Code\": \"oac_11\", \"Output Area Code\":\"oa11_code\"}, inplace = True )"
   ]
  },
  {
   "cell_type": "code",
   "execution_count": 9,
   "id": "68ecd80e",
   "metadata": {
    "scrolled": true
   },
   "outputs": [],
   "source": [
    "# Join to loneliness perc\n",
    "df_oa = oa.merge(df, on = 'oac_11', how = 'left')"
   ]
  },
  {
   "cell_type": "code",
   "execution_count": 10,
   "id": "a354bca9",
   "metadata": {},
   "outputs": [
    {
     "name": "stdout",
     "output_type": "stream",
     "text": [
      "True\n",
      " Length of df_oa: 232296\n"
     ]
    }
   ],
   "source": [
    "# Check\n",
    "print(oa.oa11_code.nunique() == df_oa.oa11_code.nunique())\n",
    "print(f\" Length of df_oa: {len(df_oa)}\")"
   ]
  },
  {
   "cell_type": "markdown",
   "id": "b05fd276",
   "metadata": {},
   "source": [
    "## Join OA11 to LSOA 11"
   ]
  },
  {
   "cell_type": "code",
   "execution_count": 11,
   "id": "a6040fd6",
   "metadata": {},
   "outputs": [],
   "source": [
    "# Read file from geographr to join OA 11 to LSOA 11; saved as a feather file\n",
    "lookup_11 = pd.read_feather(\"../../extdata/lookup_11.feather\")\n",
    "lookup_11 = lookup_11[['lsoa11_code','oa11_code']]"
   ]
  },
  {
   "cell_type": "markdown",
   "id": "949c10d7",
   "metadata": {},
   "source": [
    "**NB: File needs to be downloaded locally as it is >100mb**"
   ]
  },
  {
   "cell_type": "code",
   "execution_count": 12,
   "id": "c658bb74",
   "metadata": {},
   "outputs": [],
   "source": [
    "# Filter for England  and unique combos of oa11_code and lsoa11_code\n",
    "lookup_11 = lookup_11[lookup_11['lsoa11_code'].str.startswith('E')]\n",
    "lookup_11 = lookup_11.drop_duplicates(subset = ['oa11_code','lsoa11_code'])"
   ]
  },
  {
   "cell_type": "code",
   "execution_count": 13,
   "id": "22119090",
   "metadata": {},
   "outputs": [],
   "source": [
    "df_lsoa11 = lookup_11.merge(df_oa, on = 'oa11_code', how = 'left')"
   ]
  },
  {
   "cell_type": "code",
   "execution_count": 14,
   "id": "e58cd1b8",
   "metadata": {},
   "outputs": [
    {
     "data": {
      "text/plain": [
       "True"
      ]
     },
     "execution_count": 14,
     "metadata": {},
     "output_type": "execute_result"
    }
   ],
   "source": [
    "# check\n",
    "len(df_lsoa11) == lookup_11.oa11_code.nunique()"
   ]
  },
  {
   "cell_type": "code",
   "execution_count": 15,
   "id": "9d988c01",
   "metadata": {},
   "outputs": [
    {
     "data": {
      "text/plain": [
       "oac_11\n",
       "7b    556\n",
       "Name: count, dtype: int64"
      ]
     },
     "execution_count": 15,
     "metadata": {},
     "output_type": "execute_result"
    }
   ],
   "source": [
    "# Check that the only NAs for perc is from the same OAC that didn't have data\n",
    "df_lsoa11[df_lsoa11['perc'].isna()]['oac_11'].value_counts()"
   ]
  },
  {
   "cell_type": "code",
   "execution_count": 16,
   "id": "9c805e64",
   "metadata": {},
   "outputs": [],
   "source": [
    "# Get average of each LSOA\n",
    "df_lsoa11.perc = df_lsoa11.perc.astype(float)\n",
    "df_lsoa11 = df_lsoa11.groupby(['lsoa11_code'], as_index = False)['perc'].mean()"
   ]
  },
  {
   "cell_type": "code",
   "execution_count": 17,
   "id": "86764acd",
   "metadata": {},
   "outputs": [
    {
     "name": "stdout",
     "output_type": "stream",
     "text": [
      "True\n",
      " Length of df_oa: 32844\n"
     ]
    }
   ],
   "source": [
    "# Check there are 32,844 LSOAs in England in 201\n",
    "print(df_lsoa11.lsoa11_code.nunique() == lookup_11.lsoa11_code.nunique() == 32844)\n",
    "print(f\" Length of df_oa: {len(df_lsoa11)}\")"
   ]
  },
  {
   "cell_type": "markdown",
   "id": "650fed9a",
   "metadata": {},
   "source": [
    "## Join LSOA 11 to LSOA 21"
   ]
  },
  {
   "cell_type": "markdown",
   "id": "e654dca6",
   "metadata": {},
   "source": [
    "Although LSOA11 : LSOA21 is not a 1:1 relationship, each observation in the geographr lookup table is at LSOA11 level so a left join will capture all the changes."
   ]
  },
  {
   "cell_type": "code",
   "execution_count": 18,
   "id": "750ed540",
   "metadata": {},
   "outputs": [],
   "source": [
    "# Read file from geographr to join lsoa 11 code to lsoa 21 code; saved as a feather file\n",
    "lookup_21 = pd.read_feather(\"../../extdata/lookup_21.feather\")"
   ]
  },
  {
   "cell_type": "markdown",
   "id": "63dc2c19",
   "metadata": {},
   "source": [
    "**NB: File needs to be downloaded locally as it is >100mb**"
   ]
  },
  {
   "cell_type": "code",
   "execution_count": 19,
   "id": "29683b1f",
   "metadata": {},
   "outputs": [],
   "source": [
    "# Filter for England and take unique combinations for lsoa11 - lsoa21\n",
    "lookup_21 = lookup_21[lookup_21['lsoa21_code'].str.startswith('E')]\n",
    "lookup_21 = lookup_21.drop_duplicates(subset = ['lsoa11_code', 'lsoa21_code'])"
   ]
  },
  {
   "cell_type": "code",
   "execution_count": 20,
   "id": "84d6c09c",
   "metadata": {},
   "outputs": [],
   "source": [
    "lookup_21 = lookup_21[[\"lsoa11_code\", \"lsoa21_code\"]]\n",
    "loneliness = pd.merge(df_lsoa11, lookup_21, on = \"lsoa11_code\", how = \"left\")"
   ]
  },
  {
   "cell_type": "code",
   "execution_count": 21,
   "id": "fc7fb0b9",
   "metadata": {},
   "outputs": [
    {
     "data": {
      "text/plain": [
       "True"
      ]
     },
     "execution_count": 21,
     "metadata": {},
     "output_type": "execute_result"
    }
   ],
   "source": [
    "# check that len is same as lookup_21 rather than df_lsoa11\n",
    "len(lookup_21) == len(loneliness)"
   ]
  },
  {
   "cell_type": "code",
   "execution_count": 22,
   "id": "944d0689",
   "metadata": {},
   "outputs": [],
   "source": [
    "loneliness = loneliness[[\"lsoa21_code\", \"perc\"]]"
   ]
  },
  {
   "cell_type": "code",
   "execution_count": 23,
   "id": "8e9c589b",
   "metadata": {},
   "outputs": [],
   "source": [
    "loneliness = loneliness.groupby(\"lsoa21_code\", as_index = False).mean()"
   ]
  },
  {
   "cell_type": "code",
   "execution_count": 24,
   "id": "2f46d553",
   "metadata": {},
   "outputs": [
    {
     "name": "stdout",
     "output_type": "stream",
     "text": [
      "<class 'pandas.core.frame.DataFrame'>\n",
      "RangeIndex: 33755 entries, 0 to 33754\n",
      "Data columns (total 2 columns):\n",
      " #   Column       Non-Null Count  Dtype  \n",
      "---  ------       --------------  -----  \n",
      " 0   lsoa21_code  33755 non-null  object \n",
      " 1   perc         33755 non-null  float64\n",
      "dtypes: float64(1), object(1)\n",
      "memory usage: 527.5+ KB\n"
     ]
    }
   ],
   "source": [
    "# Check there are 33,755 LSOAs and no nulls\n",
    "loneliness.info()"
   ]
  },
  {
   "cell_type": "code",
   "execution_count": 25,
   "id": "3fce8589",
   "metadata": {},
   "outputs": [
    {
     "data": {
      "image/png": "[encoded data removed]",
      "text/plain": [
       "<Figure size 200x200 with 1 Axes>"
      ]
     },
     "metadata": {},
     "output_type": "display_data"
    }
   ],
   "source": [
    "loneliness.perc.hist(bins = 100, figsize = (2,2));"
   ]
  },
  {
   "cell_type": "code",
   "execution_count": 26,
   "id": "185c83d7",
   "metadata": {},
   "outputs": [
    {
     "data": {
      "text/html": [
       "<div>\n",
       "<style scoped>\n",
       "    .dataframe tbody tr th:only-of-type {\n",
       "        vertical-align: middle;\n",
       "    }\n",
       "\n",
       "    .dataframe tbody tr th {\n",
       "        vertical-align: top;\n",
       "    }\n",
       "\n",
       "    .dataframe thead th {\n",
       "        text-align: right;\n",
       "    }\n",
       "</style>\n",
       "<table border=\"1\" class=\"dataframe\">\n",
       "  <thead>\n",
       "    <tr style=\"text-align: right;\">\n",
       "      <th></th>\n",
       "      <th>lsoa21_code</th>\n",
       "      <th>perc</th>\n",
       "    </tr>\n",
       "  </thead>\n",
       "  <tbody>\n",
       "    <tr>\n",
       "      <th>4888</th>\n",
       "      <td>E01005167</td>\n",
       "      <td>28.670639</td>\n",
       "    </tr>\n",
       "    <tr>\n",
       "      <th>18542</th>\n",
       "      <td>E01019547</td>\n",
       "      <td>26.014174</td>\n",
       "    </tr>\n",
       "    <tr>\n",
       "      <th>19279</th>\n",
       "      <td>E01020311</td>\n",
       "      <td>20.752053</td>\n",
       "    </tr>\n",
       "    <tr>\n",
       "      <th>30126</th>\n",
       "      <td>E01031731</td>\n",
       "      <td>30.526910</td>\n",
       "    </tr>\n",
       "    <tr>\n",
       "      <th>23420</th>\n",
       "      <td>E01024676</td>\n",
       "      <td>29.134239</td>\n",
       "    </tr>\n",
       "  </tbody>\n",
       "</table>\n",
       "</div>"
      ],
      "text/plain": [
       "      lsoa21_code       perc\n",
       "4888    E01005167  28.670639\n",
       "18542   E01019547  26.014174\n",
       "19279   E01020311  20.752053\n",
       "30126   E01031731  30.526910\n",
       "23420   E01024676  29.134239"
      ]
     },
     "execution_count": 26,
     "metadata": {},
     "output_type": "execute_result"
    }
   ],
   "source": [
    "loneliness.sample(5)"
   ]
  },
  {
   "cell_type": "code",
   "execution_count": 27,
   "id": "11314341",
   "metadata": {},
   "outputs": [],
   "source": [
    "loneliness.to_csv(\"../../extdata/england_cls_loneliness_2020.csv\", index = False )"
   ]
  }
 ],
 "metadata": {
  "kernelspec": {
   "display_name": "Python 3 (ipykernel)",
   "language": "python",
   "name": "python3"
  },
  "language_info": {
   "codemirror_mode": {
    "name": "ipython",
    "version": 3
   },
   "file_extension": ".py",
   "mimetype": "text/x-python",
   "name": "python",
   "nbconvert_exporter": "python",
   "pygments_lexer": "ipython3",
   "version": "3.9.6"
  }
 },
 "nbformat": 4,
 "nbformat_minor": 5
}
