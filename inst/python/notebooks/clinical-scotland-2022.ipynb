{
 "cells": [
  {
   "cell_type": "markdown",
   "id": "3eadd414",
   "metadata": {},
   "source": [
    "# Creating Loneliness Index for GPs in Scotland using Prescription Data, 2022"
   ]
  },
  {
   "cell_type": "markdown",
   "id": "6e24d797",
   "metadata": {},
   "source": [
    "- Outputs an index of loneliness scores for GPs in Scotland for Jan 2022 - Dec 2022\n",
    "- To be used as an input to map area scores"
   ]
  },
  {
   "cell_type": "code",
   "execution_count": 1,
   "id": "a0a5bc26",
   "metadata": {},
   "outputs": [],
   "source": [
    "import pandas as pd\n",
    "import numpy as np\n",
    "import os\n",
    "import matplotlib.pyplot as plt\n",
    "import scipy.stats as stats"
   ]
  },
  {
   "cell_type": "code",
   "execution_count": 2,
   "id": "c2e5bfa0",
   "metadata": {},
   "outputs": [],
   "source": [
    "# Path to files\n",
    "path = \"../../extdata/\""
   ]
  },
  {
   "cell_type": "markdown",
   "id": "87cf7ad4",
   "metadata": {},
   "source": [
    "# Read drug data"
   ]
  },
  {
   "cell_type": "code",
   "execution_count": 3,
   "id": "f47335fe",
   "metadata": {},
   "outputs": [],
   "source": [
    "# Get loneliness related conditions and medication data\n",
    "drug_data = pd.read_csv(path + \"drug_list.csv\")"
   ]
  },
  {
   "cell_type": "markdown",
   "id": "4f1a245a",
   "metadata": {},
   "source": [
    "# Process Prescribing Data\n",
    "- Uses \"Prescriptions in the Community\" .csv files that come from: https://www.opendata.nhs.scot/dataset/prescriptions-in-the-community to identify loneliness related conditions based on prescriptions\n",
    "- Prescription in the Community are monthly files containing prescriptions made at GP level\n",
    "- Outputs a dataframe that multiplies loneliness related prescriptions by its count.\n",
    "\n",
    "*Prescription in the Community csvs need to be saved in the prescriptions_scotland/ folder manually*"
   ]
  },
  {
   "cell_type": "code",
   "execution_count": 4,
   "id": "98029f41",
   "metadata": {},
   "outputs": [],
   "source": [
    "# column names\n",
    "col_bnfname = \"BNFItemDescription\"\n",
    "col_items = \"NumberOfPaidItems\""
   ]
  },
  {
   "cell_type": "code",
   "execution_count": 5,
   "id": "204acae2",
   "metadata": {},
   "outputs": [],
   "source": [
    "# Function to find loneliness related conditions based on prescription\n",
    "def code_loneliness(x):\n",
    "    out = {}\n",
    "    # coding by illness categories\n",
    "    for illness in drug_data['illness'].unique():\n",
    "        out[illness] = x[col_bnfname].str.contains(\"|\".join(drug_data[drug_data['illness'] == illness]['medication']),\n",
    "                                                 case=False, \n",
    "                                                 regex=True).fillna(False).astype('int16')\n",
    "    # Make dataframe\n",
    "    out = pd.DataFrame(out)\n",
    "  \n",
    "    # Return dataframe multiplied by counts of items\n",
    "    return out.multiply(x[col_items], axis=0)"
   ]
  },
  {
   "cell_type": "code",
   "execution_count": 6,
   "id": "5b300bee",
   "metadata": {},
   "outputs": [
    {
     "ename": "FileNotFoundError",
     "evalue": "[WinError 3] The system cannot find the path specified: '../../extdata/prescriptions_scotland'",
     "output_type": "error",
     "traceback": [
      "\u001b[1;31m---------------------------------------------------------------------------\u001b[0m",
      "\u001b[1;31mFileNotFoundError\u001b[0m                         Traceback (most recent call last)",
      "Cell \u001b[1;32mIn[6], line 6\u001b[0m\n\u001b[0;32m      1\u001b[0m \u001b[38;5;66;03m# Iterate over Prescription in the Community files, call code_loneliness() to count prescriptions \u001b[39;00m\n\u001b[0;32m      2\u001b[0m \u001b[38;5;66;03m# to output a df that is grouped by GP practice\u001b[39;00m\n\u001b[0;32m      4\u001b[0m monthly_data \u001b[38;5;241m=\u001b[39m []\n\u001b[1;32m----> 6\u001b[0m \u001b[38;5;28;01mfor\u001b[39;00m file \u001b[38;5;129;01min\u001b[39;00m \u001b[43mos\u001b[49m\u001b[38;5;241;43m.\u001b[39;49m\u001b[43mlistdir\u001b[49m\u001b[43m(\u001b[49m\u001b[43mpath\u001b[49m\u001b[43m \u001b[49m\u001b[38;5;241;43m+\u001b[39;49m\u001b[43m \u001b[49m\u001b[38;5;124;43m\"\u001b[39;49m\u001b[38;5;124;43mprescriptions_scotland\u001b[39;49m\u001b[38;5;124;43m\"\u001b[39;49m\u001b[43m)\u001b[49m:\n\u001b[0;32m      7\u001b[0m     \u001b[38;5;66;03m# Open prescribing files \u001b[39;00m\n\u001b[0;32m      8\u001b[0m     prescribe \u001b[38;5;241m=\u001b[39m pd\u001b[38;5;241m.\u001b[39mread_csv(path \u001b[38;5;241m+\u001b[39m \u001b[38;5;124m\"\u001b[39m\u001b[38;5;124mprescriptions_scotland\u001b[39m\u001b[38;5;130;01m\\\\\u001b[39;00m\u001b[38;5;124m\"\u001b[39m \u001b[38;5;241m+\u001b[39m file)\n\u001b[0;32m      9\u001b[0m     prescribe\u001b[38;5;241m.\u001b[39mcolumns \u001b[38;5;241m=\u001b[39m prescribe\u001b[38;5;241m.\u001b[39mcolumns\u001b[38;5;241m.\u001b[39mstr\u001b[38;5;241m.\u001b[39mstrip()\n",
      "\u001b[1;31mFileNotFoundError\u001b[0m: [WinError 3] The system cannot find the path specified: '../../extdata/prescriptions_scotland'"
     ]
    }
   ],
   "source": [
    "# Iterate over Prescription in the Community files, call code_loneliness() to count prescriptions \n",
    "# to output a df that is grouped by GP practice\n",
    "\n",
    "monthly_data = []\n",
    "\n",
    "for file in os.listdir(path + \"prescriptions_scotland\"):\n",
    "    # Open prescribing files \n",
    "    prescribe = pd.read_csv(path + \"prescriptions_scotland\\\\\" + file)\n",
    "    prescribe.columns = prescribe.columns.str.strip()\n",
    "    prescribe = prescribe[[\"GPPractice\", col_bnfname, col_items]]\n",
    "    print(f\" Proccessing {file}\")\n",
    "\n",
    "    # Count prescriptions\n",
    "    loneliness_prescribing = code_loneliness(prescribe[[col_bnfname, col_items]])\n",
    "    prescribe = prescribe.merge(\n",
    "        loneliness_prescribing, left_index=True, right_index=True\n",
    "    )\n",
    "    del loneliness_prescribing\n",
    "\n",
    "    # Group by GPPractice and sum prescriptions across the year\n",
    "    summary = prescribe.groupby(\"GPPractice\", as_index=False).agg(sum)\n",
    "    monthly_data.append(summary)\n",
    "    print(f\" Completed processing {file}\")"
   ]
  },
  {
   "cell_type": "code",
   "execution_count": 23,
   "id": "f76e0f93",
   "metadata": {},
   "outputs": [],
   "source": [
    "# concatenate all the monthly data together\n",
    "data = pd.concat(monthly_data, ignore_index = True)"
   ]
  },
  {
   "cell_type": "code",
   "execution_count": 24,
   "id": "a03fabce",
   "metadata": {},
   "outputs": [
    {
     "data": {
      "text/html": [
       "<div>\n",
       "<style scoped>\n",
       "    .dataframe tbody tr th:only-of-type {\n",
       "        vertical-align: middle;\n",
       "    }\n",
       "\n",
       "    .dataframe tbody tr th {\n",
       "        vertical-align: top;\n",
       "    }\n",
       "\n",
       "    .dataframe thead th {\n",
       "        text-align: right;\n",
       "    }\n",
       "</style>\n",
       "<table border=\"1\" class=\"dataframe\">\n",
       "  <thead>\n",
       "    <tr style=\"text-align: right;\">\n",
       "      <th></th>\n",
       "      <th>GPPractice</th>\n",
       "      <th>BNFItemDescription</th>\n",
       "      <th>NumberOfPaidItems</th>\n",
       "      <th>depression</th>\n",
       "      <th>alzheimers</th>\n",
       "      <th>blood pressure</th>\n",
       "      <th>hypertension</th>\n",
       "      <th>diabeties</th>\n",
       "      <th>cardiovascular disease</th>\n",
       "      <th>insomnia</th>\n",
       "      <th>addiction</th>\n",
       "      <th>social anxiety</th>\n",
       "      <th>loneliness</th>\n",
       "    </tr>\n",
       "  </thead>\n",
       "  <tbody>\n",
       "    <tr>\n",
       "      <th>0</th>\n",
       "      <td>10002</td>\n",
       "      <td>MAALOX_ORAL SUSP 175MG/200MG/5MLGAVISCON_LIQ O...</td>\n",
       "      <td>9510</td>\n",
       "      <td>594</td>\n",
       "      <td>20</td>\n",
       "      <td>700</td>\n",
       "      <td>704</td>\n",
       "      <td>107</td>\n",
       "      <td>485</td>\n",
       "      <td>41</td>\n",
       "      <td>0</td>\n",
       "      <td>3</td>\n",
       "      <td>1951</td>\n",
       "    </tr>\n",
       "    <tr>\n",
       "      <th>1</th>\n",
       "      <td>10017</td>\n",
       "      <td>MAALOX_ORAL SUSP 175MG/200MG/5MLGAVISCON INFAN...</td>\n",
       "      <td>8734</td>\n",
       "      <td>550</td>\n",
       "      <td>35</td>\n",
       "      <td>658</td>\n",
       "      <td>664</td>\n",
       "      <td>89</td>\n",
       "      <td>420</td>\n",
       "      <td>56</td>\n",
       "      <td>0</td>\n",
       "      <td>5</td>\n",
       "      <td>1814</td>\n",
       "    </tr>\n",
       "    <tr>\n",
       "      <th>2</th>\n",
       "      <td>10036</td>\n",
       "      <td>GAVISCON ADVANCE_LIQ (ANISEED) S/FGAVISCON ADV...</td>\n",
       "      <td>6136</td>\n",
       "      <td>376</td>\n",
       "      <td>11</td>\n",
       "      <td>579</td>\n",
       "      <td>582</td>\n",
       "      <td>62</td>\n",
       "      <td>344</td>\n",
       "      <td>59</td>\n",
       "      <td>0</td>\n",
       "      <td>6</td>\n",
       "      <td>1434</td>\n",
       "    </tr>\n",
       "    <tr>\n",
       "      <th>3</th>\n",
       "      <td>10106</td>\n",
       "      <td>GAVISCON INFANT_ORAL PDR SACHGAVISCON ADVANCE_...</td>\n",
       "      <td>8541</td>\n",
       "      <td>513</td>\n",
       "      <td>34</td>\n",
       "      <td>719</td>\n",
       "      <td>724</td>\n",
       "      <td>106</td>\n",
       "      <td>505</td>\n",
       "      <td>39</td>\n",
       "      <td>1</td>\n",
       "      <td>2</td>\n",
       "      <td>1922</td>\n",
       "    </tr>\n",
       "    <tr>\n",
       "      <th>4</th>\n",
       "      <td>10125</td>\n",
       "      <td>MAALOX PLUS_SUSPGAVISCON ADVANCE_TAB CHBLE 500...</td>\n",
       "      <td>6673</td>\n",
       "      <td>425</td>\n",
       "      <td>15</td>\n",
       "      <td>453</td>\n",
       "      <td>454</td>\n",
       "      <td>91</td>\n",
       "      <td>367</td>\n",
       "      <td>44</td>\n",
       "      <td>0</td>\n",
       "      <td>4</td>\n",
       "      <td>1396</td>\n",
       "    </tr>\n",
       "  </tbody>\n",
       "</table>\n",
       "</div>"
      ],
      "text/plain": [
       "   GPPractice                                 BNFItemDescription  \\\n",
       "0       10002  MAALOX_ORAL SUSP 175MG/200MG/5MLGAVISCON_LIQ O...   \n",
       "1       10017  MAALOX_ORAL SUSP 175MG/200MG/5MLGAVISCON INFAN...   \n",
       "2       10036  GAVISCON ADVANCE_LIQ (ANISEED) S/FGAVISCON ADV...   \n",
       "3       10106  GAVISCON INFANT_ORAL PDR SACHGAVISCON ADVANCE_...   \n",
       "4       10125  MAALOX PLUS_SUSPGAVISCON ADVANCE_TAB CHBLE 500...   \n",
       "\n",
       "   NumberOfPaidItems  depression  alzheimers  blood pressure  hypertension  \\\n",
       "0               9510         594          20             700           704   \n",
       "1               8734         550          35             658           664   \n",
       "2               6136         376          11             579           582   \n",
       "3               8541         513          34             719           724   \n",
       "4               6673         425          15             453           454   \n",
       "\n",
       "   diabeties  cardiovascular disease  insomnia  addiction  social anxiety  \\\n",
       "0        107                     485        41          0               3   \n",
       "1         89                     420        56          0               5   \n",
       "2         62                     344        59          0               6   \n",
       "3        106                     505        39          1               2   \n",
       "4         91                     367        44          0               4   \n",
       "\n",
       "   loneliness  \n",
       "0        1951  \n",
       "1        1814  \n",
       "2        1434  \n",
       "3        1922  \n",
       "4        1396  "
      ]
     },
     "execution_count": 24,
     "metadata": {},
     "output_type": "execute_result"
    }
   ],
   "source": [
    "data[data[\"loneliness\"] > 0].head()"
   ]
  },
  {
   "cell_type": "code",
   "execution_count": 25,
   "id": "294005fe",
   "metadata": {},
   "outputs": [],
   "source": [
    "# Save aggregated data\n",
    "data.to_csv(path + \"processed_data.csv\")"
   ]
  },
  {
   "cell_type": "markdown",
   "id": "c61cb97c",
   "metadata": {},
   "source": [
    "# Join GPs to postcodes\n",
    "\n",
    "- Use the 'GP Practice Contact Details and List Sizes' data from: https://www.opendata.nhs.scot/dataset/gp-practice-contact-details-and-list-sizes to get GP surgery codes and postcode\n",
    "- Note that Scotland only publishes these data four times a year (in Jan, Apr, Jul and Oct).\n",
    "\n",
    "*GP Practice Contact Details and List Sizes csvs need to be saved in the processed_data/ folder manually*"
   ]
  },
  {
   "cell_type": "code",
   "execution_count": 86,
   "id": "ffada308",
   "metadata": {},
   "outputs": [],
   "source": [
    "data = pd.read_csv(path + \"processed_data.csv\", index_col = 0)"
   ]
  },
  {
   "cell_type": "code",
   "execution_count": 87,
   "id": "c920448a",
   "metadata": {},
   "outputs": [],
   "source": [
    "# Get GP files\n",
    "gp_path = path + \"gp_data/\""
   ]
  },
  {
   "cell_type": "code",
   "execution_count": 88,
   "id": "7dec9204",
   "metadata": {},
   "outputs": [
    {
     "name": "stdout",
     "output_type": "stream",
     "text": [
      "practice_contactdetails_apr2022-open-data.csv\n",
      "practice_contactdetails_jan2022.csv\n",
      "practice_contactdetails_jul2022-open-data.csv\n",
      "practice_contactdetails_oct2022-open-data.csv\n"
     ]
    }
   ],
   "source": [
    "gp_combine = []\n",
    "\n",
    "for file in os.listdir(gp_path):\n",
    "    gp_data = pd.read_csv(gp_path + file)\n",
    "    gp_data = gp_data.rename(columns = {'PracticeCode': 'GPPractice'})\n",
    "    gp_combine.append(gp_data[['GPPractice','Postcode']])\n",
    "    print(file)"
   ]
  },
  {
   "cell_type": "code",
   "execution_count": 89,
   "id": "aacbdd6b",
   "metadata": {},
   "outputs": [],
   "source": [
    "# concatenate all the gp data together\n",
    "gp_data = pd.concat(gp_combine, ignore_index = True)"
   ]
  },
  {
   "cell_type": "code",
   "execution_count": 90,
   "id": "6935918c",
   "metadata": {},
   "outputs": [
    {
     "data": {
      "text/html": [
       "<div>\n",
       "<style scoped>\n",
       "    .dataframe tbody tr th:only-of-type {\n",
       "        vertical-align: middle;\n",
       "    }\n",
       "\n",
       "    .dataframe tbody tr th {\n",
       "        vertical-align: top;\n",
       "    }\n",
       "\n",
       "    .dataframe thead th {\n",
       "        text-align: right;\n",
       "    }\n",
       "</style>\n",
       "<table border=\"1\" class=\"dataframe\">\n",
       "  <thead>\n",
       "    <tr style=\"text-align: right;\">\n",
       "      <th></th>\n",
       "      <th>GPPractice</th>\n",
       "      <th>Postcode</th>\n",
       "    </tr>\n",
       "  </thead>\n",
       "  <tbody>\n",
       "    <tr>\n",
       "      <th>0</th>\n",
       "      <td>10002</td>\n",
       "      <td>DD2 5NH</td>\n",
       "    </tr>\n",
       "    <tr>\n",
       "      <th>1</th>\n",
       "      <td>10017</td>\n",
       "      <td>PH7 3SA</td>\n",
       "    </tr>\n",
       "    <tr>\n",
       "      <th>2</th>\n",
       "      <td>10036</td>\n",
       "      <td>PH15 2BL</td>\n",
       "    </tr>\n",
       "  </tbody>\n",
       "</table>\n",
       "</div>"
      ],
      "text/plain": [
       "   GPPractice  Postcode\n",
       "0       10002   DD2 5NH\n",
       "1       10017   PH7 3SA\n",
       "2       10036  PH15 2BL"
      ]
     },
     "execution_count": 90,
     "metadata": {},
     "output_type": "execute_result"
    }
   ],
   "source": [
    "gp_data.head(3)"
   ]
  },
  {
   "cell_type": "code",
   "execution_count": 91,
   "id": "a4cd3ae4",
   "metadata": {},
   "outputs": [
    {
     "data": {
      "text/plain": [
       "(3663, 2)"
      ]
     },
     "execution_count": 91,
     "metadata": {},
     "output_type": "execute_result"
    }
   ],
   "source": [
    "gp_data.shape"
   ]
  },
  {
   "cell_type": "code",
   "execution_count": 92,
   "id": "2aacef6d",
   "metadata": {},
   "outputs": [
    {
     "data": {
      "text/plain": [
       "(945, 2)"
      ]
     },
     "execution_count": 92,
     "metadata": {},
     "output_type": "execute_result"
    }
   ],
   "source": [
    "# drop duplicates as contact details will be repeated across quarters\n",
    "gp_data.drop_duplicates(inplace = True)\n",
    "gp_data.shape"
   ]
  },
  {
   "cell_type": "code",
   "execution_count": 93,
   "id": "a8bebe3f",
   "metadata": {},
   "outputs": [],
   "source": [
    "# Join gp data to prescription data\n",
    "data = data.merge(gp_data, how = 'left', on = ['GPPractice'])"
   ]
  },
  {
   "cell_type": "code",
   "execution_count": 94,
   "id": "323df1f9",
   "metadata": {
    "scrolled": true
   },
   "outputs": [
    {
     "data": {
      "text/html": [
       "<div>\n",
       "<style scoped>\n",
       "    .dataframe tbody tr th:only-of-type {\n",
       "        vertical-align: middle;\n",
       "    }\n",
       "\n",
       "    .dataframe tbody tr th {\n",
       "        vertical-align: top;\n",
       "    }\n",
       "\n",
       "    .dataframe thead th {\n",
       "        text-align: right;\n",
       "    }\n",
       "</style>\n",
       "<table border=\"1\" class=\"dataframe\">\n",
       "  <thead>\n",
       "    <tr style=\"text-align: right;\">\n",
       "      <th></th>\n",
       "      <th>GPPractice</th>\n",
       "      <th>BNFItemDescription</th>\n",
       "      <th>NumberOfPaidItems</th>\n",
       "      <th>depression</th>\n",
       "      <th>alzheimers</th>\n",
       "      <th>blood pressure</th>\n",
       "      <th>hypertension</th>\n",
       "      <th>diabeties</th>\n",
       "      <th>cardiovascular disease</th>\n",
       "      <th>insomnia</th>\n",
       "      <th>addiction</th>\n",
       "      <th>social anxiety</th>\n",
       "      <th>loneliness</th>\n",
       "      <th>Postcode</th>\n",
       "    </tr>\n",
       "  </thead>\n",
       "  <tbody>\n",
       "    <tr>\n",
       "      <th>0</th>\n",
       "      <td>10002</td>\n",
       "      <td>MAALOX_ORAL SUSP 175MG/200MG/5MLGAVISCON_LIQ O...</td>\n",
       "      <td>9510</td>\n",
       "      <td>594</td>\n",
       "      <td>20</td>\n",
       "      <td>700</td>\n",
       "      <td>704</td>\n",
       "      <td>107</td>\n",
       "      <td>485</td>\n",
       "      <td>41</td>\n",
       "      <td>0</td>\n",
       "      <td>3</td>\n",
       "      <td>1951</td>\n",
       "      <td>DD2 5NH</td>\n",
       "    </tr>\n",
       "    <tr>\n",
       "      <th>1</th>\n",
       "      <td>10017</td>\n",
       "      <td>MAALOX_ORAL SUSP 175MG/200MG/5MLGAVISCON INFAN...</td>\n",
       "      <td>8734</td>\n",
       "      <td>550</td>\n",
       "      <td>35</td>\n",
       "      <td>658</td>\n",
       "      <td>664</td>\n",
       "      <td>89</td>\n",
       "      <td>420</td>\n",
       "      <td>56</td>\n",
       "      <td>0</td>\n",
       "      <td>5</td>\n",
       "      <td>1814</td>\n",
       "      <td>PH7 3SA</td>\n",
       "    </tr>\n",
       "  </tbody>\n",
       "</table>\n",
       "</div>"
      ],
      "text/plain": [
       "   GPPractice                                 BNFItemDescription  \\\n",
       "0       10002  MAALOX_ORAL SUSP 175MG/200MG/5MLGAVISCON_LIQ O...   \n",
       "1       10017  MAALOX_ORAL SUSP 175MG/200MG/5MLGAVISCON INFAN...   \n",
       "\n",
       "   NumberOfPaidItems  depression  alzheimers  blood pressure  hypertension  \\\n",
       "0               9510         594          20             700           704   \n",
       "1               8734         550          35             658           664   \n",
       "\n",
       "   diabeties  cardiovascular disease  insomnia  addiction  social anxiety  \\\n",
       "0        107                     485        41          0               3   \n",
       "1         89                     420        56          0               5   \n",
       "\n",
       "   loneliness Postcode  \n",
       "0        1951  DD2 5NH  \n",
       "1        1814  PH7 3SA  "
      ]
     },
     "execution_count": 94,
     "metadata": {},
     "output_type": "execute_result"
    }
   ],
   "source": [
    "data.head(2)"
   ]
  },
  {
   "cell_type": "code",
   "execution_count": 95,
   "id": "91bb2dbb",
   "metadata": {},
   "outputs": [],
   "source": [
    "print(data.shape)\n",
    "data.drop_duplicates(inplace = True)\n",
    "print(data.shape)"
   ]
  },
  {
   "cell_type": "code",
   "execution_count": 97,
   "id": "0ffb2f1c",
   "metadata": {},
   "outputs": [],
   "source": [
    "data['pcstrip'] = data['Postcode'].str.replace(\"\\s\",\"\").str.replace(\" \",\"\")"
   ]
  },
  {
   "cell_type": "code",
   "execution_count": 98,
   "id": "f08196ac",
   "metadata": {},
   "outputs": [
    {
     "data": {
      "text/plain": [
       "pcstrip\n",
       "False    11265\n",
       "True      2027\n",
       "Name: count, dtype: int64"
      ]
     },
     "execution_count": 98,
     "metadata": {},
     "output_type": "execute_result"
    }
   ],
   "source": [
    "# Check all GPs have postcode\n",
    "data.pcstrip.isna().value_counts()"
   ]
  },
  {
   "cell_type": "code",
   "execution_count": 99,
   "id": "7007613c",
   "metadata": {},
   "outputs": [
    {
     "name": "stdout",
     "output_type": "stream",
     "text": [
      " 17.993786063027077% of GPs don't have postcodes. Nothing we can do about it, have to drop\n"
     ]
    }
   ],
   "source": [
    "print(f\" {2027/11265*100}% of GPs don't have postcodes. Nothing we can do about it, have to drop those GPs.\")"
   ]
  },
  {
   "cell_type": "code",
   "execution_count": 102,
   "id": "b5d5dbb1",
   "metadata": {},
   "outputs": [],
   "source": [
    "data = data.dropna(subset = ['pcstrip'])"
   ]
  },
  {
   "cell_type": "code",
   "execution_count": 104,
   "id": "19482b0f",
   "metadata": {},
   "outputs": [
    {
     "data": {
      "text/plain": [
       "(11265, 15)"
      ]
     },
     "execution_count": 104,
     "metadata": {},
     "output_type": "execute_result"
    }
   ],
   "source": [
    "data.shape"
   ]
  },
  {
   "cell_type": "code",
   "execution_count": 105,
   "id": "2373a22b",
   "metadata": {},
   "outputs": [],
   "source": [
    "# Sum values by postcode to get total prescriptions across the year\n",
    "data = data.groupby([\"pcstrip\"], as_index=False).sum()"
   ]
  },
  {
   "cell_type": "code",
   "execution_count": 108,
   "id": "6ab4545c",
   "metadata": {},
   "outputs": [
    {
     "data": {
      "text/plain": [
       "(739, 15)"
      ]
     },
     "execution_count": 108,
     "metadata": {},
     "output_type": "execute_result"
    }
   ],
   "source": [
    "data.shape"
   ]
  },
  {
   "cell_type": "code",
   "execution_count": 106,
   "id": "fd2140a4",
   "metadata": {},
   "outputs": [
    {
     "data": {
      "text/plain": [
       "2"
      ]
     },
     "execution_count": 106,
     "metadata": {},
     "output_type": "execute_result"
    }
   ],
   "source": [
    "# Check for 1 postcode per Practice Code\n",
    "pc_prac_counts = data.groupby('GPPractice')['pcstrip'].unique().map(len)\n",
    "pc_prac_counts[pc_prac_counts > 1].count()"
   ]
  },
  {
   "cell_type": "code",
   "execution_count": 107,
   "id": "44bb98b8",
   "metadata": {
    "scrolled": true
   },
   "outputs": [
    {
     "data": {
      "text/plain": [
       "pcstrip\n",
       "2    2\n",
       "Name: count, dtype: int64"
      ]
     },
     "execution_count": 107,
     "metadata": {},
     "output_type": "execute_result"
    }
   ],
   "source": [
    "pc_prac_counts[pc_prac_counts > 1].value_counts()"
   ]
  },
  {
   "cell_type": "markdown",
   "id": "60f30614",
   "metadata": {},
   "source": [
    "Some Practice Codes have more than one postcode associated with them. Possible reasons for this are:\n",
    "* Practices move to a new location.\n",
    "* Practices are assigned a new postcode but don't physically move.\n",
    "* Practice postcodes are wrongly entered at a particular wave and subsequently fixed.\n",
    "\n",
    "There are 2 practices codes which have more than 1 postcode assigned to them, this is about 1.3% of unique practices.\n",
    "\n",
    "All 2 practices have 2 postcodes associated with them.\n",
    "\n",
    "We'll ignore this for now - this will require some more advanced cleaning - useful to be aware of though."
   ]
  },
  {
   "cell_type": "code",
   "execution_count": 109,
   "id": "736988d9",
   "metadata": {},
   "outputs": [],
   "source": [
    "# Save aggregated data\n",
    "data.to_csv(path + \"processed_data_with_postcode.csv\")"
   ]
  },
  {
   "cell_type": "markdown",
   "id": "02a4875d",
   "metadata": {},
   "source": [
    "# Generate Statistics from Prescribing Counts\n",
    "\n",
    "- Compute percentages per condition as total of all drugs prescribed per postcode\n",
    "- Compute z-score per condition across postcodes\n",
    "- Add z-scores of all conditions together to compute a loneliness score per postcode\n",
    "- The loneliness variable is an equally weighted index of the conditions.\n"
   ]
  },
  {
   "cell_type": "code",
   "execution_count": 110,
   "id": "ba309225",
   "metadata": {},
   "outputs": [],
   "source": [
    "data = pd.read_csv(path + \"processed_data_with_postcode.csv\", index_col=0)"
   ]
  },
  {
   "cell_type": "code",
   "execution_count": 114,
   "id": "f74607db",
   "metadata": {},
   "outputs": [
    {
     "data": {
      "text/html": [
       "<div>\n",
       "<style scoped>\n",
       "    .dataframe tbody tr th:only-of-type {\n",
       "        vertical-align: middle;\n",
       "    }\n",
       "\n",
       "    .dataframe tbody tr th {\n",
       "        vertical-align: top;\n",
       "    }\n",
       "\n",
       "    .dataframe thead th {\n",
       "        text-align: right;\n",
       "    }\n",
       "</style>\n",
       "<table border=\"1\" class=\"dataframe\">\n",
       "  <thead>\n",
       "    <tr style=\"text-align: right;\">\n",
       "      <th></th>\n",
       "      <th>pcstrip</th>\n",
       "      <th>NumberOfPaidItems</th>\n",
       "      <th>depression</th>\n",
       "      <th>alzheimers</th>\n",
       "      <th>blood pressure</th>\n",
       "      <th>hypertension</th>\n",
       "      <th>diabeties</th>\n",
       "      <th>cardiovascular disease</th>\n",
       "      <th>insomnia</th>\n",
       "      <th>addiction</th>\n",
       "      <th>social anxiety</th>\n",
       "      <th>loneliness</th>\n",
       "    </tr>\n",
       "  </thead>\n",
       "  <tbody>\n",
       "    <tr>\n",
       "      <th>0</th>\n",
       "      <td>AB101NW</td>\n",
       "      <td>123460</td>\n",
       "      <td>9241</td>\n",
       "      <td>213</td>\n",
       "      <td>7959</td>\n",
       "      <td>8085</td>\n",
       "      <td>1287</td>\n",
       "      <td>5006</td>\n",
       "      <td>714</td>\n",
       "      <td>108</td>\n",
       "      <td>150</td>\n",
       "      <td>24654</td>\n",
       "    </tr>\n",
       "    <tr>\n",
       "      <th>1</th>\n",
       "      <td>AB101QB</td>\n",
       "      <td>125712</td>\n",
       "      <td>8686</td>\n",
       "      <td>229</td>\n",
       "      <td>10289</td>\n",
       "      <td>10409</td>\n",
       "      <td>1427</td>\n",
       "      <td>6904</td>\n",
       "      <td>828</td>\n",
       "      <td>291</td>\n",
       "      <td>794</td>\n",
       "      <td>28774</td>\n",
       "    </tr>\n",
       "  </tbody>\n",
       "</table>\n",
       "</div>"
      ],
      "text/plain": [
       "   pcstrip  NumberOfPaidItems  depression  alzheimers  blood pressure  \\\n",
       "0  AB101NW             123460        9241         213            7959   \n",
       "1  AB101QB             125712        8686         229           10289   \n",
       "\n",
       "   hypertension  diabeties  cardiovascular disease  insomnia  addiction  \\\n",
       "0          8085       1287                    5006       714        108   \n",
       "1         10409       1427                    6904       828        291   \n",
       "\n",
       "   social anxiety  loneliness  \n",
       "0             150       24654  \n",
       "1             794       28774  "
      ]
     },
     "execution_count": 114,
     "metadata": {},
     "output_type": "execute_result"
    }
   ],
   "source": [
    "data.head(2)"
   ]
  },
  {
   "cell_type": "code",
   "execution_count": 113,
   "id": "b2812903",
   "metadata": {},
   "outputs": [
    {
     "data": {
      "text/html": [
       "<div>\n",
       "<style scoped>\n",
       "    .dataframe tbody tr th:only-of-type {\n",
       "        vertical-align: middle;\n",
       "    }\n",
       "\n",
       "    .dataframe tbody tr th {\n",
       "        vertical-align: top;\n",
       "    }\n",
       "\n",
       "    .dataframe thead th {\n",
       "        text-align: right;\n",
       "    }\n",
       "</style>\n",
       "<table border=\"1\" class=\"dataframe\">\n",
       "  <thead>\n",
       "    <tr style=\"text-align: right;\">\n",
       "      <th></th>\n",
       "      <th>pcstrip</th>\n",
       "      <th>NumberOfPaidItems</th>\n",
       "      <th>depression</th>\n",
       "      <th>alzheimers</th>\n",
       "      <th>blood pressure</th>\n",
       "      <th>hypertension</th>\n",
       "      <th>diabeties</th>\n",
       "      <th>cardiovascular disease</th>\n",
       "      <th>insomnia</th>\n",
       "      <th>addiction</th>\n",
       "      <th>social anxiety</th>\n",
       "      <th>loneliness</th>\n",
       "    </tr>\n",
       "  </thead>\n",
       "  <tbody>\n",
       "    <tr>\n",
       "      <th>0</th>\n",
       "      <td>AB101NW</td>\n",
       "      <td>123460</td>\n",
       "      <td>9241</td>\n",
       "      <td>213</td>\n",
       "      <td>7959</td>\n",
       "      <td>8085</td>\n",
       "      <td>1287</td>\n",
       "      <td>5006</td>\n",
       "      <td>714</td>\n",
       "      <td>108</td>\n",
       "      <td>150</td>\n",
       "      <td>24654</td>\n",
       "    </tr>\n",
       "    <tr>\n",
       "      <th>1</th>\n",
       "      <td>AB101QB</td>\n",
       "      <td>125712</td>\n",
       "      <td>8686</td>\n",
       "      <td>229</td>\n",
       "      <td>10289</td>\n",
       "      <td>10409</td>\n",
       "      <td>1427</td>\n",
       "      <td>6904</td>\n",
       "      <td>828</td>\n",
       "      <td>291</td>\n",
       "      <td>794</td>\n",
       "      <td>28774</td>\n",
       "    </tr>\n",
       "    <tr>\n",
       "      <th>2</th>\n",
       "      <td>AB101UT</td>\n",
       "      <td>19341</td>\n",
       "      <td>1359</td>\n",
       "      <td>24</td>\n",
       "      <td>1539</td>\n",
       "      <td>1561</td>\n",
       "      <td>218</td>\n",
       "      <td>1108</td>\n",
       "      <td>149</td>\n",
       "      <td>141</td>\n",
       "      <td>23</td>\n",
       "      <td>4560</td>\n",
       "    </tr>\n",
       "    <tr>\n",
       "      <th>3</th>\n",
       "      <td>AB101YE</td>\n",
       "      <td>160982</td>\n",
       "      <td>12430</td>\n",
       "      <td>381</td>\n",
       "      <td>9673</td>\n",
       "      <td>9784</td>\n",
       "      <td>2169</td>\n",
       "      <td>7062</td>\n",
       "      <td>1412</td>\n",
       "      <td>531</td>\n",
       "      <td>230</td>\n",
       "      <td>33769</td>\n",
       "    </tr>\n",
       "    <tr>\n",
       "      <th>4</th>\n",
       "      <td>AB107QQ</td>\n",
       "      <td>139581</td>\n",
       "      <td>10263</td>\n",
       "      <td>244</td>\n",
       "      <td>8259</td>\n",
       "      <td>8386</td>\n",
       "      <td>1556</td>\n",
       "      <td>6288</td>\n",
       "      <td>919</td>\n",
       "      <td>435</td>\n",
       "      <td>146</td>\n",
       "      <td>28091</td>\n",
       "    </tr>\n",
       "    <tr>\n",
       "      <th>...</th>\n",
       "      <td>...</td>\n",
       "      <td>...</td>\n",
       "      <td>...</td>\n",
       "      <td>...</td>\n",
       "      <td>...</td>\n",
       "      <td>...</td>\n",
       "      <td>...</td>\n",
       "      <td>...</td>\n",
       "      <td>...</td>\n",
       "      <td>...</td>\n",
       "      <td>...</td>\n",
       "      <td>...</td>\n",
       "    </tr>\n",
       "    <tr>\n",
       "      <th>734</th>\n",
       "      <td>ZE29DY</td>\n",
       "      <td>18236</td>\n",
       "      <td>1227</td>\n",
       "      <td>38</td>\n",
       "      <td>2134</td>\n",
       "      <td>2172</td>\n",
       "      <td>236</td>\n",
       "      <td>1265</td>\n",
       "      <td>25</td>\n",
       "      <td>0</td>\n",
       "      <td>0</td>\n",
       "      <td>4963</td>\n",
       "    </tr>\n",
       "    <tr>\n",
       "      <th>735</th>\n",
       "      <td>ZE29HX</td>\n",
       "      <td>72737</td>\n",
       "      <td>4885</td>\n",
       "      <td>129</td>\n",
       "      <td>6474</td>\n",
       "      <td>6538</td>\n",
       "      <td>1037</td>\n",
       "      <td>5783</td>\n",
       "      <td>133</td>\n",
       "      <td>0</td>\n",
       "      <td>35</td>\n",
       "      <td>18505</td>\n",
       "    </tr>\n",
       "    <tr>\n",
       "      <th>736</th>\n",
       "      <td>ZE29NA</td>\n",
       "      <td>39351</td>\n",
       "      <td>1955</td>\n",
       "      <td>69</td>\n",
       "      <td>5138</td>\n",
       "      <td>5155</td>\n",
       "      <td>599</td>\n",
       "      <td>2818</td>\n",
       "      <td>19</td>\n",
       "      <td>0</td>\n",
       "      <td>10</td>\n",
       "      <td>10615</td>\n",
       "    </tr>\n",
       "    <tr>\n",
       "      <th>737</th>\n",
       "      <td>ZE29QJ</td>\n",
       "      <td>57995</td>\n",
       "      <td>3769</td>\n",
       "      <td>67</td>\n",
       "      <td>7461</td>\n",
       "      <td>7497</td>\n",
       "      <td>919</td>\n",
       "      <td>3539</td>\n",
       "      <td>194</td>\n",
       "      <td>0</td>\n",
       "      <td>91</td>\n",
       "      <td>15985</td>\n",
       "    </tr>\n",
       "    <tr>\n",
       "      <th>738</th>\n",
       "      <td>ZE29RW</td>\n",
       "      <td>24427</td>\n",
       "      <td>1535</td>\n",
       "      <td>30</td>\n",
       "      <td>2310</td>\n",
       "      <td>2314</td>\n",
       "      <td>467</td>\n",
       "      <td>1413</td>\n",
       "      <td>5</td>\n",
       "      <td>0</td>\n",
       "      <td>0</td>\n",
       "      <td>5764</td>\n",
       "    </tr>\n",
       "  </tbody>\n",
       "</table>\n",
       "<p>739 rows × 12 columns</p>\n",
       "</div>"
      ],
      "text/plain": [
       "     pcstrip  NumberOfPaidItems  depression  alzheimers  blood pressure  \\\n",
       "0    AB101NW             123460        9241         213            7959   \n",
       "1    AB101QB             125712        8686         229           10289   \n",
       "2    AB101UT              19341        1359          24            1539   \n",
       "3    AB101YE             160982       12430         381            9673   \n",
       "4    AB107QQ             139581       10263         244            8259   \n",
       "..       ...                ...         ...         ...             ...   \n",
       "734   ZE29DY              18236        1227          38            2134   \n",
       "735   ZE29HX              72737        4885         129            6474   \n",
       "736   ZE29NA              39351        1955          69            5138   \n",
       "737   ZE29QJ              57995        3769          67            7461   \n",
       "738   ZE29RW              24427        1535          30            2310   \n",
       "\n",
       "     hypertension  diabeties  cardiovascular disease  insomnia  addiction  \\\n",
       "0            8085       1287                    5006       714        108   \n",
       "1           10409       1427                    6904       828        291   \n",
       "2            1561        218                    1108       149        141   \n",
       "3            9784       2169                    7062      1412        531   \n",
       "4            8386       1556                    6288       919        435   \n",
       "..            ...        ...                     ...       ...        ...   \n",
       "734          2172        236                    1265        25          0   \n",
       "735          6538       1037                    5783       133          0   \n",
       "736          5155        599                    2818        19          0   \n",
       "737          7497        919                    3539       194          0   \n",
       "738          2314        467                    1413         5          0   \n",
       "\n",
       "     social anxiety  loneliness  \n",
       "0               150       24654  \n",
       "1               794       28774  \n",
       "2                23        4560  \n",
       "3               230       33769  \n",
       "4               146       28091  \n",
       "..              ...         ...  \n",
       "734               0        4963  \n",
       "735              35       18505  \n",
       "736              10       10615  \n",
       "737              91       15985  \n",
       "738               0        5764  \n",
       "\n",
       "[739 rows x 12 columns]"
      ]
     },
     "execution_count": 113,
     "metadata": {},
     "output_type": "execute_result"
    }
   ],
   "source": [
    "data = data.drop(columns = ['Postcode','GPPractice', 'BNFItemDescription'])\n",
    "data.head(2)"
   ]
  },
  {
   "cell_type": "code",
   "execution_count": 116,
   "id": "7886ea0d",
   "metadata": {},
   "outputs": [
    {
     "data": {
      "text/plain": [
       "True"
      ]
     },
     "execution_count": 116,
     "metadata": {},
     "output_type": "execute_result"
    }
   ],
   "source": [
    "data.pcstrip.nunique() == len(data)"
   ]
  },
  {
   "cell_type": "code",
   "execution_count": 117,
   "id": "677c46d0",
   "metadata": {},
   "outputs": [],
   "source": [
    "# Generate percentages\n",
    "perc_cols = drug_data['illness'].unique()\n",
    "target_cols = perc_cols + '_perc'\n",
    "\n",
    "# Percentages for discrete illness groups out of total drugs prescribed\n",
    "data[target_cols] = data[perc_cols].divide(data[col_items], axis=0) * 100\n"
   ]
  },
  {
   "cell_type": "code",
   "execution_count": 118,
   "id": "0692ae85",
   "metadata": {
    "scrolled": true
   },
   "outputs": [
    {
     "data": {
      "text/html": [
       "<div>\n",
       "<style scoped>\n",
       "    .dataframe tbody tr th:only-of-type {\n",
       "        vertical-align: middle;\n",
       "    }\n",
       "\n",
       "    .dataframe tbody tr th {\n",
       "        vertical-align: top;\n",
       "    }\n",
       "\n",
       "    .dataframe thead th {\n",
       "        text-align: right;\n",
       "    }\n",
       "</style>\n",
       "<table border=\"1\" class=\"dataframe\">\n",
       "  <thead>\n",
       "    <tr style=\"text-align: right;\">\n",
       "      <th></th>\n",
       "      <th>pcstrip</th>\n",
       "      <th>NumberOfPaidItems</th>\n",
       "      <th>depression</th>\n",
       "      <th>alzheimers</th>\n",
       "      <th>blood pressure</th>\n",
       "      <th>hypertension</th>\n",
       "      <th>diabeties</th>\n",
       "      <th>cardiovascular disease</th>\n",
       "      <th>insomnia</th>\n",
       "      <th>addiction</th>\n",
       "      <th>...</th>\n",
       "      <th>loneliness</th>\n",
       "      <th>depression_perc</th>\n",
       "      <th>alzheimers_perc</th>\n",
       "      <th>blood pressure_perc</th>\n",
       "      <th>hypertension_perc</th>\n",
       "      <th>diabeties_perc</th>\n",
       "      <th>cardiovascular disease_perc</th>\n",
       "      <th>insomnia_perc</th>\n",
       "      <th>addiction_perc</th>\n",
       "      <th>social anxiety_perc</th>\n",
       "    </tr>\n",
       "  </thead>\n",
       "  <tbody>\n",
       "    <tr>\n",
       "      <th>0</th>\n",
       "      <td>AB101NW</td>\n",
       "      <td>123460</td>\n",
       "      <td>9241</td>\n",
       "      <td>213</td>\n",
       "      <td>7959</td>\n",
       "      <td>8085</td>\n",
       "      <td>1287</td>\n",
       "      <td>5006</td>\n",
       "      <td>714</td>\n",
       "      <td>108</td>\n",
       "      <td>...</td>\n",
       "      <td>24654</td>\n",
       "      <td>7.485015</td>\n",
       "      <td>0.172526</td>\n",
       "      <td>6.446622</td>\n",
       "      <td>6.548680</td>\n",
       "      <td>1.042443</td>\n",
       "      <td>4.054755</td>\n",
       "      <td>0.578325</td>\n",
       "      <td>0.087478</td>\n",
       "      <td>0.121497</td>\n",
       "    </tr>\n",
       "    <tr>\n",
       "      <th>1</th>\n",
       "      <td>AB101QB</td>\n",
       "      <td>125712</td>\n",
       "      <td>8686</td>\n",
       "      <td>229</td>\n",
       "      <td>10289</td>\n",
       "      <td>10409</td>\n",
       "      <td>1427</td>\n",
       "      <td>6904</td>\n",
       "      <td>828</td>\n",
       "      <td>291</td>\n",
       "      <td>...</td>\n",
       "      <td>28774</td>\n",
       "      <td>6.909444</td>\n",
       "      <td>0.182162</td>\n",
       "      <td>8.184581</td>\n",
       "      <td>8.280037</td>\n",
       "      <td>1.135134</td>\n",
       "      <td>5.491918</td>\n",
       "      <td>0.658648</td>\n",
       "      <td>0.231481</td>\n",
       "      <td>0.631602</td>\n",
       "    </tr>\n",
       "    <tr>\n",
       "      <th>2</th>\n",
       "      <td>AB101UT</td>\n",
       "      <td>19341</td>\n",
       "      <td>1359</td>\n",
       "      <td>24</td>\n",
       "      <td>1539</td>\n",
       "      <td>1561</td>\n",
       "      <td>218</td>\n",
       "      <td>1108</td>\n",
       "      <td>149</td>\n",
       "      <td>141</td>\n",
       "      <td>...</td>\n",
       "      <td>4560</td>\n",
       "      <td>7.026524</td>\n",
       "      <td>0.124089</td>\n",
       "      <td>7.957189</td>\n",
       "      <td>8.070937</td>\n",
       "      <td>1.127139</td>\n",
       "      <td>5.728763</td>\n",
       "      <td>0.770384</td>\n",
       "      <td>0.729021</td>\n",
       "      <td>0.118918</td>\n",
       "    </tr>\n",
       "  </tbody>\n",
       "</table>\n",
       "<p>3 rows × 21 columns</p>\n",
       "</div>"
      ],
      "text/plain": [
       "   pcstrip  NumberOfPaidItems  depression  alzheimers  blood pressure  \\\n",
       "0  AB101NW             123460        9241         213            7959   \n",
       "1  AB101QB             125712        8686         229           10289   \n",
       "2  AB101UT              19341        1359          24            1539   \n",
       "\n",
       "   hypertension  diabeties  cardiovascular disease  insomnia  addiction  ...  \\\n",
       "0          8085       1287                    5006       714        108  ...   \n",
       "1         10409       1427                    6904       828        291  ...   \n",
       "2          1561        218                    1108       149        141  ...   \n",
       "\n",
       "   loneliness  depression_perc  alzheimers_perc  blood pressure_perc  \\\n",
       "0       24654         7.485015         0.172526             6.446622   \n",
       "1       28774         6.909444         0.182162             8.184581   \n",
       "2        4560         7.026524         0.124089             7.957189   \n",
       "\n",
       "   hypertension_perc  diabeties_perc  cardiovascular disease_perc  \\\n",
       "0           6.548680        1.042443                     4.054755   \n",
       "1           8.280037        1.135134                     5.491918   \n",
       "2           8.070937        1.127139                     5.728763   \n",
       "\n",
       "   insomnia_perc  addiction_perc  social anxiety_perc  \n",
       "0       0.578325        0.087478             0.121497  \n",
       "1       0.658648        0.231481             0.631602  \n",
       "2       0.770384        0.729021             0.118918  \n",
       "\n",
       "[3 rows x 21 columns]"
      ]
     },
     "execution_count": 118,
     "metadata": {},
     "output_type": "execute_result"
    }
   ],
   "source": [
    "data.head(3)"
   ]
  },
  {
   "cell_type": "markdown",
   "id": "3d1ec753",
   "metadata": {},
   "source": [
    "## Standardisation"
   ]
  },
  {
   "cell_type": "code",
   "execution_count": 119,
   "id": "4e6becf1",
   "metadata": {},
   "outputs": [],
   "source": [
    "# Calculate the z scores per illness\n",
    "\n",
    "# Make new column names.\n",
    "per_cols = ['depression_perc', 'alzheimers_perc', 'blood pressure_perc', 'hypertension_perc', \n",
    "            'diabeties_perc', 'cardiovascular disease_perc', 'insomnia_perc', 'addiction_perc',\n",
    "            'social anxiety_perc']\n",
    "\n",
    "# Calculate Z-scores for each column\n",
    "for i, col in enumerate(per_cols):\n",
    "    col_zscore = col[:-5] + 'zscore'  # New column name for Z-scores\n",
    "    data[col_zscore] = stats.zscore(data[col])\n"
   ]
  },
  {
   "cell_type": "code",
   "execution_count": 120,
   "id": "8ae34b36",
   "metadata": {},
   "outputs": [],
   "source": [
    "# Add conditions z scores for overall loneliness z score\n",
    "data['loneliness_zscore'] = data[[ 'depressionzscore', 'alzheimerszscore',\n",
    "       'blood pressurezscore', 'hypertensionzscore', 'diabetieszscore',\n",
    "       'cardiovascular diseasezscore', 'insomniazscore', 'addictionzscore',\n",
    "       'social anxietyzscore']].sum(axis=1)"
   ]
  },
  {
   "cell_type": "code",
   "execution_count": 123,
   "id": "16128f6d",
   "metadata": {
    "scrolled": true
   },
   "outputs": [
    {
     "data": {
      "image/png": "[encoded data removed]",
      "text/plain": [
       "<Figure size 500x200 with 1 Axes>"
      ]
     },
     "metadata": {},
     "output_type": "display_data"
    }
   ],
   "source": [
    "data.loneliness_zscore.hist(bins=100, figsize = (5,2));"
   ]
  },
  {
   "cell_type": "code",
   "execution_count": 124,
   "id": "aa1249b4",
   "metadata": {},
   "outputs": [],
   "source": [
    "data.rename(columns={'pcstrip':'postcode'}, inplace = True)"
   ]
  },
  {
   "cell_type": "code",
   "execution_count": 125,
   "id": "3ca2c068",
   "metadata": {},
   "outputs": [],
   "source": [
    "data = data[['postcode','loneliness_zscore']]"
   ]
  },
  {
   "cell_type": "code",
   "execution_count": 126,
   "id": "ec508113",
   "metadata": {},
   "outputs": [
    {
     "data": {
      "text/html": [
       "<div>\n",
       "<style scoped>\n",
       "    .dataframe tbody tr th:only-of-type {\n",
       "        vertical-align: middle;\n",
       "    }\n",
       "\n",
       "    .dataframe tbody tr th {\n",
       "        vertical-align: top;\n",
       "    }\n",
       "\n",
       "    .dataframe thead th {\n",
       "        text-align: right;\n",
       "    }\n",
       "</style>\n",
       "<table border=\"1\" class=\"dataframe\">\n",
       "  <thead>\n",
       "    <tr style=\"text-align: right;\">\n",
       "      <th></th>\n",
       "      <th>postcode</th>\n",
       "      <th>loneliness_zscore</th>\n",
       "    </tr>\n",
       "  </thead>\n",
       "  <tbody>\n",
       "    <tr>\n",
       "      <th>0</th>\n",
       "      <td>AB101NW</td>\n",
       "      <td>-1.979632</td>\n",
       "    </tr>\n",
       "    <tr>\n",
       "      <th>1</th>\n",
       "      <td>AB101QB</td>\n",
       "      <td>7.784077</td>\n",
       "    </tr>\n",
       "    <tr>\n",
       "      <th>2</th>\n",
       "      <td>AB101UT</td>\n",
       "      <td>2.910320</td>\n",
       "    </tr>\n",
       "    <tr>\n",
       "      <th>3</th>\n",
       "      <td>AB101YE</td>\n",
       "      <td>1.199900</td>\n",
       "    </tr>\n",
       "    <tr>\n",
       "      <th>4</th>\n",
       "      <td>AB107QQ</td>\n",
       "      <td>-1.607957</td>\n",
       "    </tr>\n",
       "    <tr>\n",
       "      <th>...</th>\n",
       "      <td>...</td>\n",
       "      <td>...</td>\n",
       "    </tr>\n",
       "    <tr>\n",
       "      <th>734</th>\n",
       "      <td>ZE29DY</td>\n",
       "      <td>5.640572</td>\n",
       "    </tr>\n",
       "    <tr>\n",
       "      <th>735</th>\n",
       "      <td>ZE29HX</td>\n",
       "      <td>3.841375</td>\n",
       "    </tr>\n",
       "    <tr>\n",
       "      <th>736</th>\n",
       "      <td>ZE29NA</td>\n",
       "      <td>6.569690</td>\n",
       "    </tr>\n",
       "    <tr>\n",
       "      <th>737</th>\n",
       "      <td>ZE29QJ</td>\n",
       "      <td>8.485446</td>\n",
       "    </tr>\n",
       "    <tr>\n",
       "      <th>738</th>\n",
       "      <td>ZE29RW</td>\n",
       "      <td>1.736861</td>\n",
       "    </tr>\n",
       "  </tbody>\n",
       "</table>\n",
       "<p>739 rows × 2 columns</p>\n",
       "</div>"
      ],
      "text/plain": [
       "    postcode  loneliness_zscore\n",
       "0    AB101NW          -1.979632\n",
       "1    AB101QB           7.784077\n",
       "2    AB101UT           2.910320\n",
       "3    AB101YE           1.199900\n",
       "4    AB107QQ          -1.607957\n",
       "..       ...                ...\n",
       "734   ZE29DY           5.640572\n",
       "735   ZE29HX           3.841375\n",
       "736   ZE29NA           6.569690\n",
       "737   ZE29QJ           8.485446\n",
       "738   ZE29RW           1.736861\n",
       "\n",
       "[739 rows x 2 columns]"
      ]
     },
     "execution_count": 126,
     "metadata": {},
     "output_type": "execute_result"
    }
   ],
   "source": [
    "data"
   ]
  },
  {
   "cell_type": "code",
   "execution_count": 128,
   "id": "e3a6b384",
   "metadata": {},
   "outputs": [],
   "source": [
    "# Save aggregated data\n",
    "data.to_csv(path + \"scotland_gp_2022.csv\", index = False)"
   ]
  }
 ],
 "metadata": {
  "kernelspec": {
   "display_name": "Python 3 (ipykernel)",
   "language": "python",
   "name": "python3"
  },
  "language_info": {
   "codemirror_mode": {
    "name": "ipython",
    "version": 3
   },
   "file_extension": ".py",
   "mimetype": "text/x-python",
   "name": "python",
   "nbconvert_exporter": "python",
   "pygments_lexer": "ipython3",
   "version": "3.9.6"
  }
 },
 "nbformat": 4,
 "nbformat_minor": 5
}
