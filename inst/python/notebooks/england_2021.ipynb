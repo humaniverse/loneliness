{
 "cells": [
  {
   "cell_type": "markdown",
   "id": "88780422",
   "metadata": {},
   "source": [
    "# England 2020-2021"
   ]
  },
  {
   "cell_type": "code",
   "execution_count": 123,
   "id": "a46d5426",
   "metadata": {},
   "outputs": [],
   "source": [
    "import pandas as pd\n",
    "import numpy as np\n",
    "\n",
    "# Note: requires installation of odfpy and feather-format\n"
   ]
  },
  {
   "cell_type": "markdown",
   "id": "a10d9a05",
   "metadata": {},
   "source": [
    "## Community Life Survey"
   ]
  },
  {
   "cell_type": "code",
   "execution_count": 124,
   "id": "d0346460",
   "metadata": {},
   "outputs": [],
   "source": [
    "# Read loneliness sheet of community life survey for 2020/21\n",
    "df = pd.read_excel(\"cls.ods\",  engine=\"odf\", sheet_name = \"A6\", skiprows = 26, nrows =1)"
   ]
  },
  {
   "cell_type": "code",
   "execution_count": 125,
   "id": "5ec9d189",
   "metadata": {},
   "outputs": [],
   "source": [
    "df.drop(columns=df.columns[:3], axis=1, inplace=True)"
   ]
  },
  {
   "cell_type": "code",
   "execution_count": 126,
   "id": "a75c143d",
   "metadata": {},
   "outputs": [],
   "source": [
    "df = (df.T).reset_index()\n",
    "df.rename(columns = {\"index\": \"oac_11\", 0: \"perc\" }, inplace = True)\n",
    "df.drop(index=df.index[-1],axis=0,inplace=True)"
   ]
  },
  {
   "cell_type": "code",
   "execution_count": 127,
   "id": "e4f7aa50",
   "metadata": {},
   "outputs": [],
   "source": [
    "df['oac_11'] = df.oac_11.str[-2:]"
   ]
  },
  {
   "cell_type": "code",
   "execution_count": 128,
   "id": "8d1a4941",
   "metadata": {},
   "outputs": [],
   "source": [
    "# Replace no value with 0\n",
    "df.loc[19, 'perc'] = 0"
   ]
  },
  {
   "cell_type": "code",
   "execution_count": 129,
   "id": "46a9f8da",
   "metadata": {},
   "outputs": [
    {
     "data": {
      "image/png": "[encoded data removed]",
      "text/plain": [
       "<Figure size 640x480 with 1 Axes>"
      ]
     },
     "metadata": {},
     "output_type": "display_data"
    }
   ],
   "source": [
    "df.perc.hist();"
   ]
  },
  {
   "cell_type": "markdown",
   "id": "325f5fd5",
   "metadata": {},
   "source": [
    "## Join OAC to OA"
   ]
  },
  {
   "cell_type": "code",
   "execution_count": 130,
   "id": "ad3c609e",
   "metadata": {},
   "outputs": [],
   "source": [
    "# Read csv to join OAC to OA\n",
    "oa = pd.read_csv(\"oac_lookup.csv\")\n",
    "oa = oa[[\"Output Area Code\", \"Group Code\"]]\n",
    "oa.rename(columns = {\"Group Code\": \"oac_11\", \"Output Area Code\":\"oa11_code\"}, inplace = True )"
   ]
  },
  {
   "cell_type": "code",
   "execution_count": 131,
   "id": "68ecd80e",
   "metadata": {
    "scrolled": true
   },
   "outputs": [],
   "source": [
    "# Join to loneliness perc\n",
    "df_oa = oa.merge(df, on = 'oac_11', how = 'left')"
   ]
  },
  {
   "cell_type": "code",
   "execution_count": 132,
   "id": "a354bca9",
   "metadata": {},
   "outputs": [
    {
     "data": {
      "text/plain": [
       "True"
      ]
     },
     "execution_count": 132,
     "metadata": {},
     "output_type": "execute_result"
    }
   ],
   "source": [
    "oa.oa11_code.nunique() == df_oa.oa11_code.nunique()"
   ]
  },
  {
   "cell_type": "markdown",
   "id": "b05fd276",
   "metadata": {},
   "source": [
    "## Join OA11 to LSOA 11"
   ]
  },
  {
   "cell_type": "code",
   "execution_count": 133,
   "id": "a6040fd6",
   "metadata": {},
   "outputs": [],
   "source": [
    "# Read file from geographr to join OA 11 to LSOA 11\n",
    "lookup_11 = pd.read_feather(\"../../extdata/lookup_11.feather\")\n",
    "lookup_11 = lookup_11[['lsoa11_code','oa11_code']]\n",
    "df_lsoa11 = lookup_11.merge(df_oa, on = 'oa11_code', how = 'left')"
   ]
  },
  {
   "cell_type": "code",
   "execution_count": 134,
   "id": "d94735bc",
   "metadata": {},
   "outputs": [],
   "source": [
    "# Drop NAs as not all LSOAs in lookup_11 are in England\n",
    "df_lsoa11['perc'].dropna(inplace = True)"
   ]
  },
  {
   "cell_type": "code",
   "execution_count": 135,
   "id": "9c805e64",
   "metadata": {},
   "outputs": [],
   "source": [
    "# Get average of each LSOA\n",
    "df_lsoa11.perc = df_lsoa11.perc.astype(float)\n",
    "df_lsoa11 = df_lsoa11.groupby(['lsoa11_code'], as_index = False)['perc'].mean()"
   ]
  },
  {
   "cell_type": "code",
   "execution_count": 136,
   "id": "3e453c96",
   "metadata": {},
   "outputs": [
    {
     "data": {
      "text/plain": [
       "True"
      ]
     },
     "execution_count": 136,
     "metadata": {},
     "output_type": "execute_result"
    }
   ],
   "source": [
    "df_lsoa11.lsoa11_code.nunique() == lookup_11.lsoa11_code.nunique()"
   ]
  },
  {
   "cell_type": "markdown",
   "id": "650fed9a",
   "metadata": {},
   "source": [
    "## Join LSOA 11 to LSOA 21"
   ]
  },
  {
   "cell_type": "code",
   "execution_count": 139,
   "id": "750ed540",
   "metadata": {},
   "outputs": [],
   "source": [
    "# Read file from geographr to join lsoa 11 code to lsoa 21 code \n",
    "lookup_21 = pd.read_feather(\"../../extdata/lookup_21.feather\")\n",
    "lookup_21 = lookup_21[[\"lsoa11_code\", \"lsoa21_code\"]]\n",
    "loneliness = df_lsoa11.merge(lookup_21, on = \"lsoa11_code\", how = \"left\")"
   ]
  },
  {
   "cell_type": "code",
   "execution_count": 140,
   "id": "944d0689",
   "metadata": {},
   "outputs": [],
   "source": [
    "loneliness = loneliness[[\"lsoa21_code\", \"perc\"]]"
   ]
  },
  {
   "cell_type": "code",
   "execution_count": 142,
   "id": "8e9c589b",
   "metadata": {},
   "outputs": [],
   "source": [
    "loneliness = loneliness.groupby(\"lsoa21_code\", as_index = False).mean()"
   ]
  },
  {
   "cell_type": "code",
   "execution_count": 143,
   "id": "2f46d553",
   "metadata": {},
   "outputs": [
    {
     "name": "stdout",
     "output_type": "stream",
     "text": [
      "<class 'pandas.core.frame.DataFrame'>\n",
      "RangeIndex: 35672 entries, 0 to 35671\n",
      "Data columns (total 2 columns):\n",
      " #   Column       Non-Null Count  Dtype  \n",
      "---  ------       --------------  -----  \n",
      " 0   lsoa21_code  35672 non-null  object \n",
      " 1   perc         35672 non-null  float64\n",
      "dtypes: float64(1), object(1)\n",
      "memory usage: 557.5+ KB\n"
     ]
    }
   ],
   "source": [
    "loneliness.info()"
   ]
  },
  {
   "cell_type": "code",
   "execution_count": 144,
   "id": "3fce8589",
   "metadata": {},
   "outputs": [
    {
     "data": {
      "image/png": "[encoded data removed]",
      "text/plain": [
       "<Figure size 640x480 with 1 Axes>"
      ]
     },
     "metadata": {},
     "output_type": "display_data"
    }
   ],
   "source": [
    "loneliness.perc.hist(bins = 100);"
   ]
  },
  {
   "cell_type": "code",
   "execution_count": 145,
   "id": "f7059910",
   "metadata": {},
   "outputs": [
    {
     "data": {
      "text/plain": [
       "True"
      ]
     },
     "execution_count": 145,
     "metadata": {},
     "output_type": "execute_result"
    }
   ],
   "source": [
    "lookup_21['lsoa21_code'].nunique() == loneliness.lsoa21_code.nunique()"
   ]
  },
  {
   "cell_type": "code",
   "execution_count": 154,
   "id": "185c83d7",
   "metadata": {},
   "outputs": [
    {
     "data": {
      "text/html": [
       "<div>\n",
       "<style scoped>\n",
       "    .dataframe tbody tr th:only-of-type {\n",
       "        vertical-align: middle;\n",
       "    }\n",
       "\n",
       "    .dataframe tbody tr th {\n",
       "        vertical-align: top;\n",
       "    }\n",
       "\n",
       "    .dataframe thead th {\n",
       "        text-align: right;\n",
       "    }\n",
       "</style>\n",
       "<table border=\"1\" class=\"dataframe\">\n",
       "  <thead>\n",
       "    <tr style=\"text-align: right;\">\n",
       "      <th></th>\n",
       "      <th>lsoa21_code</th>\n",
       "      <th>perc</th>\n",
       "    </tr>\n",
       "  </thead>\n",
       "  <tbody>\n",
       "    <tr>\n",
       "      <th>7412</th>\n",
       "      <td>E01007788</td>\n",
       "      <td>21.545560</td>\n",
       "    </tr>\n",
       "    <tr>\n",
       "      <th>31086</th>\n",
       "      <td>E01032781</td>\n",
       "      <td>31.663336</td>\n",
       "    </tr>\n",
       "    <tr>\n",
       "      <th>31064</th>\n",
       "      <td>E01032745</td>\n",
       "      <td>30.471473</td>\n",
       "    </tr>\n",
       "    <tr>\n",
       "      <th>11314</th>\n",
       "      <td>E01011901</td>\n",
       "      <td>27.409672</td>\n",
       "    </tr>\n",
       "    <tr>\n",
       "      <th>15470</th>\n",
       "      <td>E01016289</td>\n",
       "      <td>19.570296</td>\n",
       "    </tr>\n",
       "  </tbody>\n",
       "</table>\n",
       "</div>"
      ],
      "text/plain": [
       "      lsoa21_code       perc\n",
       "7412    E01007788  21.545560\n",
       "31086   E01032781  31.663336\n",
       "31064   E01032745  30.471473\n",
       "11314   E01011901  27.409672\n",
       "15470   E01016289  19.570296"
      ]
     },
     "execution_count": 154,
     "metadata": {},
     "output_type": "execute_result"
    }
   ],
   "source": [
    "loneliness.sample(5)"
   ]
  },
  {
   "cell_type": "code",
   "execution_count": 155,
   "id": "11314341",
   "metadata": {},
   "outputs": [],
   "source": [
    "loneliness.to_csv(\"../../extdata/england_cls_2020_2021.csv\", index = False )"
   ]
  },
  {
   "cell_type": "code",
   "execution_count": null,
   "id": "36f7dbaa",
   "metadata": {},
   "outputs": [],
   "source": []
  }
 ],
 "metadata": {
  "kernelspec": {
   "display_name": "Python 3 (ipykernel)",
   "language": "python",
   "name": "python3"
  },
  "language_info": {
   "codemirror_mode": {
    "name": "ipython",
    "version": 3
   },
   "file_extension": ".py",
   "mimetype": "text/x-python",
   "name": "python",
   "nbconvert_exporter": "python",
   "pygments_lexer": "ipython3",
   "version": "3.9.6"
  }
 },
 "nbformat": 4,
 "nbformat_minor": 5
}
