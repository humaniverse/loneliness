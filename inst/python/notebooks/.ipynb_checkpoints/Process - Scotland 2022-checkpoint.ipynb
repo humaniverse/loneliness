{
 "cells": [
  {
   "cell_type": "markdown",
   "id": "3eadd414",
   "metadata": {},
   "source": [
    "# Creating Loneliness Index from Prescription Data for Scotland"
   ]
  },
  {
   "cell_type": "code",
   "execution_count": 55,
   "id": "a0a5bc26",
   "metadata": {},
   "outputs": [],
   "source": [
    "import pandas as pd\n",
    "import numpy as np\n",
    "import os\n",
    "import matplotlib.pyplot as plt\n",
    "import scipy.stats as stats"
   ]
  },
  {
   "cell_type": "code",
   "execution_count": 3,
   "id": "c2e5bfa0",
   "metadata": {},
   "outputs": [],
   "source": [
    "# Path to files\n",
    "path = \"data-raw/Scotland/\""
   ]
  },
  {
   "cell_type": "markdown",
   "id": "87cf7ad4",
   "metadata": {},
   "source": [
    "# Read drug data"
   ]
  },
  {
   "cell_type": "code",
   "execution_count": 4,
   "id": "f47335fe",
   "metadata": {},
   "outputs": [],
   "source": [
    "# Get drug data (NB some drugs duplicated for illnesses)\n",
    "drug_data = pd.read_csv(\"drug_list.csv\")"
   ]
  },
  {
   "cell_type": "markdown",
   "id": "4f1a245a",
   "metadata": {},
   "source": [
    "# Process Prescribing Data\n",
    "\n",
    "This code iterates over the monthly prescribing data, producing an aggregate table.\n",
    "\n",
    "**Filename format:** pitc[year][month].csv (e.g. pitc201801.csv)\n",
    "\n",
    "**Columns:** HBT, GPPractice, BNFItemCode, BNFItemDescription, ClassOfPreparationCode, NumberOfPaidItems, PaidQuantity, GrossIngredientCost, PaidDateMonth\n",
    "\n",
    "These files are the \"Prescriptions in the Community\" .csv files that come from: https://www.opendata.nhs.scot/dataset/prescriptions-in-the-community"
   ]
  },
  {
   "cell_type": "code",
   "execution_count": 5,
   "id": "98029f41",
   "metadata": {},
   "outputs": [],
   "source": [
    "# column names\n",
    "col_bnfname = \"BNFItemDescription\"\n",
    "col_items = \"NumberOfPaidItems\""
   ]
  },
  {
   "cell_type": "code",
   "execution_count": 6,
   "id": "204acae2",
   "metadata": {},
   "outputs": [],
   "source": [
    "# Function to find loneliness related prescribing\n",
    "def code_loneliness(x):\n",
    "    out = {}\n",
    "    # coding by illness categories\n",
    "    for illness in drug_data['illness'].unique():\n",
    "        out[illness] = x[col_bnfname].str.contains(\"|\".join(drug_data[drug_data['illness'] == illness]['medication']),\n",
    "                                                 case=False, \n",
    "                                                 regex=True).fillna(False).astype('int16')\n",
    "    # Make dataframe\n",
    "    out = pd.DataFrame(out)\n",
    "    # Add loneliness related disease binary - avoids double counting some drugs.\n",
    "    out['loneliness'] = x[col_bnfname].str.contains(\"|\".join(drug_data['medication'].unique()),\n",
    "                                                  case = False, \n",
    "                                                  regex = True).fillna(False).astype('int16')\n",
    "    # Return dataframe multiplied by counts of items\n",
    "    return out.multiply(x[col_items], axis=0)"
   ]
  },
  {
   "cell_type": "code",
   "execution_count": 7,
   "id": "6b74a70d",
   "metadata": {},
   "outputs": [],
   "source": [
    "# Make dictionary for aggregation\n",
    "agg_cols = {col : 'sum' for col in drug_data['illness'].unique()}\n",
    "agg_cols[col_items] = 'sum'\n",
    "agg_cols['loneliness'] = 'sum'\n",
    "for key in ['Date', 'HBT']:\n",
    "    agg_cols[key] = 'first'"
   ]
  },
  {
   "cell_type": "code",
   "execution_count": 8,
   "id": "5b300bee",
   "metadata": {},
   "outputs": [
    {
     "name": "stdout",
     "output_type": "stream",
     "text": [
      "pitc202201.csv\n",
      "pitc202202.csv\n",
      "pitc202203.csv\n",
      "pitc202204.csv\n",
      "pitc202205.csv\n",
      "pitc202206.csv\n",
      "pitc202207.csv\n",
      "pitc202208.csv\n",
      "pitc202209.csv\n",
      "pitc202210.csv\n",
      "pitc202211.csv\n",
      "pitc202212.csv\n"
     ]
    }
   ],
   "source": [
    "monthly_data = []\n",
    "\n",
    "for file in os.listdir(path + \"Prescriptions\"):\n",
    "    # Open prescribing files in pandas.\n",
    "    prescribe = pd.read_csv(path + \"Prescriptions\\\\\" + file)\n",
    "    prescribe.columns = prescribe.columns.str.strip()\n",
    "    # Rename 'PaidDateMonth' column to 'date'\n",
    "    prescribe.rename(columns = {'PaidDateMonth': 'Date'}, inplace = True) \n",
    "    # Get counts of prescribing dataframe for loneliness related diseases\n",
    "    loneliness_prescribing = code_loneliness(prescribe[[col_bnfname, col_items]])\n",
    "    # merge dataframes\n",
    "    prescribe = prescribe.merge(loneliness_prescribing, left_index=True, right_index=True)\n",
    "    del loneliness_prescribing\n",
    "    # get a summary - grouping by GPPractice\n",
    "    summary = prescribe.groupby('GPPractice', as_index=False).agg(agg_cols)\n",
    "    monthly_data.append(summary)\n",
    "    print(file)\n"
   ]
  },
  {
   "cell_type": "code",
   "execution_count": 9,
   "id": "f76e0f93",
   "metadata": {},
   "outputs": [],
   "source": [
    "# concatenate all the monthly data together\n",
    "data = pd.concat(monthly_data, ignore_index = True)"
   ]
  },
  {
   "cell_type": "code",
   "execution_count": 10,
   "id": "a03fabce",
   "metadata": {},
   "outputs": [
    {
     "data": {
      "text/html": [
       "<div>\n",
       "<style scoped>\n",
       "    .dataframe tbody tr th:only-of-type {\n",
       "        vertical-align: middle;\n",
       "    }\n",
       "\n",
       "    .dataframe tbody tr th {\n",
       "        vertical-align: top;\n",
       "    }\n",
       "\n",
       "    .dataframe thead th {\n",
       "        text-align: right;\n",
       "    }\n",
       "</style>\n",
       "<table border=\"1\" class=\"dataframe\">\n",
       "  <thead>\n",
       "    <tr style=\"text-align: right;\">\n",
       "      <th></th>\n",
       "      <th>GPPractice</th>\n",
       "      <th>depression</th>\n",
       "      <th>alzheimers</th>\n",
       "      <th>blood pressure</th>\n",
       "      <th>hypertension</th>\n",
       "      <th>diabeties</th>\n",
       "      <th>cardiovascular disease</th>\n",
       "      <th>insomnia</th>\n",
       "      <th>addiction</th>\n",
       "      <th>social anxiety</th>\n",
       "      <th>NumberOfPaidItems</th>\n",
       "      <th>loneliness</th>\n",
       "      <th>Date</th>\n",
       "      <th>HBT</th>\n",
       "    </tr>\n",
       "  </thead>\n",
       "  <tbody>\n",
       "    <tr>\n",
       "      <th>0</th>\n",
       "      <td>10002</td>\n",
       "      <td>594</td>\n",
       "      <td>20</td>\n",
       "      <td>700</td>\n",
       "      <td>704</td>\n",
       "      <td>107</td>\n",
       "      <td>485</td>\n",
       "      <td>41</td>\n",
       "      <td>0</td>\n",
       "      <td>3</td>\n",
       "      <td>9510</td>\n",
       "      <td>1951</td>\n",
       "      <td>202201</td>\n",
       "      <td>S08000030</td>\n",
       "    </tr>\n",
       "    <tr>\n",
       "      <th>1</th>\n",
       "      <td>10017</td>\n",
       "      <td>550</td>\n",
       "      <td>35</td>\n",
       "      <td>658</td>\n",
       "      <td>664</td>\n",
       "      <td>89</td>\n",
       "      <td>420</td>\n",
       "      <td>56</td>\n",
       "      <td>0</td>\n",
       "      <td>5</td>\n",
       "      <td>8734</td>\n",
       "      <td>1814</td>\n",
       "      <td>202201</td>\n",
       "      <td>S08000030</td>\n",
       "    </tr>\n",
       "    <tr>\n",
       "      <th>2</th>\n",
       "      <td>10036</td>\n",
       "      <td>376</td>\n",
       "      <td>11</td>\n",
       "      <td>579</td>\n",
       "      <td>582</td>\n",
       "      <td>62</td>\n",
       "      <td>344</td>\n",
       "      <td>59</td>\n",
       "      <td>0</td>\n",
       "      <td>6</td>\n",
       "      <td>6136</td>\n",
       "      <td>1434</td>\n",
       "      <td>202201</td>\n",
       "      <td>S08000030</td>\n",
       "    </tr>\n",
       "    <tr>\n",
       "      <th>3</th>\n",
       "      <td>10106</td>\n",
       "      <td>513</td>\n",
       "      <td>34</td>\n",
       "      <td>719</td>\n",
       "      <td>724</td>\n",
       "      <td>106</td>\n",
       "      <td>505</td>\n",
       "      <td>39</td>\n",
       "      <td>1</td>\n",
       "      <td>2</td>\n",
       "      <td>8541</td>\n",
       "      <td>1922</td>\n",
       "      <td>202201</td>\n",
       "      <td>S08000030</td>\n",
       "    </tr>\n",
       "    <tr>\n",
       "      <th>4</th>\n",
       "      <td>10125</td>\n",
       "      <td>425</td>\n",
       "      <td>15</td>\n",
       "      <td>453</td>\n",
       "      <td>454</td>\n",
       "      <td>91</td>\n",
       "      <td>367</td>\n",
       "      <td>44</td>\n",
       "      <td>0</td>\n",
       "      <td>4</td>\n",
       "      <td>6673</td>\n",
       "      <td>1396</td>\n",
       "      <td>202201</td>\n",
       "      <td>S08000030</td>\n",
       "    </tr>\n",
       "  </tbody>\n",
       "</table>\n",
       "</div>"
      ],
      "text/plain": [
       "   GPPractice  depression  alzheimers  blood pressure  hypertension  \\\n",
       "0       10002         594          20             700           704   \n",
       "1       10017         550          35             658           664   \n",
       "2       10036         376          11             579           582   \n",
       "3       10106         513          34             719           724   \n",
       "4       10125         425          15             453           454   \n",
       "\n",
       "   diabeties  cardiovascular disease  insomnia  addiction  social anxiety  \\\n",
       "0        107                     485        41          0               3   \n",
       "1         89                     420        56          0               5   \n",
       "2         62                     344        59          0               6   \n",
       "3        106                     505        39          1               2   \n",
       "4         91                     367        44          0               4   \n",
       "\n",
       "   NumberOfPaidItems  loneliness    Date        HBT  \n",
       "0               9510        1951  202201  S08000030  \n",
       "1               8734        1814  202201  S08000030  \n",
       "2               6136        1434  202201  S08000030  \n",
       "3               8541        1922  202201  S08000030  \n",
       "4               6673        1396  202201  S08000030  "
      ]
     },
     "execution_count": 10,
     "metadata": {},
     "output_type": "execute_result"
    }
   ],
   "source": [
    "data[data[\"loneliness\"] > 0].head()"
   ]
  },
  {
   "cell_type": "code",
   "execution_count": 11,
   "id": "294005fe",
   "metadata": {},
   "outputs": [],
   "source": [
    "# Save aggregated data\n",
    "data.to_csv(path + \"processed_data.csv\")"
   ]
  },
  {
   "cell_type": "markdown",
   "id": "c61cb97c",
   "metadata": {},
   "source": [
    "# Import GP Practices and Postcode\n",
    "\n",
    "Use the 'GP Practice Contact Details and List Sizes' data from: https://www.opendata.nhs.scot/dataset/gp-practice-contact-details-and-list-sizes to get GP surgery codes and postcode\n",
    "\n",
    "Note that Scotland only publishes these data four times a year (in Jan, Apr, Jul and Oct).\n",
    "\n",
    "**Filename format:** gppractices[year][month][day].csv (e.g. gppractices20180101.csv)\n",
    "\n",
    "**Columns:** PracticeCode, PracticeName, PracticeListSize, AddressLine1, AddressLine2, AddressLine3, AddressLine4, Postcode, TelephoneNumber, PracticeType, Dispensing, HB2014 [Health Board], HB1995 [Health Board], HSCP2016 [Health and Social Care Partnership], CA2011 [Council Area], DZ2011 [Data Zone], DZ2001 [Data Zone]"
   ]
  },
  {
   "cell_type": "code",
   "execution_count": 106,
   "id": "ffada308",
   "metadata": {},
   "outputs": [],
   "source": [
    "data = pd.read_csv(path + \"processed_data.csv\", index_col = 0)"
   ]
  },
  {
   "cell_type": "code",
   "execution_count": 107,
   "id": "c920448a",
   "metadata": {},
   "outputs": [],
   "source": [
    "# Get GP files\n",
    "gp_path = path + \"GP data/\""
   ]
  },
  {
   "cell_type": "code",
   "execution_count": 108,
   "id": "7dec9204",
   "metadata": {},
   "outputs": [
    {
     "name": "stdout",
     "output_type": "stream",
     "text": [
      "gppractices20220101.csv\n",
      "gppractices20220701.csv\n",
      "gppractices20221001.csv\n"
     ]
    }
   ],
   "source": [
    "gp_combine = []\n",
    "\n",
    "for file in os.listdir(gp_path):\n",
    "    gp_data = pd.read_csv(gp_path + file)\n",
    "    gp_data = gp_data.rename(columns = {'PracticeCode': 'GPPractice'})\n",
    "    gp_combine.append(gp_data[['GPPractice','Postcode']])\n",
    "    print(file)"
   ]
  },
  {
   "cell_type": "code",
   "execution_count": 109,
   "id": "aacbdd6b",
   "metadata": {},
   "outputs": [],
   "source": [
    "# concatenate all the gp data together\n",
    "gp_data = pd.concat(gp_combine, ignore_index = True)"
   ]
  },
  {
   "cell_type": "code",
   "execution_count": 110,
   "id": "6935918c",
   "metadata": {},
   "outputs": [
    {
     "data": {
      "text/html": [
       "<div>\n",
       "<style scoped>\n",
       "    .dataframe tbody tr th:only-of-type {\n",
       "        vertical-align: middle;\n",
       "    }\n",
       "\n",
       "    .dataframe tbody tr th {\n",
       "        vertical-align: top;\n",
       "    }\n",
       "\n",
       "    .dataframe thead th {\n",
       "        text-align: right;\n",
       "    }\n",
       "</style>\n",
       "<table border=\"1\" class=\"dataframe\">\n",
       "  <thead>\n",
       "    <tr style=\"text-align: right;\">\n",
       "      <th></th>\n",
       "      <th>GPPractice</th>\n",
       "      <th>Postcode</th>\n",
       "    </tr>\n",
       "  </thead>\n",
       "  <tbody>\n",
       "    <tr>\n",
       "      <th>0</th>\n",
       "      <td>10002</td>\n",
       "      <td>DD2 5NH</td>\n",
       "    </tr>\n",
       "    <tr>\n",
       "      <th>1</th>\n",
       "      <td>10017</td>\n",
       "      <td>PH7 3SA</td>\n",
       "    </tr>\n",
       "    <tr>\n",
       "      <th>2</th>\n",
       "      <td>10036</td>\n",
       "      <td>PH15 2BL</td>\n",
       "    </tr>\n",
       "  </tbody>\n",
       "</table>\n",
       "</div>"
      ],
      "text/plain": [
       "   GPPractice  Postcode\n",
       "0       10002   DD2 5NH\n",
       "1       10017   PH7 3SA\n",
       "2       10036  PH15 2BL"
      ]
     },
     "execution_count": 110,
     "metadata": {},
     "output_type": "execute_result"
    }
   ],
   "source": [
    "gp_data.head(3)"
   ]
  },
  {
   "cell_type": "code",
   "execution_count": 111,
   "id": "3e8d8119",
   "metadata": {},
   "outputs": [
    {
     "data": {
      "text/plain": [
       "(11121, 14)"
      ]
     },
     "execution_count": 111,
     "metadata": {},
     "output_type": "execute_result"
    }
   ],
   "source": [
    "# Get the unique codes for GP surgeries and subset the prescribing data according to these codes.\n",
    "gp_ids = gp_data['GPPractice'].unique()\n",
    "data = data[data['GPPractice'].isin(gp_ids)].copy()\n",
    "data.shape"
   ]
  },
  {
   "cell_type": "code",
   "execution_count": 112,
   "id": "a8bebe3f",
   "metadata": {},
   "outputs": [],
   "source": [
    "# Merge on the basis GPPractice code\n",
    "data = data.merge(gp_data, how = 'left', on = ['GPPractice'])"
   ]
  },
  {
   "cell_type": "code",
   "execution_count": 113,
   "id": "323df1f9",
   "metadata": {
    "scrolled": true
   },
   "outputs": [
    {
     "data": {
      "text/html": [
       "<div>\n",
       "<style scoped>\n",
       "    .dataframe tbody tr th:only-of-type {\n",
       "        vertical-align: middle;\n",
       "    }\n",
       "\n",
       "    .dataframe tbody tr th {\n",
       "        vertical-align: top;\n",
       "    }\n",
       "\n",
       "    .dataframe thead th {\n",
       "        text-align: right;\n",
       "    }\n",
       "</style>\n",
       "<table border=\"1\" class=\"dataframe\">\n",
       "  <thead>\n",
       "    <tr style=\"text-align: right;\">\n",
       "      <th></th>\n",
       "      <th>GPPractice</th>\n",
       "      <th>depression</th>\n",
       "      <th>alzheimers</th>\n",
       "      <th>blood pressure</th>\n",
       "      <th>hypertension</th>\n",
       "      <th>diabeties</th>\n",
       "      <th>cardiovascular disease</th>\n",
       "      <th>insomnia</th>\n",
       "      <th>addiction</th>\n",
       "      <th>social anxiety</th>\n",
       "      <th>NumberOfPaidItems</th>\n",
       "      <th>loneliness</th>\n",
       "      <th>Date</th>\n",
       "      <th>HBT</th>\n",
       "      <th>Postcode</th>\n",
       "    </tr>\n",
       "  </thead>\n",
       "  <tbody>\n",
       "    <tr>\n",
       "      <th>0</th>\n",
       "      <td>10002</td>\n",
       "      <td>594</td>\n",
       "      <td>20</td>\n",
       "      <td>700</td>\n",
       "      <td>704</td>\n",
       "      <td>107</td>\n",
       "      <td>485</td>\n",
       "      <td>41</td>\n",
       "      <td>0</td>\n",
       "      <td>3</td>\n",
       "      <td>9510</td>\n",
       "      <td>1951</td>\n",
       "      <td>202201</td>\n",
       "      <td>S08000030</td>\n",
       "      <td>DD2 5NH</td>\n",
       "    </tr>\n",
       "    <tr>\n",
       "      <th>1</th>\n",
       "      <td>10002</td>\n",
       "      <td>594</td>\n",
       "      <td>20</td>\n",
       "      <td>700</td>\n",
       "      <td>704</td>\n",
       "      <td>107</td>\n",
       "      <td>485</td>\n",
       "      <td>41</td>\n",
       "      <td>0</td>\n",
       "      <td>3</td>\n",
       "      <td>9510</td>\n",
       "      <td>1951</td>\n",
       "      <td>202201</td>\n",
       "      <td>S08000030</td>\n",
       "      <td>DD2 5NH</td>\n",
       "    </tr>\n",
       "  </tbody>\n",
       "</table>\n",
       "</div>"
      ],
      "text/plain": [
       "   GPPractice  depression  alzheimers  blood pressure  hypertension  \\\n",
       "0       10002         594          20             700           704   \n",
       "1       10002         594          20             700           704   \n",
       "\n",
       "   diabeties  cardiovascular disease  insomnia  addiction  social anxiety  \\\n",
       "0        107                     485        41          0               3   \n",
       "1        107                     485        41          0               3   \n",
       "\n",
       "   NumberOfPaidItems  loneliness    Date        HBT Postcode  \n",
       "0               9510        1951  202201  S08000030  DD2 5NH  \n",
       "1               9510        1951  202201  S08000030  DD2 5NH  "
      ]
     },
     "execution_count": 113,
     "metadata": {},
     "output_type": "execute_result"
    }
   ],
   "source": [
    "data.head(2)"
   ]
  },
  {
   "cell_type": "code",
   "execution_count": 114,
   "id": "c402b841",
   "metadata": {},
   "outputs": [
    {
     "data": {
      "text/plain": [
       "Postcode\n",
       "False    32836\n",
       "Name: count, dtype: int64"
      ]
     },
     "execution_count": 114,
     "metadata": {},
     "output_type": "execute_result"
    }
   ],
   "source": [
    "data.Postcode.isna().value_counts()"
   ]
  },
  {
   "cell_type": "code",
   "execution_count": 115,
   "id": "0ffb2f1c",
   "metadata": {},
   "outputs": [],
   "source": [
    "# Create uniform postcode field\n",
    "data['pcstrip'] = data['Postcode'].str.replace(\"\\s\",\"\")"
   ]
  },
  {
   "cell_type": "code",
   "execution_count": 116,
   "id": "4b81bf17",
   "metadata": {},
   "outputs": [
    {
     "data": {
      "text/plain": [
       "pcstrip\n",
       "False    32836\n",
       "Name: count, dtype: int64"
      ]
     },
     "execution_count": 116,
     "metadata": {},
     "output_type": "execute_result"
    }
   ],
   "source": [
    "# Check all GPs have postcode\n",
    "data.pcstrip.isna().value_counts()"
   ]
  },
  {
   "cell_type": "code",
   "execution_count": 25,
   "id": "fd2140a4",
   "metadata": {},
   "outputs": [
    {
     "data": {
      "text/plain": [
       "12"
      ]
     },
     "execution_count": 25,
     "metadata": {},
     "output_type": "execute_result"
    }
   ],
   "source": [
    "# Check for 1 postcode per Practice Code\n",
    "pc_prac_counts = data.groupby('GPPractice')['pcstrip'].unique().map(len)\n",
    "pc_prac_counts[pc_prac_counts > 1].count()"
   ]
  },
  {
   "cell_type": "code",
   "execution_count": 33,
   "id": "44bb98b8",
   "metadata": {
    "scrolled": true
   },
   "outputs": [
    {
     "data": {
      "text/plain": [
       "pcstrip\n",
       "2    12\n",
       "Name: count, dtype: int64"
      ]
     },
     "execution_count": 33,
     "metadata": {},
     "output_type": "execute_result"
    }
   ],
   "source": [
    "pc_prac_counts[pc_prac_counts > 1].value_counts()"
   ]
  },
  {
   "cell_type": "code",
   "execution_count": 32,
   "id": "6ce038e8",
   "metadata": {
    "scrolled": true
   },
   "outputs": [
    {
     "data": {
      "text/plain": [
       "0.012861736334405145"
      ]
     },
     "execution_count": 32,
     "metadata": {},
     "output_type": "execute_result"
    }
   ],
   "source": [
    "(pc_prac_counts[pc_prac_counts > 1].count())/data.GPPractice.nunique()\n"
   ]
  },
  {
   "cell_type": "markdown",
   "id": "be95bd92",
   "metadata": {},
   "source": [
    "Some Practice Codes have more than one postcode associated with them. Possible reasons for this are:\n",
    "* Practices move to a new location.\n",
    "* Practices are assigned a new postcode but don't physically move.\n",
    "* Practice postcodes are wrongly entered at a particular wave and subsequently fixed.\n",
    "\n",
    "There are 12 practices codes which have more than 1 postcode assigned to them, this is about 1.3% of unique practices.\n",
    "\n",
    "All 12 practices have 2 postcodes associated with them.\n",
    "\n",
    "We'll ignore this for now - this will require some more advanced cleaning - useful to be aware of though."
   ]
  },
  {
   "cell_type": "code",
   "execution_count": 34,
   "id": "736988d9",
   "metadata": {},
   "outputs": [],
   "source": [
    "# Save aggregated data\n",
    "data.to_csv(path + \"processed_data_with_postcode.csv\")"
   ]
  },
  {
   "cell_type": "markdown",
   "id": "02a4875d",
   "metadata": {},
   "source": [
    "# Generate Statistics from Prescribing Counts\n",
    "\n",
    "- Aggregate observations to postcodes and compute percentages per conidtion\n",
    "- Compute z-score per condition\n",
    "- Add z-scores of all conditions together to compute a loneliness score\n",
    "- Use min-max scaler for -1 to 1 normalisation\n",
    "- Use decile normalisation\n",
    "\n",
    "To consider for the future\n",
    "- Should we remove some GPs on the basis that they have very low/high values which might indicate they are not accessible to the general population, and instead represent specialist services?\n",
    "- When adding more years, should the earlier year observed be the baseline and subsequent z scores are calculated wrt to baseline mean and sd?\n"
   ]
  },
  {
   "cell_type": "code",
   "execution_count": 101,
   "id": "ba309225",
   "metadata": {},
   "outputs": [],
   "source": [
    "data = pd.read_csv(path + \"processed_data_with_postcode.csv\", index_col=0)"
   ]
  },
  {
   "cell_type": "code",
   "execution_count": 102,
   "id": "b2812903",
   "metadata": {},
   "outputs": [
    {
     "data": {
      "text/html": [
       "<div>\n",
       "<style scoped>\n",
       "    .dataframe tbody tr th:only-of-type {\n",
       "        vertical-align: middle;\n",
       "    }\n",
       "\n",
       "    .dataframe tbody tr th {\n",
       "        vertical-align: top;\n",
       "    }\n",
       "\n",
       "    .dataframe thead th {\n",
       "        text-align: right;\n",
       "    }\n",
       "</style>\n",
       "<table border=\"1\" class=\"dataframe\">\n",
       "  <thead>\n",
       "    <tr style=\"text-align: right;\">\n",
       "      <th></th>\n",
       "      <th>depression</th>\n",
       "      <th>alzheimers</th>\n",
       "      <th>blood pressure</th>\n",
       "      <th>hypertension</th>\n",
       "      <th>diabeties</th>\n",
       "      <th>cardiovascular disease</th>\n",
       "      <th>insomnia</th>\n",
       "      <th>addiction</th>\n",
       "      <th>social anxiety</th>\n",
       "      <th>NumberOfPaidItems</th>\n",
       "      <th>loneliness</th>\n",
       "      <th>pcstrip</th>\n",
       "    </tr>\n",
       "  </thead>\n",
       "  <tbody>\n",
       "    <tr>\n",
       "      <th>0</th>\n",
       "      <td>594</td>\n",
       "      <td>20</td>\n",
       "      <td>700</td>\n",
       "      <td>704</td>\n",
       "      <td>107</td>\n",
       "      <td>485</td>\n",
       "      <td>41</td>\n",
       "      <td>0</td>\n",
       "      <td>3</td>\n",
       "      <td>9510</td>\n",
       "      <td>1951</td>\n",
       "      <td>DD2 5NH</td>\n",
       "    </tr>\n",
       "    <tr>\n",
       "      <th>1</th>\n",
       "      <td>594</td>\n",
       "      <td>20</td>\n",
       "      <td>700</td>\n",
       "      <td>704</td>\n",
       "      <td>107</td>\n",
       "      <td>485</td>\n",
       "      <td>41</td>\n",
       "      <td>0</td>\n",
       "      <td>3</td>\n",
       "      <td>9510</td>\n",
       "      <td>1951</td>\n",
       "      <td>DD2 5NH</td>\n",
       "    </tr>\n",
       "    <tr>\n",
       "      <th>2</th>\n",
       "      <td>594</td>\n",
       "      <td>20</td>\n",
       "      <td>700</td>\n",
       "      <td>704</td>\n",
       "      <td>107</td>\n",
       "      <td>485</td>\n",
       "      <td>41</td>\n",
       "      <td>0</td>\n",
       "      <td>3</td>\n",
       "      <td>9510</td>\n",
       "      <td>1951</td>\n",
       "      <td>DD2 5NH</td>\n",
       "    </tr>\n",
       "    <tr>\n",
       "      <th>3</th>\n",
       "      <td>550</td>\n",
       "      <td>35</td>\n",
       "      <td>658</td>\n",
       "      <td>664</td>\n",
       "      <td>89</td>\n",
       "      <td>420</td>\n",
       "      <td>56</td>\n",
       "      <td>0</td>\n",
       "      <td>5</td>\n",
       "      <td>8734</td>\n",
       "      <td>1814</td>\n",
       "      <td>PH7 3SA</td>\n",
       "    </tr>\n",
       "    <tr>\n",
       "      <th>4</th>\n",
       "      <td>550</td>\n",
       "      <td>35</td>\n",
       "      <td>658</td>\n",
       "      <td>664</td>\n",
       "      <td>89</td>\n",
       "      <td>420</td>\n",
       "      <td>56</td>\n",
       "      <td>0</td>\n",
       "      <td>5</td>\n",
       "      <td>8734</td>\n",
       "      <td>1814</td>\n",
       "      <td>PH7 3SA</td>\n",
       "    </tr>\n",
       "    <tr>\n",
       "      <th>...</th>\n",
       "      <td>...</td>\n",
       "      <td>...</td>\n",
       "      <td>...</td>\n",
       "      <td>...</td>\n",
       "      <td>...</td>\n",
       "      <td>...</td>\n",
       "      <td>...</td>\n",
       "      <td>...</td>\n",
       "      <td>...</td>\n",
       "      <td>...</td>\n",
       "      <td>...</td>\n",
       "      <td>...</td>\n",
       "    </tr>\n",
       "    <tr>\n",
       "      <th>32831</th>\n",
       "      <td>583</td>\n",
       "      <td>11</td>\n",
       "      <td>859</td>\n",
       "      <td>870</td>\n",
       "      <td>115</td>\n",
       "      <td>469</td>\n",
       "      <td>54</td>\n",
       "      <td>0</td>\n",
       "      <td>1</td>\n",
       "      <td>10120</td>\n",
       "      <td>2102</td>\n",
       "      <td>HS1 2XB</td>\n",
       "    </tr>\n",
       "    <tr>\n",
       "      <th>32832</th>\n",
       "      <td>583</td>\n",
       "      <td>11</td>\n",
       "      <td>859</td>\n",
       "      <td>870</td>\n",
       "      <td>115</td>\n",
       "      <td>469</td>\n",
       "      <td>54</td>\n",
       "      <td>0</td>\n",
       "      <td>1</td>\n",
       "      <td>10120</td>\n",
       "      <td>2102</td>\n",
       "      <td>HS1 2XB</td>\n",
       "    </tr>\n",
       "    <tr>\n",
       "      <th>32833</th>\n",
       "      <td>698</td>\n",
       "      <td>26</td>\n",
       "      <td>1110</td>\n",
       "      <td>1125</td>\n",
       "      <td>139</td>\n",
       "      <td>763</td>\n",
       "      <td>72</td>\n",
       "      <td>0</td>\n",
       "      <td>9</td>\n",
       "      <td>12226</td>\n",
       "      <td>2823</td>\n",
       "      <td>HS2 9JP</td>\n",
       "    </tr>\n",
       "    <tr>\n",
       "      <th>32834</th>\n",
       "      <td>698</td>\n",
       "      <td>26</td>\n",
       "      <td>1110</td>\n",
       "      <td>1125</td>\n",
       "      <td>139</td>\n",
       "      <td>763</td>\n",
       "      <td>72</td>\n",
       "      <td>0</td>\n",
       "      <td>9</td>\n",
       "      <td>12226</td>\n",
       "      <td>2823</td>\n",
       "      <td>HS2 9JP</td>\n",
       "    </tr>\n",
       "    <tr>\n",
       "      <th>32835</th>\n",
       "      <td>698</td>\n",
       "      <td>26</td>\n",
       "      <td>1110</td>\n",
       "      <td>1125</td>\n",
       "      <td>139</td>\n",
       "      <td>763</td>\n",
       "      <td>72</td>\n",
       "      <td>0</td>\n",
       "      <td>9</td>\n",
       "      <td>12226</td>\n",
       "      <td>2823</td>\n",
       "      <td>HS2 9JP</td>\n",
       "    </tr>\n",
       "  </tbody>\n",
       "</table>\n",
       "<p>32836 rows × 12 columns</p>\n",
       "</div>"
      ],
      "text/plain": [
       "       depression  alzheimers  blood pressure  hypertension  diabeties  \\\n",
       "0             594          20             700           704        107   \n",
       "1             594          20             700           704        107   \n",
       "2             594          20             700           704        107   \n",
       "3             550          35             658           664         89   \n",
       "4             550          35             658           664         89   \n",
       "...           ...         ...             ...           ...        ...   \n",
       "32831         583          11             859           870        115   \n",
       "32832         583          11             859           870        115   \n",
       "32833         698          26            1110          1125        139   \n",
       "32834         698          26            1110          1125        139   \n",
       "32835         698          26            1110          1125        139   \n",
       "\n",
       "       cardiovascular disease  insomnia  addiction  social anxiety  \\\n",
       "0                         485        41          0               3   \n",
       "1                         485        41          0               3   \n",
       "2                         485        41          0               3   \n",
       "3                         420        56          0               5   \n",
       "4                         420        56          0               5   \n",
       "...                       ...       ...        ...             ...   \n",
       "32831                     469        54          0               1   \n",
       "32832                     469        54          0               1   \n",
       "32833                     763        72          0               9   \n",
       "32834                     763        72          0               9   \n",
       "32835                     763        72          0               9   \n",
       "\n",
       "       NumberOfPaidItems  loneliness  pcstrip  \n",
       "0                   9510        1951  DD2 5NH  \n",
       "1                   9510        1951  DD2 5NH  \n",
       "2                   9510        1951  DD2 5NH  \n",
       "3                   8734        1814  PH7 3SA  \n",
       "4                   8734        1814  PH7 3SA  \n",
       "...                  ...         ...      ...  \n",
       "32831              10120        2102  HS1 2XB  \n",
       "32832              10120        2102  HS1 2XB  \n",
       "32833              12226        2823  HS2 9JP  \n",
       "32834              12226        2823  HS2 9JP  \n",
       "32835              12226        2823  HS2 9JP  \n",
       "\n",
       "[32836 rows x 12 columns]"
      ]
     },
     "execution_count": 102,
     "metadata": {},
     "output_type": "execute_result"
    }
   ],
   "source": [
    "data = data.drop(columns = ['Date','HBT','Postcode','GPPractice'])\n",
    "data"
   ]
  },
  {
   "cell_type": "code",
   "execution_count": 103,
   "id": "8aba0fc0",
   "metadata": {},
   "outputs": [
    {
     "data": {
      "text/html": [
       "<div>\n",
       "<style scoped>\n",
       "    .dataframe tbody tr th:only-of-type {\n",
       "        vertical-align: middle;\n",
       "    }\n",
       "\n",
       "    .dataframe tbody tr th {\n",
       "        vertical-align: top;\n",
       "    }\n",
       "\n",
       "    .dataframe thead th {\n",
       "        text-align: right;\n",
       "    }\n",
       "</style>\n",
       "<table border=\"1\" class=\"dataframe\">\n",
       "  <thead>\n",
       "    <tr style=\"text-align: right;\">\n",
       "      <th></th>\n",
       "      <th>pcstrip</th>\n",
       "      <th>depression</th>\n",
       "      <th>alzheimers</th>\n",
       "      <th>blood pressure</th>\n",
       "      <th>hypertension</th>\n",
       "      <th>diabeties</th>\n",
       "      <th>cardiovascular disease</th>\n",
       "      <th>insomnia</th>\n",
       "      <th>addiction</th>\n",
       "      <th>social anxiety</th>\n",
       "      <th>NumberOfPaidItems</th>\n",
       "      <th>loneliness</th>\n",
       "    </tr>\n",
       "  </thead>\n",
       "  <tbody>\n",
       "    <tr>\n",
       "      <th>0</th>\n",
       "      <td>AB10 1NW</td>\n",
       "      <td>27723</td>\n",
       "      <td>639</td>\n",
       "      <td>23877</td>\n",
       "      <td>24255</td>\n",
       "      <td>3861</td>\n",
       "      <td>15018</td>\n",
       "      <td>2142</td>\n",
       "      <td>324</td>\n",
       "      <td>450</td>\n",
       "      <td>370380</td>\n",
       "      <td>73962</td>\n",
       "    </tr>\n",
       "    <tr>\n",
       "      <th>1</th>\n",
       "      <td>AB10 1QB</td>\n",
       "      <td>26058</td>\n",
       "      <td>687</td>\n",
       "      <td>30867</td>\n",
       "      <td>31227</td>\n",
       "      <td>4281</td>\n",
       "      <td>20712</td>\n",
       "      <td>2484</td>\n",
       "      <td>873</td>\n",
       "      <td>2382</td>\n",
       "      <td>377136</td>\n",
       "      <td>86322</td>\n",
       "    </tr>\n",
       "    <tr>\n",
       "      <th>2</th>\n",
       "      <td>AB10 1UT</td>\n",
       "      <td>1359</td>\n",
       "      <td>24</td>\n",
       "      <td>1539</td>\n",
       "      <td>1561</td>\n",
       "      <td>218</td>\n",
       "      <td>1108</td>\n",
       "      <td>149</td>\n",
       "      <td>141</td>\n",
       "      <td>23</td>\n",
       "      <td>19341</td>\n",
       "      <td>4560</td>\n",
       "    </tr>\n",
       "    <tr>\n",
       "      <th>3</th>\n",
       "      <td>AB10 1YE</td>\n",
       "      <td>37290</td>\n",
       "      <td>1143</td>\n",
       "      <td>29019</td>\n",
       "      <td>29352</td>\n",
       "      <td>6507</td>\n",
       "      <td>21186</td>\n",
       "      <td>4236</td>\n",
       "      <td>1593</td>\n",
       "      <td>690</td>\n",
       "      <td>482946</td>\n",
       "      <td>101307</td>\n",
       "    </tr>\n",
       "    <tr>\n",
       "      <th>4</th>\n",
       "      <td>AB10 7QQ</td>\n",
       "      <td>30789</td>\n",
       "      <td>732</td>\n",
       "      <td>24777</td>\n",
       "      <td>25158</td>\n",
       "      <td>4668</td>\n",
       "      <td>18864</td>\n",
       "      <td>2757</td>\n",
       "      <td>1305</td>\n",
       "      <td>438</td>\n",
       "      <td>418743</td>\n",
       "      <td>84273</td>\n",
       "    </tr>\n",
       "    <tr>\n",
       "      <th>...</th>\n",
       "      <td>...</td>\n",
       "      <td>...</td>\n",
       "      <td>...</td>\n",
       "      <td>...</td>\n",
       "      <td>...</td>\n",
       "      <td>...</td>\n",
       "      <td>...</td>\n",
       "      <td>...</td>\n",
       "      <td>...</td>\n",
       "      <td>...</td>\n",
       "      <td>...</td>\n",
       "      <td>...</td>\n",
       "    </tr>\n",
       "    <tr>\n",
       "      <th>734</th>\n",
       "      <td>ZE2 9DY</td>\n",
       "      <td>3681</td>\n",
       "      <td>114</td>\n",
       "      <td>6402</td>\n",
       "      <td>6516</td>\n",
       "      <td>708</td>\n",
       "      <td>3795</td>\n",
       "      <td>75</td>\n",
       "      <td>0</td>\n",
       "      <td>0</td>\n",
       "      <td>54708</td>\n",
       "      <td>14889</td>\n",
       "    </tr>\n",
       "    <tr>\n",
       "      <th>735</th>\n",
       "      <td>ZE2 9HX</td>\n",
       "      <td>14655</td>\n",
       "      <td>387</td>\n",
       "      <td>19422</td>\n",
       "      <td>19614</td>\n",
       "      <td>3111</td>\n",
       "      <td>17349</td>\n",
       "      <td>399</td>\n",
       "      <td>0</td>\n",
       "      <td>105</td>\n",
       "      <td>218211</td>\n",
       "      <td>55515</td>\n",
       "    </tr>\n",
       "    <tr>\n",
       "      <th>736</th>\n",
       "      <td>ZE2 9NA</td>\n",
       "      <td>5865</td>\n",
       "      <td>207</td>\n",
       "      <td>15414</td>\n",
       "      <td>15465</td>\n",
       "      <td>1797</td>\n",
       "      <td>8454</td>\n",
       "      <td>57</td>\n",
       "      <td>0</td>\n",
       "      <td>30</td>\n",
       "      <td>118053</td>\n",
       "      <td>31845</td>\n",
       "    </tr>\n",
       "    <tr>\n",
       "      <th>737</th>\n",
       "      <td>ZE2 9QJ</td>\n",
       "      <td>11307</td>\n",
       "      <td>201</td>\n",
       "      <td>22383</td>\n",
       "      <td>22491</td>\n",
       "      <td>2757</td>\n",
       "      <td>10617</td>\n",
       "      <td>582</td>\n",
       "      <td>0</td>\n",
       "      <td>273</td>\n",
       "      <td>173985</td>\n",
       "      <td>47955</td>\n",
       "    </tr>\n",
       "    <tr>\n",
       "      <th>738</th>\n",
       "      <td>ZE2 9RW</td>\n",
       "      <td>4605</td>\n",
       "      <td>90</td>\n",
       "      <td>6930</td>\n",
       "      <td>6942</td>\n",
       "      <td>1401</td>\n",
       "      <td>4239</td>\n",
       "      <td>15</td>\n",
       "      <td>0</td>\n",
       "      <td>0</td>\n",
       "      <td>73281</td>\n",
       "      <td>17292</td>\n",
       "    </tr>\n",
       "  </tbody>\n",
       "</table>\n",
       "<p>739 rows × 12 columns</p>\n",
       "</div>"
      ],
      "text/plain": [
       "      pcstrip  depression  alzheimers  blood pressure  hypertension  \\\n",
       "0    AB10 1NW       27723         639           23877         24255   \n",
       "1    AB10 1QB       26058         687           30867         31227   \n",
       "2    AB10 1UT        1359          24            1539          1561   \n",
       "3    AB10 1YE       37290        1143           29019         29352   \n",
       "4    AB10 7QQ       30789         732           24777         25158   \n",
       "..        ...         ...         ...             ...           ...   \n",
       "734   ZE2 9DY        3681         114            6402          6516   \n",
       "735   ZE2 9HX       14655         387           19422         19614   \n",
       "736   ZE2 9NA        5865         207           15414         15465   \n",
       "737   ZE2 9QJ       11307         201           22383         22491   \n",
       "738   ZE2 9RW        4605          90            6930          6942   \n",
       "\n",
       "     diabeties  cardiovascular disease  insomnia  addiction  social anxiety  \\\n",
       "0         3861                   15018      2142        324             450   \n",
       "1         4281                   20712      2484        873            2382   \n",
       "2          218                    1108       149        141              23   \n",
       "3         6507                   21186      4236       1593             690   \n",
       "4         4668                   18864      2757       1305             438   \n",
       "..         ...                     ...       ...        ...             ...   \n",
       "734        708                    3795        75          0               0   \n",
       "735       3111                   17349       399          0             105   \n",
       "736       1797                    8454        57          0              30   \n",
       "737       2757                   10617       582          0             273   \n",
       "738       1401                    4239        15          0               0   \n",
       "\n",
       "     NumberOfPaidItems  loneliness  \n",
       "0               370380       73962  \n",
       "1               377136       86322  \n",
       "2                19341        4560  \n",
       "3               482946      101307  \n",
       "4               418743       84273  \n",
       "..                 ...         ...  \n",
       "734              54708       14889  \n",
       "735             218211       55515  \n",
       "736             118053       31845  \n",
       "737             173985       47955  \n",
       "738              73281       17292  \n",
       "\n",
       "[739 rows x 12 columns]"
      ]
     },
     "execution_count": 103,
     "metadata": {},
     "output_type": "execute_result"
    }
   ],
   "source": [
    "data.groupby(['pcstrip'], as_index = False).sum()"
   ]
  },
  {
   "cell_type": "code",
   "execution_count": 105,
   "id": "d2016e2c",
   "metadata": {},
   "outputs": [
    {
     "data": {
      "text/plain": [
       "depression                    594\n",
       "alzheimers                     20\n",
       "blood pressure                700\n",
       "hypertension                  704\n",
       "diabeties                     107\n",
       "cardiovascular disease        485\n",
       "insomnia                       41\n",
       "addiction                       0\n",
       "social anxiety                  3\n",
       "NumberOfPaidItems            9510\n",
       "loneliness                   1951\n",
       "pcstrip                   DD2 5NH\n",
       "Name: 0, dtype: object"
      ]
     },
     "execution_count": 105,
     "metadata": {},
     "output_type": "execute_result"
    }
   ],
   "source": [
    "data.loc[0]"
   ]
  },
  {
   "cell_type": "code",
   "execution_count": 91,
   "id": "fc980dce",
   "metadata": {},
   "outputs": [
    {
     "data": {
      "text/plain": [
       "739"
      ]
     },
     "execution_count": 91,
     "metadata": {},
     "output_type": "execute_result"
    }
   ],
   "source": [
    "data.pcstrip.nunique()"
   ]
  },
  {
   "cell_type": "code",
   "execution_count": 68,
   "id": "677c46d0",
   "metadata": {},
   "outputs": [],
   "source": [
    "# Generate percentages\n",
    "perc_cols = drug_data['illness'].unique()\n",
    "target_cols = perc_cols + '_perc'\n",
    "\n",
    "# Percentages for discrete illness groups out of total drugs prescribed\n",
    "data[target_cols] = data[perc_cols].divide(data[col_items], axis=0) * 100\n",
    "\n",
    "# Overall percentage for loneliness realted disease prescribing out of total drugs prescribed\n",
    "data['loneliness_perc'] = data['loneliness'].divide(data[col_items], axis=0) * 100"
   ]
  },
  {
   "cell_type": "code",
   "execution_count": 69,
   "id": "0692ae85",
   "metadata": {
    "scrolled": true
   },
   "outputs": [
    {
     "data": {
      "text/html": [
       "<div>\n",
       "<style scoped>\n",
       "    .dataframe tbody tr th:only-of-type {\n",
       "        vertical-align: middle;\n",
       "    }\n",
       "\n",
       "    .dataframe tbody tr th {\n",
       "        vertical-align: top;\n",
       "    }\n",
       "\n",
       "    .dataframe thead th {\n",
       "        text-align: right;\n",
       "    }\n",
       "</style>\n",
       "<table border=\"1\" class=\"dataframe\">\n",
       "  <thead>\n",
       "    <tr style=\"text-align: right;\">\n",
       "      <th></th>\n",
       "      <th>pcstrip</th>\n",
       "      <th>depression</th>\n",
       "      <th>alzheimers</th>\n",
       "      <th>blood pressure</th>\n",
       "      <th>hypertension</th>\n",
       "      <th>diabeties</th>\n",
       "      <th>cardiovascular disease</th>\n",
       "      <th>insomnia</th>\n",
       "      <th>addiction</th>\n",
       "      <th>social anxiety</th>\n",
       "      <th>...</th>\n",
       "      <th>depression_perc</th>\n",
       "      <th>alzheimers_perc</th>\n",
       "      <th>blood pressure_perc</th>\n",
       "      <th>hypertension_perc</th>\n",
       "      <th>diabeties_perc</th>\n",
       "      <th>cardiovascular disease_perc</th>\n",
       "      <th>insomnia_perc</th>\n",
       "      <th>addiction_perc</th>\n",
       "      <th>social anxiety_perc</th>\n",
       "      <th>loneliness_perc</th>\n",
       "    </tr>\n",
       "  </thead>\n",
       "  <tbody>\n",
       "    <tr>\n",
       "      <th>0</th>\n",
       "      <td>AB10 1NW</td>\n",
       "      <td>2136</td>\n",
       "      <td>63</td>\n",
       "      <td>1818</td>\n",
       "      <td>1854</td>\n",
       "      <td>291</td>\n",
       "      <td>1149</td>\n",
       "      <td>189</td>\n",
       "      <td>24</td>\n",
       "      <td>33</td>\n",
       "      <td>...</td>\n",
       "      <td>7.270499</td>\n",
       "      <td>0.214439</td>\n",
       "      <td>6.188094</td>\n",
       "      <td>6.310630</td>\n",
       "      <td>0.990503</td>\n",
       "      <td>3.910957</td>\n",
       "      <td>0.643317</td>\n",
       "      <td>0.081691</td>\n",
       "      <td>0.112325</td>\n",
       "      <td>19.422036</td>\n",
       "    </tr>\n",
       "    <tr>\n",
       "      <th>1</th>\n",
       "      <td>AB10 1NW</td>\n",
       "      <td>2070</td>\n",
       "      <td>48</td>\n",
       "      <td>1764</td>\n",
       "      <td>1788</td>\n",
       "      <td>255</td>\n",
       "      <td>1125</td>\n",
       "      <td>180</td>\n",
       "      <td>21</td>\n",
       "      <td>33</td>\n",
       "      <td>...</td>\n",
       "      <td>7.657308</td>\n",
       "      <td>0.177561</td>\n",
       "      <td>6.525358</td>\n",
       "      <td>6.614138</td>\n",
       "      <td>0.943292</td>\n",
       "      <td>4.161580</td>\n",
       "      <td>0.665853</td>\n",
       "      <td>0.077683</td>\n",
       "      <td>0.122073</td>\n",
       "      <td>20.297414</td>\n",
       "    </tr>\n",
       "    <tr>\n",
       "      <th>2</th>\n",
       "      <td>AB10 1NW</td>\n",
       "      <td>2361</td>\n",
       "      <td>54</td>\n",
       "      <td>2025</td>\n",
       "      <td>2073</td>\n",
       "      <td>327</td>\n",
       "      <td>1293</td>\n",
       "      <td>183</td>\n",
       "      <td>24</td>\n",
       "      <td>54</td>\n",
       "      <td>...</td>\n",
       "      <td>7.361332</td>\n",
       "      <td>0.168366</td>\n",
       "      <td>6.313722</td>\n",
       "      <td>6.463380</td>\n",
       "      <td>1.019549</td>\n",
       "      <td>4.031428</td>\n",
       "      <td>0.570573</td>\n",
       "      <td>0.074829</td>\n",
       "      <td>0.168366</td>\n",
       "      <td>19.689458</td>\n",
       "    </tr>\n",
       "  </tbody>\n",
       "</table>\n",
       "<p>3 rows × 25 columns</p>\n",
       "</div>"
      ],
      "text/plain": [
       "    pcstrip  depression  alzheimers  blood pressure  hypertension  diabeties  \\\n",
       "0  AB10 1NW        2136          63            1818          1854        291   \n",
       "1  AB10 1NW        2070          48            1764          1788        255   \n",
       "2  AB10 1NW        2361          54            2025          2073        327   \n",
       "\n",
       "   cardiovascular disease  insomnia  addiction  social anxiety  ...  \\\n",
       "0                    1149       189         24              33  ...   \n",
       "1                    1125       180         21              33  ...   \n",
       "2                    1293       183         24              54  ...   \n",
       "\n",
       "   depression_perc  alzheimers_perc blood pressure_perc hypertension_perc  \\\n",
       "0         7.270499         0.214439            6.188094          6.310630   \n",
       "1         7.657308         0.177561            6.525358          6.614138   \n",
       "2         7.361332         0.168366            6.313722          6.463380   \n",
       "\n",
       "   diabeties_perc  cardiovascular disease_perc  insomnia_perc  addiction_perc  \\\n",
       "0        0.990503                     3.910957       0.643317        0.081691   \n",
       "1        0.943292                     4.161580       0.665853        0.077683   \n",
       "2        1.019549                     4.031428       0.570573        0.074829   \n",
       "\n",
       "   social anxiety_perc  loneliness_perc  \n",
       "0             0.112325        19.422036  \n",
       "1             0.122073        20.297414  \n",
       "2             0.168366        19.689458  \n",
       "\n",
       "[3 rows x 25 columns]"
      ]
     },
     "execution_count": 69,
     "metadata": {},
     "output_type": "execute_result"
    }
   ],
   "source": [
    "data.head(3)"
   ]
  },
  {
   "cell_type": "markdown",
   "id": "3d1ec753",
   "metadata": {},
   "source": [
    "## Standardisation"
   ]
  },
  {
   "cell_type": "code",
   "execution_count": 70,
   "id": "4e6becf1",
   "metadata": {},
   "outputs": [],
   "source": [
    "# Calculate the z scores per illness\n",
    "\n",
    "# Make new column names.\n",
    "per_cols = ['depression_perc', 'alzheimers_perc', 'blood pressure_perc', 'hypertension_perc', \n",
    "            'diabeties_perc', 'cardiovascular disease_perc', 'insomnia_perc', 'addiction_perc',\n",
    "            'social anxiety_perc']\n",
    "\n",
    "# Calculate Z-scores for each column\n",
    "for i, col in enumerate(per_cols):\n",
    "    col_zscore = col[:-5] + 'zscore'  # New column name for Z-scores\n",
    "    data[col_zscore] = stats.zscore(data[col])\n"
   ]
  },
  {
   "cell_type": "code",
   "execution_count": 71,
   "id": "8ae34b36",
   "metadata": {},
   "outputs": [],
   "source": [
    "# Add conditions z scores for overall loneliness z score\n",
    "data['loneliness_zscore'] = data[[ 'depressionzscore', 'alzheimerszscore',\n",
    "       'blood pressurezscore', 'hypertensionzscore', 'diabetieszscore',\n",
    "       'cardiovascular diseasezscore', 'insomniazscore', 'addictionzscore',\n",
    "       'social anxietyzscore']].sum(axis=1)"
   ]
  },
  {
   "cell_type": "code",
   "execution_count": 72,
   "id": "16128f6d",
   "metadata": {},
   "outputs": [
    {
     "data": {
      "image/png": "[encoded data removed]",
      "text/plain": [
       "<Figure size 640x480 with 1 Axes>"
      ]
     },
     "metadata": {},
     "output_type": "display_data"
    }
   ],
   "source": [
    "data.loneliness_zscore.hist(bins=100);"
   ]
  },
  {
   "cell_type": "code",
   "execution_count": 73,
   "id": "7036dcc9",
   "metadata": {},
   "outputs": [
    {
     "data": {
      "image/png": "[encoded data removed]",
      "text/plain": [
       "<Figure size 640x480 with 1 Axes>"
      ]
     },
     "metadata": {},
     "output_type": "display_data"
    }
   ],
   "source": [
    "# Scale -1 to 1\n",
    "def scale_1_1(x):\n",
    "    return (x - np.mean(x)) / max(abs(x - np.mean(x)))\n",
    "\n",
    "data['scaled_1_1'] = scale_1_1(data['loneliness_zscore'])\n",
    "data.scaled_1_1.hist(bins=100);"
   ]
  },
  {
   "cell_type": "code",
   "execution_count": 74,
   "id": "f7aaac6b",
   "metadata": {},
   "outputs": [
    {
     "data": {
      "image/png": "[encoded data removed]",
      "text/plain": [
       "<Figure size 640x480 with 1 Axes>"
      ]
     },
     "metadata": {},
     "output_type": "display_data"
    }
   ],
   "source": [
    "data['deciles'] = pd.qcut(data['loneliness_zscore'], q=10, labels=False)\n",
    "data.deciles.hist(bins=100);"
   ]
  },
  {
   "cell_type": "code",
   "execution_count": 76,
   "id": "8fe9f1a5",
   "metadata": {},
   "outputs": [
    {
     "data": {
      "text/plain": [
       "Index(['pcstrip', 'depression', 'alzheimers', 'blood pressure', 'hypertension',\n",
       "       'diabeties', 'cardiovascular disease', 'insomnia', 'addiction',\n",
       "       'social anxiety', 'NumberOfPaidItems', 'loneliness', 'HBT', 'Postcode',\n",
       "       'Date', 'depression_perc', 'alzheimers_perc', 'blood pressure_perc',\n",
       "       'hypertension_perc', 'diabeties_perc', 'cardiovascular disease_perc',\n",
       "       'insomnia_perc', 'addiction_perc', 'social anxiety_perc',\n",
       "       'loneliness_perc', 'depressionzscore', 'alzheimerszscore',\n",
       "       'blood pressurezscore', 'hypertensionzscore', 'diabetieszscore',\n",
       "       'cardiovascular diseasezscore', 'insomniazscore', 'addictionzscore',\n",
       "       'social anxietyzscore', 'loneliness_zscore', 'scaled_1_1', 'deciles'],\n",
       "      dtype='object')"
      ]
     },
     "execution_count": 76,
     "metadata": {},
     "output_type": "execute_result"
    }
   ],
   "source": [
    "data.columns"
   ]
  },
  {
   "cell_type": "code",
   "execution_count": 82,
   "id": "4c2f138c",
   "metadata": {},
   "outputs": [],
   "source": [
    "data.rename(columns={'pcstrip':'postcode'}, inplace = True)"
   ]
  },
  {
   "cell_type": "code",
   "execution_count": 84,
   "id": "8a5422d3",
   "metadata": {},
   "outputs": [],
   "source": [
    "data = data[['postcode','loneliness_zscore','scaled_1_1','deciles']]"
   ]
  },
  {
   "cell_type": "code",
   "execution_count": 85,
   "id": "0f08a63a",
   "metadata": {},
   "outputs": [
    {
     "data": {
      "text/html": [
       "<div>\n",
       "<style scoped>\n",
       "    .dataframe tbody tr th:only-of-type {\n",
       "        vertical-align: middle;\n",
       "    }\n",
       "\n",
       "    .dataframe tbody tr th {\n",
       "        vertical-align: top;\n",
       "    }\n",
       "\n",
       "    .dataframe thead th {\n",
       "        text-align: right;\n",
       "    }\n",
       "</style>\n",
       "<table border=\"1\" class=\"dataframe\">\n",
       "  <thead>\n",
       "    <tr style=\"text-align: right;\">\n",
       "      <th></th>\n",
       "      <th>postcode</th>\n",
       "      <th>loneliness_zscore</th>\n",
       "      <th>scaled_1_1</th>\n",
       "      <th>deciles</th>\n",
       "    </tr>\n",
       "  </thead>\n",
       "  <tbody>\n",
       "    <tr>\n",
       "      <th>0</th>\n",
       "      <td>AB10 1NW</td>\n",
       "      <td>-1.751890</td>\n",
       "      <td>-0.032413</td>\n",
       "      <td>2</td>\n",
       "    </tr>\n",
       "    <tr>\n",
       "      <th>1</th>\n",
       "      <td>AB10 1NW</td>\n",
       "      <td>-1.081819</td>\n",
       "      <td>-0.020016</td>\n",
       "      <td>3</td>\n",
       "    </tr>\n",
       "    <tr>\n",
       "      <th>2</th>\n",
       "      <td>AB10 1NW</td>\n",
       "      <td>-1.443413</td>\n",
       "      <td>-0.026706</td>\n",
       "      <td>2</td>\n",
       "    </tr>\n",
       "    <tr>\n",
       "      <th>3</th>\n",
       "      <td>AB10 1NW</td>\n",
       "      <td>-0.995764</td>\n",
       "      <td>-0.018423</td>\n",
       "      <td>3</td>\n",
       "    </tr>\n",
       "    <tr>\n",
       "      <th>4</th>\n",
       "      <td>AB10 1NW</td>\n",
       "      <td>-1.294026</td>\n",
       "      <td>-0.023942</td>\n",
       "      <td>2</td>\n",
       "    </tr>\n",
       "    <tr>\n",
       "      <th>...</th>\n",
       "      <td>...</td>\n",
       "      <td>...</td>\n",
       "      <td>...</td>\n",
       "      <td>...</td>\n",
       "    </tr>\n",
       "    <tr>\n",
       "      <th>8847</th>\n",
       "      <td>ZE2 9RW</td>\n",
       "      <td>0.108418</td>\n",
       "      <td>0.002006</td>\n",
       "      <td>5</td>\n",
       "    </tr>\n",
       "    <tr>\n",
       "      <th>8848</th>\n",
       "      <td>ZE2 9RW</td>\n",
       "      <td>2.248522</td>\n",
       "      <td>0.041602</td>\n",
       "      <td>8</td>\n",
       "    </tr>\n",
       "    <tr>\n",
       "      <th>8849</th>\n",
       "      <td>ZE2 9RW</td>\n",
       "      <td>2.694100</td>\n",
       "      <td>0.049846</td>\n",
       "      <td>8</td>\n",
       "    </tr>\n",
       "    <tr>\n",
       "      <th>8850</th>\n",
       "      <td>ZE2 9RW</td>\n",
       "      <td>-0.114634</td>\n",
       "      <td>-0.002121</td>\n",
       "      <td>5</td>\n",
       "    </tr>\n",
       "    <tr>\n",
       "      <th>8851</th>\n",
       "      <td>ZE2 9RW</td>\n",
       "      <td>0.858446</td>\n",
       "      <td>0.015883</td>\n",
       "      <td>6</td>\n",
       "    </tr>\n",
       "  </tbody>\n",
       "</table>\n",
       "<p>8852 rows × 4 columns</p>\n",
       "</div>"
      ],
      "text/plain": [
       "      postcode  loneliness_zscore  scaled_1_1  deciles\n",
       "0     AB10 1NW          -1.751890   -0.032413        2\n",
       "1     AB10 1NW          -1.081819   -0.020016        3\n",
       "2     AB10 1NW          -1.443413   -0.026706        2\n",
       "3     AB10 1NW          -0.995764   -0.018423        3\n",
       "4     AB10 1NW          -1.294026   -0.023942        2\n",
       "...        ...                ...         ...      ...\n",
       "8847   ZE2 9RW           0.108418    0.002006        5\n",
       "8848   ZE2 9RW           2.248522    0.041602        8\n",
       "8849   ZE2 9RW           2.694100    0.049846        8\n",
       "8850   ZE2 9RW          -0.114634   -0.002121        5\n",
       "8851   ZE2 9RW           0.858446    0.015883        6\n",
       "\n",
       "[8852 rows x 4 columns]"
      ]
     },
     "execution_count": 85,
     "metadata": {},
     "output_type": "execute_result"
    }
   ],
   "source": [
    "data"
   ]
  },
  {
   "cell_type": "code",
   "execution_count": 64,
   "id": "1e142b15",
   "metadata": {},
   "outputs": [
    {
     "name": "stdout",
     "output_type": "stream",
     "text": [
      "Defaulting to user installation because normal site-packages is not writeable\n",
      "Collecting feather-format\n",
      "  Downloading feather-format-0.4.1.tar.gz (3.2 kB)\n",
      "Collecting pyarrow>=0.4.0\n",
      "  Downloading pyarrow-12.0.1-cp39-cp39-win_amd64.whl (21.5 MB)\n",
      "Requirement already satisfied: numpy>=1.16.6 in c:\\users\\jennatan\\appdata\\roaming\\python\\python39\\site-packages (from pyarrow>=0.4.0->feather-format) (1.25.0)\n",
      "Building wheels for collected packages: feather-format\n",
      "  Building wheel for feather-format (setup.py): started\n",
      "  Building wheel for feather-format (setup.py): finished with status 'done'\n",
      "  Created wheel for feather-format: filename=feather_format-0.4.1-py3-none-any.whl size=2471 sha256=a63d35553217835098a2eab9e4bcfed5ba27bf1ee58b2939a85020509647274e\n",
      "  Stored in directory: c:\\users\\jennatan\\appdata\\local\\pip\\cache\\wheels\\e3\\dc\\eb\\3a9468e9322c8284d7a53eab23e7a4bab6f271fff7a5871e2f\n",
      "Successfully built feather-format\n",
      "Installing collected packages: pyarrow, feather-format\n",
      "Successfully installed feather-format-0.4.1 pyarrow-12.0.1\n"
     ]
    },
    {
     "name": "stderr",
     "output_type": "stream",
     "text": [
      "WARNING: You are using pip version 21.1.3; however, version 23.1.2 is available.\n",
      "You should consider upgrading via the 'c:\\program files\\python39\\python.exe -m pip install --upgrade pip' command.\n"
     ]
    }
   ],
   "source": [
    "!pip install feather-format"
   ]
  },
  {
   "cell_type": "code",
   "execution_count": 86,
   "id": "c9703026",
   "metadata": {},
   "outputs": [],
   "source": [
    "import feather"
   ]
  },
  {
   "cell_type": "code",
   "execution_count": null,
   "id": "f85e13de",
   "metadata": {},
   "outputs": [],
   "source": [
    "feather.write_dataframe(data, 'test.rda')"
   ]
  }
 ],
 "metadata": {
  "kernelspec": {
   "display_name": "Python 3 (ipykernel)",
   "language": "python",
   "name": "python3"
  },
  "language_info": {
   "codemirror_mode": {
    "name": "ipython",
    "version": 3
   },
   "file_extension": ".py",
   "mimetype": "text/x-python",
   "name": "python",
   "nbconvert_exporter": "python",
   "pygments_lexer": "ipython3",
   "version": "3.9.6"
  }
 },
 "nbformat": 4,
 "nbformat_minor": 5
}
