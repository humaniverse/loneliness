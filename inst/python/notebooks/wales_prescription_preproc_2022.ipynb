{
 "cells": [
  {
   "cell_type": "markdown",
   "id": "3eadd414",
   "metadata": {},
   "source": [
    "# Creating Loneliness Index for GPs in Northern Ireland using Prescription Data, 2022"
   ]
  },
  {
   "cell_type": "markdown",
   "id": "70ff3da1-682d-4210-a43b-645cc7d40a32",
   "metadata": {},
   "source": [
    "- Outputs an index of loneliness scores for GPs' postcodes in NI for Jan 2022 - Dec 2022 \n",
    "- To be used as an input to map area scores"
   ]
  },
  {
   "cell_type": "markdown",
   "id": "2f79f774-2c03-4ab2-8dad-51b03d2b9754",
   "metadata": {},
   "source": [
    "### Check you are in a venv"
   ]
  },
  {
   "cell_type": "code",
   "execution_count": 1,
   "id": "201c78fd-b767-4eac-95fd-036f7eb234ae",
   "metadata": {},
   "outputs": [
    {
     "name": "stdout",
     "output_type": "stream",
     "text": [
      "You are in a virtual environment - venv_loneliness\n"
     ]
    }
   ],
   "source": [
    "import sys\n",
    "import os\n",
    "if sys.base_prefix != sys.prefix:\n",
    "    venv_name = os.path.basename(sys.prefix)\n",
    "    print(f\"You are in a virtual environment - {venv_name}\")\n",
    "else:\n",
    "    print(\"You are not in a virtual environment. Activate your venev\")"
   ]
  },
  {
   "cell_type": "code",
   "execution_count": 2,
   "id": "37cc71c9-95ad-4b81-92fd-c7b0515e05e3",
   "metadata": {},
   "outputs": [
    {
     "name": "stdout",
     "output_type": "stream",
     "text": [
      "Requirement already satisfied: openpyxl in c:\\users\\jennatan\\documents\\loneliness\\venv_loneliness\\lib\\site-packages (3.1.2)\n",
      "Requirement already satisfied: et-xmlfile in c:\\users\\jennatan\\documents\\loneliness\\venv_loneliness\\lib\\site-packages (from openpyxl) (1.1.0)\n"
     ]
    },
    {
     "name": "stderr",
     "output_type": "stream",
     "text": [
      "WARNING: You are using pip version 21.1.3; however, version 23.2.1 is available.\n",
      "You should consider upgrading via the 'c:\\users\\jennatan\\documents\\loneliness\\venv_loneliness\\scripts\\python.exe -m pip install --upgrade pip' command.\n"
     ]
    }
   ],
   "source": [
    "!pip install openpyxl"
   ]
  },
  {
   "cell_type": "code",
   "execution_count": 3,
   "id": "a0a5bc26",
   "metadata": {},
   "outputs": [],
   "source": [
    "import pandas as pd\n",
    "import numpy as np\n",
    "import os\n",
    "import matplotlib.pyplot as plt\n",
    "import scipy.stats as stats\n",
    "from pathlib import Path\n",
    "import zipfile as zp"
   ]
  },
  {
   "cell_type": "code",
   "execution_count": 4,
   "id": "c2e5bfa0",
   "metadata": {},
   "outputs": [],
   "source": [
    "# Path to files\n",
    "path = \"../../extdata/\""
   ]
  },
  {
   "cell_type": "markdown",
   "id": "87cf7ad4",
   "metadata": {},
   "source": [
    "# Read drug data"
   ]
  },
  {
   "cell_type": "code",
   "execution_count": 5,
   "id": "f47335fe",
   "metadata": {},
   "outputs": [],
   "source": [
    "drug_data = pd.read_csv(\"../../extdata/drug_list.csv\")"
   ]
  },
  {
   "cell_type": "markdown",
   "id": "4f1a245a",
   "metadata": {},
   "source": [
    "# Process Prescribing and GP postcode data\n",
    "- Uses monthly \"GP Data Extract\" files that come from: https://nwssp.nhs.wales/ourservices/primary-care-services/general-information/data-and-publications/prescribing-data-extracts/general-practice-prescribing-data-extract/ to identify loneliness related conditions based on prescriptions\n",
    "- Each zip file contains prescription info and GP contact details\n",
    "- This block of code iterates through each zip folder, counts loneliness related prescriptions from the GPData file and joins it to the address files to get the GP's postcode\n",
    "- Outputs a dataframe that multiplies loneliness related prescriptions by its count.\n",
    "\n",
    "  \n",
    "The data covers prescriptions that are prescribed in Wales by GP's (general medical practitioners) and non medical prescribers that have prescribed on behalf of the GP practice, that are then dispensed in the community within Wales or England. The data includes all prescribed medicines, dressings and appliances that are dispensed each month. If a patient does not take a prescription to the pharmacy for dispensing, then the information will not be included in the dataset. Private prescriptions are not included in the data.\n",
    "\n",
    "**Prescription in the Community files for each month in 2022 need to be manually downloaded from the link above and saved in the pitc_wales/ folder**"
   ]
  },
  {
   "cell_type": "code",
   "execution_count": 6,
   "id": "42c54fa8-35f4-4845-84ba-d8c2df3fac96",
   "metadata": {},
   "outputs": [],
   "source": [
    "# Create prescriptions folder if doesn't already exist\n",
    "folder_path = Path(\"../../extdata/pitc_wales\")\n",
    "if not folder_path.exists():\n",
    "    folder_path.mkdir(parents=True)"
   ]
  },
  {
   "cell_type": "code",
   "execution_count": 7,
   "id": "98029f41",
   "metadata": {},
   "outputs": [],
   "source": [
    "# column names\n",
    "col_bnfname = \"BNFName\"\n",
    "col_items = \"Items\""
   ]
  },
  {
   "cell_type": "code",
   "execution_count": 8,
   "id": "204acae2",
   "metadata": {},
   "outputs": [],
   "source": [
    "# Function to find loneliness related conditions based on prescription\n",
    "def code_loneliness(x):\n",
    "    out = {}\n",
    "    # coding by illness categories\n",
    "    for illness in drug_data['illness'].unique():\n",
    "        out[illness] = x[col_bnfname].str.contains(\"|\".join(drug_data[drug_data['illness'] == illness]['medication']),\n",
    "                                                 case=False, \n",
    "                                                 regex=True).fillna(False).astype('int16')\n",
    "    # Make dataframe\n",
    "    out = pd.DataFrame(out)\n",
    "  \n",
    "    # Return dataframe multiplied by counts of items\n",
    "    return out.multiply(x[col_items], axis=0)"
   ]
  },
  {
   "cell_type": "code",
   "execution_count": 9,
   "id": "1fe2e159-2fc0-442e-9dc4-b74510bebf67",
   "metadata": {},
   "outputs": [],
   "source": [
    "# Define the aggregation methods per column\n",
    "agg_cols = {col : 'sum' for col in drug_data['illness'].unique()}\n",
    "agg_cols[col_items] = 'sum'\n",
    "for key in ['pcstrip', 'Postcode']:\n",
    "    agg_cols[key] = 'first'"
   ]
  },
  {
   "cell_type": "code",
   "execution_count": 10,
   "id": "5b300bee",
   "metadata": {},
   "outputs": [
    {
     "name": "stdout",
     "output_type": "stream",
     "text": [
      " Completed processing GPData202201.zip\n",
      " Completed processing GPData202202.zip\n",
      " Completed processing GPData202203.zip\n",
      " Completed processing GPData202204.zip\n",
      " Completed processing GPData202205.zip\n",
      " Completed processing GPData202206.zip\n",
      " Completed processing GPData202207.zip\n",
      " Completed processing GPData202208.zip\n",
      " Completed processing GPData202209.zip\n",
      " Completed processing GPData202210.zip\n",
      " Completed processing GPData202211.zip\n",
      " Completed processing GPData202212.zip\n"
     ]
    }
   ],
   "source": [
    "monthly_data = []\n",
    "\n",
    "for file in os.listdir(path + \"pitc_wales\"):\n",
    "    with zp.ZipFile(path + \"pitc_wales/\" + file) as zipf:\n",
    "        zip_names = zipf.namelist()\n",
    "        \n",
    "        # Preprocess prescribing files\n",
    "        prescribe_name = next((filename for filename in zip_names if \"GPData\" in filename), None)\n",
    "        prescribe = pd.read_csv(zipf.open(prescribe_name))\n",
    "        prescribe.columns = prescribe.columns.str.strip()\n",
    "        prescribe = prescribe[['PracticeID', col_bnfname, col_items]]\n",
    "        ## Count prescriptions\n",
    "        loneliness_prescribing = code_loneliness(prescribe[[col_bnfname, col_items]])\n",
    "        ## Merge dfs across the months\n",
    "        prescribe = prescribe.merge(loneliness_prescribing, left_index=True, right_index=True)\n",
    "        del loneliness_prescribing\n",
    "        \n",
    "        # Preprocess address files\n",
    "        addr_name = next((filename for filename in zip_names if \"Address\" in filename), None)\n",
    "        addr = pd.read_csv(zipf.open(addr_name))\n",
    "        addr = addr[['PracticeId', 'Postcode']]\n",
    "\n",
    "        # Merge prescribing files and address files\n",
    "        prescribe = prescribe.merge(addr, left_on = 'PracticeID', right_on = 'PracticeId')\n",
    "        del addr\n",
    "\n",
    "        # Create uniform postcode field\n",
    "        prescribe['pcstrip'] = prescribe['Postcode'].str.replace(\" \",\"\")\n",
    "\n",
    "        # Group by GP per month \n",
    "        summary = prescribe.groupby('PracticeID', as_index=False).agg(agg_cols) # Use agg method dict from cell above\n",
    "        del prescribe\n",
    "        \n",
    "        # Append each month to a list\n",
    "        monthly_data.append(summary)\n",
    "        print(f\" Completed processing {file}\")\n"
   ]
  },
  {
   "cell_type": "code",
   "execution_count": 11,
   "id": "f76e0f93",
   "metadata": {},
   "outputs": [
    {
     "name": "stdout",
     "output_type": "stream",
     "text": [
      "(5779, 12)\n"
     ]
    },
    {
     "data": {
      "text/html": [
       "<div>\n",
       "<style scoped>\n",
       "    .dataframe tbody tr th:only-of-type {\n",
       "        vertical-align: middle;\n",
       "    }\n",
       "\n",
       "    .dataframe tbody tr th {\n",
       "        vertical-align: top;\n",
       "    }\n",
       "\n",
       "    .dataframe thead th {\n",
       "        text-align: right;\n",
       "    }\n",
       "</style>\n",
       "<table border=\"1\" class=\"dataframe\">\n",
       "  <thead>\n",
       "    <tr style=\"text-align: right;\">\n",
       "      <th></th>\n",
       "      <th>PracticeID</th>\n",
       "      <th>depression</th>\n",
       "      <th>alzheimers</th>\n",
       "      <th>hypertension</th>\n",
       "      <th>diabetes</th>\n",
       "      <th>cardiovascular disease</th>\n",
       "      <th>insomnia</th>\n",
       "      <th>addiction</th>\n",
       "      <th>social anxiety</th>\n",
       "      <th>Items</th>\n",
       "      <th>pcstrip</th>\n",
       "      <th>Postcode</th>\n",
       "    </tr>\n",
       "  </thead>\n",
       "  <tbody>\n",
       "    <tr>\n",
       "      <th>0</th>\n",
       "      <td>W00005</td>\n",
       "      <td>2081</td>\n",
       "      <td>62</td>\n",
       "      <td>2066</td>\n",
       "      <td>376</td>\n",
       "      <td>1406</td>\n",
       "      <td>111</td>\n",
       "      <td>2</td>\n",
       "      <td>0</td>\n",
       "      <td>19321</td>\n",
       "      <td>CF834AU</td>\n",
       "      <td>CF83 4AU</td>\n",
       "    </tr>\n",
       "    <tr>\n",
       "      <th>1</th>\n",
       "      <td>W00007</td>\n",
       "      <td>1412</td>\n",
       "      <td>19</td>\n",
       "      <td>1255</td>\n",
       "      <td>169</td>\n",
       "      <td>907</td>\n",
       "      <td>81</td>\n",
       "      <td>1</td>\n",
       "      <td>12</td>\n",
       "      <td>14695</td>\n",
       "      <td>LL113NS</td>\n",
       "      <td>LL11 3NS</td>\n",
       "    </tr>\n",
       "    <tr>\n",
       "      <th>2</th>\n",
       "      <td>W00016</td>\n",
       "      <td>0</td>\n",
       "      <td>0</td>\n",
       "      <td>0</td>\n",
       "      <td>0</td>\n",
       "      <td>0</td>\n",
       "      <td>0</td>\n",
       "      <td>0</td>\n",
       "      <td>0</td>\n",
       "      <td>1</td>\n",
       "      <td>NP183XQ</td>\n",
       "      <td>NP18 3XQ</td>\n",
       "    </tr>\n",
       "    <tr>\n",
       "      <th>3</th>\n",
       "      <td>W00019</td>\n",
       "      <td>7</td>\n",
       "      <td>0</td>\n",
       "      <td>2</td>\n",
       "      <td>0</td>\n",
       "      <td>1</td>\n",
       "      <td>2</td>\n",
       "      <td>0</td>\n",
       "      <td>0</td>\n",
       "      <td>779</td>\n",
       "      <td>CH51XS</td>\n",
       "      <td>CH5 1XS</td>\n",
       "    </tr>\n",
       "    <tr>\n",
       "      <th>4</th>\n",
       "      <td>W00021</td>\n",
       "      <td>14</td>\n",
       "      <td>0</td>\n",
       "      <td>8</td>\n",
       "      <td>1</td>\n",
       "      <td>2</td>\n",
       "      <td>6</td>\n",
       "      <td>0</td>\n",
       "      <td>0</td>\n",
       "      <td>1134</td>\n",
       "      <td>NP447XX</td>\n",
       "      <td>NP44 7XX</td>\n",
       "    </tr>\n",
       "  </tbody>\n",
       "</table>\n",
       "</div>"
      ],
      "text/plain": [
       "  PracticeID  depression  alzheimers  hypertension  diabetes  \\\n",
       "0     W00005        2081          62          2066       376   \n",
       "1     W00007        1412          19          1255       169   \n",
       "2     W00016           0           0             0         0   \n",
       "3     W00019           7           0             2         0   \n",
       "4     W00021          14           0             8         1   \n",
       "\n",
       "   cardiovascular disease  insomnia  addiction  social anxiety  Items  \\\n",
       "0                    1406       111          2               0  19321   \n",
       "1                     907        81          1              12  14695   \n",
       "2                       0         0          0               0      1   \n",
       "3                       1         2          0               0    779   \n",
       "4                       2         6          0               0   1134   \n",
       "\n",
       "   pcstrip  Postcode  \n",
       "0  CF834AU  CF83 4AU  \n",
       "1  LL113NS  LL11 3NS  \n",
       "2  NP183XQ  NP18 3XQ  \n",
       "3   CH51XS   CH5 1XS  \n",
       "4  NP447XX  NP44 7XX  "
      ]
     },
     "execution_count": 11,
     "metadata": {},
     "output_type": "execute_result"
    }
   ],
   "source": [
    "# concatenate all the monthly data together\n",
    "monthly_prescriptions = pd.concat(monthly_data, ignore_index = True)\n",
    "# monthly_prescriptions.drop(columns = [\"PracticeId\", \"Postcode\", , inplace = True)\n",
    "print(monthly_prescriptions.shape)\n",
    "monthly_prescriptions.head()"
   ]
  },
  {
   "cell_type": "code",
   "execution_count": 12,
   "id": "9c98cc7d-a8d6-449f-aaed-fb977471c88d",
   "metadata": {},
   "outputs": [],
   "source": [
    "# Groupby practice ID again to get figures across the year\n",
    "monthly_prescriptions = monthly_prescriptions.groupby('PracticeID', as_index= False).agg(agg_cols)"
   ]
  },
  {
   "cell_type": "code",
   "execution_count": 13,
   "id": "ab2eca56-a9f4-491b-b8f5-f5d550e36811",
   "metadata": {},
   "outputs": [
    {
     "name": "stdout",
     "output_type": "stream",
     "text": [
      "536\n"
     ]
    },
    {
     "data": {
      "text/plain": [
       "(536, 12)"
      ]
     },
     "execution_count": 13,
     "metadata": {},
     "output_type": "execute_result"
    }
   ],
   "source": [
    "print(monthly_prescriptions.PracticeID.nunique())\n",
    "monthly_prescriptions.shape"
   ]
  },
  {
   "cell_type": "code",
   "execution_count": 14,
   "id": "3d9df74f-a433-41fa-a9b9-6dc4c1d1e769",
   "metadata": {},
   "outputs": [
    {
     "data": {
      "text/plain": [
       "False    536\n",
       "Name: count, dtype: int64"
      ]
     },
     "execution_count": 14,
     "metadata": {},
     "output_type": "execute_result"
    }
   ],
   "source": [
    "# Check no duplicates\n",
    "monthly_prescriptions.duplicated().value_counts()"
   ]
  },
  {
   "cell_type": "markdown",
   "id": "5395f4a5-5826-48d2-bc9f-7af013a1caec",
   "metadata": {},
   "source": [
    "No duplicates"
   ]
  },
  {
   "cell_type": "code",
   "execution_count": 15,
   "id": "294005fe",
   "metadata": {},
   "outputs": [],
   "source": [
    "# Save aggregated data\n",
    "monthly_prescriptions.to_csv(path + \"monthly_prescriptions.csv\")"
   ]
  },
  {
   "cell_type": "markdown",
   "id": "533e6f58-0618-48b2-95e0-8f78d8fca209",
   "metadata": {},
   "source": [
    "### Subset dataset for GPs only"
   ]
  },
  {
   "cell_type": "markdown",
   "id": "3ba20af3-40b1-444f-a75d-11a2fd19ebd2",
   "metadata": {},
   "source": [
    "Dataset includes non GPs, e.g. pharmacies. Isolate for GPs only using list of GP practices here https://nwssp.nhs.wales/ourservices/primary-care-services/general-information/data-and-publications/prescribing-data-extracts/gp-practice-analysis/\n",
    "\n",
    "**GP Practice Analysis 2022 needs to be manually downloaded into the inst/extdata/gp_details_wales/ folder**"
   ]
  },
  {
   "cell_type": "code",
   "execution_count": 16,
   "id": "3615ba6a-5e9a-4e1b-bfca-ea16e49b1875",
   "metadata": {},
   "outputs": [],
   "source": [
    "# Create gp details folder if doesn't already exist\n",
    "folder_path = Path(\"../../extdata/gp_details_wales\")\n",
    "if not folder_path.exists():\n",
    "    folder_path.mkdir(parents=True)"
   ]
  },
  {
   "cell_type": "code",
   "execution_count": 17,
   "id": "2f7dd0c5-5b94-4bc2-845d-e0ca93f7e1a7",
   "metadata": {},
   "outputs": [],
   "source": [
    "gp = pd.read_excel(path+ \"gp_details_wales/PracticeItemsDecember2022.xlsx\")"
   ]
  },
  {
   "cell_type": "code",
   "execution_count": 18,
   "id": "f0e4988d-efa5-4fc7-9d57-7c4d62067d0c",
   "metadata": {},
   "outputs": [],
   "source": [
    "gp_ids = gp.PracticeID.unique()\n",
    "prescriptions_gp = monthly_prescriptions[monthly_prescriptions['PracticeID'].isin(gp_ids)].copy()"
   ]
  },
  {
   "cell_type": "code",
   "execution_count": 19,
   "id": "f938e39d-f46e-4472-be91-0a2492e099d6",
   "metadata": {},
   "outputs": [
    {
     "name": "stdout",
     "output_type": "stream",
     "text": [
      "(475, 12)\n"
     ]
    }
   ],
   "source": [
    "# Check data subsetting properly\n",
    "len(prescriptions_gp) == gp.PracticeID.nunique()\n",
    "print(prescriptions_gp.shape)"
   ]
  },
  {
   "cell_type": "code",
   "execution_count": 20,
   "id": "de6f4a98",
   "metadata": {},
   "outputs": [
    {
     "data": {
      "text/plain": [
       "PracticeID\n",
       "W00005    1\n",
       "W95034    1\n",
       "W95051    1\n",
       "W95050    1\n",
       "W95049    1\n",
       "W95046    1\n",
       "W95044    1\n",
       "W95043    1\n",
       "W95042    1\n",
       "W95041    1\n",
       "Name: pcstrip, dtype: int64"
      ]
     },
     "execution_count": 20,
     "metadata": {},
     "output_type": "execute_result"
    }
   ],
   "source": [
    "# Check number of GP Practices with multiple postcodes - none\n",
    "prescriptions_gp.groupby('PracticeID')['pcstrip'].count().sort_values(ascending=False).head(10)"
   ]
  },
  {
   "cell_type": "markdown",
   "id": "02a4875d",
   "metadata": {},
   "source": [
    "# Generate Statistics from Prescribing Counts\n",
    "- Compute percentages per condition as total of all drugs prescribed per postcode\n",
    "- Compute z-score per condition across postcodes\n",
    "- Add z-scores of all conditions together to compute a loneliness score per postcode\n",
    "- The loneliness variable is an equally weighted index of the conditions."
   ]
  },
  {
   "cell_type": "code",
   "execution_count": 21,
   "id": "bbe4f989-b2fe-4a3c-89ca-955c5985eb03",
   "metadata": {},
   "outputs": [
    {
     "data": {
      "text/html": [
       "<div>\n",
       "<style scoped>\n",
       "    .dataframe tbody tr th:only-of-type {\n",
       "        vertical-align: middle;\n",
       "    }\n",
       "\n",
       "    .dataframe tbody tr th {\n",
       "        vertical-align: top;\n",
       "    }\n",
       "\n",
       "    .dataframe thead th {\n",
       "        text-align: right;\n",
       "    }\n",
       "</style>\n",
       "<table border=\"1\" class=\"dataframe\">\n",
       "  <thead>\n",
       "    <tr style=\"text-align: right;\">\n",
       "      <th></th>\n",
       "      <th>index</th>\n",
       "      <th>PracticeID</th>\n",
       "      <th>depression</th>\n",
       "      <th>alzheimers</th>\n",
       "      <th>hypertension</th>\n",
       "      <th>diabetes</th>\n",
       "      <th>cardiovascular disease</th>\n",
       "      <th>insomnia</th>\n",
       "      <th>addiction</th>\n",
       "      <th>social anxiety</th>\n",
       "      <th>Items</th>\n",
       "      <th>pcstrip</th>\n",
       "      <th>Postcode</th>\n",
       "    </tr>\n",
       "  </thead>\n",
       "  <tbody>\n",
       "    <tr>\n",
       "      <th>0</th>\n",
       "      <td>1</td>\n",
       "      <td>W00005</td>\n",
       "      <td>26547</td>\n",
       "      <td>805</td>\n",
       "      <td>25481</td>\n",
       "      <td>4786</td>\n",
       "      <td>17511</td>\n",
       "      <td>1503</td>\n",
       "      <td>15</td>\n",
       "      <td>2</td>\n",
       "      <td>247909</td>\n",
       "      <td>CF834AU</td>\n",
       "      <td>CF83 4AU</td>\n",
       "    </tr>\n",
       "    <tr>\n",
       "      <th>1</th>\n",
       "      <td>3</td>\n",
       "      <td>W00007</td>\n",
       "      <td>18294</td>\n",
       "      <td>218</td>\n",
       "      <td>15920</td>\n",
       "      <td>2042</td>\n",
       "      <td>11168</td>\n",
       "      <td>1132</td>\n",
       "      <td>22</td>\n",
       "      <td>168</td>\n",
       "      <td>188803</td>\n",
       "      <td>LL113NS</td>\n",
       "      <td>LL11 3NS</td>\n",
       "    </tr>\n",
       "  </tbody>\n",
       "</table>\n",
       "</div>"
      ],
      "text/plain": [
       "   index PracticeID  depression  alzheimers  hypertension  diabetes  \\\n",
       "0      1     W00005       26547         805         25481      4786   \n",
       "1      3     W00007       18294         218         15920      2042   \n",
       "\n",
       "   cardiovascular disease  insomnia  addiction  social anxiety   Items  \\\n",
       "0                   17511      1503         15               2  247909   \n",
       "1                   11168      1132         22             168  188803   \n",
       "\n",
       "   pcstrip  Postcode  \n",
       "0  CF834AU  CF83 4AU  \n",
       "1  LL113NS  LL11 3NS  "
      ]
     },
     "execution_count": 21,
     "metadata": {},
     "output_type": "execute_result"
    }
   ],
   "source": [
    "prescriptions_gp.reset_index(inplace = True)\n",
    "prescriptions_gp.head(2)"
   ]
  },
  {
   "cell_type": "code",
   "execution_count": 22,
   "id": "b2812903",
   "metadata": {},
   "outputs": [
    {
     "data": {
      "text/html": [
       "<div>\n",
       "<style scoped>\n",
       "    .dataframe tbody tr th:only-of-type {\n",
       "        vertical-align: middle;\n",
       "    }\n",
       "\n",
       "    .dataframe tbody tr th {\n",
       "        vertical-align: top;\n",
       "    }\n",
       "\n",
       "    .dataframe thead th {\n",
       "        text-align: right;\n",
       "    }\n",
       "</style>\n",
       "<table border=\"1\" class=\"dataframe\">\n",
       "  <thead>\n",
       "    <tr style=\"text-align: right;\">\n",
       "      <th></th>\n",
       "      <th>index</th>\n",
       "      <th>depression</th>\n",
       "      <th>alzheimers</th>\n",
       "      <th>hypertension</th>\n",
       "      <th>diabetes</th>\n",
       "      <th>cardiovascular disease</th>\n",
       "      <th>insomnia</th>\n",
       "      <th>addiction</th>\n",
       "      <th>social anxiety</th>\n",
       "      <th>Items</th>\n",
       "      <th>pcstrip</th>\n",
       "    </tr>\n",
       "  </thead>\n",
       "  <tbody>\n",
       "    <tr>\n",
       "      <th>0</th>\n",
       "      <td>1</td>\n",
       "      <td>26547</td>\n",
       "      <td>805</td>\n",
       "      <td>25481</td>\n",
       "      <td>4786</td>\n",
       "      <td>17511</td>\n",
       "      <td>1503</td>\n",
       "      <td>15</td>\n",
       "      <td>2</td>\n",
       "      <td>247909</td>\n",
       "      <td>CF834AU</td>\n",
       "    </tr>\n",
       "    <tr>\n",
       "      <th>1</th>\n",
       "      <td>3</td>\n",
       "      <td>18294</td>\n",
       "      <td>218</td>\n",
       "      <td>15920</td>\n",
       "      <td>2042</td>\n",
       "      <td>11168</td>\n",
       "      <td>1132</td>\n",
       "      <td>22</td>\n",
       "      <td>168</td>\n",
       "      <td>188803</td>\n",
       "      <td>LL113NS</td>\n",
       "    </tr>\n",
       "  </tbody>\n",
       "</table>\n",
       "</div>"
      ],
      "text/plain": [
       "   index  depression  alzheimers  hypertension  diabetes  \\\n",
       "0      1       26547         805         25481      4786   \n",
       "1      3       18294         218         15920      2042   \n",
       "\n",
       "   cardiovascular disease  insomnia  addiction  social anxiety   Items  \\\n",
       "0                   17511      1503         15               2  247909   \n",
       "1                   11168      1132         22             168  188803   \n",
       "\n",
       "   pcstrip  \n",
       "0  CF834AU  \n",
       "1  LL113NS  "
      ]
     },
     "execution_count": 22,
     "metadata": {},
     "output_type": "execute_result"
    }
   ],
   "source": [
    "prescriptions_gp = prescriptions_gp.drop(columns = ['Postcode','PracticeID'])\n",
    "prescriptions_gp.head(2)"
   ]
  },
  {
   "cell_type": "code",
   "execution_count": 23,
   "id": "677c46d0",
   "metadata": {},
   "outputs": [],
   "source": [
    "# Generate percentages for discrete illness groups out of total drugs prescribed\n",
    "\n",
    "illness_cols = drug_data['illness'].unique()\n",
    "target_cols = illness_cols + '_perc'\n",
    "\n",
    "prescriptions_gp[target_cols] = prescriptions_gp[illness_cols].divide(prescriptions_gp[col_items], axis=0) * 100\n"
   ]
  },
  {
   "cell_type": "code",
   "execution_count": 24,
   "id": "0692ae85",
   "metadata": {},
   "outputs": [
    {
     "data": {
      "text/html": [
       "<div>\n",
       "<style scoped>\n",
       "    .dataframe tbody tr th:only-of-type {\n",
       "        vertical-align: middle;\n",
       "    }\n",
       "\n",
       "    .dataframe tbody tr th {\n",
       "        vertical-align: top;\n",
       "    }\n",
       "\n",
       "    .dataframe thead th {\n",
       "        text-align: right;\n",
       "    }\n",
       "</style>\n",
       "<table border=\"1\" class=\"dataframe\">\n",
       "  <thead>\n",
       "    <tr style=\"text-align: right;\">\n",
       "      <th></th>\n",
       "      <th>index</th>\n",
       "      <th>depression</th>\n",
       "      <th>alzheimers</th>\n",
       "      <th>hypertension</th>\n",
       "      <th>diabetes</th>\n",
       "      <th>cardiovascular disease</th>\n",
       "      <th>insomnia</th>\n",
       "      <th>addiction</th>\n",
       "      <th>social anxiety</th>\n",
       "      <th>Items</th>\n",
       "      <th>pcstrip</th>\n",
       "      <th>depression_perc</th>\n",
       "      <th>alzheimers_perc</th>\n",
       "      <th>hypertension_perc</th>\n",
       "      <th>diabetes_perc</th>\n",
       "      <th>cardiovascular disease_perc</th>\n",
       "      <th>insomnia_perc</th>\n",
       "      <th>addiction_perc</th>\n",
       "      <th>social anxiety_perc</th>\n",
       "    </tr>\n",
       "  </thead>\n",
       "  <tbody>\n",
       "    <tr>\n",
       "      <th>0</th>\n",
       "      <td>1</td>\n",
       "      <td>26547</td>\n",
       "      <td>805</td>\n",
       "      <td>25481</td>\n",
       "      <td>4786</td>\n",
       "      <td>17511</td>\n",
       "      <td>1503</td>\n",
       "      <td>15</td>\n",
       "      <td>2</td>\n",
       "      <td>247909</td>\n",
       "      <td>CF834AU</td>\n",
       "      <td>10.708365</td>\n",
       "      <td>0.324716</td>\n",
       "      <td>10.278368</td>\n",
       "      <td>1.930547</td>\n",
       "      <td>7.063479</td>\n",
       "      <td>0.606271</td>\n",
       "      <td>0.006051</td>\n",
       "      <td>0.000807</td>\n",
       "    </tr>\n",
       "    <tr>\n",
       "      <th>1</th>\n",
       "      <td>3</td>\n",
       "      <td>18294</td>\n",
       "      <td>218</td>\n",
       "      <td>15920</td>\n",
       "      <td>2042</td>\n",
       "      <td>11168</td>\n",
       "      <td>1132</td>\n",
       "      <td>22</td>\n",
       "      <td>168</td>\n",
       "      <td>188803</td>\n",
       "      <td>LL113NS</td>\n",
       "      <td>9.689465</td>\n",
       "      <td>0.115464</td>\n",
       "      <td>8.432069</td>\n",
       "      <td>1.081551</td>\n",
       "      <td>5.915160</td>\n",
       "      <td>0.599567</td>\n",
       "      <td>0.011652</td>\n",
       "      <td>0.088982</td>\n",
       "    </tr>\n",
       "  </tbody>\n",
       "</table>\n",
       "</div>"
      ],
      "text/plain": [
       "   index  depression  alzheimers  hypertension  diabetes  \\\n",
       "0      1       26547         805         25481      4786   \n",
       "1      3       18294         218         15920      2042   \n",
       "\n",
       "   cardiovascular disease  insomnia  addiction  social anxiety   Items  \\\n",
       "0                   17511      1503         15               2  247909   \n",
       "1                   11168      1132         22             168  188803   \n",
       "\n",
       "   pcstrip  depression_perc  alzheimers_perc  hypertension_perc  \\\n",
       "0  CF834AU        10.708365         0.324716          10.278368   \n",
       "1  LL113NS         9.689465         0.115464           8.432069   \n",
       "\n",
       "   diabetes_perc  cardiovascular disease_perc  insomnia_perc  addiction_perc  \\\n",
       "0       1.930547                     7.063479       0.606271        0.006051   \n",
       "1       1.081551                     5.915160       0.599567        0.011652   \n",
       "\n",
       "   social anxiety_perc  \n",
       "0             0.000807  \n",
       "1             0.088982  "
      ]
     },
     "execution_count": 24,
     "metadata": {},
     "output_type": "execute_result"
    }
   ],
   "source": [
    "prescriptions_gp.head(2)"
   ]
  },
  {
   "cell_type": "markdown",
   "id": "b515e426-a0fd-4ec1-8130-822ecff62c5c",
   "metadata": {},
   "source": [
    "## Standardisation"
   ]
  },
  {
   "cell_type": "code",
   "execution_count": 25,
   "id": "4e6becf1",
   "metadata": {},
   "outputs": [],
   "source": [
    "# Calculate the z scores per illness across postcodes\n",
    "\n",
    "for i, col in enumerate(target_cols):\n",
    "    col_zscore = col[:-5] + '_zscore'  # Create new columns for z-scores\n",
    "    prescriptions_gp[col_zscore] = stats.zscore(prescriptions_gp[col])\n"
   ]
  },
  {
   "cell_type": "code",
   "execution_count": 26,
   "id": "a1189301-44f8-4375-8009-09c5d2f7db54",
   "metadata": {},
   "outputs": [
    {
     "data": {
      "text/plain": [
       "'social anxiety_zscore'"
      ]
     },
     "execution_count": 26,
     "metadata": {},
     "output_type": "execute_result"
    }
   ],
   "source": [
    "col_zscore"
   ]
  },
  {
   "cell_type": "code",
   "execution_count": 27,
   "id": "8ae34b36",
   "metadata": {},
   "outputs": [],
   "source": [
    "# Add conditions z scores for overall loneliness z score\n",
    "prescriptions_gp['loneliness_zscore'] = prescriptions_gp[[ 'depression_zscore', 'alzheimers_zscore', 'hypertension_zscore', 'diabetes_zscore',\n",
    "       'cardiovascular disease_zscore', 'insomnia_zscore', 'addiction_zscore',\n",
    "       'social anxiety_zscore']].sum(axis=1)"
   ]
  },
  {
   "cell_type": "code",
   "execution_count": 28,
   "id": "16128f6d",
   "metadata": {
    "scrolled": true
   },
   "outputs": [
    {
     "data": {
      "image/png": "[encoded data removed]",
      "text/plain": [
       "<Figure size 500x200 with 1 Axes>"
      ]
     },
     "metadata": {},
     "output_type": "display_data"
    }
   ],
   "source": [
    "prescriptions_gp.loneliness_zscore.hist(bins=100, figsize = (5,2));"
   ]
  },
  {
   "cell_type": "code",
   "execution_count": 29,
   "id": "7036dcc9",
   "metadata": {},
   "outputs": [],
   "source": [
    "prescriptions_gp.rename(columns={'pcstrip':'postcode'}, inplace = True)"
   ]
  },
  {
   "cell_type": "code",
   "execution_count": 30,
   "id": "f7aaac6b",
   "metadata": {},
   "outputs": [],
   "source": [
    "loneliness_postcode = prescriptions_gp[['postcode','loneliness_zscore']]"
   ]
  },
  {
   "cell_type": "code",
   "execution_count": 31,
   "id": "aa1249b4",
   "metadata": {},
   "outputs": [
    {
     "data": {
      "text/html": [
       "<div>\n",
       "<style scoped>\n",
       "    .dataframe tbody tr th:only-of-type {\n",
       "        vertical-align: middle;\n",
       "    }\n",
       "\n",
       "    .dataframe tbody tr th {\n",
       "        vertical-align: top;\n",
       "    }\n",
       "\n",
       "    .dataframe thead th {\n",
       "        text-align: right;\n",
       "    }\n",
       "</style>\n",
       "<table border=\"1\" class=\"dataframe\">\n",
       "  <thead>\n",
       "    <tr style=\"text-align: right;\">\n",
       "      <th></th>\n",
       "      <th>postcode</th>\n",
       "      <th>loneliness_zscore</th>\n",
       "    </tr>\n",
       "  </thead>\n",
       "  <tbody>\n",
       "    <tr>\n",
       "      <th>0</th>\n",
       "      <td>CF834AU</td>\n",
       "      <td>2.399497</td>\n",
       "    </tr>\n",
       "    <tr>\n",
       "      <th>1</th>\n",
       "      <td>LL113NS</td>\n",
       "      <td>0.925179</td>\n",
       "    </tr>\n",
       "    <tr>\n",
       "      <th>2</th>\n",
       "      <td>CH51XS</td>\n",
       "      <td>-9.410786</td>\n",
       "    </tr>\n",
       "    <tr>\n",
       "      <th>3</th>\n",
       "      <td>NP447XX</td>\n",
       "      <td>-9.505654</td>\n",
       "    </tr>\n",
       "    <tr>\n",
       "      <th>4</th>\n",
       "      <td>NP447XX</td>\n",
       "      <td>-5.601233</td>\n",
       "    </tr>\n",
       "    <tr>\n",
       "      <th>...</th>\n",
       "      <td>...</td>\n",
       "      <td>...</td>\n",
       "    </tr>\n",
       "    <tr>\n",
       "      <th>470</th>\n",
       "      <td>SA18QY</td>\n",
       "      <td>0.133378</td>\n",
       "    </tr>\n",
       "    <tr>\n",
       "      <th>471</th>\n",
       "      <td>SA14DF</td>\n",
       "      <td>1.347957</td>\n",
       "    </tr>\n",
       "    <tr>\n",
       "      <th>472</th>\n",
       "      <td>SA55LB</td>\n",
       "      <td>1.534971</td>\n",
       "    </tr>\n",
       "    <tr>\n",
       "      <th>473</th>\n",
       "      <td>SA129PY</td>\n",
       "      <td>1.799301</td>\n",
       "    </tr>\n",
       "    <tr>\n",
       "      <th>474</th>\n",
       "      <td>SA111EF</td>\n",
       "      <td>0.045301</td>\n",
       "    </tr>\n",
       "  </tbody>\n",
       "</table>\n",
       "<p>475 rows × 2 columns</p>\n",
       "</div>"
      ],
      "text/plain": [
       "    postcode  loneliness_zscore\n",
       "0    CF834AU           2.399497\n",
       "1    LL113NS           0.925179\n",
       "2     CH51XS          -9.410786\n",
       "3    NP447XX          -9.505654\n",
       "4    NP447XX          -5.601233\n",
       "..       ...                ...\n",
       "470   SA18QY           0.133378\n",
       "471   SA14DF           1.347957\n",
       "472   SA55LB           1.534971\n",
       "473  SA129PY           1.799301\n",
       "474  SA111EF           0.045301\n",
       "\n",
       "[475 rows x 2 columns]"
      ]
     },
     "execution_count": 31,
     "metadata": {},
     "output_type": "execute_result"
    }
   ],
   "source": [
    "loneliness_postcode"
   ]
  },
  {
   "cell_type": "code",
   "execution_count": 32,
   "id": "e3a6b384",
   "metadata": {},
   "outputs": [],
   "source": [
    "# Save aggregated data\n",
    "# loneliness_postcode.to_csv(path + \"wales_gp_2022.csv\", index = False)"
   ]
  },
  {
   "cell_type": "code",
   "execution_count": null,
   "id": "cf42b25c-4db8-4e27-b309-f51075034391",
   "metadata": {},
   "outputs": [],
   "source": []
  }
 ],
 "metadata": {
  "kernelspec": {
   "display_name": "Python 3 (ipykernel)",
   "language": "python",
   "name": "python3"
  },
  "language_info": {
   "codemirror_mode": {
    "name": "ipython",
    "version": 3
   },
   "file_extension": ".py",
   "mimetype": "text/x-python",
   "name": "python",
   "nbconvert_exporter": "python",
   "pygments_lexer": "ipython3",
   "version": "3.9.13"
  }
 },
 "nbformat": 4,
 "nbformat_minor": 5
}
