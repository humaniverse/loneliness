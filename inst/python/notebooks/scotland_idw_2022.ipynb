{
 "cells": [
  {
   "cell_type": "markdown",
   "id": "df6f9d64",
   "metadata": {},
   "source": [
    "# Mapping loneliness area scores from GP points, Scotland 2022"
   ]
  },
  {
   "cell_type": "markdown",
   "id": "7de3511b",
   "metadata": {},
   "source": [
    "Takes the df containing loneliness scores for GPs and maps these points to MSOA areas <br>\n",
    "- Joins GP postcodes to coordinates\n",
    "- Uses inverse distance weighting to interpolate the loneliness scores for the unknown coordinates between known GP points, implemented through a K-nearest neighbour model\n",
    "- Zonal statistics per InterZone/MSOA are calculated to get the mean per area using IZ/MSOA polygon shape\n",
    "- Outputs a csv with loneliness z score, decile and rank per IZ/MSOA"
   ]
  },
  {
   "cell_type": "code",
   "execution_count": 1,
   "id": "4537ba6c",
   "metadata": {},
   "outputs": [],
   "source": [
    "import pandas as pd\n",
    "import numpy as np\n",
    "import matplotlib.pyplot as plt\n",
    "import geopandas as gpd\n",
    "from sklearn.neighbors import KNeighborsRegressor\n",
    "from sklearn.model_selection import train_test_split, GridSearchCV, KFold\n",
    "from sklearn.metrics import mean_squared_error, r2_score\n",
    "from shapely.geometry import Point\n",
    "import rasterio as rst\n",
    "from rasterstats import zonal_stats\n",
    "\n",
    "# requires installation of geopandas, mapclassify, rasterio, rasterstats"
   ]
  },
  {
   "cell_type": "markdown",
   "id": "4339a6fd",
   "metadata": {},
   "source": [
    "## Join GP postcodes to coordinates"
   ]
  },
  {
   "cell_type": "markdown",
   "id": "44e156d7",
   "metadata": {},
   "source": [
    "- Get coordinates for postcodes in the UK\n",
    "- https://geoportal.statistics.gov.uk/datasets/9ac0331178b0435e839f62f41cc61c16\n",
    "\n",
    "*File needs to be manually downloaded and saved in mapping_data/ folder*"
   ]
  },
  {
   "cell_type": "code",
   "execution_count": 2,
   "id": "67732947",
   "metadata": {},
   "outputs": [],
   "source": [
    "nspl = pd.read_csv(\"../../extdata/mapping_data/NSPL_MAY_2022_UK.csv\", low_memory = False)"
   ]
  },
  {
   "cell_type": "code",
   "execution_count": 3,
   "id": "dfe40d5b",
   "metadata": {},
   "outputs": [
    {
     "data": {
      "text/html": [
       "<div>\n",
       "<style scoped>\n",
       "    .dataframe tbody tr th:only-of-type {\n",
       "        vertical-align: middle;\n",
       "    }\n",
       "\n",
       "    .dataframe tbody tr th {\n",
       "        vertical-align: top;\n",
       "    }\n",
       "\n",
       "    .dataframe thead th {\n",
       "        text-align: right;\n",
       "    }\n",
       "</style>\n",
       "<table border=\"1\" class=\"dataframe\">\n",
       "  <thead>\n",
       "    <tr style=\"text-align: right;\">\n",
       "      <th></th>\n",
       "      <th>pcd</th>\n",
       "      <th>pcd2</th>\n",
       "      <th>pcds</th>\n",
       "      <th>dointr</th>\n",
       "      <th>doterm</th>\n",
       "      <th>usertype</th>\n",
       "      <th>oseast1m</th>\n",
       "      <th>osnrth1m</th>\n",
       "      <th>osgrdind</th>\n",
       "      <th>oa11</th>\n",
       "      <th>...</th>\n",
       "      <th>ru11ind</th>\n",
       "      <th>oac11</th>\n",
       "      <th>lat</th>\n",
       "      <th>long</th>\n",
       "      <th>lep1</th>\n",
       "      <th>lep2</th>\n",
       "      <th>pfa</th>\n",
       "      <th>imd</th>\n",
       "      <th>calncv</th>\n",
       "      <th>stp</th>\n",
       "    </tr>\n",
       "  </thead>\n",
       "  <tbody>\n",
       "    <tr>\n",
       "      <th>0</th>\n",
       "      <td>AB1 0AA</td>\n",
       "      <td>AB1  0AA</td>\n",
       "      <td>AB1 0AA</td>\n",
       "      <td>198001</td>\n",
       "      <td>199606.0</td>\n",
       "      <td>0</td>\n",
       "      <td>385386.0</td>\n",
       "      <td>801193.0</td>\n",
       "      <td>1</td>\n",
       "      <td>S00090303</td>\n",
       "      <td>...</td>\n",
       "      <td>3</td>\n",
       "      <td>1C3</td>\n",
       "      <td>57.101474</td>\n",
       "      <td>-2.242851</td>\n",
       "      <td>S99999999</td>\n",
       "      <td>S99999999</td>\n",
       "      <td>S23000009</td>\n",
       "      <td>6715</td>\n",
       "      <td>S99999999</td>\n",
       "      <td>S99999999</td>\n",
       "    </tr>\n",
       "    <tr>\n",
       "      <th>1</th>\n",
       "      <td>AB1 0AB</td>\n",
       "      <td>AB1  0AB</td>\n",
       "      <td>AB1 0AB</td>\n",
       "      <td>198001</td>\n",
       "      <td>199606.0</td>\n",
       "      <td>0</td>\n",
       "      <td>385177.0</td>\n",
       "      <td>801314.0</td>\n",
       "      <td>1</td>\n",
       "      <td>S00090303</td>\n",
       "      <td>...</td>\n",
       "      <td>3</td>\n",
       "      <td>1C3</td>\n",
       "      <td>57.102554</td>\n",
       "      <td>-2.246308</td>\n",
       "      <td>S99999999</td>\n",
       "      <td>S99999999</td>\n",
       "      <td>S23000009</td>\n",
       "      <td>6715</td>\n",
       "      <td>S99999999</td>\n",
       "      <td>S99999999</td>\n",
       "    </tr>\n",
       "    <tr>\n",
       "      <th>2</th>\n",
       "      <td>AB1 0AD</td>\n",
       "      <td>AB1  0AD</td>\n",
       "      <td>AB1 0AD</td>\n",
       "      <td>198001</td>\n",
       "      <td>199606.0</td>\n",
       "      <td>0</td>\n",
       "      <td>385053.0</td>\n",
       "      <td>801092.0</td>\n",
       "      <td>1</td>\n",
       "      <td>S00090399</td>\n",
       "      <td>...</td>\n",
       "      <td>3</td>\n",
       "      <td>6A1</td>\n",
       "      <td>57.100556</td>\n",
       "      <td>-2.248342</td>\n",
       "      <td>S99999999</td>\n",
       "      <td>S99999999</td>\n",
       "      <td>S23000009</td>\n",
       "      <td>6715</td>\n",
       "      <td>S99999999</td>\n",
       "      <td>S99999999</td>\n",
       "    </tr>\n",
       "    <tr>\n",
       "      <th>3</th>\n",
       "      <td>AB1 0AE</td>\n",
       "      <td>AB1  0AE</td>\n",
       "      <td>AB1 0AE</td>\n",
       "      <td>199402</td>\n",
       "      <td>199606.0</td>\n",
       "      <td>0</td>\n",
       "      <td>384600.0</td>\n",
       "      <td>799300.0</td>\n",
       "      <td>8</td>\n",
       "      <td>S00091322</td>\n",
       "      <td>...</td>\n",
       "      <td>6</td>\n",
       "      <td>1A2</td>\n",
       "      <td>57.084444</td>\n",
       "      <td>-2.255708</td>\n",
       "      <td>S99999999</td>\n",
       "      <td>S99999999</td>\n",
       "      <td>S23000009</td>\n",
       "      <td>5069</td>\n",
       "      <td>S99999999</td>\n",
       "      <td>S99999999</td>\n",
       "    </tr>\n",
       "    <tr>\n",
       "      <th>4</th>\n",
       "      <td>AB1 0AF</td>\n",
       "      <td>AB1  0AF</td>\n",
       "      <td>AB1 0AF</td>\n",
       "      <td>199012</td>\n",
       "      <td>199207.0</td>\n",
       "      <td>1</td>\n",
       "      <td>384460.0</td>\n",
       "      <td>800660.0</td>\n",
       "      <td>8</td>\n",
       "      <td>S00090299</td>\n",
       "      <td>...</td>\n",
       "      <td>3</td>\n",
       "      <td>6A4</td>\n",
       "      <td>57.096656</td>\n",
       "      <td>-2.258102</td>\n",
       "      <td>S99999999</td>\n",
       "      <td>S99999999</td>\n",
       "      <td>S23000009</td>\n",
       "      <td>6253</td>\n",
       "      <td>S99999999</td>\n",
       "      <td>S99999999</td>\n",
       "    </tr>\n",
       "  </tbody>\n",
       "</table>\n",
       "<p>5 rows × 41 columns</p>\n",
       "</div>"
      ],
      "text/plain": [
       "       pcd      pcd2     pcds  dointr    doterm  usertype  oseast1m  osnrth1m  \\\n",
       "0  AB1 0AA  AB1  0AA  AB1 0AA  198001  199606.0         0  385386.0  801193.0   \n",
       "1  AB1 0AB  AB1  0AB  AB1 0AB  198001  199606.0         0  385177.0  801314.0   \n",
       "2  AB1 0AD  AB1  0AD  AB1 0AD  198001  199606.0         0  385053.0  801092.0   \n",
       "3  AB1 0AE  AB1  0AE  AB1 0AE  199402  199606.0         0  384600.0  799300.0   \n",
       "4  AB1 0AF  AB1  0AF  AB1 0AF  199012  199207.0         1  384460.0  800660.0   \n",
       "\n",
       "   osgrdind       oa11  ... ru11ind oac11        lat      long       lep1  \\\n",
       "0         1  S00090303  ...       3   1C3  57.101474 -2.242851  S99999999   \n",
       "1         1  S00090303  ...       3   1C3  57.102554 -2.246308  S99999999   \n",
       "2         1  S00090399  ...       3   6A1  57.100556 -2.248342  S99999999   \n",
       "3         8  S00091322  ...       6   1A2  57.084444 -2.255708  S99999999   \n",
       "4         8  S00090299  ...       3   6A4  57.096656 -2.258102  S99999999   \n",
       "\n",
       "        lep2        pfa   imd     calncv        stp  \n",
       "0  S99999999  S23000009  6715  S99999999  S99999999  \n",
       "1  S99999999  S23000009  6715  S99999999  S99999999  \n",
       "2  S99999999  S23000009  6715  S99999999  S99999999  \n",
       "3  S99999999  S23000009  5069  S99999999  S99999999  \n",
       "4  S99999999  S23000009  6253  S99999999  S99999999  \n",
       "\n",
       "[5 rows x 41 columns]"
      ]
     },
     "execution_count": 3,
     "metadata": {},
     "output_type": "execute_result"
    }
   ],
   "source": [
    "nspl.head(5)"
   ]
  },
  {
   "cell_type": "code",
   "execution_count": 4,
   "id": "51768974",
   "metadata": {},
   "outputs": [],
   "source": [
    "nspl = nspl[[\"pcds\", \"oseast1m\", \"osnrth1m\", \"lsoa11\", \"msoa11\" ]]\n",
    "nspl[\"pcds\"] = nspl.pcds.str.replace(\" \", \"\")"
   ]
  },
  {
   "cell_type": "code",
   "execution_count": 5,
   "id": "92e96d75",
   "metadata": {},
   "outputs": [],
   "source": [
    "# Read loneliness scores by GP df created by clincial-scotland-22.ipynb\n",
    "df = pd.read_csv(\"../../extdata/scotland_gp_2022.csv\")"
   ]
  },
  {
   "cell_type": "code",
   "execution_count": 6,
   "id": "d49fd1f0",
   "metadata": {},
   "outputs": [
    {
     "data": {
      "text/html": [
       "<div>\n",
       "<style scoped>\n",
       "    .dataframe tbody tr th:only-of-type {\n",
       "        vertical-align: middle;\n",
       "    }\n",
       "\n",
       "    .dataframe tbody tr th {\n",
       "        vertical-align: top;\n",
       "    }\n",
       "\n",
       "    .dataframe thead th {\n",
       "        text-align: right;\n",
       "    }\n",
       "</style>\n",
       "<table border=\"1\" class=\"dataframe\">\n",
       "  <thead>\n",
       "    <tr style=\"text-align: right;\">\n",
       "      <th></th>\n",
       "      <th>postcode</th>\n",
       "      <th>loneliness_zscore</th>\n",
       "    </tr>\n",
       "  </thead>\n",
       "  <tbody>\n",
       "    <tr>\n",
       "      <th>0</th>\n",
       "      <td>AB101NW</td>\n",
       "      <td>-1.979632</td>\n",
       "    </tr>\n",
       "    <tr>\n",
       "      <th>1</th>\n",
       "      <td>AB101QB</td>\n",
       "      <td>7.784077</td>\n",
       "    </tr>\n",
       "  </tbody>\n",
       "</table>\n",
       "</div>"
      ],
      "text/plain": [
       "  postcode  loneliness_zscore\n",
       "0  AB101NW          -1.979632\n",
       "1  AB101QB           7.784077"
      ]
     },
     "execution_count": 6,
     "metadata": {},
     "output_type": "execute_result"
    }
   ],
   "source": [
    "df.head(2)"
   ]
  },
  {
   "cell_type": "code",
   "execution_count": 7,
   "id": "0392d362",
   "metadata": {},
   "outputs": [],
   "source": [
    "df.rename(columns = {\"postcode\":\"pcds\"}, inplace = True)"
   ]
  },
  {
   "cell_type": "code",
   "execution_count": 8,
   "id": "658333b4",
   "metadata": {},
   "outputs": [],
   "source": [
    "df = df.merge(nspl, on = \"pcds\", how = \"left\")"
   ]
  },
  {
   "cell_type": "code",
   "execution_count": 9,
   "id": "b0c2c5ea",
   "metadata": {},
   "outputs": [
    {
     "data": {
      "text/plain": [
       "pcds   loneliness_zscore  oseast1m  osnrth1m  lsoa11  msoa11\n",
       "False  False              False     False     False   False     739\n",
       "Name: count, dtype: int64"
      ]
     },
     "execution_count": 9,
     "metadata": {},
     "output_type": "execute_result"
    }
   ],
   "source": [
    "df.isna().value_counts()"
   ]
  },
  {
   "cell_type": "code",
   "execution_count": 10,
   "id": "a428cb20",
   "metadata": {
    "scrolled": true
   },
   "outputs": [
    {
     "data": {
      "text/html": [
       "<div>\n",
       "<style scoped>\n",
       "    .dataframe tbody tr th:only-of-type {\n",
       "        vertical-align: middle;\n",
       "    }\n",
       "\n",
       "    .dataframe tbody tr th {\n",
       "        vertical-align: top;\n",
       "    }\n",
       "\n",
       "    .dataframe thead th {\n",
       "        text-align: right;\n",
       "    }\n",
       "</style>\n",
       "<table border=\"1\" class=\"dataframe\">\n",
       "  <thead>\n",
       "    <tr style=\"text-align: right;\">\n",
       "      <th></th>\n",
       "      <th>pcds</th>\n",
       "      <th>loneliness_zscore</th>\n",
       "      <th>oseast1m</th>\n",
       "      <th>osnrth1m</th>\n",
       "      <th>lsoa11</th>\n",
       "      <th>msoa11</th>\n",
       "    </tr>\n",
       "  </thead>\n",
       "  <tbody>\n",
       "    <tr>\n",
       "      <th>0</th>\n",
       "      <td>AB101NW</td>\n",
       "      <td>-1.979632</td>\n",
       "      <td>392709.0</td>\n",
       "      <td>805764.0</td>\n",
       "      <td>S01006571</td>\n",
       "      <td>S02001247</td>\n",
       "    </tr>\n",
       "    <tr>\n",
       "      <th>1</th>\n",
       "      <td>AB101QB</td>\n",
       "      <td>7.784077</td>\n",
       "      <td>393104.0</td>\n",
       "      <td>805894.0</td>\n",
       "      <td>S01006571</td>\n",
       "      <td>S02001247</td>\n",
       "    </tr>\n",
       "  </tbody>\n",
       "</table>\n",
       "</div>"
      ],
      "text/plain": [
       "      pcds  loneliness_zscore  oseast1m  osnrth1m     lsoa11     msoa11\n",
       "0  AB101NW          -1.979632  392709.0  805764.0  S01006571  S02001247\n",
       "1  AB101QB           7.784077  393104.0  805894.0  S01006571  S02001247"
      ]
     },
     "execution_count": 10,
     "metadata": {},
     "output_type": "execute_result"
    }
   ],
   "source": [
    "df.head(2)"
   ]
  },
  {
   "cell_type": "markdown",
   "id": "35ae4226",
   "metadata": {},
   "source": [
    "## Read DF as Geopanda"
   ]
  },
  {
   "cell_type": "code",
   "execution_count": 11,
   "id": "7bddf28c",
   "metadata": {
    "scrolled": true
   },
   "outputs": [
    {
     "name": "stderr",
     "output_type": "stream",
     "text": [
      "C:\\Users\\JennaTan\\AppData\\Roaming\\Python\\Python39\\site-packages\\pyproj\\crs\\crs.py:141: FutureWarning: '+init=<authority>:<code>' syntax is deprecated. '<authority>:<code>' is the preferred initialization method. When making the change, be mindful of axis order changes: https://pyproj4.github.io/pyproj/stable/gotchas.html#axis-order-changes-in-proj-6\n",
      "  in_crs_string = _prepare_from_proj_string(in_crs_string)\n"
     ]
    },
    {
     "data": {
      "text/html": [
       "<div>\n",
       "<style scoped>\n",
       "    .dataframe tbody tr th:only-of-type {\n",
       "        vertical-align: middle;\n",
       "    }\n",
       "\n",
       "    .dataframe tbody tr th {\n",
       "        vertical-align: top;\n",
       "    }\n",
       "\n",
       "    .dataframe thead th {\n",
       "        text-align: right;\n",
       "    }\n",
       "</style>\n",
       "<table border=\"1\" class=\"dataframe\">\n",
       "  <thead>\n",
       "    <tr style=\"text-align: right;\">\n",
       "      <th></th>\n",
       "      <th>pcds</th>\n",
       "      <th>loneliness_zscore</th>\n",
       "      <th>oseast1m</th>\n",
       "      <th>osnrth1m</th>\n",
       "      <th>lsoa11</th>\n",
       "      <th>msoa11</th>\n",
       "      <th>geometry</th>\n",
       "    </tr>\n",
       "  </thead>\n",
       "  <tbody>\n",
       "    <tr>\n",
       "      <th>0</th>\n",
       "      <td>AB101NW</td>\n",
       "      <td>-1.979632</td>\n",
       "      <td>392709.0</td>\n",
       "      <td>805764.0</td>\n",
       "      <td>S01006571</td>\n",
       "      <td>S02001247</td>\n",
       "      <td>POINT (392709.000 805764.000)</td>\n",
       "    </tr>\n",
       "    <tr>\n",
       "      <th>1</th>\n",
       "      <td>AB101QB</td>\n",
       "      <td>7.784077</td>\n",
       "      <td>393104.0</td>\n",
       "      <td>805894.0</td>\n",
       "      <td>S01006571</td>\n",
       "      <td>S02001247</td>\n",
       "      <td>POINT (393104.000 805894.000)</td>\n",
       "    </tr>\n",
       "    <tr>\n",
       "      <th>2</th>\n",
       "      <td>AB101UT</td>\n",
       "      <td>2.910320</td>\n",
       "      <td>393051.0</td>\n",
       "      <td>806083.0</td>\n",
       "      <td>S01006584</td>\n",
       "      <td>S02001249</td>\n",
       "      <td>POINT (393051.000 806083.000)</td>\n",
       "    </tr>\n",
       "    <tr>\n",
       "      <th>3</th>\n",
       "      <td>AB101YE</td>\n",
       "      <td>1.199900</td>\n",
       "      <td>393170.0</td>\n",
       "      <td>805747.0</td>\n",
       "      <td>S01006571</td>\n",
       "      <td>S02001247</td>\n",
       "      <td>POINT (393170.000 805747.000)</td>\n",
       "    </tr>\n",
       "    <tr>\n",
       "      <th>4</th>\n",
       "      <td>AB107QQ</td>\n",
       "      <td>-1.607957</td>\n",
       "      <td>391998.0</td>\n",
       "      <td>803177.0</td>\n",
       "      <td>S01006528</td>\n",
       "      <td>S02001239</td>\n",
       "      <td>POINT (391998.000 803177.000)</td>\n",
       "    </tr>\n",
       "  </tbody>\n",
       "</table>\n",
       "</div>"
      ],
      "text/plain": [
       "      pcds  loneliness_zscore  oseast1m  osnrth1m     lsoa11     msoa11  \\\n",
       "0  AB101NW          -1.979632  392709.0  805764.0  S01006571  S02001247   \n",
       "1  AB101QB           7.784077  393104.0  805894.0  S01006571  S02001247   \n",
       "2  AB101UT           2.910320  393051.0  806083.0  S01006584  S02001249   \n",
       "3  AB101YE           1.199900  393170.0  805747.0  S01006571  S02001247   \n",
       "4  AB107QQ          -1.607957  391998.0  803177.0  S01006528  S02001239   \n",
       "\n",
       "                        geometry  \n",
       "0  POINT (392709.000 805764.000)  \n",
       "1  POINT (393104.000 805894.000)  \n",
       "2  POINT (393051.000 806083.000)  \n",
       "3  POINT (393170.000 805747.000)  \n",
       "4  POINT (391998.000 803177.000)  "
      ]
     },
     "execution_count": 11,
     "metadata": {},
     "output_type": "execute_result"
    }
   ],
   "source": [
    "# CRS =  EPSG 27700, reads gpd as British National Grid coords\n",
    "# Create a new col 'geometry'\n",
    "\n",
    "geo_data = gpd.GeoDataFrame(data = df, \n",
    "                            crs = {'init':'epsg:27700'}, \n",
    "                            geometry = df.apply(lambda geom: Point(geom['oseast1m'],geom['osnrth1m']),axis=1))\n",
    "geo_data.head()"
   ]
  },
  {
   "cell_type": "code",
   "execution_count": 12,
   "id": "afe099a8",
   "metadata": {
    "scrolled": true
   },
   "outputs": [
    {
     "data": {
      "image/png": "[encoded data removed]",
      "text/plain": [
       "<Figure size 640x480 with 1 Axes>"
      ]
     },
     "metadata": {},
     "output_type": "display_data"
    }
   ],
   "source": [
    "# Visualise loneliness score geographically using geometry col\n",
    "geo_data.plot(column = 'loneliness_zscore', scheme = 'quantiles', cmap = 'Blues', marker = '.');"
   ]
  },
  {
   "cell_type": "markdown",
   "id": "6b1f7fb9",
   "metadata": {},
   "source": [
    "- Points somewhat evenly distriubted across Scotland\n",
    "- With clusters around cities\n",
    "- Lighter dots indicate lower levels of loneliness - expect to see that pattern replicated in final output"
   ]
  },
  {
   "cell_type": "markdown",
   "id": "31dc1a54",
   "metadata": {},
   "source": [
    "## Develop KNN model and predict unknown coordinates"
   ]
  },
  {
   "cell_type": "markdown",
   "id": "b897b8ad",
   "metadata": {},
   "source": [
    "### Instantiate KNN as inverse distance weighted model "
   ]
  },
  {
   "cell_type": "code",
   "execution_count": 13,
   "id": "d73e4073",
   "metadata": {},
   "outputs": [],
   "source": [
    "def idw_model(k, p):\n",
    "    \"\"\"\n",
    "    Instantiates a KNN regressor as an IDW interpolater. k = no. neighbours, p = power for idw\n",
    "    \"\"\"\n",
    "    def _inv_distance_index(weights, index=p):\n",
    "        \"\"\"Weights set as distance from the input points and neighbour, with an inverse calculation of (1/dist**power).\n",
    "        Values not dividable by 0 are ignored.\n",
    "        \"\"\"\n",
    "        #return (test==0).astype(int) if np.any(weights == 0) else 1. / weights**index\n",
    "        \n",
    "        with np.errstate(divide='ignore', invalid='ignore'):\n",
    "            safe_weights = 1. / weights**index\n",
    "        return np.nan_to_num(safe_weights, posinf=0) # ignore weights that are negative\n",
    "        \n",
    "    return KNeighborsRegressor(k, weights=_inv_distance_index)"
   ]
  },
  {
   "cell_type": "markdown",
   "id": "f5990076",
   "metadata": {},
   "source": [
    "<span style=\"color: blue;\"> NOTE: See the original code commented out above. Was unsure what *test* was so I've replaced with the above function.  </span>\n"
   ]
  },
  {
   "cell_type": "markdown",
   "id": "e3e27d10",
   "metadata": {},
   "source": [
    "<span style=\"color: blue;\"> NOTE: You'll see in the sections below that the input data points (i.e. the coordinates of GPs) are not removed from the estimation grid --> data leakage!!!. However I think because this function is set to ignore distances that are 0 it cancels out the input points, as points with 0 distance from the known data is the input data.  </span>"
   ]
  },
  {
   "cell_type": "markdown",
   "id": "181d8f5b",
   "metadata": {},
   "source": [
    "### Train test split"
   ]
  },
  {
   "cell_type": "markdown",
   "id": "1d0c334e",
   "metadata": {},
   "source": [
    "<span style=\"color: blue;\"> NOTE: I added these sections below to find the best hyper params and to test the KNN model with a test dataset. </span>"
   ]
  },
  {
   "cell_type": "code",
   "execution_count": 14,
   "id": "307c3d04",
   "metadata": {},
   "outputs": [],
   "source": [
    "# Get existing point locations and values to fit the model\n",
    "points = geo_data[['oseast1m','osnrth1m']].values\n",
    "vals = geo_data['loneliness_zscore'].values"
   ]
  },
  {
   "cell_type": "code",
   "execution_count": 15,
   "id": "6226b97d",
   "metadata": {},
   "outputs": [
    {
     "data": {
      "text/plain": [
       "739"
      ]
     },
     "execution_count": 15,
     "metadata": {},
     "output_type": "execute_result"
    }
   ],
   "source": [
    "len(vals)"
   ]
  },
  {
   "cell_type": "code",
   "execution_count": 16,
   "id": "9d12e387",
   "metadata": {},
   "outputs": [],
   "source": [
    "X_train, X_test, y_train, y_test = train_test_split(points, vals, test_size=0.2, random_state=42)"
   ]
  },
  {
   "cell_type": "markdown",
   "id": "3e0a56ab",
   "metadata": {},
   "source": [
    "### Find best k and p values"
   ]
  },
  {
   "cell_type": "code",
   "execution_count": 17,
   "id": "67c0265c",
   "metadata": {},
   "outputs": [
    {
     "data": {
      "text/html": [
       "<style>#sk-container-id-1 {color: black;background-color: white;}#sk-container-id-1 pre{padding: 0;}#sk-container-id-1 div.sk-toggleable {background-color: white;}#sk-container-id-1 label.sk-toggleable__label {cursor: pointer;display: block;width: 100%;margin-bottom: 0;padding: 0.3em;box-sizing: border-box;text-align: center;}#sk-container-id-1 label.sk-toggleable__label-arrow:before {content: \"▸\";float: left;margin-right: 0.25em;color: #696969;}#sk-container-id-1 label.sk-toggleable__label-arrow:hover:before {color: black;}#sk-container-id-1 div.sk-estimator:hover label.sk-toggleable__label-arrow:before {color: black;}#sk-container-id-1 div.sk-toggleable__content {max-height: 0;max-width: 0;overflow: hidden;text-align: left;background-color: #f0f8ff;}#sk-container-id-1 div.sk-toggleable__content pre {margin: 0.2em;color: black;border-radius: 0.25em;background-color: #f0f8ff;}#sk-container-id-1 input.sk-toggleable__control:checked~div.sk-toggleable__content {max-height: 200px;max-width: 100%;overflow: auto;}#sk-container-id-1 input.sk-toggleable__control:checked~label.sk-toggleable__label-arrow:before {content: \"▾\";}#sk-container-id-1 div.sk-estimator input.sk-toggleable__control:checked~label.sk-toggleable__label {background-color: #d4ebff;}#sk-container-id-1 div.sk-label input.sk-toggleable__control:checked~label.sk-toggleable__label {background-color: #d4ebff;}#sk-container-id-1 input.sk-hidden--visually {border: 0;clip: rect(1px 1px 1px 1px);clip: rect(1px, 1px, 1px, 1px);height: 1px;margin: -1px;overflow: hidden;padding: 0;position: absolute;width: 1px;}#sk-container-id-1 div.sk-estimator {font-family: monospace;background-color: #f0f8ff;border: 1px dotted black;border-radius: 0.25em;box-sizing: border-box;margin-bottom: 0.5em;}#sk-container-id-1 div.sk-estimator:hover {background-color: #d4ebff;}#sk-container-id-1 div.sk-parallel-item::after {content: \"\";width: 100%;border-bottom: 1px solid gray;flex-grow: 1;}#sk-container-id-1 div.sk-label:hover label.sk-toggleable__label {background-color: #d4ebff;}#sk-container-id-1 div.sk-serial::before {content: \"\";position: absolute;border-left: 1px solid gray;box-sizing: border-box;top: 0;bottom: 0;left: 50%;z-index: 0;}#sk-container-id-1 div.sk-serial {display: flex;flex-direction: column;align-items: center;background-color: white;padding-right: 0.2em;padding-left: 0.2em;position: relative;}#sk-container-id-1 div.sk-item {position: relative;z-index: 1;}#sk-container-id-1 div.sk-parallel {display: flex;align-items: stretch;justify-content: center;background-color: white;position: relative;}#sk-container-id-1 div.sk-item::before, #sk-container-id-1 div.sk-parallel-item::before {content: \"\";position: absolute;border-left: 1px solid gray;box-sizing: border-box;top: 0;bottom: 0;left: 50%;z-index: -1;}#sk-container-id-1 div.sk-parallel-item {display: flex;flex-direction: column;z-index: 1;position: relative;background-color: white;}#sk-container-id-1 div.sk-parallel-item:first-child::after {align-self: flex-end;width: 50%;}#sk-container-id-1 div.sk-parallel-item:last-child::after {align-self: flex-start;width: 50%;}#sk-container-id-1 div.sk-parallel-item:only-child::after {width: 0;}#sk-container-id-1 div.sk-dashed-wrapped {border: 1px dashed gray;margin: 0 0.4em 0.5em 0.4em;box-sizing: border-box;padding-bottom: 0.4em;background-color: white;}#sk-container-id-1 div.sk-label label {font-family: monospace;font-weight: bold;display: inline-block;line-height: 1.2em;}#sk-container-id-1 div.sk-label-container {text-align: center;}#sk-container-id-1 div.sk-container {/* jupyter's `normalize.less` sets `[hidden] { display: none; }` but bootstrap.min.css set `[hidden] { display: none !important; }` so we also need the `!important` here to be able to override the default hidden behavior on the sphinx rendered scikit-learn.org. See: https://github.com/scikit-learn/scikit-learn/issues/21755 */display: inline-block !important;position: relative;}#sk-container-id-1 div.sk-text-repr-fallback {display: none;}</style><div id=\"sk-container-id-1\" class=\"sk-top-container\"><div class=\"sk-text-repr-fallback\"><pre>GridSearchCV(cv=KFold(n_splits=5, random_state=42, shuffle=True),\n",
       "             estimator=KNeighborsRegressor(n_neighbors=1,\n",
       "                                           weights=&lt;function idw_model.&lt;locals&gt;._inv_distance_index at 0x00000204BBC69550&gt;),\n",
       "             param_grid={&#x27;n_neighbors&#x27;: [3, 5, 10, 15, 20],\n",
       "                         &#x27;p&#x27;: [1, 1.5, 2, 2.5, 3]})</pre><b>In a Jupyter environment, please rerun this cell to show the HTML representation or trust the notebook. <br />On GitHub, the HTML representation is unable to render, please try loading this page with nbviewer.org.</b></div><div class=\"sk-container\" hidden><div class=\"sk-item sk-dashed-wrapped\"><div class=\"sk-label-container\"><div class=\"sk-label sk-toggleable\"><input class=\"sk-toggleable__control sk-hidden--visually\" id=\"sk-estimator-id-1\" type=\"checkbox\" ><label for=\"sk-estimator-id-1\" class=\"sk-toggleable__label sk-toggleable__label-arrow\">GridSearchCV</label><div class=\"sk-toggleable__content\"><pre>GridSearchCV(cv=KFold(n_splits=5, random_state=42, shuffle=True),\n",
       "             estimator=KNeighborsRegressor(n_neighbors=1,\n",
       "                                           weights=&lt;function idw_model.&lt;locals&gt;._inv_distance_index at 0x00000204BBC69550&gt;),\n",
       "             param_grid={&#x27;n_neighbors&#x27;: [3, 5, 10, 15, 20],\n",
       "                         &#x27;p&#x27;: [1, 1.5, 2, 2.5, 3]})</pre></div></div></div><div class=\"sk-parallel\"><div class=\"sk-parallel-item\"><div class=\"sk-item\"><div class=\"sk-label-container\"><div class=\"sk-label sk-toggleable\"><input class=\"sk-toggleable__control sk-hidden--visually\" id=\"sk-estimator-id-2\" type=\"checkbox\" ><label for=\"sk-estimator-id-2\" class=\"sk-toggleable__label sk-toggleable__label-arrow\">estimator: KNeighborsRegressor</label><div class=\"sk-toggleable__content\"><pre>KNeighborsRegressor(n_neighbors=1,\n",
       "                    weights=&lt;function idw_model.&lt;locals&gt;._inv_distance_index at 0x00000204BBC69550&gt;)</pre></div></div></div><div class=\"sk-serial\"><div class=\"sk-item\"><div class=\"sk-estimator sk-toggleable\"><input class=\"sk-toggleable__control sk-hidden--visually\" id=\"sk-estimator-id-3\" type=\"checkbox\" ><label for=\"sk-estimator-id-3\" class=\"sk-toggleable__label sk-toggleable__label-arrow\">KNeighborsRegressor</label><div class=\"sk-toggleable__content\"><pre>KNeighborsRegressor(n_neighbors=1,\n",
       "                    weights=&lt;function idw_model.&lt;locals&gt;._inv_distance_index at 0x00000204BBC69550&gt;)</pre></div></div></div></div></div></div></div></div></div></div>"
      ],
      "text/plain": [
       "GridSearchCV(cv=KFold(n_splits=5, random_state=42, shuffle=True),\n",
       "             estimator=KNeighborsRegressor(n_neighbors=1,\n",
       "                                           weights=<function idw_model.<locals>._inv_distance_index at 0x00000204BBC69550>),\n",
       "             param_grid={'n_neighbors': [3, 5, 10, 15, 20],\n",
       "                         'p': [1, 1.5, 2, 2.5, 3]})"
      ]
     },
     "execution_count": 17,
     "metadata": {},
     "output_type": "execute_result"
    }
   ],
   "source": [
    "param_grid = {\n",
    "    'n_neighbors': [3, 5, 10, 15, 20],\n",
    "    'p': [1, 1.5, 2, 2.5, 3]\n",
    "}\n",
    "\n",
    "knn_model = idw_model(1,1)\n",
    "kf = KFold(n_splits=5, shuffle=True, random_state=42)\n",
    "\n",
    "\n",
    "grid_search = GridSearchCV(knn_model, param_grid, cv=kf)\n",
    "grid_search.fit(X_train, y_train)\n"
   ]
  },
  {
   "cell_type": "code",
   "execution_count": 18,
   "id": "e56a6ee1",
   "metadata": {},
   "outputs": [
    {
     "name": "stdout",
     "output_type": "stream",
     "text": [
      "Best k: 20\n",
      "Best p: 1\n"
     ]
    }
   ],
   "source": [
    "best_k = grid_search.best_params_['n_neighbors']\n",
    "best_p = grid_search.best_params_['p']\n",
    "\n",
    "print(\"Best k:\", best_k)\n",
    "print(\"Best p:\", best_p)"
   ]
  },
  {
   "cell_type": "markdown",
   "id": "d4b72d01",
   "metadata": {},
   "source": [
    "<span style=\"color: blue;\"> NOTE: Best k is suspciously high. In the original code k was set at 5 (which is the default for the model) and p at 2 (default for inverse distance weighting). </span>"
   ]
  },
  {
   "cell_type": "code",
   "execution_count": 19,
   "id": "81316fa8",
   "metadata": {},
   "outputs": [],
   "source": [
    "grid = idw_model(20,1).fit(X_train, y_train)\n",
    "original = idw_model(5,2).fit(X_train, y_train)\n",
    "\n",
    "y_pred_grid = grid.predict(X_test)\n",
    "y_pred_original = original.predict(X_test)"
   ]
  },
  {
   "cell_type": "code",
   "execution_count": 20,
   "id": "82a5bb80",
   "metadata": {},
   "outputs": [
    {
     "name": "stdout",
     "output_type": "stream",
     "text": [
      " Grid Search MSE: 6.564168666239064\n",
      " Original params MSE: 7.140840336442085\n"
     ]
    }
   ],
   "source": [
    "print(f\" Grid Search MSE: {mean_squared_error(y_test, y_pred_grid)}\")\n",
    "print(f\" Original params MSE: {mean_squared_error(y_test, y_pred_original)}\")"
   ]
  },
  {
   "cell_type": "markdown",
   "id": "d754c5be",
   "metadata": {},
   "source": [
    "<span style=\"color: blue;\"> NOTE: MSE is better with k = 20 and p = 1...... However is this the right test? It implies an inverse distance relationship across GP surgeries i.e. that there is clustering in loneliness levels across GPs  </span>"
   ]
  },
  {
   "cell_type": "markdown",
   "id": "b2849e61",
   "metadata": {},
   "source": [
    "### Use best params to fit model"
   ]
  },
  {
   "cell_type": "code",
   "execution_count": 21,
   "id": "3c9c30ab",
   "metadata": {},
   "outputs": [],
   "source": [
    "idw = idw_model(20, 1).fit(points, vals)"
   ]
  },
  {
   "cell_type": "markdown",
   "id": "8c5ff9d7",
   "metadata": {},
   "source": [
    "### Create grid of unknown values to predict"
   ]
  },
  {
   "cell_type": "code",
   "execution_count": 22,
   "id": "dd04e38e",
   "metadata": {},
   "outputs": [
    {
     "name": "stdout",
     "output_type": "stream",
     "text": [
      "xmin =  66531.0 \n",
      "\r\n",
      " xmax =  461080.0 \n",
      "\r\n",
      " ymin =  536471.0 \n",
      "\r\n",
      " ymax =  1208925.0\n"
     ]
    }
   ],
   "source": [
    "# Get minimum and maximum coords from the data\n",
    "print(\"xmin = \", geo_data['oseast1m'].min(), \"\\n\\r\",\n",
    "      \"xmax = \", geo_data['oseast1m'].max(), \"\\n\\r\",\n",
    "      \"ymin = \", geo_data['osnrth1m'].min(), \"\\n\\r\",\n",
    "      \"ymax = \", geo_data['osnrth1m'].max())"
   ]
  },
  {
   "cell_type": "code",
   "execution_count": 23,
   "id": "35a4361f",
   "metadata": {},
   "outputs": [],
   "source": [
    "xmin = 66000\n",
    "xmax = 462000\n",
    "ymin = 536000\n",
    "ymax = 1210000"
   ]
  },
  {
   "cell_type": "code",
   "execution_count": 24,
   "id": "33f6d04f",
   "metadata": {},
   "outputs": [],
   "source": [
    "def grid(xmin, xmax, ymin, ymax, cellsize):\n",
    "    \"\"\"\n",
    "    Creates an evenly spaced grid structure of all possible x and y coords within the bounds of the data that will be \n",
    "    used for prediction. Even spacing ensures reliable and uniform coverage of the surface for estimation.\n",
    "    \n",
    "    \"\"\"\n",
    "    # Adjust x and y ranges to be perfectly divisible by cellsize using floor and ceiling division, ensuring even spacing\n",
    "    xmin = (xmin // cellsize) * cellsize \n",
    "    xmax = -(-xmax // cellsize) * cellsize \n",
    "    ymin = (ymin // cellsize) * cellsize\n",
    "    ymax = -(-ymax // cellsize) * cellsize\n",
    "    \n",
    "    # Generate coords within adjusted min/max range with regular spacing determined by cellsize\n",
    "    x = np.linspace(xmin,xmax,int((xmax-xmin)/cellsize))\n",
    "    y = np.linspace(ymin,ymax,int((ymax-ymin)/cellsize))\n",
    "    \n",
    "    # Create grid structure of all possible x and y points, returns two 2D arrays\n",
    "    xx,yy = np.meshgrid(x,y)\n",
    "   \n",
    "    return xx, yy"
   ]
  },
  {
   "cell_type": "code",
   "execution_count": 25,
   "id": "928c665f",
   "metadata": {},
   "outputs": [],
   "source": [
    "xx,yy = grid(xmin, xmax, ymin, ymax, 250 )"
   ]
  },
  {
   "cell_type": "markdown",
   "id": "f62299fb",
   "metadata": {},
   "source": [
    "<span style=\"color: blue;\"> NOTE: Cellsize of 250 is hardcoded in the original code. Not sure how that number is determined. </span>"
   ]
  },
  {
   "cell_type": "code",
   "execution_count": 26,
   "id": "313c8d56",
   "metadata": {},
   "outputs": [],
   "source": [
    "def reshape_grid(xx,yy):\n",
    "    \"\"\" \n",
    "    Reshape output of the meshgrid into a single array combining x and y coords.\n",
    "    Ravel flattens xx/yy into (1,n) and [] turns it into a col vector (n,1). \n",
    "    Two col vectors combined to form xy\n",
    "    \"\"\"\n",
    "    return np.append(xx.ravel()[:,np.newaxis],yy.ravel()[:,np.newaxis],1)"
   ]
  },
  {
   "cell_type": "code",
   "execution_count": 27,
   "id": "41383e73",
   "metadata": {},
   "outputs": [],
   "source": [
    "xy = reshape_grid(xx,yy)"
   ]
  },
  {
   "cell_type": "markdown",
   "id": "3fdbcdd3",
   "metadata": {},
   "source": [
    "### Predict unknown values using trained KNN model"
   ]
  },
  {
   "cell_type": "code",
   "execution_count": 28,
   "id": "5ecbe076",
   "metadata": {},
   "outputs": [],
   "source": [
    "# Predict values in the grid. Returns 1D array, (n,1)\n",
    "scores = idw.predict(xy)"
   ]
  },
  {
   "cell_type": "code",
   "execution_count": 29,
   "id": "06ea52ac",
   "metadata": {},
   "outputs": [
    {
     "data": {
      "text/plain": [
       "(4270464,)"
      ]
     },
     "execution_count": 29,
     "metadata": {},
     "output_type": "execute_result"
    }
   ],
   "source": [
    "scores.shape"
   ]
  },
  {
   "cell_type": "markdown",
   "id": "4f5b14b9",
   "metadata": {},
   "source": [
    "### Reshape prediction to grid"
   ]
  },
  {
   "cell_type": "markdown",
   "id": "32612126",
   "metadata": {},
   "source": [
    "- KNN Regresor outputs a 1D array - predictions per coordinate\n",
    "- It needs to be reshaped to 2D to allign with the xx,yy meshgrid"
   ]
  },
  {
   "cell_type": "code",
   "execution_count": 30,
   "id": "4d25b5ff",
   "metadata": {},
   "outputs": [],
   "source": [
    "def reshape_image(scores, xx):\n",
    "    return np.flip(scores.reshape(np.shape(xx)),0)\n",
    "\n",
    "scores = reshape_image(scores, xx)"
   ]
  },
  {
   "cell_type": "code",
   "execution_count": 31,
   "id": "9559be13",
   "metadata": {},
   "outputs": [
    {
     "data": {
      "text/plain": [
       "True"
      ]
     },
     "execution_count": 31,
     "metadata": {},
     "output_type": "execute_result"
    }
   ],
   "source": [
    "scores.shape == xx.shape"
   ]
  },
  {
   "cell_type": "code",
   "execution_count": 32,
   "id": "bc4e4072",
   "metadata": {},
   "outputs": [
    {
     "data": {
      "text/plain": [
       "(2696, 1584)"
      ]
     },
     "execution_count": 32,
     "metadata": {},
     "output_type": "execute_result"
    }
   ],
   "source": [
    "scores.shape"
   ]
  },
  {
   "cell_type": "markdown",
   "id": "9797e3df",
   "metadata": {},
   "source": [
    "<span style=\"color: blue;\"> NOTE: If we assume that data leakage hasn't happened because input data points are ignored then does that mean the input data points need to be put back in? </span>"
   ]
  },
  {
   "cell_type": "markdown",
   "id": "bfb0ce83",
   "metadata": {},
   "source": [
    "### Inspect surface outcome"
   ]
  },
  {
   "cell_type": "code",
   "execution_count": 33,
   "id": "28aac7dc",
   "metadata": {},
   "outputs": [
    {
     "data": {
      "image/png": "[encoded data removed]",
      "text/plain": [
       "<Figure size 300x500 with 2 Axes>"
      ]
     },
     "metadata": {},
     "output_type": "display_data"
    }
   ],
   "source": [
    "f, ax = plt.subplots(figsize = (3,5))\n",
    "#ax.imshow(z, cmap='Reds')\n",
    "#ax.set_aspect('equal')\n",
    "\n",
    "heatmap = ax.imshow(scores, cmap='Blues', extent=[xmin, xmax, ymin, ymax])\n",
    "ax.scatter(points[:, 0], points[:, 1], color='grey', s=0.5)\n",
    "cbar = plt.colorbar(heatmap, ax=ax, label='Loneliness z_score prediction')\n"
   ]
  },
  {
   "cell_type": "markdown",
   "id": "48d40545",
   "metadata": {},
   "source": [
    "- Roughly matches expectation of a lighter colour, indicating lower loneliness ratings, around clusters"
   ]
  },
  {
   "cell_type": "markdown",
   "id": "23a0fa9a",
   "metadata": {},
   "source": [
    "## Map values to InterZone (MSOA)"
   ]
  },
  {
   "cell_type": "markdown",
   "id": "572e0116",
   "metadata": {},
   "source": [
    "- Get the Intermediate Zone shape files from https://www.data.gov.uk/dataset/133d4983-c57d-4ded-bc59-390c962ea280/intermediate-zone-boundaries-2011\n",
    "- Get zonal stats per IZ based on predictions\n",
    "\n",
    "*The zip folder needs to be manually downloaded and saved in extdata/mapping_data/boundary*"
   ]
  },
  {
   "cell_type": "code",
   "execution_count": 34,
   "id": "e1ffad64",
   "metadata": {},
   "outputs": [
    {
     "name": "stderr",
     "output_type": "stream",
     "text": [
      "C:\\Users\\JennaTan\\AppData\\Roaming\\Python\\Python39\\site-packages\\pyproj\\crs\\crs.py:141: FutureWarning: '+init=<authority>:<code>' syntax is deprecated. '<authority>:<code>' is the preferred initialization method. When making the change, be mindful of axis order changes: https://pyproj4.github.io/pyproj/stable/gotchas.html#axis-order-changes-in-proj-6\n",
      "  in_crs_string = _prepare_from_proj_string(in_crs_string)\n"
     ]
    },
    {
     "data": {
      "text/html": [
       "<div>\n",
       "<style scoped>\n",
       "    .dataframe tbody tr th:only-of-type {\n",
       "        vertical-align: middle;\n",
       "    }\n",
       "\n",
       "    .dataframe tbody tr th {\n",
       "        vertical-align: top;\n",
       "    }\n",
       "\n",
       "    .dataframe thead th {\n",
       "        text-align: right;\n",
       "    }\n",
       "</style>\n",
       "<table border=\"1\" class=\"dataframe\">\n",
       "  <thead>\n",
       "    <tr style=\"text-align: right;\">\n",
       "      <th></th>\n",
       "      <th>InterZone</th>\n",
       "      <th>Name</th>\n",
       "      <th>TotPop2011</th>\n",
       "      <th>ResPop2011</th>\n",
       "      <th>HHCnt2011</th>\n",
       "      <th>StdAreaKm2</th>\n",
       "      <th>StdAreaHa</th>\n",
       "      <th>geometry</th>\n",
       "    </tr>\n",
       "  </thead>\n",
       "  <tbody>\n",
       "    <tr>\n",
       "      <th>0</th>\n",
       "      <td>S02001236</td>\n",
       "      <td>Culter</td>\n",
       "      <td>4845</td>\n",
       "      <td>4733</td>\n",
       "      <td>2143</td>\n",
       "      <td>19.553709</td>\n",
       "      <td>1955.371256</td>\n",
       "      <td>POLYGON ((379360.200 804845.000, 379373.900 80...</td>\n",
       "    </tr>\n",
       "    <tr>\n",
       "      <th>1</th>\n",
       "      <td>S02001237</td>\n",
       "      <td>Cults, Bieldside and Milltimber West</td>\n",
       "      <td>4007</td>\n",
       "      <td>3751</td>\n",
       "      <td>1428</td>\n",
       "      <td>19.758838</td>\n",
       "      <td>1975.883716</td>\n",
       "      <td>POLYGON ((383981.182 806104.601, 383973.868 80...</td>\n",
       "    </tr>\n",
       "    <tr>\n",
       "      <th>2</th>\n",
       "      <td>S02001238</td>\n",
       "      <td>Cults, Bieldside and Milltimber East</td>\n",
       "      <td>6112</td>\n",
       "      <td>5850</td>\n",
       "      <td>2291</td>\n",
       "      <td>5.275116</td>\n",
       "      <td>527.511832</td>\n",
       "      <td>POLYGON ((389550.557 803884.610, 389581.784 80...</td>\n",
       "    </tr>\n",
       "    <tr>\n",
       "      <th>3</th>\n",
       "      <td>S02001239</td>\n",
       "      <td>Garthdee</td>\n",
       "      <td>5229</td>\n",
       "      <td>5152</td>\n",
       "      <td>2439</td>\n",
       "      <td>1.493716</td>\n",
       "      <td>149.371708</td>\n",
       "      <td>POLYGON ((392626.000 804064.000, 392632.000 80...</td>\n",
       "    </tr>\n",
       "    <tr>\n",
       "      <th>4</th>\n",
       "      <td>S02001240</td>\n",
       "      <td>Braeside, Mannofield, Broomhill and Seafield East</td>\n",
       "      <td>4419</td>\n",
       "      <td>4358</td>\n",
       "      <td>2193</td>\n",
       "      <td>0.837722</td>\n",
       "      <td>83.772094</td>\n",
       "      <td>POLYGON ((393251.008 805451.033, 393249.774 80...</td>\n",
       "    </tr>\n",
       "  </tbody>\n",
       "</table>\n",
       "</div>"
      ],
      "text/plain": [
       "   InterZone                                               Name  TotPop2011  \\\n",
       "0  S02001236                                             Culter        4845   \n",
       "1  S02001237               Cults, Bieldside and Milltimber West        4007   \n",
       "2  S02001238               Cults, Bieldside and Milltimber East        6112   \n",
       "3  S02001239                                           Garthdee        5229   \n",
       "4  S02001240  Braeside, Mannofield, Broomhill and Seafield East        4419   \n",
       "\n",
       "   ResPop2011  HHCnt2011  StdAreaKm2    StdAreaHa  \\\n",
       "0        4733       2143   19.553709  1955.371256   \n",
       "1        3751       1428   19.758838  1975.883716   \n",
       "2        5850       2291    5.275116   527.511832   \n",
       "3        5152       2439    1.493716   149.371708   \n",
       "4        4358       2193    0.837722    83.772094   \n",
       "\n",
       "                                            geometry  \n",
       "0  POLYGON ((379360.200 804845.000, 379373.900 80...  \n",
       "1  POLYGON ((383981.182 806104.601, 383973.868 80...  \n",
       "2  POLYGON ((389550.557 803884.610, 389581.784 80...  \n",
       "3  POLYGON ((392626.000 804064.000, 392632.000 80...  \n",
       "4  POLYGON ((393251.008 805451.033, 393249.774 80...  "
      ]
     },
     "execution_count": 34,
     "metadata": {},
     "output_type": "execute_result"
    }
   ],
   "source": [
    "# Get MSOAs which we use to aggregate the z score variable.\n",
    "filestring = r'../../extdata/mapping_data/boundary/SG_IntermediateZone_Bdry_2011.shp'\n",
    "\n",
    "msoas = gpd.read_file(filestring)\n",
    "msoas.to_crs({'init':'epsg:27700'}).head(5) # projects coordinates onto British National Grid"
   ]
  },
  {
   "cell_type": "code",
   "execution_count": 35,
   "id": "11aa1be3",
   "metadata": {},
   "outputs": [],
   "source": [
    "# Affine transformation maps pixels from the KNN estimates to spatial coordinates of each MSOA's geometry\n",
    "# 250 = pixels resolution (size of each pixel in x/y direction)\n",
    "# 125 = spatial alignment in x/y direction\n",
    "\n",
    "trans = rst.Affine.from_gdal(xmin-125,250,0,ymax+125,0,-250)"
   ]
  },
  {
   "cell_type": "markdown",
   "id": "9b278567",
   "metadata": {},
   "source": [
    "<span style=\"color: blue;\"> NOTE: The values 250 and 125 are harcoded above. Not sure how they are determined. Noteably a cellsize was also hardcoded as 250. </span>"
   ]
  },
  {
   "cell_type": "code",
   "execution_count": 36,
   "id": "ce9fe0ea",
   "metadata": {},
   "outputs": [],
   "source": [
    "# Get the mean predicted score based on MSOA polygon shape, returns a dictionary\n",
    "msoa_zones = zonal_stats(msoas['geometry'], scores, affine = trans, stats = 'mean', nodata = np.nan)"
   ]
  },
  {
   "cell_type": "code",
   "execution_count": 37,
   "id": "70583bd7",
   "metadata": {},
   "outputs": [],
   "source": [
    "# Extract score from dictionary, turn into a list and add as col in .shp\n",
    "msoas['loneliness_zscore'] = list(map(lambda x: x['mean'] , msoa_zones))"
   ]
  },
  {
   "cell_type": "code",
   "execution_count": 38,
   "id": "f83f058b",
   "metadata": {},
   "outputs": [
    {
     "data": {
      "text/plain": [
       "<Axes: >"
      ]
     },
     "execution_count": 38,
     "metadata": {},
     "output_type": "execute_result"
    },
    {
     "data": {
      "image/png": "[encoded data removed]",
      "text/plain": [
       "<Figure size 500x300 with 1 Axes>"
      ]
     },
     "metadata": {},
     "output_type": "display_data"
    }
   ],
   "source": [
    "msoas['loneliness_zscore'].hist(bins = 100, figsize = (5,3))"
   ]
  },
  {
   "cell_type": "code",
   "execution_count": 39,
   "id": "53396f1c",
   "metadata": {},
   "outputs": [],
   "source": [
    "msoas[\"rank\"] = msoas[\"loneliness_zscore\"].rank()\n",
    "msoas[\"deciles\"] = pd.qcut(msoas[\"loneliness_zscore\"], q=10, labels=False)"
   ]
  },
  {
   "cell_type": "code",
   "execution_count": 40,
   "id": "b5200527",
   "metadata": {},
   "outputs": [
    {
     "name": "stderr",
     "output_type": "stream",
     "text": [
      "C:\\Users\\JennaTan\\AppData\\Local\\Temp\\ipykernel_11416\\1621668677.py:7: MatplotlibDeprecationWarning: The get_cmap function was deprecated in Matplotlib 3.7 and will be removed two minor releases later. Use ``matplotlib.colormaps[name]`` or ``matplotlib.colormaps.get_cmap(obj)`` instead.\n",
      "  cmap = cm.get_cmap('RdYlBu', len(decile_values))\n"
     ]
    },
    {
     "data": {
      "image/png": "[encoded data removed]",
      "text/plain": [
       "<Figure size 500x700 with 2 Axes>"
      ]
     },
     "metadata": {},
     "output_type": "display_data"
    }
   ],
   "source": [
    "from matplotlib.patches import Patch\n",
    "import matplotlib.cm as cm\n",
    "\n",
    "decile_values = msoas['deciles'].unique()\n",
    "\n",
    "# Automatically generate colors based on the number of unique decile values\n",
    "cmap = cm.get_cmap('RdYlBu', len(decile_values))\n",
    "\n",
    "# Create the legend handles for each decile range\n",
    "handles = []\n",
    "for i, decile in enumerate(decile_values):\n",
    "    col = cmap(i)\n",
    "    handles.append(Patch(facecolor=col, label=f\"Decile {decile}\"))\n",
    "\n",
    "# Create the plot of Scotland map with the decile colors\n",
    "fig, ax = plt.subplots(figsize=(5, 7))\n",
    "msoas.plot(column='deciles', ax=ax, legend=True);\n"
   ]
  },
  {
   "cell_type": "markdown",
   "id": "91eb7551",
   "metadata": {},
   "source": [
    "- Above average scores of loneliness appear associated with rural areas; below average scores with denser areas. \n",
    "- However is this to do with the geographic size of MSOAs?\n"
   ]
  },
  {
   "cell_type": "markdown",
   "id": "64c273b5",
   "metadata": {},
   "source": [
    "This appears very roughly in line with the visual created from original code, see image:\n",
    "<img src=\"attachment:image.png\" width=\"400\">\n",
    "\n"
   ]
  },
  {
   "cell_type": "code",
   "execution_count": 41,
   "id": "e009a204",
   "metadata": {},
   "outputs": [
    {
     "name": "stderr",
     "output_type": "stream",
     "text": [
      "C:\\Users\\JennaTan\\AppData\\Local\\Temp\\ipykernel_11416\\2885823872.py:2: SettingWithCopyWarning: \n",
      "A value is trying to be set on a copy of a slice from a DataFrame\n",
      "\n",
      "See the caveats in the documentation: https://pandas.pydata.org/pandas-docs/stable/user_guide/indexing.html#returning-a-view-versus-a-copy\n",
      "  msoas.rename(columns = {'InterZone':'iz11_code'}, inplace = True)\n"
     ]
    }
   ],
   "source": [
    "msoas = msoas[['InterZone', 'loneliness_zscore','rank','deciles']]\n",
    "msoas.rename(columns = {'InterZone':'iz11_code'}, inplace = True)"
   ]
  },
  {
   "cell_type": "code",
   "execution_count": 42,
   "id": "db0df98f",
   "metadata": {},
   "outputs": [
    {
     "data": {
      "text/html": [
       "<div>\n",
       "<style scoped>\n",
       "    .dataframe tbody tr th:only-of-type {\n",
       "        vertical-align: middle;\n",
       "    }\n",
       "\n",
       "    .dataframe tbody tr th {\n",
       "        vertical-align: top;\n",
       "    }\n",
       "\n",
       "    .dataframe thead th {\n",
       "        text-align: right;\n",
       "    }\n",
       "</style>\n",
       "<table border=\"1\" class=\"dataframe\">\n",
       "  <thead>\n",
       "    <tr style=\"text-align: right;\">\n",
       "      <th></th>\n",
       "      <th>loneliness_zscore</th>\n",
       "      <th>rank</th>\n",
       "      <th>deciles</th>\n",
       "    </tr>\n",
       "  </thead>\n",
       "  <tbody>\n",
       "    <tr>\n",
       "      <th>count</th>\n",
       "      <td>1279.000000</td>\n",
       "      <td>1279.000000</td>\n",
       "      <td>1279.000000</td>\n",
       "    </tr>\n",
       "    <tr>\n",
       "      <th>mean</th>\n",
       "      <td>-0.344766</td>\n",
       "      <td>640.000000</td>\n",
       "      <td>4.499609</td>\n",
       "    </tr>\n",
       "    <tr>\n",
       "      <th>std</th>\n",
       "      <td>1.422458</td>\n",
       "      <td>369.359807</td>\n",
       "      <td>2.874494</td>\n",
       "    </tr>\n",
       "    <tr>\n",
       "      <th>min</th>\n",
       "      <td>-10.026416</td>\n",
       "      <td>1.000000</td>\n",
       "      <td>0.000000</td>\n",
       "    </tr>\n",
       "    <tr>\n",
       "      <th>25%</th>\n",
       "      <td>-1.246132</td>\n",
       "      <td>320.500000</td>\n",
       "      <td>2.000000</td>\n",
       "    </tr>\n",
       "    <tr>\n",
       "      <th>50%</th>\n",
       "      <td>-0.576384</td>\n",
       "      <td>640.000000</td>\n",
       "      <td>4.000000</td>\n",
       "    </tr>\n",
       "    <tr>\n",
       "      <th>75%</th>\n",
       "      <td>0.451526</td>\n",
       "      <td>959.500000</td>\n",
       "      <td>7.000000</td>\n",
       "    </tr>\n",
       "    <tr>\n",
       "      <th>max</th>\n",
       "      <td>5.713890</td>\n",
       "      <td>1279.000000</td>\n",
       "      <td>9.000000</td>\n",
       "    </tr>\n",
       "  </tbody>\n",
       "</table>\n",
       "</div>"
      ],
      "text/plain": [
       "       loneliness_zscore         rank      deciles\n",
       "count        1279.000000  1279.000000  1279.000000\n",
       "mean           -0.344766   640.000000     4.499609\n",
       "std             1.422458   369.359807     2.874494\n",
       "min           -10.026416     1.000000     0.000000\n",
       "25%            -1.246132   320.500000     2.000000\n",
       "50%            -0.576384   640.000000     4.000000\n",
       "75%             0.451526   959.500000     7.000000\n",
       "max             5.713890  1279.000000     9.000000"
      ]
     },
     "execution_count": 42,
     "metadata": {},
     "output_type": "execute_result"
    }
   ],
   "source": [
    "msoas.describe()"
   ]
  },
  {
   "cell_type": "code",
   "execution_count": 43,
   "id": "8485883f",
   "metadata": {},
   "outputs": [],
   "source": [
    "msoas.to_csv(\"../../extdata/scotland_iz_2022.csv\", index = False)"
   ]
  }
 ],
 "metadata": {
  "kernelspec": {
   "display_name": "Python 3 (ipykernel)",
   "language": "python",
   "name": "python3"
  },
  "language_info": {
   "codemirror_mode": {
    "name": "ipython",
    "version": 3
   },
   "file_extension": ".py",
   "mimetype": "text/x-python",
   "name": "python",
   "nbconvert_exporter": "python",
   "pygments_lexer": "ipython3",
   "version": "3.9.6"
  }
 },
 "nbformat": 4,
 "nbformat_minor": 5
}
