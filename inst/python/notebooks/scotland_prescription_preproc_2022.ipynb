{
 "cells": [
  {
   "cell_type": "markdown",
   "id": "3eadd414",
   "metadata": {},
   "source": [
    "# Creating Loneliness Index for GPs in Scotland using Prescription Data, 2022"
   ]
  },
  {
   "cell_type": "markdown",
   "id": "6e24d797",
   "metadata": {},
   "source": [
    "- Outputs an index of loneliness scores for GPs' postcodes in Scotland for Jan 2022 - Dec 2022 \n",
    "- To be used as an input to map area scores"
   ]
  },
  {
   "cell_type": "code",
   "execution_count": 4,
   "id": "a0a5bc26",
   "metadata": {},
   "outputs": [],
   "source": [
    "import pandas as pd\n",
    "import numpy as np\n",
    "import os\n",
    "import matplotlib.pyplot as plt\n",
    "import scipy.stats as stats"
   ]
  },
  {
   "cell_type": "code",
   "execution_count": 2,
   "id": "c2e5bfa0",
   "metadata": {},
   "outputs": [],
   "source": [
    "# Path to files\n",
    "path = \"../../extdata/\""
   ]
  },
  {
   "cell_type": "markdown",
   "id": "87cf7ad4",
   "metadata": {},
   "source": [
    "# Read drug data"
   ]
  },
  {
   "cell_type": "code",
   "execution_count": 3,
   "id": "f47335fe",
   "metadata": {},
   "outputs": [],
   "source": [
    "# Reads a csv that identifies loneliness related conditions and matches it to its associated medication\n",
    "drug_data = pd.read_csv(path + \"drug_list.csv\")"
   ]
  },
  {
   "cell_type": "markdown",
   "id": "4f1a245a",
   "metadata": {},
   "source": [
    "# Process Prescribing Data\n",
    "- Uses \"Prescriptions in the Community\" .csv files that come from: https://www.opendata.nhs.scot/dataset/prescriptions-in-the-community to identify loneliness related conditions based on prescriptions\n",
    "- Prescription in the Community are monthly files containing community pharmacy activity and direct pharmaceutical care services  for all NHS health boards.\n",
    "- Outputs a dataframe that multiplies loneliness related prescriptions by its count.\n",
    "\n",
    "*Prescription in the Community csvs for each month in 2022 need to be saved in the prescriptions_scotland/ folder manually*"
   ]
  },
  {
   "cell_type": "code",
   "execution_count": 4,
   "id": "98029f41",
   "metadata": {},
   "outputs": [],
   "source": [
    "# column names\n",
    "col_bnfname = \"BNFItemDescription\"\n",
    "col_items = \"NumberOfPaidItems\""
   ]
  },
  {
   "cell_type": "code",
   "execution_count": 5,
   "id": "204acae2",
   "metadata": {},
   "outputs": [],
   "source": [
    "# Function to find loneliness related conditions based on prescription\n",
    "def code_loneliness(x):\n",
    "    out = {}\n",
    "    # coding by illness categories\n",
    "    for illness in drug_data['illness'].unique():\n",
    "        out[illness] = x[col_bnfname].str.contains(\"|\".join(drug_data[drug_data['illness'] == illness]['medication']),\n",
    "                                                 case=False, \n",
    "                                                 regex=True).fillna(False).astype('int16')\n",
    "    # Make dataframe\n",
    "    out = pd.DataFrame(out)\n",
    "  \n",
    "    # Return dataframe multiplied by counts of items\n",
    "    return out.multiply(x[col_items], axis=0)"
   ]
  },
  {
   "cell_type": "code",
   "execution_count": 6,
   "id": "5b300bee",
   "metadata": {},
   "outputs": [
    {
     "name": "stdout",
     "output_type": "stream",
     "text": [
      " Proccessing pitc202201.csv\n",
      " Completed processing pitc202201.csv\n",
      " Proccessing pitc202202.csv\n",
      " Completed processing pitc202202.csv\n",
      " Proccessing pitc202203.csv\n",
      " Completed processing pitc202203.csv\n",
      " Proccessing pitc202204.csv\n",
      " Completed processing pitc202204.csv\n",
      " Proccessing pitc202205.csv\n",
      " Completed processing pitc202205.csv\n",
      " Proccessing pitc202206.csv\n",
      " Completed processing pitc202206.csv\n",
      " Proccessing pitc202207.csv\n",
      " Completed processing pitc202207.csv\n",
      " Proccessing pitc202208.csv\n",
      " Completed processing pitc202208.csv\n",
      " Proccessing pitc202209.csv\n",
      " Completed processing pitc202209.csv\n",
      " Proccessing pitc202210.csv\n",
      " Completed processing pitc202210.csv\n",
      " Proccessing pitc202211.csv\n",
      " Completed processing pitc202211.csv\n",
      " Proccessing pitc202212.csv\n",
      " Completed processing pitc202212.csv\n"
     ]
    }
   ],
   "source": [
    "# Iterate over Prescription in the Community files, call code_loneliness() to count prescriptions \n",
    "# Outputs a df that is grouped by GP practice\n",
    "\n",
    "monthly_data = []\n",
    "\n",
    "for file in os.listdir(path + \"prescriptions_scotland\"):\n",
    "    # Open prescribing files \n",
    "    prescribe = pd.read_csv(path + \"prescriptions_scotland/\" + file)\n",
    "    prescribe.columns = prescribe.columns.str.strip()\n",
    "    prescribe = prescribe[[\"GPPractice\", col_bnfname, col_items]]\n",
    "    print(f\" Proccessing {file}\")\n",
    "\n",
    "    # Count prescriptions\n",
    "    loneliness_prescribing = code_loneliness(prescribe[[col_bnfname, col_items]])\n",
    "    prescribe = prescribe.merge(\n",
    "        loneliness_prescribing, left_index=True, right_index=True\n",
    "    )\n",
    "    del loneliness_prescribing\n",
    "\n",
    "    # Group by GPPractice and sum prescriptions across the year\n",
    "    summary = prescribe.groupby(\"GPPractice\", as_index=False).agg(sum)\n",
    "    monthly_data.append(summary)\n",
    "    print(f\" Completed processing {file}\")"
   ]
  },
  {
   "cell_type": "code",
   "execution_count": 7,
   "id": "f76e0f93",
   "metadata": {},
   "outputs": [],
   "source": [
    "monthly_prescriptions = pd.concat(monthly_data, ignore_index = True)"
   ]
  },
  {
   "cell_type": "code",
   "execution_count": 8,
   "id": "a647db7a",
   "metadata": {},
   "outputs": [
    {
     "data": {
      "text/html": [
       "<div>\n",
       "<style scoped>\n",
       "    .dataframe tbody tr th:only-of-type {\n",
       "        vertical-align: middle;\n",
       "    }\n",
       "\n",
       "    .dataframe tbody tr th {\n",
       "        vertical-align: top;\n",
       "    }\n",
       "\n",
       "    .dataframe thead th {\n",
       "        text-align: right;\n",
       "    }\n",
       "</style>\n",
       "<table border=\"1\" class=\"dataframe\">\n",
       "  <thead>\n",
       "    <tr style=\"text-align: right;\">\n",
       "      <th></th>\n",
       "      <th>GPPractice</th>\n",
       "      <th>BNFItemDescription</th>\n",
       "      <th>NumberOfPaidItems</th>\n",
       "      <th>depression</th>\n",
       "      <th>alzheimers</th>\n",
       "      <th>blood pressure</th>\n",
       "      <th>hypertension</th>\n",
       "      <th>diabeties</th>\n",
       "      <th>cardiovascular disease</th>\n",
       "      <th>insomnia</th>\n",
       "      <th>addiction</th>\n",
       "      <th>social anxiety</th>\n",
       "    </tr>\n",
       "  </thead>\n",
       "  <tbody>\n",
       "    <tr>\n",
       "      <th>0</th>\n",
       "      <td>10002</td>\n",
       "      <td>MAALOX_ORAL SUSP 175MG/200MG/5MLGAVISCON_LIQ O...</td>\n",
       "      <td>9510</td>\n",
       "      <td>594</td>\n",
       "      <td>20</td>\n",
       "      <td>700</td>\n",
       "      <td>704</td>\n",
       "      <td>107</td>\n",
       "      <td>485</td>\n",
       "      <td>41</td>\n",
       "      <td>0</td>\n",
       "      <td>3</td>\n",
       "    </tr>\n",
       "    <tr>\n",
       "      <th>1</th>\n",
       "      <td>10017</td>\n",
       "      <td>MAALOX_ORAL SUSP 175MG/200MG/5MLGAVISCON INFAN...</td>\n",
       "      <td>8734</td>\n",
       "      <td>550</td>\n",
       "      <td>35</td>\n",
       "      <td>658</td>\n",
       "      <td>664</td>\n",
       "      <td>89</td>\n",
       "      <td>420</td>\n",
       "      <td>56</td>\n",
       "      <td>0</td>\n",
       "      <td>5</td>\n",
       "    </tr>\n",
       "  </tbody>\n",
       "</table>\n",
       "</div>"
      ],
      "text/plain": [
       "   GPPractice                                 BNFItemDescription  \\\n",
       "0       10002  MAALOX_ORAL SUSP 175MG/200MG/5MLGAVISCON_LIQ O...   \n",
       "1       10017  MAALOX_ORAL SUSP 175MG/200MG/5MLGAVISCON INFAN...   \n",
       "\n",
       "   NumberOfPaidItems  depression  alzheimers  blood pressure  hypertension  \\\n",
       "0               9510         594          20             700           704   \n",
       "1               8734         550          35             658           664   \n",
       "\n",
       "   diabeties  cardiovascular disease  insomnia  addiction  social anxiety  \n",
       "0        107                     485        41          0               3  \n",
       "1         89                     420        56          0               5  "
      ]
     },
     "execution_count": 8,
     "metadata": {},
     "output_type": "execute_result"
    }
   ],
   "source": [
    "monthly_prescriptions.head(2)"
   ]
  },
  {
   "cell_type": "code",
   "execution_count": 9,
   "id": "134d4803",
   "metadata": {},
   "outputs": [
    {
     "data": {
      "text/plain": [
       "False    13148\n",
       "True         7\n",
       "Name: count, dtype: int64"
      ]
     },
     "execution_count": 9,
     "metadata": {},
     "output_type": "execute_result"
    }
   ],
   "source": [
    "# Count duplicates\n",
    "monthly_prescriptions.duplicated().value_counts()"
   ]
  },
  {
   "cell_type": "markdown",
   "id": "d6994478",
   "metadata": {},
   "source": [
    "Only a very small number of duplicates"
   ]
  },
  {
   "cell_type": "code",
   "execution_count": 10,
   "id": "18c542b7",
   "metadata": {},
   "outputs": [
    {
     "data": {
      "text/html": [
       "<div>\n",
       "<style scoped>\n",
       "    .dataframe tbody tr th:only-of-type {\n",
       "        vertical-align: middle;\n",
       "    }\n",
       "\n",
       "    .dataframe tbody tr th {\n",
       "        vertical-align: top;\n",
       "    }\n",
       "\n",
       "    .dataframe thead th {\n",
       "        text-align: right;\n",
       "    }\n",
       "</style>\n",
       "<table border=\"1\" class=\"dataframe\">\n",
       "  <thead>\n",
       "    <tr style=\"text-align: right;\">\n",
       "      <th></th>\n",
       "      <th>GPPractice</th>\n",
       "      <th>BNFItemDescription</th>\n",
       "      <th>NumberOfPaidItems</th>\n",
       "      <th>depression</th>\n",
       "      <th>alzheimers</th>\n",
       "      <th>blood pressure</th>\n",
       "      <th>hypertension</th>\n",
       "      <th>diabeties</th>\n",
       "      <th>cardiovascular disease</th>\n",
       "      <th>insomnia</th>\n",
       "      <th>addiction</th>\n",
       "      <th>social anxiety</th>\n",
       "    </tr>\n",
       "  </thead>\n",
       "  <tbody>\n",
       "    <tr>\n",
       "      <th>2713</th>\n",
       "      <td>54636</td>\n",
       "      <td>PREDNISOLONE_TAB 5MG</td>\n",
       "      <td>1</td>\n",
       "      <td>0</td>\n",
       "      <td>0</td>\n",
       "      <td>0</td>\n",
       "      <td>0</td>\n",
       "      <td>0</td>\n",
       "      <td>0</td>\n",
       "      <td>0</td>\n",
       "      <td>0</td>\n",
       "      <td>0</td>\n",
       "    </tr>\n",
       "    <tr>\n",
       "      <th>7836</th>\n",
       "      <td>24931</td>\n",
       "      <td>TRIMETHOPRIM_TAB 200MG</td>\n",
       "      <td>1</td>\n",
       "      <td>0</td>\n",
       "      <td>0</td>\n",
       "      <td>0</td>\n",
       "      <td>0</td>\n",
       "      <td>0</td>\n",
       "      <td>0</td>\n",
       "      <td>0</td>\n",
       "      <td>0</td>\n",
       "      <td>0</td>\n",
       "    </tr>\n",
       "    <tr>\n",
       "      <th>10389</th>\n",
       "      <td>54636</td>\n",
       "      <td>AMOXICILLIN_CAP 500MGPREDNISOLONE_TAB 5MG</td>\n",
       "      <td>3</td>\n",
       "      <td>0</td>\n",
       "      <td>0</td>\n",
       "      <td>0</td>\n",
       "      <td>0</td>\n",
       "      <td>0</td>\n",
       "      <td>0</td>\n",
       "      <td>0</td>\n",
       "      <td>0</td>\n",
       "      <td>0</td>\n",
       "    </tr>\n",
       "    <tr>\n",
       "      <th>10920</th>\n",
       "      <td>90986</td>\n",
       "      <td>AMOROLFINE HCL_NAIL LACQUER KIT 5% 5ML</td>\n",
       "      <td>1</td>\n",
       "      <td>0</td>\n",
       "      <td>0</td>\n",
       "      <td>0</td>\n",
       "      <td>0</td>\n",
       "      <td>0</td>\n",
       "      <td>0</td>\n",
       "      <td>0</td>\n",
       "      <td>0</td>\n",
       "      <td>0</td>\n",
       "    </tr>\n",
       "    <tr>\n",
       "      <th>11795</th>\n",
       "      <td>71453</td>\n",
       "      <td>AMOXICILLIN_ORAL SUSP 250MG/5ML</td>\n",
       "      <td>1</td>\n",
       "      <td>0</td>\n",
       "      <td>0</td>\n",
       "      <td>0</td>\n",
       "      <td>0</td>\n",
       "      <td>0</td>\n",
       "      <td>0</td>\n",
       "      <td>0</td>\n",
       "      <td>0</td>\n",
       "      <td>0</td>\n",
       "    </tr>\n",
       "    <tr>\n",
       "      <th>12311</th>\n",
       "      <td>26049</td>\n",
       "      <td>FORCEVAL_CAP</td>\n",
       "      <td>1</td>\n",
       "      <td>0</td>\n",
       "      <td>0</td>\n",
       "      <td>0</td>\n",
       "      <td>0</td>\n",
       "      <td>0</td>\n",
       "      <td>0</td>\n",
       "      <td>0</td>\n",
       "      <td>0</td>\n",
       "      <td>0</td>\n",
       "    </tr>\n",
       "    <tr>\n",
       "      <th>13139</th>\n",
       "      <td>95020</td>\n",
       "      <td>GABAPENTIN_CAP 300MG</td>\n",
       "      <td>1</td>\n",
       "      <td>0</td>\n",
       "      <td>0</td>\n",
       "      <td>0</td>\n",
       "      <td>0</td>\n",
       "      <td>0</td>\n",
       "      <td>0</td>\n",
       "      <td>0</td>\n",
       "      <td>0</td>\n",
       "      <td>0</td>\n",
       "    </tr>\n",
       "  </tbody>\n",
       "</table>\n",
       "</div>"
      ],
      "text/plain": [
       "       GPPractice                         BNFItemDescription  \\\n",
       "2713        54636                       PREDNISOLONE_TAB 5MG   \n",
       "7836        24931                     TRIMETHOPRIM_TAB 200MG   \n",
       "10389       54636  AMOXICILLIN_CAP 500MGPREDNISOLONE_TAB 5MG   \n",
       "10920       90986     AMOROLFINE HCL_NAIL LACQUER KIT 5% 5ML   \n",
       "11795       71453            AMOXICILLIN_ORAL SUSP 250MG/5ML   \n",
       "12311       26049                               FORCEVAL_CAP   \n",
       "13139       95020                       GABAPENTIN_CAP 300MG   \n",
       "\n",
       "       NumberOfPaidItems  depression  alzheimers  blood pressure  \\\n",
       "2713                   1           0           0               0   \n",
       "7836                   1           0           0               0   \n",
       "10389                  3           0           0               0   \n",
       "10920                  1           0           0               0   \n",
       "11795                  1           0           0               0   \n",
       "12311                  1           0           0               0   \n",
       "13139                  1           0           0               0   \n",
       "\n",
       "       hypertension  diabeties  cardiovascular disease  insomnia  addiction  \\\n",
       "2713              0          0                       0         0          0   \n",
       "7836              0          0                       0         0          0   \n",
       "10389             0          0                       0         0          0   \n",
       "10920             0          0                       0         0          0   \n",
       "11795             0          0                       0         0          0   \n",
       "12311             0          0                       0         0          0   \n",
       "13139             0          0                       0         0          0   \n",
       "\n",
       "       social anxiety  \n",
       "2713                0  \n",
       "7836                0  \n",
       "10389               0  \n",
       "10920               0  \n",
       "11795               0  \n",
       "12311               0  \n",
       "13139               0  "
      ]
     },
     "execution_count": 10,
     "metadata": {},
     "output_type": "execute_result"
    }
   ],
   "source": [
    "# Look at duplicates\n",
    "monthly_prescriptions[monthly_prescriptions.duplicated()]"
   ]
  },
  {
   "cell_type": "code",
   "execution_count": 11,
   "id": "543f089c",
   "metadata": {},
   "outputs": [],
   "source": [
    "# Assume data entry error - drop duplicates as its a small number\n",
    "monthly_prescriptions.drop_duplicates(inplace=True)"
   ]
  },
  {
   "cell_type": "code",
   "execution_count": 12,
   "id": "294005fe",
   "metadata": {},
   "outputs": [],
   "source": [
    "# Save aggregated data\n",
    "monthly_prescriptions.to_csv(path + \"monthly_prescriptions.csv\")"
   ]
  },
  {
   "cell_type": "markdown",
   "id": "c61cb97c",
   "metadata": {},
   "source": [
    "# Join GPs to postcodes\n",
    "\n",
    "- Use the 'GP Practice Contact Details and List Sizes' data from: https://www.opendata.nhs.scot/dataset/gp-practice-contact-details-and-list-sizes to get GP surgery codes and postcode\n",
    "- Note that Scotland only publishes this four times a year (in Jan, Apr, Jul and Oct).\n",
    "\n",
    "*GP Practice Contact Details and List Sizes csvs for each quarter in 2022 need to be saved in the processed_data/ folder manually*"
   ]
  },
  {
   "cell_type": "code",
   "execution_count": 13,
   "id": "ffada308",
   "metadata": {},
   "outputs": [],
   "source": [
    "monthly_prescriptions = pd.read_csv(path + \"monthly_prescriptions.csv\", index_col = 0)"
   ]
  },
  {
   "cell_type": "code",
   "execution_count": 14,
   "id": "c920448a",
   "metadata": {},
   "outputs": [],
   "source": [
    "# Get GP files\n",
    "gp_path = path + \"gp_data/\""
   ]
  },
  {
   "cell_type": "code",
   "execution_count": 15,
   "id": "7dec9204",
   "metadata": {},
   "outputs": [
    {
     "name": "stdout",
     "output_type": "stream",
     "text": [
      "practice_contactdetails_apr2022-open-data.csv\n",
      "practice_contactdetails_jan2022.csv\n",
      "practice_contactdetails_jul2022-open-data.csv\n",
      "practice_contactdetails_oct2022-open-data.csv\n"
     ]
    }
   ],
   "source": [
    "gp_combine = []\n",
    "\n",
    "for file in os.listdir(gp_path):\n",
    "    gp_data = pd.read_csv(gp_path + file)\n",
    "    gp_data = gp_data.rename(columns = {'PracticeCode': 'GPPractice'})\n",
    "    gp_combine.append(gp_data[['GPPractice','Postcode']])\n",
    "    print(file)"
   ]
  },
  {
   "cell_type": "code",
   "execution_count": 16,
   "id": "aacbdd6b",
   "metadata": {},
   "outputs": [],
   "source": [
    "gp_postcodes = pd.concat(gp_combine, ignore_index = True)"
   ]
  },
  {
   "cell_type": "code",
   "execution_count": 17,
   "id": "6935918c",
   "metadata": {},
   "outputs": [
    {
     "data": {
      "text/html": [
       "<div>\n",
       "<style scoped>\n",
       "    .dataframe tbody tr th:only-of-type {\n",
       "        vertical-align: middle;\n",
       "    }\n",
       "\n",
       "    .dataframe tbody tr th {\n",
       "        vertical-align: top;\n",
       "    }\n",
       "\n",
       "    .dataframe thead th {\n",
       "        text-align: right;\n",
       "    }\n",
       "</style>\n",
       "<table border=\"1\" class=\"dataframe\">\n",
       "  <thead>\n",
       "    <tr style=\"text-align: right;\">\n",
       "      <th></th>\n",
       "      <th>GPPractice</th>\n",
       "      <th>Postcode</th>\n",
       "    </tr>\n",
       "  </thead>\n",
       "  <tbody>\n",
       "    <tr>\n",
       "      <th>0</th>\n",
       "      <td>10002</td>\n",
       "      <td>DD2 5NH</td>\n",
       "    </tr>\n",
       "    <tr>\n",
       "      <th>1</th>\n",
       "      <td>10017</td>\n",
       "      <td>PH7 3SA</td>\n",
       "    </tr>\n",
       "  </tbody>\n",
       "</table>\n",
       "</div>"
      ],
      "text/plain": [
       "   GPPractice Postcode\n",
       "0       10002  DD2 5NH\n",
       "1       10017  PH7 3SA"
      ]
     },
     "execution_count": 17,
     "metadata": {},
     "output_type": "execute_result"
    }
   ],
   "source": [
    "gp_postcodes.head(2)"
   ]
  },
  {
   "cell_type": "code",
   "execution_count": 18,
   "id": "2aacef6d",
   "metadata": {},
   "outputs": [
    {
     "name": "stdout",
     "output_type": "stream",
     "text": [
      "(3663, 2)\n",
      "(945, 2)\n"
     ]
    }
   ],
   "source": [
    "# Drop duplicates as contact details will be repeated across quarters\n",
    "print(gp_postcodes.shape)\n",
    "gp_postcodes.drop_duplicates(inplace = True)\n",
    "print(gp_postcodes.shape)"
   ]
  },
  {
   "cell_type": "code",
   "execution_count": 19,
   "id": "5e2634a9",
   "metadata": {},
   "outputs": [
    {
     "data": {
      "text/html": [
       "<div>\n",
       "<style scoped>\n",
       "    .dataframe tbody tr th:only-of-type {\n",
       "        vertical-align: middle;\n",
       "    }\n",
       "\n",
       "    .dataframe tbody tr th {\n",
       "        vertical-align: top;\n",
       "    }\n",
       "\n",
       "    .dataframe thead th {\n",
       "        text-align: right;\n",
       "    }\n",
       "</style>\n",
       "<table border=\"1\" class=\"dataframe\">\n",
       "  <thead>\n",
       "    <tr style=\"text-align: right;\">\n",
       "      <th></th>\n",
       "      <th>Postcode</th>\n",
       "    </tr>\n",
       "    <tr>\n",
       "      <th>GPPractice</th>\n",
       "      <th></th>\n",
       "    </tr>\n",
       "  </thead>\n",
       "  <tbody>\n",
       "    <tr>\n",
       "      <th>21505</th>\n",
       "      <td>2</td>\n",
       "    </tr>\n",
       "    <tr>\n",
       "      <th>40703</th>\n",
       "      <td>2</td>\n",
       "    </tr>\n",
       "    <tr>\n",
       "      <th>71379</th>\n",
       "      <td>2</td>\n",
       "    </tr>\n",
       "    <tr>\n",
       "      <th>71171</th>\n",
       "      <td>2</td>\n",
       "    </tr>\n",
       "    <tr>\n",
       "      <th>40224</th>\n",
       "      <td>2</td>\n",
       "    </tr>\n",
       "    <tr>\n",
       "      <th>40262</th>\n",
       "      <td>2</td>\n",
       "    </tr>\n",
       "    <tr>\n",
       "      <th>62986</th>\n",
       "      <td>2</td>\n",
       "    </tr>\n",
       "    <tr>\n",
       "      <th>70470</th>\n",
       "      <td>2</td>\n",
       "    </tr>\n",
       "    <tr>\n",
       "      <th>40046</th>\n",
       "      <td>2</td>\n",
       "    </tr>\n",
       "    <tr>\n",
       "      <th>40691</th>\n",
       "      <td>2</td>\n",
       "    </tr>\n",
       "    <tr>\n",
       "      <th>16066</th>\n",
       "      <td>2</td>\n",
       "    </tr>\n",
       "    <tr>\n",
       "      <th>40582</th>\n",
       "      <td>2</td>\n",
       "    </tr>\n",
       "    <tr>\n",
       "      <th>62897</th>\n",
       "      <td>1</td>\n",
       "    </tr>\n",
       "  </tbody>\n",
       "</table>\n",
       "</div>"
      ],
      "text/plain": [
       "            Postcode\n",
       "GPPractice          \n",
       "21505              2\n",
       "40703              2\n",
       "71379              2\n",
       "71171              2\n",
       "40224              2\n",
       "40262              2\n",
       "62986              2\n",
       "70470              2\n",
       "40046              2\n",
       "40691              2\n",
       "16066              2\n",
       "40582              2\n",
       "62897              1"
      ]
     },
     "execution_count": 19,
     "metadata": {},
     "output_type": "execute_result"
    }
   ],
   "source": [
    "# Check number of GP Practices with multiple postcodes \n",
    "(gp_postcodes.groupby('GPPractice').count()).sort_values(\"Postcode\", ascending = False).head(13)"
   ]
  },
  {
   "cell_type": "markdown",
   "id": "488cae09",
   "metadata": {},
   "source": [
    "Note that 12 GP practices have two postcodes assigned to them. Possible reasons for this are:\n",
    "\n",
    "* Practices move to a new location.\n",
    "* Practices are assigned a new postcode but don't physically move.\n",
    "* Practice postcodes are wrongly entered at a particular wave and subsequently fixed.\n",
    "\n",
    "If we were being very thorough we would align the quarter the gp reference details were released with the month of the prescription in the community files. Given it is a small number of GPs and only two postcodes each, we will take the first value in the df.\n"
   ]
  },
  {
   "cell_type": "code",
   "execution_count": 20,
   "id": "2246a72b",
   "metadata": {},
   "outputs": [
    {
     "data": {
      "text/plain": [
       "(11121, 12)"
      ]
     },
     "execution_count": 20,
     "metadata": {},
     "output_type": "execute_result"
    }
   ],
   "source": [
    "# Subset GP practices\n",
    "gp_ids = gp_postcodes['GPPractice'].unique()\n",
    "monthly_prescriptions = monthly_prescriptions[monthly_prescriptions['GPPractice'].isin(gp_ids)].copy()\n",
    "monthly_prescriptions.shape"
   ]
  },
  {
   "cell_type": "markdown",
   "id": "5c643d02",
   "metadata": {},
   "source": [
    "Above we are subsetting the monthly prescription data with GP Practices that appear in the GP Practice contact details table.  \n",
    "The assumption is that the prescription in the community data includes non GP Practices e.g. pharmacies"
   ]
  },
  {
   "cell_type": "code",
   "execution_count": 21,
   "id": "a8bebe3f",
   "metadata": {},
   "outputs": [],
   "source": [
    "# Join gp postcodes to prescription data\n",
    "monthly_prescriptions_postcodes = monthly_prescriptions.merge(gp_postcodes, how = 'left', on = 'GPPractice')"
   ]
  },
  {
   "cell_type": "code",
   "execution_count": 2,
   "id": "323df1f9",
   "metadata": {
    "scrolled": true
   },
   "outputs": [
    {
     "ename": "NameError",
     "evalue": "name 'monthly_prescriptions_postcodes' is not defined",
     "output_type": "error",
     "traceback": [
      "\u001b[1;31m---------------------------------------------------------------------------\u001b[0m",
      "\u001b[1;31mNameError\u001b[0m                                 Traceback (most recent call last)",
      "Cell \u001b[1;32mIn[2], line 1\u001b[0m\n\u001b[1;32m----> 1\u001b[0m \u001b[43mmonthly_prescriptions_postcodes\u001b[49m\u001b[38;5;241m.\u001b[39mhead(\u001b[38;5;241m2\u001b[39m)\n",
      "\u001b[1;31mNameError\u001b[0m: name 'monthly_prescriptions_postcodes' is not defined"
     ]
    }
   ],
   "source": [
    "monthly_prescriptions_postcodes.head(2)"
   ]
  },
  {
   "cell_type": "code",
   "execution_count": 1,
   "id": "91bb2dbb",
   "metadata": {},
   "outputs": [
    {
     "ename": "NameError",
     "evalue": "name 'monthly_prescriptions_postcodes' is not defined",
     "output_type": "error",
     "traceback": [
      "\u001b[1;31m---------------------------------------------------------------------------\u001b[0m",
      "\u001b[1;31mNameError\u001b[0m                                 Traceback (most recent call last)",
      "Cell \u001b[1;32mIn[1], line 1\u001b[0m\n\u001b[1;32m----> 1\u001b[0m \u001b[38;5;28mprint\u001b[39m(\u001b[43mmonthly_prescriptions_postcodes\u001b[49m\u001b[38;5;241m.\u001b[39mshape)\n",
      "\u001b[1;31mNameError\u001b[0m: name 'monthly_prescriptions_postcodes' is not defined"
     ]
    }
   ],
   "source": [
    "print(monthly_prescriptions_postcodes.shape)"
   ]
  },
  {
   "cell_type": "code",
   "execution_count": 24,
   "id": "2373a22b",
   "metadata": {},
   "outputs": [],
   "source": [
    "# Sum values by postcode to get total prescriptions across the year\n",
    "monthly_prescriptions_postcodes['pcstrip'] = monthly_prescriptions_postcodes['Postcode'].str.replace(\"\\s\",\"\")\n",
    "monthly_prescriptions_postcodes = monthly_prescriptions_postcodes.groupby([\"pcstrip\"], as_index=False).sum()"
   ]
  },
  {
   "cell_type": "code",
   "execution_count": 25,
   "id": "4af1120c",
   "metadata": {},
   "outputs": [
    {
     "name": "stdout",
     "output_type": "stream",
     "text": [
      "(739, 14)\n"
     ]
    }
   ],
   "source": [
    "print(monthly_prescriptions_postcodes.shape)"
   ]
  },
  {
   "cell_type": "code",
   "execution_count": 26,
   "id": "22c378fa",
   "metadata": {},
   "outputs": [
    {
     "data": {
      "text/plain": [
       "GPPractice\n",
       "258060     2\n",
       "2910096    2\n",
       "63783      1\n",
       "847104     1\n",
       "847896     1\n",
       "          ..\n",
       "480144     1\n",
       "480324     1\n",
       "480612     1\n",
       "480780     1\n",
       "5103672    1\n",
       "Name: pcstrip, Length: 737, dtype: int64"
      ]
     },
     "execution_count": 26,
     "metadata": {},
     "output_type": "execute_result"
    }
   ],
   "source": [
    "# Get codes for GPPractices with >1 postcode\n",
    "monthly_prescriptions_postcodes.groupby('GPPractice')['pcstrip'].count().sort_values(ascending=False)"
   ]
  },
  {
   "cell_type": "markdown",
   "id": "60f30614",
   "metadata": {},
   "source": [
    "- There are 2 practices codes which have 2 postcode assigned to them, this is about 1.3% of unique practices.\n",
    "- These will be the same ones that have carried over from the GP contact details above.\n",
    "- Drop the second instance of both as it is only a small number"
   ]
  },
  {
   "cell_type": "code",
   "execution_count": 27,
   "id": "f27871c0",
   "metadata": {
    "scrolled": true
   },
   "outputs": [],
   "source": [
    "# Drop second instance of these specific GPs\n",
    "monthly_prescriptions_postcodes = monthly_prescriptions_postcodes[~monthly_prescriptions_postcodes.duplicated(subset='GPPractice', keep='first') | ~monthly_prescriptions_postcodes['GPPractice'].isin([2910096, 258060])]"
   ]
  },
  {
   "cell_type": "code",
   "execution_count": 28,
   "id": "ba5aa820",
   "metadata": {},
   "outputs": [
    {
     "data": {
      "text/plain": [
       "True"
      ]
     },
     "execution_count": 28,
     "metadata": {},
     "output_type": "execute_result"
    }
   ],
   "source": [
    "# Expect length to decrease by 2\n",
    "737 == len(monthly_prescriptions_postcodes)"
   ]
  },
  {
   "cell_type": "code",
   "execution_count": 29,
   "id": "736988d9",
   "metadata": {},
   "outputs": [],
   "source": [
    "# Save aggregated data\n",
    "monthly_prescriptions_postcodes.to_csv(path + \"monthly_prescriptions_postcodes.csv\")"
   ]
  },
  {
   "cell_type": "markdown",
   "id": "02a4875d",
   "metadata": {},
   "source": [
    "# Generate Statistics from Prescribing Counts\n",
    "\n",
    "- Compute percentages per condition as total of all drugs prescribed per postcode\n",
    "- Compute z-score per condition across postcodes\n",
    "- Add z-scores of all conditions together to compute a loneliness score per postcode\n",
    "- The loneliness variable is an equally weighted index of the conditions.\n"
   ]
  },
  {
   "cell_type": "code",
   "execution_count": 30,
   "id": "ba309225",
   "metadata": {},
   "outputs": [],
   "source": [
    "monthly_prescriptions_postcodes = pd.read_csv(path + \"monthly_prescriptions_postcodes.csv\", index_col=0)"
   ]
  },
  {
   "cell_type": "code",
   "execution_count": 31,
   "id": "b2812903",
   "metadata": {},
   "outputs": [
    {
     "data": {
      "text/html": [
       "<div>\n",
       "<style scoped>\n",
       "    .dataframe tbody tr th:only-of-type {\n",
       "        vertical-align: middle;\n",
       "    }\n",
       "\n",
       "    .dataframe tbody tr th {\n",
       "        vertical-align: top;\n",
       "    }\n",
       "\n",
       "    .dataframe thead th {\n",
       "        text-align: right;\n",
       "    }\n",
       "</style>\n",
       "<table border=\"1\" class=\"dataframe\">\n",
       "  <thead>\n",
       "    <tr style=\"text-align: right;\">\n",
       "      <th></th>\n",
       "      <th>pcstrip</th>\n",
       "      <th>NumberOfPaidItems</th>\n",
       "      <th>depression</th>\n",
       "      <th>alzheimers</th>\n",
       "      <th>blood pressure</th>\n",
       "      <th>hypertension</th>\n",
       "      <th>diabeties</th>\n",
       "      <th>cardiovascular disease</th>\n",
       "      <th>insomnia</th>\n",
       "      <th>addiction</th>\n",
       "      <th>social anxiety</th>\n",
       "    </tr>\n",
       "  </thead>\n",
       "  <tbody>\n",
       "    <tr>\n",
       "      <th>0</th>\n",
       "      <td>AB10 1NW</td>\n",
       "      <td>123460</td>\n",
       "      <td>9241</td>\n",
       "      <td>213</td>\n",
       "      <td>7959</td>\n",
       "      <td>8085</td>\n",
       "      <td>1287</td>\n",
       "      <td>5006</td>\n",
       "      <td>714</td>\n",
       "      <td>108</td>\n",
       "      <td>150</td>\n",
       "    </tr>\n",
       "    <tr>\n",
       "      <th>1</th>\n",
       "      <td>AB10 1QB</td>\n",
       "      <td>125712</td>\n",
       "      <td>8686</td>\n",
       "      <td>229</td>\n",
       "      <td>10289</td>\n",
       "      <td>10409</td>\n",
       "      <td>1427</td>\n",
       "      <td>6904</td>\n",
       "      <td>828</td>\n",
       "      <td>291</td>\n",
       "      <td>794</td>\n",
       "    </tr>\n",
       "  </tbody>\n",
       "</table>\n",
       "</div>"
      ],
      "text/plain": [
       "    pcstrip  NumberOfPaidItems  depression  alzheimers  blood pressure  \\\n",
       "0  AB10 1NW             123460        9241         213            7959   \n",
       "1  AB10 1QB             125712        8686         229           10289   \n",
       "\n",
       "   hypertension  diabeties  cardiovascular disease  insomnia  addiction  \\\n",
       "0          8085       1287                    5006       714        108   \n",
       "1         10409       1427                    6904       828        291   \n",
       "\n",
       "   social anxiety  \n",
       "0             150  \n",
       "1             794  "
      ]
     },
     "execution_count": 31,
     "metadata": {},
     "output_type": "execute_result"
    }
   ],
   "source": [
    "monthly_prescriptions_postcodes = monthly_prescriptions_postcodes.drop(columns = ['Postcode','GPPractice', 'BNFItemDescription'])\n",
    "monthly_prescriptions_postcodes.head(2)"
   ]
  },
  {
   "cell_type": "code",
   "execution_count": 32,
   "id": "677c46d0",
   "metadata": {},
   "outputs": [],
   "source": [
    "# Generate percentages for discrete illness groups out of total drugs prescribed\n",
    "\n",
    "perc_cols = drug_data['illness'].unique()\n",
    "target_cols = perc_cols + '_perc'\n",
    "\n",
    "monthly_prescriptions_postcodes[target_cols] = monthly_prescriptions_postcodes[perc_cols].divide(monthly_prescriptions_postcodes[col_items], axis=0) * 100\n"
   ]
  },
  {
   "cell_type": "code",
   "execution_count": 33,
   "id": "0692ae85",
   "metadata": {
    "scrolled": true
   },
   "outputs": [],
   "source": [
    "monthly_prescriptions_perc = monthly_prescriptions_postcodes"
   ]
  },
  {
   "cell_type": "code",
   "execution_count": 34,
   "id": "80ae3fdd",
   "metadata": {},
   "outputs": [
    {
     "data": {
      "text/html": [
       "<div>\n",
       "<style scoped>\n",
       "    .dataframe tbody tr th:only-of-type {\n",
       "        vertical-align: middle;\n",
       "    }\n",
       "\n",
       "    .dataframe tbody tr th {\n",
       "        vertical-align: top;\n",
       "    }\n",
       "\n",
       "    .dataframe thead th {\n",
       "        text-align: right;\n",
       "    }\n",
       "</style>\n",
       "<table border=\"1\" class=\"dataframe\">\n",
       "  <thead>\n",
       "    <tr style=\"text-align: right;\">\n",
       "      <th></th>\n",
       "      <th>pcstrip</th>\n",
       "      <th>NumberOfPaidItems</th>\n",
       "      <th>depression</th>\n",
       "      <th>alzheimers</th>\n",
       "      <th>blood pressure</th>\n",
       "      <th>hypertension</th>\n",
       "      <th>diabeties</th>\n",
       "      <th>cardiovascular disease</th>\n",
       "      <th>insomnia</th>\n",
       "      <th>addiction</th>\n",
       "      <th>social anxiety</th>\n",
       "      <th>depression_perc</th>\n",
       "      <th>alzheimers_perc</th>\n",
       "      <th>blood pressure_perc</th>\n",
       "      <th>hypertension_perc</th>\n",
       "      <th>diabeties_perc</th>\n",
       "      <th>cardiovascular disease_perc</th>\n",
       "      <th>insomnia_perc</th>\n",
       "      <th>addiction_perc</th>\n",
       "      <th>social anxiety_perc</th>\n",
       "    </tr>\n",
       "  </thead>\n",
       "  <tbody>\n",
       "    <tr>\n",
       "      <th>0</th>\n",
       "      <td>AB10 1NW</td>\n",
       "      <td>123460</td>\n",
       "      <td>9241</td>\n",
       "      <td>213</td>\n",
       "      <td>7959</td>\n",
       "      <td>8085</td>\n",
       "      <td>1287</td>\n",
       "      <td>5006</td>\n",
       "      <td>714</td>\n",
       "      <td>108</td>\n",
       "      <td>150</td>\n",
       "      <td>7.485015</td>\n",
       "      <td>0.172526</td>\n",
       "      <td>6.446622</td>\n",
       "      <td>6.548680</td>\n",
       "      <td>1.042443</td>\n",
       "      <td>4.054755</td>\n",
       "      <td>0.578325</td>\n",
       "      <td>0.087478</td>\n",
       "      <td>0.121497</td>\n",
       "    </tr>\n",
       "    <tr>\n",
       "      <th>1</th>\n",
       "      <td>AB10 1QB</td>\n",
       "      <td>125712</td>\n",
       "      <td>8686</td>\n",
       "      <td>229</td>\n",
       "      <td>10289</td>\n",
       "      <td>10409</td>\n",
       "      <td>1427</td>\n",
       "      <td>6904</td>\n",
       "      <td>828</td>\n",
       "      <td>291</td>\n",
       "      <td>794</td>\n",
       "      <td>6.909444</td>\n",
       "      <td>0.182162</td>\n",
       "      <td>8.184581</td>\n",
       "      <td>8.280037</td>\n",
       "      <td>1.135134</td>\n",
       "      <td>5.491918</td>\n",
       "      <td>0.658648</td>\n",
       "      <td>0.231481</td>\n",
       "      <td>0.631602</td>\n",
       "    </tr>\n",
       "  </tbody>\n",
       "</table>\n",
       "</div>"
      ],
      "text/plain": [
       "    pcstrip  NumberOfPaidItems  depression  alzheimers  blood pressure  \\\n",
       "0  AB10 1NW             123460        9241         213            7959   \n",
       "1  AB10 1QB             125712        8686         229           10289   \n",
       "\n",
       "   hypertension  diabeties  cardiovascular disease  insomnia  addiction  \\\n",
       "0          8085       1287                    5006       714        108   \n",
       "1         10409       1427                    6904       828        291   \n",
       "\n",
       "   social anxiety  depression_perc  alzheimers_perc  blood pressure_perc  \\\n",
       "0             150         7.485015         0.172526             6.446622   \n",
       "1             794         6.909444         0.182162             8.184581   \n",
       "\n",
       "   hypertension_perc  diabeties_perc  cardiovascular disease_perc  \\\n",
       "0           6.548680        1.042443                     4.054755   \n",
       "1           8.280037        1.135134                     5.491918   \n",
       "\n",
       "   insomnia_perc  addiction_perc  social anxiety_perc  \n",
       "0       0.578325        0.087478             0.121497  \n",
       "1       0.658648        0.231481             0.631602  "
      ]
     },
     "execution_count": 34,
     "metadata": {},
     "output_type": "execute_result"
    }
   ],
   "source": [
    "monthly_prescriptions_perc.head(2)"
   ]
  },
  {
   "cell_type": "markdown",
   "id": "3d1ec753",
   "metadata": {},
   "source": [
    "## Standardisation"
   ]
  },
  {
   "cell_type": "code",
   "execution_count": 35,
   "id": "4e6becf1",
   "metadata": {},
   "outputs": [],
   "source": [
    "# Calculate the z scores per illness across postcodes\n",
    "\n",
    "per_cols = ['depression_perc', 'alzheimers_perc', 'blood pressure_perc', 'hypertension_perc', \n",
    "            'diabeties_perc', 'cardiovascular disease_perc', 'insomnia_perc', 'addiction_perc',\n",
    "            'social anxiety_perc']\n",
    "\n",
    "for i, col in enumerate(per_cols):\n",
    "    col_zscore = col[:-5] + 'zscore'  # Create new columns for z-scores\n",
    "    monthly_prescriptions_perc[col_zscore] = stats.zscore(monthly_prescriptions_perc[col])\n"
   ]
  },
  {
   "cell_type": "code",
   "execution_count": 36,
   "id": "8ae34b36",
   "metadata": {},
   "outputs": [],
   "source": [
    "# Add conditions z scores for overall loneliness z score\n",
    "monthly_prescriptions_perc['loneliness_zscore'] = monthly_prescriptions_perc[[ 'depressionzscore', 'alzheimerszscore',\n",
    "       'blood pressurezscore', 'hypertensionzscore', 'diabetieszscore',\n",
    "       'cardiovascular diseasezscore', 'insomniazscore', 'addictionzscore',\n",
    "       'social anxietyzscore']].sum(axis=1)"
   ]
  },
  {
   "cell_type": "code",
   "execution_count": 37,
   "id": "16128f6d",
   "metadata": {
    "scrolled": true
   },
   "outputs": [
    {
     "data": {
      "image/png": "[encoded data removed]",
      "text/plain": [
       "<Figure size 500x200 with 1 Axes>"
      ]
     },
     "metadata": {},
     "output_type": "display_data"
    }
   ],
   "source": [
    "monthly_prescriptions_perc.loneliness_zscore.hist(bins=100, figsize = (5,2));"
   ]
  },
  {
   "cell_type": "code",
   "execution_count": 38,
   "id": "aa1249b4",
   "metadata": {},
   "outputs": [],
   "source": [
    "monthly_prescriptions_perc.rename(columns={'pcstrip':'postcode'}, inplace = True)"
   ]
  },
  {
   "cell_type": "code",
   "execution_count": 39,
   "id": "3ca2c068",
   "metadata": {},
   "outputs": [],
   "source": [
    "loneliness_postcode = monthly_prescriptions_perc[['postcode','loneliness_zscore']]"
   ]
  },
  {
   "cell_type": "code",
   "execution_count": 40,
   "id": "ec508113",
   "metadata": {},
   "outputs": [
    {
     "data": {
      "text/html": [
       "<div>\n",
       "<style scoped>\n",
       "    .dataframe tbody tr th:only-of-type {\n",
       "        vertical-align: middle;\n",
       "    }\n",
       "\n",
       "    .dataframe tbody tr th {\n",
       "        vertical-align: top;\n",
       "    }\n",
       "\n",
       "    .dataframe thead th {\n",
       "        text-align: right;\n",
       "    }\n",
       "</style>\n",
       "<table border=\"1\" class=\"dataframe\">\n",
       "  <thead>\n",
       "    <tr style=\"text-align: right;\">\n",
       "      <th></th>\n",
       "      <th>postcode</th>\n",
       "      <th>loneliness_zscore</th>\n",
       "    </tr>\n",
       "  </thead>\n",
       "  <tbody>\n",
       "    <tr>\n",
       "      <th>0</th>\n",
       "      <td>AB10 1NW</td>\n",
       "      <td>-1.981616</td>\n",
       "    </tr>\n",
       "    <tr>\n",
       "      <th>1</th>\n",
       "      <td>AB10 1QB</td>\n",
       "      <td>7.773465</td>\n",
       "    </tr>\n",
       "    <tr>\n",
       "      <th>2</th>\n",
       "      <td>AB10 1UT</td>\n",
       "      <td>2.902790</td>\n",
       "    </tr>\n",
       "    <tr>\n",
       "      <th>3</th>\n",
       "      <td>AB10 1YE</td>\n",
       "      <td>1.194617</td>\n",
       "    </tr>\n",
       "    <tr>\n",
       "      <th>4</th>\n",
       "      <td>AB10 7QQ</td>\n",
       "      <td>-1.610345</td>\n",
       "    </tr>\n",
       "    <tr>\n",
       "      <th>...</th>\n",
       "      <td>...</td>\n",
       "      <td>...</td>\n",
       "    </tr>\n",
       "    <tr>\n",
       "      <th>734</th>\n",
       "      <td>ZE2 9DY</td>\n",
       "      <td>5.628561</td>\n",
       "    </tr>\n",
       "    <tr>\n",
       "      <th>735</th>\n",
       "      <td>ZE2 9HX</td>\n",
       "      <td>3.832447</td>\n",
       "    </tr>\n",
       "    <tr>\n",
       "      <th>736</th>\n",
       "      <td>ZE2 9NA</td>\n",
       "      <td>6.555395</td>\n",
       "    </tr>\n",
       "    <tr>\n",
       "      <th>737</th>\n",
       "      <td>ZE2 9QJ</td>\n",
       "      <td>8.470471</td>\n",
       "    </tr>\n",
       "    <tr>\n",
       "      <th>738</th>\n",
       "      <td>ZE2 9RW</td>\n",
       "      <td>1.728633</td>\n",
       "    </tr>\n",
       "  </tbody>\n",
       "</table>\n",
       "<p>737 rows × 2 columns</p>\n",
       "</div>"
      ],
      "text/plain": [
       "     postcode  loneliness_zscore\n",
       "0    AB10 1NW          -1.981616\n",
       "1    AB10 1QB           7.773465\n",
       "2    AB10 1UT           2.902790\n",
       "3    AB10 1YE           1.194617\n",
       "4    AB10 7QQ          -1.610345\n",
       "..        ...                ...\n",
       "734   ZE2 9DY           5.628561\n",
       "735   ZE2 9HX           3.832447\n",
       "736   ZE2 9NA           6.555395\n",
       "737   ZE2 9QJ           8.470471\n",
       "738   ZE2 9RW           1.728633\n",
       "\n",
       "[737 rows x 2 columns]"
      ]
     },
     "execution_count": 40,
     "metadata": {},
     "output_type": "execute_result"
    }
   ],
   "source": [
    "loneliness_postcode"
   ]
  },
  {
   "cell_type": "code",
   "execution_count": 41,
   "id": "e3a6b384",
   "metadata": {},
   "outputs": [],
   "source": [
    "# Save aggregated data\n",
    "loneliness_postcode.to_csv(path + \"scotland_gp_2022.csv\", index = False)"
   ]
  }
 ],
 "metadata": {
  "kernelspec": {
   "display_name": "Python 3 (ipykernel)",
   "language": "python",
   "name": "python3"
  },
  "language_info": {
   "codemirror_mode": {
    "name": "ipython",
    "version": 3
   },
   "file_extension": ".py",
   "mimetype": "text/x-python",
   "name": "python",
   "nbconvert_exporter": "python",
   "pygments_lexer": "ipython3",
   "version": "3.9.6"
  }
 },
 "nbformat": 4,
 "nbformat_minor": 5
}
