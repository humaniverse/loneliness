{
 "cells": [
  {
   "cell_type": "markdown",
   "id": "3eadd414",
   "metadata": {},
   "source": [
    "# Creating Loneliness Index from Prescription Data for Scotland"
   ]
  },
  {
   "cell_type": "code",
   "execution_count": 3,
   "id": "a0a5bc26",
   "metadata": {},
   "outputs": [],
   "source": [
    "import pandas as pd\n",
    "import numpy as np\n",
    "import os\n",
    "import matplotlib.pyplot as plt\n",
    "import scipy.stats as stats"
   ]
  },
  {
   "cell_type": "code",
   "execution_count": 4,
   "id": "c2e5bfa0",
   "metadata": {},
   "outputs": [],
   "source": [
    "# Path to files\n",
    "path = \"data-raw/Scotland/\""
   ]
  },
  {
   "cell_type": "markdown",
   "id": "87cf7ad4",
   "metadata": {},
   "source": [
    "# Read drug data"
   ]
  },
  {
   "cell_type": "code",
   "execution_count": 5,
   "id": "f47335fe",
   "metadata": {},
   "outputs": [],
   "source": [
    "# Get drug data (NB some drugs duplicated for illnesses)\n",
    "drug_data = pd.read_csv(\"drug_list.csv\")"
   ]
  },
  {
   "cell_type": "markdown",
   "id": "4f1a245a",
   "metadata": {},
   "source": [
    "# Process Prescribing Data\n",
    "\n",
    "This code iterates over the monthly prescribing data, producing an aggregate table.\n",
    "\n",
    "**Filename format:** pitc[year][month].csv (e.g. pitc201801.csv)\n",
    "\n",
    "**Columns:** HBT, GPPractice, BNFItemCode, BNFItemDescription, ClassOfPreparationCode, NumberOfPaidItems, PaidQuantity, GrossIngredientCost, PaidDateMonth\n",
    "\n",
    "These files are the \"Prescriptions in the Community\" .csv files that come from: https://www.opendata.nhs.scot/dataset/prescriptions-in-the-community"
   ]
  },
  {
   "cell_type": "code",
   "execution_count": 6,
   "id": "98029f41",
   "metadata": {},
   "outputs": [],
   "source": [
    "# column names\n",
    "col_bnfname = \"BNFItemDescription\"\n",
    "col_items = \"NumberOfPaidItems\""
   ]
  },
  {
   "cell_type": "code",
   "execution_count": 7,
   "id": "204acae2",
   "metadata": {},
   "outputs": [],
   "source": [
    "# Function to find loneliness related prescribing\n",
    "def code_loneliness(x):\n",
    "    out = {}\n",
    "    # coding by illness categories\n",
    "    for illness in drug_data['illness'].unique():\n",
    "        out[illness] = x[col_bnfname].str.contains(\"|\".join(drug_data[drug_data['illness'] == illness]['medication']),\n",
    "                                                 case=False, \n",
    "                                                 regex=True).fillna(False).astype('int16')\n",
    "    # Make dataframe\n",
    "    out = pd.DataFrame(out)\n",
    "    # Add loneliness related disease binary - avoids double counting some drugs.\n",
    "    out['loneliness'] = x[col_bnfname].str.contains(\"|\".join(drug_data['medication'].unique()),\n",
    "                                                  case = False, \n",
    "                                                  regex = True).fillna(False).astype('int16')\n",
    "    # Return dataframe multiplied by counts of items\n",
    "    return out.multiply(x[col_items], axis=0)"
   ]
  },
  {
   "cell_type": "code",
   "execution_count": 8,
   "id": "6b74a70d",
   "metadata": {},
   "outputs": [],
   "source": [
    "# Make dictionary for aggregation\n",
    "agg_cols = {col : 'sum' for col in drug_data['illness'].unique()}\n",
    "agg_cols[col_items] = 'sum'\n",
    "agg_cols['loneliness'] = 'sum'\n",
    "for key in ['Date', 'HBT']:\n",
    "    agg_cols[key] = 'first'"
   ]
  },
  {
   "cell_type": "code",
   "execution_count": 9,
   "id": "5b300bee",
   "metadata": {},
   "outputs": [
    {
     "name": "stdout",
     "output_type": "stream",
     "text": [
      "pitc202201.csv\n",
      "pitc202202.csv\n",
      "pitc202203.csv\n",
      "pitc202204.csv\n",
      "pitc202205.csv\n",
      "pitc202206.csv\n",
      "pitc202207.csv\n",
      "pitc202208.csv\n",
      "pitc202209.csv\n",
      "pitc202210.csv\n",
      "pitc202211.csv\n",
      "pitc202212.csv\n"
     ]
    }
   ],
   "source": [
    "monthly_data = []\n",
    "\n",
    "for file in os.listdir(path + \"Prescriptions\"):\n",
    "    # Open prescribing files in pandas.\n",
    "    prescribe = pd.read_csv(path + \"Prescriptions\\\\\" + file)\n",
    "    prescribe.columns = prescribe.columns.str.strip()\n",
    "    # Rename 'PaidDateMonth' column to 'date'\n",
    "    prescribe.rename(columns = {'PaidDateMonth': 'Date'}, inplace = True) \n",
    "    # Get counts of prescribing dataframe for loneliness related diseases\n",
    "    loneliness_prescribing = code_loneliness(prescribe[[col_bnfname, col_items]])\n",
    "    # merge dataframes\n",
    "    prescribe = prescribe.merge(loneliness_prescribing, left_index=True, right_index=True)\n",
    "    del loneliness_prescribing\n",
    "    # get a summary - grouping by GPPractice\n",
    "    summary = prescribe.groupby('GPPractice', as_index=False).agg(agg_cols)\n",
    "    monthly_data.append(summary)\n",
    "    print(file)\n"
   ]
  },
  {
   "cell_type": "code",
   "execution_count": 10,
   "id": "f76e0f93",
   "metadata": {},
   "outputs": [],
   "source": [
    "# concatenate all the monthly data together\n",
    "data = pd.concat(monthly_data, ignore_index = True)"
   ]
  },
  {
   "cell_type": "code",
   "execution_count": 11,
   "id": "a03fabce",
   "metadata": {},
   "outputs": [
    {
     "data": {
      "text/html": [
       "<div>\n",
       "<style scoped>\n",
       "    .dataframe tbody tr th:only-of-type {\n",
       "        vertical-align: middle;\n",
       "    }\n",
       "\n",
       "    .dataframe tbody tr th {\n",
       "        vertical-align: top;\n",
       "    }\n",
       "\n",
       "    .dataframe thead th {\n",
       "        text-align: right;\n",
       "    }\n",
       "</style>\n",
       "<table border=\"1\" class=\"dataframe\">\n",
       "  <thead>\n",
       "    <tr style=\"text-align: right;\">\n",
       "      <th></th>\n",
       "      <th>GPPractice</th>\n",
       "      <th>depression</th>\n",
       "      <th>alzheimers</th>\n",
       "      <th>blood pressure</th>\n",
       "      <th>hypertension</th>\n",
       "      <th>diabeties</th>\n",
       "      <th>cardiovascular disease</th>\n",
       "      <th>insomnia</th>\n",
       "      <th>addiction</th>\n",
       "      <th>social anxiety</th>\n",
       "      <th>NumberOfPaidItems</th>\n",
       "      <th>loneliness</th>\n",
       "      <th>Date</th>\n",
       "      <th>HBT</th>\n",
       "    </tr>\n",
       "  </thead>\n",
       "  <tbody>\n",
       "    <tr>\n",
       "      <th>0</th>\n",
       "      <td>10002</td>\n",
       "      <td>594</td>\n",
       "      <td>20</td>\n",
       "      <td>700</td>\n",
       "      <td>704</td>\n",
       "      <td>107</td>\n",
       "      <td>485</td>\n",
       "      <td>41</td>\n",
       "      <td>0</td>\n",
       "      <td>3</td>\n",
       "      <td>9510</td>\n",
       "      <td>1951</td>\n",
       "      <td>202201</td>\n",
       "      <td>S08000030</td>\n",
       "    </tr>\n",
       "    <tr>\n",
       "      <th>1</th>\n",
       "      <td>10017</td>\n",
       "      <td>550</td>\n",
       "      <td>35</td>\n",
       "      <td>658</td>\n",
       "      <td>664</td>\n",
       "      <td>89</td>\n",
       "      <td>420</td>\n",
       "      <td>56</td>\n",
       "      <td>0</td>\n",
       "      <td>5</td>\n",
       "      <td>8734</td>\n",
       "      <td>1814</td>\n",
       "      <td>202201</td>\n",
       "      <td>S08000030</td>\n",
       "    </tr>\n",
       "    <tr>\n",
       "      <th>2</th>\n",
       "      <td>10036</td>\n",
       "      <td>376</td>\n",
       "      <td>11</td>\n",
       "      <td>579</td>\n",
       "      <td>582</td>\n",
       "      <td>62</td>\n",
       "      <td>344</td>\n",
       "      <td>59</td>\n",
       "      <td>0</td>\n",
       "      <td>6</td>\n",
       "      <td>6136</td>\n",
       "      <td>1434</td>\n",
       "      <td>202201</td>\n",
       "      <td>S08000030</td>\n",
       "    </tr>\n",
       "    <tr>\n",
       "      <th>3</th>\n",
       "      <td>10106</td>\n",
       "      <td>513</td>\n",
       "      <td>34</td>\n",
       "      <td>719</td>\n",
       "      <td>724</td>\n",
       "      <td>106</td>\n",
       "      <td>505</td>\n",
       "      <td>39</td>\n",
       "      <td>1</td>\n",
       "      <td>2</td>\n",
       "      <td>8541</td>\n",
       "      <td>1922</td>\n",
       "      <td>202201</td>\n",
       "      <td>S08000030</td>\n",
       "    </tr>\n",
       "    <tr>\n",
       "      <th>4</th>\n",
       "      <td>10125</td>\n",
       "      <td>425</td>\n",
       "      <td>15</td>\n",
       "      <td>453</td>\n",
       "      <td>454</td>\n",
       "      <td>91</td>\n",
       "      <td>367</td>\n",
       "      <td>44</td>\n",
       "      <td>0</td>\n",
       "      <td>4</td>\n",
       "      <td>6673</td>\n",
       "      <td>1396</td>\n",
       "      <td>202201</td>\n",
       "      <td>S08000030</td>\n",
       "    </tr>\n",
       "  </tbody>\n",
       "</table>\n",
       "</div>"
      ],
      "text/plain": [
       "   GPPractice  depression  alzheimers  blood pressure  hypertension  \\\n",
       "0       10002         594          20             700           704   \n",
       "1       10017         550          35             658           664   \n",
       "2       10036         376          11             579           582   \n",
       "3       10106         513          34             719           724   \n",
       "4       10125         425          15             453           454   \n",
       "\n",
       "   diabeties  cardiovascular disease  insomnia  addiction  social anxiety  \\\n",
       "0        107                     485        41          0               3   \n",
       "1         89                     420        56          0               5   \n",
       "2         62                     344        59          0               6   \n",
       "3        106                     505        39          1               2   \n",
       "4         91                     367        44          0               4   \n",
       "\n",
       "   NumberOfPaidItems  loneliness    Date        HBT  \n",
       "0               9510        1951  202201  S08000030  \n",
       "1               8734        1814  202201  S08000030  \n",
       "2               6136        1434  202201  S08000030  \n",
       "3               8541        1922  202201  S08000030  \n",
       "4               6673        1396  202201  S08000030  "
      ]
     },
     "execution_count": 11,
     "metadata": {},
     "output_type": "execute_result"
    }
   ],
   "source": [
    "data[data[\"loneliness\"] > 0].head()"
   ]
  },
  {
   "cell_type": "code",
   "execution_count": 12,
   "id": "294005fe",
   "metadata": {},
   "outputs": [],
   "source": [
    "# Save aggregated data\n",
    "data.to_csv(path + \"processed_data.csv\")"
   ]
  },
  {
   "cell_type": "markdown",
   "id": "c61cb97c",
   "metadata": {},
   "source": [
    "# Import GP Practices and Postcode\n",
    "\n",
    "Use the 'GP Practice Contact Details and List Sizes' data from: https://www.opendata.nhs.scot/dataset/gp-practice-contact-details-and-list-sizes to get GP surgery codes and postcode\n",
    "\n",
    "Note that Scotland only publishes these data four times a year (in Jan, Apr, Jul and Oct).\n",
    "\n",
    "**Filename format:** gppractices[year][month][day].csv (e.g. gppractices20180101.csv)\n",
    "\n",
    "**Columns:** PracticeCode, PracticeName, PracticeListSize, AddressLine1, AddressLine2, AddressLine3, AddressLine4, Postcode, TelephoneNumber, PracticeType, Dispensing, HB2014 [Health Board], HB1995 [Health Board], HSCP2016 [Health and Social Care Partnership], CA2011 [Council Area], DZ2011 [Data Zone], DZ2001 [Data Zone]"
   ]
  },
  {
   "cell_type": "code",
   "execution_count": 43,
   "id": "ffada308",
   "metadata": {},
   "outputs": [],
   "source": [
    "data = pd.read_csv(path + \"processed_data.csv\", index_col = 0)"
   ]
  },
  {
   "cell_type": "code",
   "execution_count": 44,
   "id": "c920448a",
   "metadata": {},
   "outputs": [],
   "source": [
    "# Get GP files\n",
    "gp_path = path + \"GP data/\""
   ]
  },
  {
   "cell_type": "code",
   "execution_count": 45,
   "id": "7dec9204",
   "metadata": {},
   "outputs": [
    {
     "name": "stdout",
     "output_type": "stream",
     "text": [
      "gppractices20220101.csv\n",
      "gppractices20220701.csv\n",
      "gppractices20221001.csv\n"
     ]
    }
   ],
   "source": [
    "gp_combine = []\n",
    "\n",
    "for file in os.listdir(gp_path):\n",
    "    gp_data = pd.read_csv(gp_path + file)\n",
    "    gp_data = gp_data.rename(columns = {'PracticeCode': 'GPPractice'})\n",
    "    gp_combine.append(gp_data[['GPPractice','Postcode']])\n",
    "    print(file)"
   ]
  },
  {
   "cell_type": "code",
   "execution_count": 46,
   "id": "aacbdd6b",
   "metadata": {},
   "outputs": [],
   "source": [
    "# concatenate all the gp data together\n",
    "gp_data = pd.concat(gp_combine, ignore_index = True)"
   ]
  },
  {
   "cell_type": "code",
   "execution_count": 47,
   "id": "6935918c",
   "metadata": {},
   "outputs": [
    {
     "data": {
      "text/html": [
       "<div>\n",
       "<style scoped>\n",
       "    .dataframe tbody tr th:only-of-type {\n",
       "        vertical-align: middle;\n",
       "    }\n",
       "\n",
       "    .dataframe tbody tr th {\n",
       "        vertical-align: top;\n",
       "    }\n",
       "\n",
       "    .dataframe thead th {\n",
       "        text-align: right;\n",
       "    }\n",
       "</style>\n",
       "<table border=\"1\" class=\"dataframe\">\n",
       "  <thead>\n",
       "    <tr style=\"text-align: right;\">\n",
       "      <th></th>\n",
       "      <th>GPPractice</th>\n",
       "      <th>Postcode</th>\n",
       "    </tr>\n",
       "  </thead>\n",
       "  <tbody>\n",
       "    <tr>\n",
       "      <th>0</th>\n",
       "      <td>10002</td>\n",
       "      <td>DD2 5NH</td>\n",
       "    </tr>\n",
       "    <tr>\n",
       "      <th>1</th>\n",
       "      <td>10017</td>\n",
       "      <td>PH7 3SA</td>\n",
       "    </tr>\n",
       "    <tr>\n",
       "      <th>2</th>\n",
       "      <td>10036</td>\n",
       "      <td>PH15 2BL</td>\n",
       "    </tr>\n",
       "  </tbody>\n",
       "</table>\n",
       "</div>"
      ],
      "text/plain": [
       "   GPPractice  Postcode\n",
       "0       10002   DD2 5NH\n",
       "1       10017   PH7 3SA\n",
       "2       10036  PH15 2BL"
      ]
     },
     "execution_count": 47,
     "metadata": {},
     "output_type": "execute_result"
    }
   ],
   "source": [
    "gp_data.head(3)"
   ]
  },
  {
   "cell_type": "code",
   "execution_count": 48,
   "id": "3e8d8119",
   "metadata": {},
   "outputs": [
    {
     "data": {
      "text/plain": [
       "(11121, 14)"
      ]
     },
     "execution_count": 48,
     "metadata": {},
     "output_type": "execute_result"
    }
   ],
   "source": [
    "# Get the unique codes for GP surgeries and subset the prescribing data according to these codes.\n",
    "gp_ids = gp_data['GPPractice'].unique()\n",
    "data = data[data['GPPractice'].isin(gp_ids)].copy()\n",
    "data.shape"
   ]
  },
  {
   "cell_type": "code",
   "execution_count": 49,
   "id": "a8bebe3f",
   "metadata": {},
   "outputs": [],
   "source": [
    "# Merge on the basis GPPractice code\n",
    "data = data.merge(gp_data, how = 'left', on = ['GPPractice'])"
   ]
  },
  {
   "cell_type": "code",
   "execution_count": 50,
   "id": "323df1f9",
   "metadata": {
    "scrolled": true
   },
   "outputs": [
    {
     "data": {
      "text/html": [
       "<div>\n",
       "<style scoped>\n",
       "    .dataframe tbody tr th:only-of-type {\n",
       "        vertical-align: middle;\n",
       "    }\n",
       "\n",
       "    .dataframe tbody tr th {\n",
       "        vertical-align: top;\n",
       "    }\n",
       "\n",
       "    .dataframe thead th {\n",
       "        text-align: right;\n",
       "    }\n",
       "</style>\n",
       "<table border=\"1\" class=\"dataframe\">\n",
       "  <thead>\n",
       "    <tr style=\"text-align: right;\">\n",
       "      <th></th>\n",
       "      <th>GPPractice</th>\n",
       "      <th>depression</th>\n",
       "      <th>alzheimers</th>\n",
       "      <th>blood pressure</th>\n",
       "      <th>hypertension</th>\n",
       "      <th>diabeties</th>\n",
       "      <th>cardiovascular disease</th>\n",
       "      <th>insomnia</th>\n",
       "      <th>addiction</th>\n",
       "      <th>social anxiety</th>\n",
       "      <th>NumberOfPaidItems</th>\n",
       "      <th>loneliness</th>\n",
       "      <th>Date</th>\n",
       "      <th>HBT</th>\n",
       "      <th>Postcode</th>\n",
       "    </tr>\n",
       "  </thead>\n",
       "  <tbody>\n",
       "    <tr>\n",
       "      <th>0</th>\n",
       "      <td>10002</td>\n",
       "      <td>594</td>\n",
       "      <td>20</td>\n",
       "      <td>700</td>\n",
       "      <td>704</td>\n",
       "      <td>107</td>\n",
       "      <td>485</td>\n",
       "      <td>41</td>\n",
       "      <td>0</td>\n",
       "      <td>3</td>\n",
       "      <td>9510</td>\n",
       "      <td>1951</td>\n",
       "      <td>202201</td>\n",
       "      <td>S08000030</td>\n",
       "      <td>DD2 5NH</td>\n",
       "    </tr>\n",
       "    <tr>\n",
       "      <th>1</th>\n",
       "      <td>10002</td>\n",
       "      <td>594</td>\n",
       "      <td>20</td>\n",
       "      <td>700</td>\n",
       "      <td>704</td>\n",
       "      <td>107</td>\n",
       "      <td>485</td>\n",
       "      <td>41</td>\n",
       "      <td>0</td>\n",
       "      <td>3</td>\n",
       "      <td>9510</td>\n",
       "      <td>1951</td>\n",
       "      <td>202201</td>\n",
       "      <td>S08000030</td>\n",
       "      <td>DD2 5NH</td>\n",
       "    </tr>\n",
       "  </tbody>\n",
       "</table>\n",
       "</div>"
      ],
      "text/plain": [
       "   GPPractice  depression  alzheimers  blood pressure  hypertension  \\\n",
       "0       10002         594          20             700           704   \n",
       "1       10002         594          20             700           704   \n",
       "\n",
       "   diabeties  cardiovascular disease  insomnia  addiction  social anxiety  \\\n",
       "0        107                     485        41          0               3   \n",
       "1        107                     485        41          0               3   \n",
       "\n",
       "   NumberOfPaidItems  loneliness    Date        HBT Postcode  \n",
       "0               9510        1951  202201  S08000030  DD2 5NH  \n",
       "1               9510        1951  202201  S08000030  DD2 5NH  "
      ]
     },
     "execution_count": 50,
     "metadata": {},
     "output_type": "execute_result"
    }
   ],
   "source": [
    "data.head(2)"
   ]
  },
  {
   "cell_type": "code",
   "execution_count": 51,
   "id": "912ab578",
   "metadata": {},
   "outputs": [
    {
     "data": {
      "text/plain": [
       "Postcode\n",
       "False    32836\n",
       "Name: count, dtype: int64"
      ]
     },
     "execution_count": 51,
     "metadata": {},
     "output_type": "execute_result"
    }
   ],
   "source": [
    "data.Postcode.isna().value_counts()"
   ]
  },
  {
   "cell_type": "code",
   "execution_count": 52,
   "id": "0ffb2f1c",
   "metadata": {},
   "outputs": [],
   "source": [
    "# Create uniform postcode field\n",
    "data['pcstrip'] = data['Postcode'].str.replace(\"\\s\",\"\").str.replace(\" \",\"\")"
   ]
  },
  {
   "cell_type": "code",
   "execution_count": 53,
   "id": "f08196ac",
   "metadata": {},
   "outputs": [
    {
     "data": {
      "text/plain": [
       "pcstrip\n",
       "False    32836\n",
       "Name: count, dtype: int64"
      ]
     },
     "execution_count": 53,
     "metadata": {},
     "output_type": "execute_result"
    }
   ],
   "source": [
    "# Check all GPs have postcode\n",
    "data.pcstrip.isna().value_counts()"
   ]
  },
  {
   "cell_type": "code",
   "execution_count": 54,
   "id": "fd2140a4",
   "metadata": {},
   "outputs": [
    {
     "data": {
      "text/plain": [
       "12"
      ]
     },
     "execution_count": 54,
     "metadata": {},
     "output_type": "execute_result"
    }
   ],
   "source": [
    "# Check for 1 postcode per Practice Code\n",
    "pc_prac_counts = data.groupby('GPPractice')['pcstrip'].unique().map(len)\n",
    "pc_prac_counts[pc_prac_counts > 1].count()"
   ]
  },
  {
   "cell_type": "code",
   "execution_count": 55,
   "id": "44bb98b8",
   "metadata": {
    "scrolled": true
   },
   "outputs": [
    {
     "data": {
      "text/plain": [
       "pcstrip\n",
       "2    12\n",
       "Name: count, dtype: int64"
      ]
     },
     "execution_count": 55,
     "metadata": {},
     "output_type": "execute_result"
    }
   ],
   "source": [
    "pc_prac_counts[pc_prac_counts > 1].value_counts()"
   ]
  },
  {
   "cell_type": "code",
   "execution_count": 56,
   "id": "47751869",
   "metadata": {
    "scrolled": true
   },
   "outputs": [
    {
     "data": {
      "text/plain": [
       "0.012861736334405145"
      ]
     },
     "execution_count": 56,
     "metadata": {},
     "output_type": "execute_result"
    }
   ],
   "source": [
    "(pc_prac_counts[pc_prac_counts > 1].count())/data.GPPractice.nunique()\n"
   ]
  },
  {
   "cell_type": "markdown",
   "id": "60f30614",
   "metadata": {},
   "source": [
    "Some Practice Codes have more than one postcode associated with them. Possible reasons for this are:\n",
    "* Practices move to a new location.\n",
    "* Practices are assigned a new postcode but don't physically move.\n",
    "* Practice postcodes are wrongly entered at a particular wave and subsequently fixed.\n",
    "\n",
    "There are 12 practices codes which have more than 1 postcode assigned to them, this is about 1.3% of unique practices.\n",
    "\n",
    "All 12 practices have 2 postcodes associated with them.\n",
    "\n",
    "We'll ignore this for now - this will require some more advanced cleaning - useful to be aware of though."
   ]
  },
  {
   "cell_type": "code",
   "execution_count": 57,
   "id": "736988d9",
   "metadata": {},
   "outputs": [],
   "source": [
    "# Save aggregated data\n",
    "data.to_csv(path + \"processed_data_with_postcode.csv\")"
   ]
  },
  {
   "cell_type": "markdown",
   "id": "02a4875d",
   "metadata": {},
   "source": [
    "# Generate Statistics from Prescribing Counts\n",
    "\n",
    "- Aggregate observations to postcodes and compute percentages per conidtion\n",
    "- Compute z-score per condition\n",
    "- Add z-scores of all conditions together to compute a loneliness score\n",
    "- Use min-max scaler for -1 to 1 normalisation\n",
    "- Use decile normalisation\n",
    "\n",
    "To consider for the future\n",
    "- Should we remove some GPs on the basis that they have very low/high values which might indicate they are not accessible to the general population, and instead represent specialist services?\n",
    "- When adding more years, should the earlier year observed be the baseline and subsequent z scores are calculated wrt to baseline mean and sd?\n"
   ]
  },
  {
   "cell_type": "code",
   "execution_count": 62,
   "id": "ba309225",
   "metadata": {},
   "outputs": [],
   "source": [
    "data = pd.read_csv(path + \"processed_data_with_postcode.csv\", index_col=0)"
   ]
  },
  {
   "cell_type": "code",
   "execution_count": 63,
   "id": "b2812903",
   "metadata": {},
   "outputs": [
    {
     "data": {
      "text/html": [
       "<div>\n",
       "<style scoped>\n",
       "    .dataframe tbody tr th:only-of-type {\n",
       "        vertical-align: middle;\n",
       "    }\n",
       "\n",
       "    .dataframe tbody tr th {\n",
       "        vertical-align: top;\n",
       "    }\n",
       "\n",
       "    .dataframe thead th {\n",
       "        text-align: right;\n",
       "    }\n",
       "</style>\n",
       "<table border=\"1\" class=\"dataframe\">\n",
       "  <thead>\n",
       "    <tr style=\"text-align: right;\">\n",
       "      <th></th>\n",
       "      <th>depression</th>\n",
       "      <th>alzheimers</th>\n",
       "      <th>blood pressure</th>\n",
       "      <th>hypertension</th>\n",
       "      <th>diabeties</th>\n",
       "      <th>cardiovascular disease</th>\n",
       "      <th>insomnia</th>\n",
       "      <th>addiction</th>\n",
       "      <th>social anxiety</th>\n",
       "      <th>NumberOfPaidItems</th>\n",
       "      <th>loneliness</th>\n",
       "      <th>pcstrip</th>\n",
       "    </tr>\n",
       "  </thead>\n",
       "  <tbody>\n",
       "    <tr>\n",
       "      <th>0</th>\n",
       "      <td>594</td>\n",
       "      <td>20</td>\n",
       "      <td>700</td>\n",
       "      <td>704</td>\n",
       "      <td>107</td>\n",
       "      <td>485</td>\n",
       "      <td>41</td>\n",
       "      <td>0</td>\n",
       "      <td>3</td>\n",
       "      <td>9510</td>\n",
       "      <td>1951</td>\n",
       "      <td>DD25NH</td>\n",
       "    </tr>\n",
       "    <tr>\n",
       "      <th>1</th>\n",
       "      <td>594</td>\n",
       "      <td>20</td>\n",
       "      <td>700</td>\n",
       "      <td>704</td>\n",
       "      <td>107</td>\n",
       "      <td>485</td>\n",
       "      <td>41</td>\n",
       "      <td>0</td>\n",
       "      <td>3</td>\n",
       "      <td>9510</td>\n",
       "      <td>1951</td>\n",
       "      <td>DD25NH</td>\n",
       "    </tr>\n",
       "    <tr>\n",
       "      <th>2</th>\n",
       "      <td>594</td>\n",
       "      <td>20</td>\n",
       "      <td>700</td>\n",
       "      <td>704</td>\n",
       "      <td>107</td>\n",
       "      <td>485</td>\n",
       "      <td>41</td>\n",
       "      <td>0</td>\n",
       "      <td>3</td>\n",
       "      <td>9510</td>\n",
       "      <td>1951</td>\n",
       "      <td>DD25NH</td>\n",
       "    </tr>\n",
       "    <tr>\n",
       "      <th>3</th>\n",
       "      <td>550</td>\n",
       "      <td>35</td>\n",
       "      <td>658</td>\n",
       "      <td>664</td>\n",
       "      <td>89</td>\n",
       "      <td>420</td>\n",
       "      <td>56</td>\n",
       "      <td>0</td>\n",
       "      <td>5</td>\n",
       "      <td>8734</td>\n",
       "      <td>1814</td>\n",
       "      <td>PH73SA</td>\n",
       "    </tr>\n",
       "    <tr>\n",
       "      <th>4</th>\n",
       "      <td>550</td>\n",
       "      <td>35</td>\n",
       "      <td>658</td>\n",
       "      <td>664</td>\n",
       "      <td>89</td>\n",
       "      <td>420</td>\n",
       "      <td>56</td>\n",
       "      <td>0</td>\n",
       "      <td>5</td>\n",
       "      <td>8734</td>\n",
       "      <td>1814</td>\n",
       "      <td>PH73SA</td>\n",
       "    </tr>\n",
       "    <tr>\n",
       "      <th>...</th>\n",
       "      <td>...</td>\n",
       "      <td>...</td>\n",
       "      <td>...</td>\n",
       "      <td>...</td>\n",
       "      <td>...</td>\n",
       "      <td>...</td>\n",
       "      <td>...</td>\n",
       "      <td>...</td>\n",
       "      <td>...</td>\n",
       "      <td>...</td>\n",
       "      <td>...</td>\n",
       "      <td>...</td>\n",
       "    </tr>\n",
       "    <tr>\n",
       "      <th>32831</th>\n",
       "      <td>583</td>\n",
       "      <td>11</td>\n",
       "      <td>859</td>\n",
       "      <td>870</td>\n",
       "      <td>115</td>\n",
       "      <td>469</td>\n",
       "      <td>54</td>\n",
       "      <td>0</td>\n",
       "      <td>1</td>\n",
       "      <td>10120</td>\n",
       "      <td>2102</td>\n",
       "      <td>HS12XB</td>\n",
       "    </tr>\n",
       "    <tr>\n",
       "      <th>32832</th>\n",
       "      <td>583</td>\n",
       "      <td>11</td>\n",
       "      <td>859</td>\n",
       "      <td>870</td>\n",
       "      <td>115</td>\n",
       "      <td>469</td>\n",
       "      <td>54</td>\n",
       "      <td>0</td>\n",
       "      <td>1</td>\n",
       "      <td>10120</td>\n",
       "      <td>2102</td>\n",
       "      <td>HS12XB</td>\n",
       "    </tr>\n",
       "    <tr>\n",
       "      <th>32833</th>\n",
       "      <td>698</td>\n",
       "      <td>26</td>\n",
       "      <td>1110</td>\n",
       "      <td>1125</td>\n",
       "      <td>139</td>\n",
       "      <td>763</td>\n",
       "      <td>72</td>\n",
       "      <td>0</td>\n",
       "      <td>9</td>\n",
       "      <td>12226</td>\n",
       "      <td>2823</td>\n",
       "      <td>HS29JP</td>\n",
       "    </tr>\n",
       "    <tr>\n",
       "      <th>32834</th>\n",
       "      <td>698</td>\n",
       "      <td>26</td>\n",
       "      <td>1110</td>\n",
       "      <td>1125</td>\n",
       "      <td>139</td>\n",
       "      <td>763</td>\n",
       "      <td>72</td>\n",
       "      <td>0</td>\n",
       "      <td>9</td>\n",
       "      <td>12226</td>\n",
       "      <td>2823</td>\n",
       "      <td>HS29JP</td>\n",
       "    </tr>\n",
       "    <tr>\n",
       "      <th>32835</th>\n",
       "      <td>698</td>\n",
       "      <td>26</td>\n",
       "      <td>1110</td>\n",
       "      <td>1125</td>\n",
       "      <td>139</td>\n",
       "      <td>763</td>\n",
       "      <td>72</td>\n",
       "      <td>0</td>\n",
       "      <td>9</td>\n",
       "      <td>12226</td>\n",
       "      <td>2823</td>\n",
       "      <td>HS29JP</td>\n",
       "    </tr>\n",
       "  </tbody>\n",
       "</table>\n",
       "<p>32836 rows × 12 columns</p>\n",
       "</div>"
      ],
      "text/plain": [
       "       depression  alzheimers  blood pressure  hypertension  diabeties  \\\n",
       "0             594          20             700           704        107   \n",
       "1             594          20             700           704        107   \n",
       "2             594          20             700           704        107   \n",
       "3             550          35             658           664         89   \n",
       "4             550          35             658           664         89   \n",
       "...           ...         ...             ...           ...        ...   \n",
       "32831         583          11             859           870        115   \n",
       "32832         583          11             859           870        115   \n",
       "32833         698          26            1110          1125        139   \n",
       "32834         698          26            1110          1125        139   \n",
       "32835         698          26            1110          1125        139   \n",
       "\n",
       "       cardiovascular disease  insomnia  addiction  social anxiety  \\\n",
       "0                         485        41          0               3   \n",
       "1                         485        41          0               3   \n",
       "2                         485        41          0               3   \n",
       "3                         420        56          0               5   \n",
       "4                         420        56          0               5   \n",
       "...                       ...       ...        ...             ...   \n",
       "32831                     469        54          0               1   \n",
       "32832                     469        54          0               1   \n",
       "32833                     763        72          0               9   \n",
       "32834                     763        72          0               9   \n",
       "32835                     763        72          0               9   \n",
       "\n",
       "       NumberOfPaidItems  loneliness pcstrip  \n",
       "0                   9510        1951  DD25NH  \n",
       "1                   9510        1951  DD25NH  \n",
       "2                   9510        1951  DD25NH  \n",
       "3                   8734        1814  PH73SA  \n",
       "4                   8734        1814  PH73SA  \n",
       "...                  ...         ...     ...  \n",
       "32831              10120        2102  HS12XB  \n",
       "32832              10120        2102  HS12XB  \n",
       "32833              12226        2823  HS29JP  \n",
       "32834              12226        2823  HS29JP  \n",
       "32835              12226        2823  HS29JP  \n",
       "\n",
       "[32836 rows x 12 columns]"
      ]
     },
     "execution_count": 63,
     "metadata": {},
     "output_type": "execute_result"
    }
   ],
   "source": [
    "data = data.drop(columns = ['Date','HBT','Postcode','GPPractice'])\n",
    "data"
   ]
  },
  {
   "cell_type": "code",
   "execution_count": 64,
   "id": "7886ea0d",
   "metadata": {},
   "outputs": [],
   "source": [
    "data = data.groupby(['pcstrip'], as_index = False).sum()"
   ]
  },
  {
   "cell_type": "code",
   "execution_count": 65,
   "id": "677c46d0",
   "metadata": {},
   "outputs": [],
   "source": [
    "# Generate percentages\n",
    "perc_cols = drug_data['illness'].unique()\n",
    "target_cols = perc_cols + '_perc'\n",
    "\n",
    "# Percentages for discrete illness groups out of total drugs prescribed\n",
    "data[target_cols] = data[perc_cols].divide(data[col_items], axis=0) * 100\n",
    "\n",
    "# Overall percentage for loneliness realted disease prescribing out of total drugs prescribed\n",
    "data['loneliness_perc'] = data['loneliness'].divide(data[col_items], axis=0) * 100"
   ]
  },
  {
   "cell_type": "code",
   "execution_count": 66,
   "id": "0692ae85",
   "metadata": {
    "scrolled": true
   },
   "outputs": [
    {
     "data": {
      "text/html": [
       "<div>\n",
       "<style scoped>\n",
       "    .dataframe tbody tr th:only-of-type {\n",
       "        vertical-align: middle;\n",
       "    }\n",
       "\n",
       "    .dataframe tbody tr th {\n",
       "        vertical-align: top;\n",
       "    }\n",
       "\n",
       "    .dataframe thead th {\n",
       "        text-align: right;\n",
       "    }\n",
       "</style>\n",
       "<table border=\"1\" class=\"dataframe\">\n",
       "  <thead>\n",
       "    <tr style=\"text-align: right;\">\n",
       "      <th></th>\n",
       "      <th>pcstrip</th>\n",
       "      <th>depression</th>\n",
       "      <th>alzheimers</th>\n",
       "      <th>blood pressure</th>\n",
       "      <th>hypertension</th>\n",
       "      <th>diabeties</th>\n",
       "      <th>cardiovascular disease</th>\n",
       "      <th>insomnia</th>\n",
       "      <th>addiction</th>\n",
       "      <th>social anxiety</th>\n",
       "      <th>...</th>\n",
       "      <th>depression_perc</th>\n",
       "      <th>alzheimers_perc</th>\n",
       "      <th>blood pressure_perc</th>\n",
       "      <th>hypertension_perc</th>\n",
       "      <th>diabeties_perc</th>\n",
       "      <th>cardiovascular disease_perc</th>\n",
       "      <th>insomnia_perc</th>\n",
       "      <th>addiction_perc</th>\n",
       "      <th>social anxiety_perc</th>\n",
       "      <th>loneliness_perc</th>\n",
       "    </tr>\n",
       "  </thead>\n",
       "  <tbody>\n",
       "    <tr>\n",
       "      <th>0</th>\n",
       "      <td>AB101NW</td>\n",
       "      <td>27723</td>\n",
       "      <td>639</td>\n",
       "      <td>23877</td>\n",
       "      <td>24255</td>\n",
       "      <td>3861</td>\n",
       "      <td>15018</td>\n",
       "      <td>2142</td>\n",
       "      <td>324</td>\n",
       "      <td>450</td>\n",
       "      <td>...</td>\n",
       "      <td>7.485015</td>\n",
       "      <td>0.172526</td>\n",
       "      <td>6.446622</td>\n",
       "      <td>6.548680</td>\n",
       "      <td>1.042443</td>\n",
       "      <td>4.054755</td>\n",
       "      <td>0.578325</td>\n",
       "      <td>0.087478</td>\n",
       "      <td>0.121497</td>\n",
       "      <td>19.969221</td>\n",
       "    </tr>\n",
       "    <tr>\n",
       "      <th>1</th>\n",
       "      <td>AB101QB</td>\n",
       "      <td>26058</td>\n",
       "      <td>687</td>\n",
       "      <td>30867</td>\n",
       "      <td>31227</td>\n",
       "      <td>4281</td>\n",
       "      <td>20712</td>\n",
       "      <td>2484</td>\n",
       "      <td>873</td>\n",
       "      <td>2382</td>\n",
       "      <td>...</td>\n",
       "      <td>6.909444</td>\n",
       "      <td>0.182162</td>\n",
       "      <td>8.184581</td>\n",
       "      <td>8.280037</td>\n",
       "      <td>1.135134</td>\n",
       "      <td>5.491918</td>\n",
       "      <td>0.658648</td>\n",
       "      <td>0.231481</td>\n",
       "      <td>0.631602</td>\n",
       "      <td>22.888825</td>\n",
       "    </tr>\n",
       "    <tr>\n",
       "      <th>2</th>\n",
       "      <td>AB101UT</td>\n",
       "      <td>1359</td>\n",
       "      <td>24</td>\n",
       "      <td>1539</td>\n",
       "      <td>1561</td>\n",
       "      <td>218</td>\n",
       "      <td>1108</td>\n",
       "      <td>149</td>\n",
       "      <td>141</td>\n",
       "      <td>23</td>\n",
       "      <td>...</td>\n",
       "      <td>7.026524</td>\n",
       "      <td>0.124089</td>\n",
       "      <td>7.957189</td>\n",
       "      <td>8.070937</td>\n",
       "      <td>1.127139</td>\n",
       "      <td>5.728763</td>\n",
       "      <td>0.770384</td>\n",
       "      <td>0.729021</td>\n",
       "      <td>0.118918</td>\n",
       "      <td>23.576857</td>\n",
       "    </tr>\n",
       "  </tbody>\n",
       "</table>\n",
       "<p>3 rows × 22 columns</p>\n",
       "</div>"
      ],
      "text/plain": [
       "   pcstrip  depression  alzheimers  blood pressure  hypertension  diabeties  \\\n",
       "0  AB101NW       27723         639           23877         24255       3861   \n",
       "1  AB101QB       26058         687           30867         31227       4281   \n",
       "2  AB101UT        1359          24            1539          1561        218   \n",
       "\n",
       "   cardiovascular disease  insomnia  addiction  social anxiety  ...  \\\n",
       "0                   15018      2142        324             450  ...   \n",
       "1                   20712      2484        873            2382  ...   \n",
       "2                    1108       149        141              23  ...   \n",
       "\n",
       "   depression_perc  alzheimers_perc  blood pressure_perc  hypertension_perc  \\\n",
       "0         7.485015         0.172526             6.446622           6.548680   \n",
       "1         6.909444         0.182162             8.184581           8.280037   \n",
       "2         7.026524         0.124089             7.957189           8.070937   \n",
       "\n",
       "   diabeties_perc  cardiovascular disease_perc  insomnia_perc  addiction_perc  \\\n",
       "0        1.042443                     4.054755       0.578325        0.087478   \n",
       "1        1.135134                     5.491918       0.658648        0.231481   \n",
       "2        1.127139                     5.728763       0.770384        0.729021   \n",
       "\n",
       "   social anxiety_perc  loneliness_perc  \n",
       "0             0.121497        19.969221  \n",
       "1             0.631602        22.888825  \n",
       "2             0.118918        23.576857  \n",
       "\n",
       "[3 rows x 22 columns]"
      ]
     },
     "execution_count": 66,
     "metadata": {},
     "output_type": "execute_result"
    }
   ],
   "source": [
    "data.head(3)"
   ]
  },
  {
   "cell_type": "markdown",
   "id": "3d1ec753",
   "metadata": {},
   "source": [
    "## Standardisation"
   ]
  },
  {
   "cell_type": "code",
   "execution_count": 67,
   "id": "4e6becf1",
   "metadata": {},
   "outputs": [],
   "source": [
    "# Calculate the z scores per illness\n",
    "\n",
    "# Make new column names.\n",
    "per_cols = ['depression_perc', 'alzheimers_perc', 'blood pressure_perc', 'hypertension_perc', \n",
    "            'diabeties_perc', 'cardiovascular disease_perc', 'insomnia_perc', 'addiction_perc',\n",
    "            'social anxiety_perc']\n",
    "\n",
    "# Calculate Z-scores for each column\n",
    "for i, col in enumerate(per_cols):\n",
    "    col_zscore = col[:-5] + 'zscore'  # New column name for Z-scores\n",
    "    data[col_zscore] = stats.zscore(data[col])\n"
   ]
  },
  {
   "cell_type": "code",
   "execution_count": 68,
   "id": "8ae34b36",
   "metadata": {},
   "outputs": [],
   "source": [
    "# Add conditions z scores for overall loneliness z score\n",
    "data['loneliness_zscore'] = data[[ 'depressionzscore', 'alzheimerszscore',\n",
    "       'blood pressurezscore', 'hypertensionzscore', 'diabetieszscore',\n",
    "       'cardiovascular diseasezscore', 'insomniazscore', 'addictionzscore',\n",
    "       'social anxietyzscore']].sum(axis=1)"
   ]
  },
  {
   "cell_type": "code",
   "execution_count": 69,
   "id": "16128f6d",
   "metadata": {
    "scrolled": true
   },
   "outputs": [
    {
     "data": {
      "image/png": "[encoded data removed]",
      "text/plain": [
       "<Figure size 640x480 with 1 Axes>"
      ]
     },
     "metadata": {},
     "output_type": "display_data"
    }
   ],
   "source": [
    "data.loneliness_zscore.hist(bins=100);"
   ]
  },
  {
   "cell_type": "code",
   "execution_count": 77,
   "id": "7036dcc9",
   "metadata": {},
   "outputs": [
    {
     "data": {
      "text/plain": [
       "count    739.00000\n",
       "mean     370.00000\n",
       "std      213.47521\n",
       "min        1.00000\n",
       "25%      185.50000\n",
       "50%      370.00000\n",
       "75%      554.50000\n",
       "max      739.00000\n",
       "Name: ranked, dtype: float64"
      ]
     },
     "execution_count": 77,
     "metadata": {},
     "output_type": "execute_result"
    }
   ],
   "source": [
    "# Rank\n",
    "\n",
    "data['ranked'] = data['loneliness_zscore'].rank()\n",
    "data.ranked.describe()"
   ]
  },
  {
   "cell_type": "code",
   "execution_count": 37,
   "id": "f7aaac6b",
   "metadata": {},
   "outputs": [
    {
     "data": {
      "image/png": "[encoded data removed]",
      "text/plain": [
       "<Figure size 640x480 with 1 Axes>"
      ]
     },
     "metadata": {},
     "output_type": "display_data"
    }
   ],
   "source": [
    "data['deciles'] = pd.qcut(data['loneliness_zscore'], q=10, labels=False)\n",
    "data.deciles.hist(bins=100);"
   ]
  },
  {
   "cell_type": "code",
   "execution_count": 38,
   "id": "aa1249b4",
   "metadata": {},
   "outputs": [],
   "source": [
    "data.rename(columns={'pcstrip':'postcode'}, inplace = True)"
   ]
  },
  {
   "cell_type": "code",
   "execution_count": 39,
   "id": "3ca2c068",
   "metadata": {},
   "outputs": [],
   "source": [
    "data = data[['postcode','loneliness_zscore','scaled_1_1','deciles']]"
   ]
  },
  {
   "cell_type": "code",
   "execution_count": 42,
   "id": "ec508113",
   "metadata": {},
   "outputs": [
    {
     "data": {
      "text/html": [
       "<div>\n",
       "<style scoped>\n",
       "    .dataframe tbody tr th:only-of-type {\n",
       "        vertical-align: middle;\n",
       "    }\n",
       "\n",
       "    .dataframe tbody tr th {\n",
       "        vertical-align: top;\n",
       "    }\n",
       "\n",
       "    .dataframe thead th {\n",
       "        text-align: right;\n",
       "    }\n",
       "</style>\n",
       "<table border=\"1\" class=\"dataframe\">\n",
       "  <thead>\n",
       "    <tr style=\"text-align: right;\">\n",
       "      <th></th>\n",
       "      <th>postcode</th>\n",
       "      <th>loneliness_zscore</th>\n",
       "      <th>scaled_1_1</th>\n",
       "      <th>deciles</th>\n",
       "    </tr>\n",
       "  </thead>\n",
       "  <tbody>\n",
       "    <tr>\n",
       "      <th>0</th>\n",
       "      <td>AB101NW</td>\n",
       "      <td>-1.976918</td>\n",
       "      <td>-0.088928</td>\n",
       "      <td>2</td>\n",
       "    </tr>\n",
       "    <tr>\n",
       "      <th>1</th>\n",
       "      <td>AB101QB</td>\n",
       "      <td>7.784731</td>\n",
       "      <td>0.350182</td>\n",
       "      <td>9</td>\n",
       "    </tr>\n",
       "    <tr>\n",
       "      <th>2</th>\n",
       "      <td>AB101UT</td>\n",
       "      <td>2.910173</td>\n",
       "      <td>0.130909</td>\n",
       "      <td>8</td>\n",
       "    </tr>\n",
       "    <tr>\n",
       "      <th>3</th>\n",
       "      <td>AB101YE</td>\n",
       "      <td>1.201040</td>\n",
       "      <td>0.054027</td>\n",
       "      <td>7</td>\n",
       "    </tr>\n",
       "    <tr>\n",
       "      <th>4</th>\n",
       "      <td>AB107QQ</td>\n",
       "      <td>-1.605785</td>\n",
       "      <td>-0.072233</td>\n",
       "      <td>2</td>\n",
       "    </tr>\n",
       "    <tr>\n",
       "      <th>...</th>\n",
       "      <td>...</td>\n",
       "      <td>...</td>\n",
       "      <td>...</td>\n",
       "      <td>...</td>\n",
       "    </tr>\n",
       "    <tr>\n",
       "      <th>734</th>\n",
       "      <td>ZE29DY</td>\n",
       "      <td>5.641646</td>\n",
       "      <td>0.253779</td>\n",
       "      <td>9</td>\n",
       "    </tr>\n",
       "    <tr>\n",
       "      <th>735</th>\n",
       "      <td>ZE29HX</td>\n",
       "      <td>3.842246</td>\n",
       "      <td>0.172836</td>\n",
       "      <td>9</td>\n",
       "    </tr>\n",
       "    <tr>\n",
       "      <th>736</th>\n",
       "      <td>ZE29NA</td>\n",
       "      <td>6.571345</td>\n",
       "      <td>0.295600</td>\n",
       "      <td>9</td>\n",
       "    </tr>\n",
       "    <tr>\n",
       "      <th>737</th>\n",
       "      <td>ZE29QJ</td>\n",
       "      <td>8.485744</td>\n",
       "      <td>0.381716</td>\n",
       "      <td>9</td>\n",
       "    </tr>\n",
       "    <tr>\n",
       "      <th>738</th>\n",
       "      <td>ZE29RW</td>\n",
       "      <td>1.740322</td>\n",
       "      <td>0.078285</td>\n",
       "      <td>7</td>\n",
       "    </tr>\n",
       "  </tbody>\n",
       "</table>\n",
       "<p>739 rows × 4 columns</p>\n",
       "</div>"
      ],
      "text/plain": [
       "    postcode  loneliness_zscore  scaled_1_1  deciles\n",
       "0    AB101NW          -1.976918   -0.088928        2\n",
       "1    AB101QB           7.784731    0.350182        9\n",
       "2    AB101UT           2.910173    0.130909        8\n",
       "3    AB101YE           1.201040    0.054027        7\n",
       "4    AB107QQ          -1.605785   -0.072233        2\n",
       "..       ...                ...         ...      ...\n",
       "734   ZE29DY           5.641646    0.253779        9\n",
       "735   ZE29HX           3.842246    0.172836        9\n",
       "736   ZE29NA           6.571345    0.295600        9\n",
       "737   ZE29QJ           8.485744    0.381716        9\n",
       "738   ZE29RW           1.740322    0.078285        7\n",
       "\n",
       "[739 rows x 4 columns]"
      ]
     },
     "execution_count": 42,
     "metadata": {},
     "output_type": "execute_result"
    }
   ],
   "source": [
    "data"
   ]
  },
  {
   "cell_type": "code",
   "execution_count": 40,
   "id": "e3a6b384",
   "metadata": {},
   "outputs": [],
   "source": [
    "# Save aggregated data\n",
    "data.to_csv(path + \"scotland_loneliness_2022.csv\")"
   ]
  }
 ],
 "metadata": {
  "kernelspec": {
   "display_name": "Python 3 (ipykernel)",
   "language": "python",
   "name": "python3"
  },
  "language_info": {
   "codemirror_mode": {
    "name": "ipython",
    "version": 3
   },
   "file_extension": ".py",
   "mimetype": "text/x-python",
   "name": "python",
   "nbconvert_exporter": "python",
   "pygments_lexer": "ipython3",
   "version": "3.9.6"
  }
 },
 "nbformat": 4,
 "nbformat_minor": 5
}
