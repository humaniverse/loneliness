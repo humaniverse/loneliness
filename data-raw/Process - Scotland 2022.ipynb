{
 "cells": [
  {
   "cell_type": "markdown",
   "id": "3eadd414",
   "metadata": {},
   "source": [
    "# Creating Loneliness Index from Prescription Data for Scotland"
   ]
  },
  {
   "cell_type": "code",
   "execution_count": 56,
   "id": "a0a5bc26",
   "metadata": {},
   "outputs": [],
   "source": [
    "import pandas as pd\n",
    "import os\n",
    "import matplotlib.pyplot as plt\n",
    "import scipy.stats as stats\n",
    "from sklearn.preprocessing import MinMaxScaler"
   ]
  },
  {
   "cell_type": "markdown",
   "id": "87cf7ad4",
   "metadata": {},
   "source": [
    "# Read drug data"
   ]
  },
  {
   "cell_type": "code",
   "execution_count": 57,
   "id": "c2e5bfa0",
   "metadata": {},
   "outputs": [],
   "source": [
    "# Path to zip files\n",
    "path = \"data-raw/Scotland/\""
   ]
  },
  {
   "cell_type": "code",
   "execution_count": 58,
   "id": "f47335fe",
   "metadata": {},
   "outputs": [],
   "source": [
    "# Get drug data (NB some drugs duplicated for illnesses)\n",
    "drug_data = pd.read_csv(\"drug_list.csv\")"
   ]
  },
  {
   "cell_type": "markdown",
   "id": "4f1a245a",
   "metadata": {},
   "source": [
    "# Process Prescribing Data\n",
    "\n",
    "This code iterates over the monthly prescribing data, ultimately producing an aggregate table.\n",
    "\n",
    "**Filename format:** pitc[year][month].csv (e.g. pitc201801.csv)\n",
    "\n",
    "**Columns:** HBT, GPPractice, BNFItemCode, BNFItemDescription, ClassOfPreparationCode, NumberOfPaidItems, PaidQuantity, GrossIngredientCost, PaidDateMonth\n",
    "\n",
    "These files are the \"Prescriptions in the Community\" .csv files that come from: https://www.opendata.nhs.scot/dataset/prescriptions-in-the-community"
   ]
  },
  {
   "cell_type": "code",
   "execution_count": 59,
   "id": "98029f41",
   "metadata": {},
   "outputs": [],
   "source": [
    "# column names\n",
    "col_bnfname = \"BNFItemDescription\"\n",
    "col_items = \"NumberOfPaidItems\""
   ]
  },
  {
   "cell_type": "code",
   "execution_count": 60,
   "id": "204acae2",
   "metadata": {},
   "outputs": [],
   "source": [
    "# Function to find loneliness related prescribing\n",
    "def code_loneliness(x):\n",
    "    out = {}\n",
    "    # coding by illness categories\n",
    "    for illness in drug_data['illness'].unique():\n",
    "        out[illness] = x[col_bnfname].str.contains(\"|\".join(drug_data[drug_data['illness'] == illness]['medication']),\n",
    "                                                 case=False, \n",
    "                                                 regex=True).fillna(False).astype('int16')\n",
    "    # Make dataframe\n",
    "    out = pd.DataFrame(out)\n",
    "    # Add loneliness related disease binary - avoids double counting some drugs.\n",
    "    out['loneliness'] = x[col_bnfname].str.contains(\"|\".join(drug_data['medication'].unique()),\n",
    "                                                  case = False, \n",
    "                                                  regex = True).fillna(False).astype('int16')\n",
    "    # Return dataframe multiplied by counts of items.\n",
    "    return out.multiply(x[col_items], axis=0)"
   ]
  },
  {
   "cell_type": "code",
   "execution_count": 61,
   "id": "6b74a70d",
   "metadata": {},
   "outputs": [],
   "source": [
    "# Make dictionary for aggregation\n",
    "agg_cols = {col : 'sum' for col in drug_data['illness'].unique()}\n",
    "agg_cols[col_items] = 'sum'\n",
    "agg_cols['loneliness'] = 'sum'\n",
    "for key in ['Date', 'HBT']:\n",
    "    agg_cols[key] = 'first'"
   ]
  },
  {
   "cell_type": "code",
   "execution_count": 62,
   "id": "5b300bee",
   "metadata": {},
   "outputs": [
    {
     "name": "stdout",
     "output_type": "stream",
     "text": [
      "pitc202201.csv\n",
      "pitc202202.csv\n",
      "pitc202203.csv\n",
      "pitc202204.csv\n",
      "pitc202205.csv\n",
      "pitc202206.csv\n",
      "pitc202207.csv\n",
      "pitc202208.csv\n",
      "pitc202209.csv\n",
      "pitc202210.csv\n",
      "pitc202211.csv\n",
      "pitc202212.csv\n"
     ]
    }
   ],
   "source": [
    "monthly_data = []\n",
    "\n",
    "for file in os.listdir(path + \"Prescriptions\"):\n",
    "    # Open prescribing files in pandas.\n",
    "    prescribe = pd.read_csv(path + \"Prescriptions\\\\\" + file)\n",
    "    prescribe.columns = prescribe.columns.str.strip()\n",
    "    # Rename 'PaidDateMonth' column to 'date'\n",
    "    prescribe.rename(columns = {'PaidDateMonth': 'Date'}, inplace = True) \n",
    "    # Get counts of prescribing dataframe for loneliness related diseases\n",
    "    loneliness_prescribing = code_loneliness(prescribe[[col_bnfname, col_items]])\n",
    "    # merge dataframes\n",
    "    prescribe = prescribe.merge(loneliness_prescribing, left_index=True, right_index=True)\n",
    "    del loneliness_prescribing\n",
    "\n",
    "    # merge in address information\n",
    "    #prescribe = prescribe.merge(addr, left_on = 'PracticeID', right_on = 'PracticeId')\n",
    "    #del addr\n",
    "\n",
    "    # Create uniform postcode field\n",
    "    #prescribe['pcstrip'] = prescribe['Postcode'].str.replace(\"\\s\",\"\")\n",
    "\n",
    "    # get a summary - grouping by GPPractice\n",
    "    summary = prescribe.groupby('GPPractice', as_index=False).agg(agg_cols)\n",
    "    del prescribe\n",
    "\n",
    "    monthly_data.append(summary)\n",
    "    print(file)\n"
   ]
  },
  {
   "cell_type": "code",
   "execution_count": 66,
   "id": "f76e0f93",
   "metadata": {},
   "outputs": [],
   "source": [
    "# concatenate all the monthly data together.\n",
    "data = pd.concat(monthly_data, ignore_index = True)"
   ]
  },
  {
   "cell_type": "code",
   "execution_count": 67,
   "id": "a03fabce",
   "metadata": {},
   "outputs": [
    {
     "data": {
      "text/html": [
       "<div>\n",
       "<style scoped>\n",
       "    .dataframe tbody tr th:only-of-type {\n",
       "        vertical-align: middle;\n",
       "    }\n",
       "\n",
       "    .dataframe tbody tr th {\n",
       "        vertical-align: top;\n",
       "    }\n",
       "\n",
       "    .dataframe thead th {\n",
       "        text-align: right;\n",
       "    }\n",
       "</style>\n",
       "<table border=\"1\" class=\"dataframe\">\n",
       "  <thead>\n",
       "    <tr style=\"text-align: right;\">\n",
       "      <th></th>\n",
       "      <th>GPPractice</th>\n",
       "      <th>depression</th>\n",
       "      <th>alzheimers</th>\n",
       "      <th>blood pressure</th>\n",
       "      <th>hypertension</th>\n",
       "      <th>diabeties</th>\n",
       "      <th>cardiovascular disease</th>\n",
       "      <th>insomnia</th>\n",
       "      <th>addiction</th>\n",
       "      <th>social anxiety</th>\n",
       "      <th>NumberOfPaidItems</th>\n",
       "      <th>loneliness</th>\n",
       "      <th>Date</th>\n",
       "      <th>HBT</th>\n",
       "    </tr>\n",
       "  </thead>\n",
       "  <tbody>\n",
       "    <tr>\n",
       "      <th>0</th>\n",
       "      <td>10002</td>\n",
       "      <td>594</td>\n",
       "      <td>20</td>\n",
       "      <td>700</td>\n",
       "      <td>704</td>\n",
       "      <td>107</td>\n",
       "      <td>485</td>\n",
       "      <td>41</td>\n",
       "      <td>0</td>\n",
       "      <td>3</td>\n",
       "      <td>9510</td>\n",
       "      <td>1951</td>\n",
       "      <td>202201</td>\n",
       "      <td>S08000030</td>\n",
       "    </tr>\n",
       "    <tr>\n",
       "      <th>1</th>\n",
       "      <td>10017</td>\n",
       "      <td>550</td>\n",
       "      <td>35</td>\n",
       "      <td>658</td>\n",
       "      <td>664</td>\n",
       "      <td>89</td>\n",
       "      <td>420</td>\n",
       "      <td>56</td>\n",
       "      <td>0</td>\n",
       "      <td>5</td>\n",
       "      <td>8734</td>\n",
       "      <td>1814</td>\n",
       "      <td>202201</td>\n",
       "      <td>S08000030</td>\n",
       "    </tr>\n",
       "    <tr>\n",
       "      <th>2</th>\n",
       "      <td>10036</td>\n",
       "      <td>376</td>\n",
       "      <td>11</td>\n",
       "      <td>579</td>\n",
       "      <td>582</td>\n",
       "      <td>62</td>\n",
       "      <td>344</td>\n",
       "      <td>59</td>\n",
       "      <td>0</td>\n",
       "      <td>6</td>\n",
       "      <td>6136</td>\n",
       "      <td>1434</td>\n",
       "      <td>202201</td>\n",
       "      <td>S08000030</td>\n",
       "    </tr>\n",
       "    <tr>\n",
       "      <th>3</th>\n",
       "      <td>10106</td>\n",
       "      <td>513</td>\n",
       "      <td>34</td>\n",
       "      <td>719</td>\n",
       "      <td>724</td>\n",
       "      <td>106</td>\n",
       "      <td>505</td>\n",
       "      <td>39</td>\n",
       "      <td>1</td>\n",
       "      <td>2</td>\n",
       "      <td>8541</td>\n",
       "      <td>1922</td>\n",
       "      <td>202201</td>\n",
       "      <td>S08000030</td>\n",
       "    </tr>\n",
       "    <tr>\n",
       "      <th>4</th>\n",
       "      <td>10125</td>\n",
       "      <td>425</td>\n",
       "      <td>15</td>\n",
       "      <td>453</td>\n",
       "      <td>454</td>\n",
       "      <td>91</td>\n",
       "      <td>367</td>\n",
       "      <td>44</td>\n",
       "      <td>0</td>\n",
       "      <td>4</td>\n",
       "      <td>6673</td>\n",
       "      <td>1396</td>\n",
       "      <td>202201</td>\n",
       "      <td>S08000030</td>\n",
       "    </tr>\n",
       "  </tbody>\n",
       "</table>\n",
       "</div>"
      ],
      "text/plain": [
       "   GPPractice  depression  alzheimers  blood pressure  hypertension  \\\n",
       "0       10002         594          20             700           704   \n",
       "1       10017         550          35             658           664   \n",
       "2       10036         376          11             579           582   \n",
       "3       10106         513          34             719           724   \n",
       "4       10125         425          15             453           454   \n",
       "\n",
       "   diabeties  cardiovascular disease  insomnia  addiction  social anxiety  \\\n",
       "0        107                     485        41          0               3   \n",
       "1         89                     420        56          0               5   \n",
       "2         62                     344        59          0               6   \n",
       "3        106                     505        39          1               2   \n",
       "4         91                     367        44          0               4   \n",
       "\n",
       "   NumberOfPaidItems  loneliness    Date        HBT  \n",
       "0               9510        1951  202201  S08000030  \n",
       "1               8734        1814  202201  S08000030  \n",
       "2               6136        1434  202201  S08000030  \n",
       "3               8541        1922  202201  S08000030  \n",
       "4               6673        1396  202201  S08000030  "
      ]
     },
     "execution_count": 67,
     "metadata": {},
     "output_type": "execute_result"
    }
   ],
   "source": [
    "data[data[\"loneliness\"] > 0].head()"
   ]
  },
  {
   "cell_type": "code",
   "execution_count": 68,
   "id": "294005fe",
   "metadata": {},
   "outputs": [],
   "source": [
    "# Save aggregated data\n",
    "data.to_csv(path + \"processed_data.csv\")"
   ]
  },
  {
   "cell_type": "markdown",
   "id": "c61cb97c",
   "metadata": {},
   "source": [
    "# Import GP Practices\n",
    "\n",
    "## Use only General Practice surgeries\n",
    "\n",
    "Use the 'GP Practice Contact Details and List Sizes' data from: https://www.opendata.nhs.scot/dataset/gp-practice-contact-details-and-list-sizes to get GP surgery codes and number of registered patients.\n",
    "\n",
    "Note that Scotland only publishes these data four times a year (in Jan, Apr, Jul and Oct) - so we'll just use the previous quarter's numbers until the next quarter (e.g. use Jan 18 data for Jan/Feb/Mar)\n",
    "\n",
    "**Filename format:** gppractices[year][month][day].csv (e.g. gppractices20180101.csv)\n",
    "\n",
    "**Columns:** PracticeCode, PracticeName, PracticeListSize, AddressLine1, AddressLine2, AddressLine3, AddressLine4, Postcode, TelephoneNumber, PracticeType, Dispensing, HB2014 [Health Board], HB1995 [Health Board], HSCP2016 [Health and Social Care Partnership], CA2011 [Council Area], DZ2011 [Data Zone], DZ2001 [Data Zone]"
   ]
  },
  {
   "cell_type": "code",
   "execution_count": 69,
   "id": "ffada308",
   "metadata": {},
   "outputs": [],
   "source": [
    "data = pd.read_csv(path + \"processed_data.csv\", index_col = 0)"
   ]
  },
  {
   "cell_type": "code",
   "execution_count": 70,
   "id": "c920448a",
   "metadata": {},
   "outputs": [],
   "source": [
    "# Get GP files\n",
    "gp_path = path + \"GP data/\""
   ]
  },
  {
   "cell_type": "code",
   "execution_count": 74,
   "id": "7dec9204",
   "metadata": {},
   "outputs": [
    {
     "name": "stdout",
     "output_type": "stream",
     "text": [
      "gppractices20220101.csv\n",
      "gppractices20220701.csv\n",
      "gppractices20221001.csv\n"
     ]
    }
   ],
   "source": [
    "gp_combine = []\n",
    "\n",
    "for file in os.listdir(gp_path):\n",
    "    \n",
    "    # Deal with different file structures\n",
    "    gp_data = pd.read_csv(gp_path + file)\n",
    "    #gp_data.columns = gp_data.columns.str.upper().str.replace(\" \",\"_\")\n",
    "    gp_data = gp_data.rename(columns = {'PracticeCode': 'GPPractice'})\n",
    "    gp_combine.append(gp_data[['GPPractice','Postcode']])\n",
    "    print(file)"
   ]
  },
  {
   "cell_type": "code",
   "execution_count": 75,
   "id": "aacbdd6b",
   "metadata": {},
   "outputs": [],
   "source": [
    "# concatenate all the gp data together.\n",
    "gp_data = pd.concat(gp_combine, ignore_index = True)"
   ]
  },
  {
   "cell_type": "code",
   "execution_count": 76,
   "id": "6935918c",
   "metadata": {},
   "outputs": [
    {
     "data": {
      "text/html": [
       "<div>\n",
       "<style scoped>\n",
       "    .dataframe tbody tr th:only-of-type {\n",
       "        vertical-align: middle;\n",
       "    }\n",
       "\n",
       "    .dataframe tbody tr th {\n",
       "        vertical-align: top;\n",
       "    }\n",
       "\n",
       "    .dataframe thead th {\n",
       "        text-align: right;\n",
       "    }\n",
       "</style>\n",
       "<table border=\"1\" class=\"dataframe\">\n",
       "  <thead>\n",
       "    <tr style=\"text-align: right;\">\n",
       "      <th></th>\n",
       "      <th>GPPractice</th>\n",
       "      <th>Postcode</th>\n",
       "    </tr>\n",
       "  </thead>\n",
       "  <tbody>\n",
       "    <tr>\n",
       "      <th>0</th>\n",
       "      <td>10002</td>\n",
       "      <td>DD2 5NH</td>\n",
       "    </tr>\n",
       "    <tr>\n",
       "      <th>1</th>\n",
       "      <td>10017</td>\n",
       "      <td>PH7 3SA</td>\n",
       "    </tr>\n",
       "    <tr>\n",
       "      <th>2</th>\n",
       "      <td>10036</td>\n",
       "      <td>PH15 2BL</td>\n",
       "    </tr>\n",
       "  </tbody>\n",
       "</table>\n",
       "</div>"
      ],
      "text/plain": [
       "   GPPractice  Postcode\n",
       "0       10002   DD2 5NH\n",
       "1       10017   PH7 3SA\n",
       "2       10036  PH15 2BL"
      ]
     },
     "execution_count": 76,
     "metadata": {},
     "output_type": "execute_result"
    }
   ],
   "source": [
    "gp_data.head(3)"
   ]
  },
  {
   "cell_type": "code",
   "execution_count": 77,
   "id": "c36a89c9",
   "metadata": {},
   "outputs": [
    {
     "data": {
      "text/plain": [
       "2747"
      ]
     },
     "execution_count": 77,
     "metadata": {},
     "output_type": "execute_result"
    }
   ],
   "source": [
    "len(gp_data)"
   ]
  },
  {
   "cell_type": "code",
   "execution_count": 78,
   "id": "3e8d8119",
   "metadata": {},
   "outputs": [
    {
     "data": {
      "text/plain": [
       "(11121, 14)"
      ]
     },
     "execution_count": 78,
     "metadata": {},
     "output_type": "execute_result"
    }
   ],
   "source": [
    "# Get the unique codes for GP surgeries and subset the prescribing data according to these codes.\n",
    "gp_ids = gp_data['GPPractice'].unique()\n",
    "data = data[data['GPPractice'].isin(gp_ids)].copy()\n",
    "data.shape"
   ]
  },
  {
   "cell_type": "code",
   "execution_count": 79,
   "id": "a8bebe3f",
   "metadata": {},
   "outputs": [],
   "source": [
    "# Merge on the basis GPPractice code\n",
    "data = data.merge(gp_data, how = 'left', on = ['GPPractice'])"
   ]
  },
  {
   "cell_type": "code",
   "execution_count": 80,
   "id": "323df1f9",
   "metadata": {},
   "outputs": [
    {
     "data": {
      "text/html": [
       "<div>\n",
       "<style scoped>\n",
       "    .dataframe tbody tr th:only-of-type {\n",
       "        vertical-align: middle;\n",
       "    }\n",
       "\n",
       "    .dataframe tbody tr th {\n",
       "        vertical-align: top;\n",
       "    }\n",
       "\n",
       "    .dataframe thead th {\n",
       "        text-align: right;\n",
       "    }\n",
       "</style>\n",
       "<table border=\"1\" class=\"dataframe\">\n",
       "  <thead>\n",
       "    <tr style=\"text-align: right;\">\n",
       "      <th></th>\n",
       "      <th>GPPractice</th>\n",
       "      <th>depression</th>\n",
       "      <th>alzheimers</th>\n",
       "      <th>blood pressure</th>\n",
       "      <th>hypertension</th>\n",
       "      <th>diabeties</th>\n",
       "      <th>cardiovascular disease</th>\n",
       "      <th>insomnia</th>\n",
       "      <th>addiction</th>\n",
       "      <th>social anxiety</th>\n",
       "      <th>NumberOfPaidItems</th>\n",
       "      <th>loneliness</th>\n",
       "      <th>Date</th>\n",
       "      <th>HBT</th>\n",
       "      <th>Postcode</th>\n",
       "    </tr>\n",
       "  </thead>\n",
       "  <tbody>\n",
       "    <tr>\n",
       "      <th>0</th>\n",
       "      <td>10002</td>\n",
       "      <td>594</td>\n",
       "      <td>20</td>\n",
       "      <td>700</td>\n",
       "      <td>704</td>\n",
       "      <td>107</td>\n",
       "      <td>485</td>\n",
       "      <td>41</td>\n",
       "      <td>0</td>\n",
       "      <td>3</td>\n",
       "      <td>9510</td>\n",
       "      <td>1951</td>\n",
       "      <td>202201</td>\n",
       "      <td>S08000030</td>\n",
       "      <td>DD2 5NH</td>\n",
       "    </tr>\n",
       "    <tr>\n",
       "      <th>1</th>\n",
       "      <td>10002</td>\n",
       "      <td>594</td>\n",
       "      <td>20</td>\n",
       "      <td>700</td>\n",
       "      <td>704</td>\n",
       "      <td>107</td>\n",
       "      <td>485</td>\n",
       "      <td>41</td>\n",
       "      <td>0</td>\n",
       "      <td>3</td>\n",
       "      <td>9510</td>\n",
       "      <td>1951</td>\n",
       "      <td>202201</td>\n",
       "      <td>S08000030</td>\n",
       "      <td>DD2 5NH</td>\n",
       "    </tr>\n",
       "  </tbody>\n",
       "</table>\n",
       "</div>"
      ],
      "text/plain": [
       "   GPPractice  depression  alzheimers  blood pressure  hypertension  \\\n",
       "0       10002         594          20             700           704   \n",
       "1       10002         594          20             700           704   \n",
       "\n",
       "   diabeties  cardiovascular disease  insomnia  addiction  social anxiety  \\\n",
       "0        107                     485        41          0               3   \n",
       "1        107                     485        41          0               3   \n",
       "\n",
       "   NumberOfPaidItems  loneliness    Date        HBT Postcode  \n",
       "0               9510        1951  202201  S08000030  DD2 5NH  \n",
       "1               9510        1951  202201  S08000030  DD2 5NH  "
      ]
     },
     "execution_count": 80,
     "metadata": {},
     "output_type": "execute_result"
    }
   ],
   "source": [
    "data.head(2)"
   ]
  },
  {
   "cell_type": "code",
   "execution_count": 81,
   "id": "0ffb2f1c",
   "metadata": {},
   "outputs": [],
   "source": [
    "# Create uniform postcode field\n",
    "data['pcstrip'] = data['Postcode'].str.replace(\"\\s\",\"\")"
   ]
  },
  {
   "cell_type": "code",
   "execution_count": 82,
   "id": "fd2140a4",
   "metadata": {},
   "outputs": [
    {
     "data": {
      "text/plain": [
       "12"
      ]
     },
     "execution_count": 82,
     "metadata": {},
     "output_type": "execute_result"
    }
   ],
   "source": [
    "# Check for 1 postcode per Practice Code\n",
    "pc_prac_counts = data.groupby('GPPractice')['pcstrip'].unique().map(len)\n",
    "# 28 practices have more than 1 postcode associated with it.\n",
    "pc_prac_counts[pc_prac_counts > 1].count()"
   ]
  },
  {
   "cell_type": "code",
   "execution_count": 86,
   "id": "44bb98b8",
   "metadata": {},
   "outputs": [
    {
     "data": {
      "text/plain": [
       "GPPractice\n",
       "16066    2\n",
       "21505    2\n",
       "40046    2\n",
       "40224    2\n",
       "40262    2\n",
       "40582    2\n",
       "40691    2\n",
       "40703    2\n",
       "62986    2\n",
       "70470    2\n",
       "71171    2\n",
       "71379    2\n",
       "Name: pcstrip, dtype: int64"
      ]
     },
     "execution_count": 86,
     "metadata": {},
     "output_type": "execute_result"
    }
   ],
   "source": [
    "pc_prac_counts[pc_prac_counts > 1]"
   ]
  },
  {
   "cell_type": "code",
   "execution_count": 87,
   "id": "736988d9",
   "metadata": {},
   "outputs": [],
   "source": [
    "# Save aggregated data\n",
    "data.to_csv(path + \"processed_data_with_postcode.csv\")"
   ]
  },
  {
   "cell_type": "markdown",
   "id": "02a4875d",
   "metadata": {},
   "source": [
    "# Generate Statistics from Prescribing Counts\n",
    "\n",
    "## Percentages At Postcode Level\n",
    "\n",
    "Aggregate observations to postcodes and compute percentages for 'depression', 'alzheimers', 'blood pressure', 'hypertension', 'diabetes', 'cardiovascular disease', 'insomnia', 'addiction', 'social anxiety', and 'loneliness'.\n",
    "\n",
    "## Outlier Removal\n",
    "\n",
    "Should we remove some GPs on the basis that they have very low/high values which might indicate they are not accessible to the general population, and instead represent specialist services?\n",
    "\n",
    "Currently, we won't do this, but it's an advanced task to look into.\n",
    "\n",
    "## Standardise Percentages\n",
    "\n",
    "Should we standardise within time points, or across them? Or standardise with GP practices or across them?\n",
    "\n",
    "Can't standardize within GPs, as can't then compare between GPs.\n",
    "\n",
    "Can't standardise across GPs within years, as can't then compare between years.\n",
    "\n",
    "Can't standardise across GPs across years, as can't then disambiguate changes to rank order over time.\n",
    "\n",
    "<u> First Step </u>\n",
    "\n",
    "Take the average percentage of disease groups within postcodes annually - this is then an annual summary measure of prescribing by postcode. Aggregation entire depends on desired time frame for analysis.\n",
    "\n",
    "NB, this is a mean of percentages - could also calculate an overall percentage by summing monthly counts by year and dividing through by monthly sum of items.\n",
    "\n",
    "<u> Second Step </u>\n",
    "\n",
    "z-score standardise for earliest year observed across GPs. Store mean and standard deviation.\n",
    "\n",
    "z-score standardise subsequent years wrt baseline mean and standard deviation.\n",
    "\n",
    "OR\n",
    "\n",
    "Use min-max normalisation by year (decile normalisation?). This standardises the different percentages to the same range - although in theory they're comparable anyway...\n",
    "\n",
    "## Aggregation and Percentages"
   ]
  },
  {
   "cell_type": "code",
   "execution_count": 88,
   "id": "ba309225",
   "metadata": {},
   "outputs": [],
   "source": [
    "data = pd.read_csv(path + \"processed_data_with_postcode.csv\", index_col=0)"
   ]
  },
  {
   "cell_type": "code",
   "execution_count": 89,
   "id": "b3db2008",
   "metadata": {},
   "outputs": [
    {
     "data": {
      "text/plain": [
       "GPPractice                 int64\n",
       "depression                 int64\n",
       "alzheimers                 int64\n",
       "blood pressure             int64\n",
       "hypertension               int64\n",
       "diabeties                  int64\n",
       "cardiovascular disease     int64\n",
       "insomnia                   int64\n",
       "addiction                  int64\n",
       "social anxiety             int64\n",
       "NumberOfPaidItems          int64\n",
       "loneliness                 int64\n",
       "Date                       int64\n",
       "HBT                       object\n",
       "Postcode                  object\n",
       "pcstrip                   object\n",
       "dtype: object"
      ]
     },
     "execution_count": 89,
     "metadata": {},
     "output_type": "execute_result"
    }
   ],
   "source": [
    "data.dtypes"
   ]
  },
  {
   "cell_type": "code",
   "execution_count": 90,
   "id": "b2812903",
   "metadata": {},
   "outputs": [],
   "source": [
    "# Make dictionary for aggregation\n",
    "# counts to sum\n",
    "agg_cols = {col : 'sum' for col in drug_data['illness'].unique()}\n",
    "agg_cols[col_items] = 'sum'\n",
    "agg_cols['loneliness'] = 'sum'\n",
    "\n",
    "# Other data to preserve\n",
    "for key in ['HBT', 'Postcode', 'Date']:\n",
    "    agg_cols[key] = 'first'"
   ]
  },
  {
   "cell_type": "code",
   "execution_count": 91,
   "id": "93336df1",
   "metadata": {},
   "outputs": [
    {
     "data": {
      "text/plain": [
       "{'depression': 'sum',\n",
       " 'alzheimers': 'sum',\n",
       " 'blood pressure': 'sum',\n",
       " 'hypertension': 'sum',\n",
       " 'diabeties': 'sum',\n",
       " 'cardiovascular disease': 'sum',\n",
       " 'insomnia': 'sum',\n",
       " 'addiction': 'sum',\n",
       " 'social anxiety': 'sum',\n",
       " 'NumberOfPaidItems': 'sum',\n",
       " 'loneliness': 'sum',\n",
       " 'HBT': 'first',\n",
       " 'Postcode': 'first',\n",
       " 'Date': 'first'}"
      ]
     },
     "execution_count": 91,
     "metadata": {},
     "output_type": "execute_result"
    }
   ],
   "source": [
    "agg_cols"
   ]
  },
  {
   "cell_type": "code",
   "execution_count": 92,
   "id": "195453d6",
   "metadata": {},
   "outputs": [],
   "source": [
    "# Do aggregation and produce counts by postcode by date.\n",
    "data = data.groupby(['pcstrip', 'Date'], as_index=False).agg(agg_cols)"
   ]
  },
  {
   "cell_type": "code",
   "execution_count": 93,
   "id": "b6faf54f",
   "metadata": {},
   "outputs": [
    {
     "data": {
      "text/html": [
       "<div>\n",
       "<style scoped>\n",
       "    .dataframe tbody tr th:only-of-type {\n",
       "        vertical-align: middle;\n",
       "    }\n",
       "\n",
       "    .dataframe tbody tr th {\n",
       "        vertical-align: top;\n",
       "    }\n",
       "\n",
       "    .dataframe thead th {\n",
       "        text-align: right;\n",
       "    }\n",
       "</style>\n",
       "<table border=\"1\" class=\"dataframe\">\n",
       "  <thead>\n",
       "    <tr style=\"text-align: right;\">\n",
       "      <th></th>\n",
       "      <th>pcstrip</th>\n",
       "      <th>depression</th>\n",
       "      <th>alzheimers</th>\n",
       "      <th>blood pressure</th>\n",
       "      <th>hypertension</th>\n",
       "      <th>diabeties</th>\n",
       "      <th>cardiovascular disease</th>\n",
       "      <th>insomnia</th>\n",
       "      <th>addiction</th>\n",
       "      <th>social anxiety</th>\n",
       "      <th>NumberOfPaidItems</th>\n",
       "      <th>loneliness</th>\n",
       "      <th>HBT</th>\n",
       "      <th>Postcode</th>\n",
       "      <th>Date</th>\n",
       "    </tr>\n",
       "  </thead>\n",
       "  <tbody>\n",
       "    <tr>\n",
       "      <th>0</th>\n",
       "      <td>AB10 1NW</td>\n",
       "      <td>2136</td>\n",
       "      <td>63</td>\n",
       "      <td>1818</td>\n",
       "      <td>1854</td>\n",
       "      <td>291</td>\n",
       "      <td>1149</td>\n",
       "      <td>189</td>\n",
       "      <td>24</td>\n",
       "      <td>33</td>\n",
       "      <td>29379</td>\n",
       "      <td>5706</td>\n",
       "      <td>S08000020</td>\n",
       "      <td>AB10 1NW</td>\n",
       "      <td>202201</td>\n",
       "    </tr>\n",
       "    <tr>\n",
       "      <th>1</th>\n",
       "      <td>AB10 1NW</td>\n",
       "      <td>2070</td>\n",
       "      <td>48</td>\n",
       "      <td>1764</td>\n",
       "      <td>1788</td>\n",
       "      <td>255</td>\n",
       "      <td>1125</td>\n",
       "      <td>180</td>\n",
       "      <td>21</td>\n",
       "      <td>33</td>\n",
       "      <td>27033</td>\n",
       "      <td>5487</td>\n",
       "      <td>S08000020</td>\n",
       "      <td>AB10 1NW</td>\n",
       "      <td>202202</td>\n",
       "    </tr>\n",
       "    <tr>\n",
       "      <th>2</th>\n",
       "      <td>AB10 1NW</td>\n",
       "      <td>2361</td>\n",
       "      <td>54</td>\n",
       "      <td>2025</td>\n",
       "      <td>2073</td>\n",
       "      <td>327</td>\n",
       "      <td>1293</td>\n",
       "      <td>183</td>\n",
       "      <td>24</td>\n",
       "      <td>54</td>\n",
       "      <td>32073</td>\n",
       "      <td>6315</td>\n",
       "      <td>S08000020</td>\n",
       "      <td>AB10 1NW</td>\n",
       "      <td>202203</td>\n",
       "    </tr>\n",
       "    <tr>\n",
       "      <th>3</th>\n",
       "      <td>AB10 1NW</td>\n",
       "      <td>2286</td>\n",
       "      <td>48</td>\n",
       "      <td>2007</td>\n",
       "      <td>2043</td>\n",
       "      <td>285</td>\n",
       "      <td>1197</td>\n",
       "      <td>159</td>\n",
       "      <td>21</td>\n",
       "      <td>48</td>\n",
       "      <td>29625</td>\n",
       "      <td>6039</td>\n",
       "      <td>S08000020</td>\n",
       "      <td>AB10 1NW</td>\n",
       "      <td>202204</td>\n",
       "    </tr>\n",
       "    <tr>\n",
       "      <th>4</th>\n",
       "      <td>AB10 1NW</td>\n",
       "      <td>2403</td>\n",
       "      <td>81</td>\n",
       "      <td>1971</td>\n",
       "      <td>1998</td>\n",
       "      <td>339</td>\n",
       "      <td>1293</td>\n",
       "      <td>204</td>\n",
       "      <td>21</td>\n",
       "      <td>42</td>\n",
       "      <td>32514</td>\n",
       "      <td>6339</td>\n",
       "      <td>S08000020</td>\n",
       "      <td>AB10 1NW</td>\n",
       "      <td>202205</td>\n",
       "    </tr>\n",
       "    <tr>\n",
       "      <th>...</th>\n",
       "      <td>...</td>\n",
       "      <td>...</td>\n",
       "      <td>...</td>\n",
       "      <td>...</td>\n",
       "      <td>...</td>\n",
       "      <td>...</td>\n",
       "      <td>...</td>\n",
       "      <td>...</td>\n",
       "      <td>...</td>\n",
       "      <td>...</td>\n",
       "      <td>...</td>\n",
       "      <td>...</td>\n",
       "      <td>...</td>\n",
       "      <td>...</td>\n",
       "      <td>...</td>\n",
       "    </tr>\n",
       "    <tr>\n",
       "      <th>8847</th>\n",
       "      <td>ZE2 9RW</td>\n",
       "      <td>402</td>\n",
       "      <td>6</td>\n",
       "      <td>693</td>\n",
       "      <td>696</td>\n",
       "      <td>114</td>\n",
       "      <td>426</td>\n",
       "      <td>0</td>\n",
       "      <td>0</td>\n",
       "      <td>0</td>\n",
       "      <td>7092</td>\n",
       "      <td>1644</td>\n",
       "      <td>S08000026</td>\n",
       "      <td>ZE2 9RW</td>\n",
       "      <td>202208</td>\n",
       "    </tr>\n",
       "    <tr>\n",
       "      <th>8848</th>\n",
       "      <td>ZE2 9RW</td>\n",
       "      <td>351</td>\n",
       "      <td>12</td>\n",
       "      <td>528</td>\n",
       "      <td>531</td>\n",
       "      <td>117</td>\n",
       "      <td>330</td>\n",
       "      <td>3</td>\n",
       "      <td>0</td>\n",
       "      <td>0</td>\n",
       "      <td>5601</td>\n",
       "      <td>1344</td>\n",
       "      <td>S08000026</td>\n",
       "      <td>ZE2 9RW</td>\n",
       "      <td>202209</td>\n",
       "    </tr>\n",
       "    <tr>\n",
       "      <th>8849</th>\n",
       "      <td>ZE2 9RW</td>\n",
       "      <td>393</td>\n",
       "      <td>9</td>\n",
       "      <td>627</td>\n",
       "      <td>627</td>\n",
       "      <td>126</td>\n",
       "      <td>378</td>\n",
       "      <td>0</td>\n",
       "      <td>0</td>\n",
       "      <td>0</td>\n",
       "      <td>6138</td>\n",
       "      <td>1533</td>\n",
       "      <td>S08000026</td>\n",
       "      <td>ZE2 9RW</td>\n",
       "      <td>202210</td>\n",
       "    </tr>\n",
       "    <tr>\n",
       "      <th>8850</th>\n",
       "      <td>ZE2 9RW</td>\n",
       "      <td>366</td>\n",
       "      <td>0</td>\n",
       "      <td>528</td>\n",
       "      <td>528</td>\n",
       "      <td>123</td>\n",
       "      <td>342</td>\n",
       "      <td>0</td>\n",
       "      <td>0</td>\n",
       "      <td>0</td>\n",
       "      <td>5817</td>\n",
       "      <td>1359</td>\n",
       "      <td>S08000026</td>\n",
       "      <td>ZE2 9RW</td>\n",
       "      <td>202211</td>\n",
       "    </tr>\n",
       "    <tr>\n",
       "      <th>8851</th>\n",
       "      <td>ZE2 9RW</td>\n",
       "      <td>396</td>\n",
       "      <td>9</td>\n",
       "      <td>642</td>\n",
       "      <td>645</td>\n",
       "      <td>129</td>\n",
       "      <td>390</td>\n",
       "      <td>3</td>\n",
       "      <td>0</td>\n",
       "      <td>0</td>\n",
       "      <td>6756</td>\n",
       "      <td>1572</td>\n",
       "      <td>S08000026</td>\n",
       "      <td>ZE2 9RW</td>\n",
       "      <td>202212</td>\n",
       "    </tr>\n",
       "  </tbody>\n",
       "</table>\n",
       "<p>8852 rows × 15 columns</p>\n",
       "</div>"
      ],
      "text/plain": [
       "       pcstrip  depression  alzheimers  blood pressure  hypertension  \\\n",
       "0     AB10 1NW        2136          63            1818          1854   \n",
       "1     AB10 1NW        2070          48            1764          1788   \n",
       "2     AB10 1NW        2361          54            2025          2073   \n",
       "3     AB10 1NW        2286          48            2007          2043   \n",
       "4     AB10 1NW        2403          81            1971          1998   \n",
       "...        ...         ...         ...             ...           ...   \n",
       "8847   ZE2 9RW         402           6             693           696   \n",
       "8848   ZE2 9RW         351          12             528           531   \n",
       "8849   ZE2 9RW         393           9             627           627   \n",
       "8850   ZE2 9RW         366           0             528           528   \n",
       "8851   ZE2 9RW         396           9             642           645   \n",
       "\n",
       "      diabeties  cardiovascular disease  insomnia  addiction  social anxiety  \\\n",
       "0           291                    1149       189         24              33   \n",
       "1           255                    1125       180         21              33   \n",
       "2           327                    1293       183         24              54   \n",
       "3           285                    1197       159         21              48   \n",
       "4           339                    1293       204         21              42   \n",
       "...         ...                     ...       ...        ...             ...   \n",
       "8847        114                     426         0          0               0   \n",
       "8848        117                     330         3          0               0   \n",
       "8849        126                     378         0          0               0   \n",
       "8850        123                     342         0          0               0   \n",
       "8851        129                     390         3          0               0   \n",
       "\n",
       "      NumberOfPaidItems  loneliness        HBT  Postcode    Date  \n",
       "0                 29379        5706  S08000020  AB10 1NW  202201  \n",
       "1                 27033        5487  S08000020  AB10 1NW  202202  \n",
       "2                 32073        6315  S08000020  AB10 1NW  202203  \n",
       "3                 29625        6039  S08000020  AB10 1NW  202204  \n",
       "4                 32514        6339  S08000020  AB10 1NW  202205  \n",
       "...                 ...         ...        ...       ...     ...  \n",
       "8847               7092        1644  S08000026   ZE2 9RW  202208  \n",
       "8848               5601        1344  S08000026   ZE2 9RW  202209  \n",
       "8849               6138        1533  S08000026   ZE2 9RW  202210  \n",
       "8850               5817        1359  S08000026   ZE2 9RW  202211  \n",
       "8851               6756        1572  S08000026   ZE2 9RW  202212  \n",
       "\n",
       "[8852 rows x 15 columns]"
      ]
     },
     "execution_count": 93,
     "metadata": {},
     "output_type": "execute_result"
    }
   ],
   "source": [
    "data"
   ]
  },
  {
   "cell_type": "code",
   "execution_count": 94,
   "id": "677c46d0",
   "metadata": {},
   "outputs": [],
   "source": [
    "# Generate percentages\n",
    "perc_cols = drug_data['illness'].unique()\n",
    "target_cols = perc_cols + '_perc'\n",
    "\n",
    "# Percentages for discrete illness groups out of total drugs prescribed\n",
    "data[target_cols] = data[perc_cols].divide(data[col_items], axis=0) * 100\n",
    "\n",
    "# Overall percentage for loneliness realted disease prescribing out of total drugs prescribed\n",
    "data['loneliness_perc'] = data['loneliness'].divide(data[col_items], axis=0) * 100"
   ]
  },
  {
   "cell_type": "code",
   "execution_count": 95,
   "id": "0692ae85",
   "metadata": {
    "scrolled": true
   },
   "outputs": [
    {
     "data": {
      "text/html": [
       "<div>\n",
       "<style scoped>\n",
       "    .dataframe tbody tr th:only-of-type {\n",
       "        vertical-align: middle;\n",
       "    }\n",
       "\n",
       "    .dataframe tbody tr th {\n",
       "        vertical-align: top;\n",
       "    }\n",
       "\n",
       "    .dataframe thead th {\n",
       "        text-align: right;\n",
       "    }\n",
       "</style>\n",
       "<table border=\"1\" class=\"dataframe\">\n",
       "  <thead>\n",
       "    <tr style=\"text-align: right;\">\n",
       "      <th></th>\n",
       "      <th>pcstrip</th>\n",
       "      <th>depression</th>\n",
       "      <th>alzheimers</th>\n",
       "      <th>blood pressure</th>\n",
       "      <th>hypertension</th>\n",
       "      <th>diabeties</th>\n",
       "      <th>cardiovascular disease</th>\n",
       "      <th>insomnia</th>\n",
       "      <th>addiction</th>\n",
       "      <th>social anxiety</th>\n",
       "      <th>...</th>\n",
       "      <th>depression_perc</th>\n",
       "      <th>alzheimers_perc</th>\n",
       "      <th>blood pressure_perc</th>\n",
       "      <th>hypertension_perc</th>\n",
       "      <th>diabeties_perc</th>\n",
       "      <th>cardiovascular disease_perc</th>\n",
       "      <th>insomnia_perc</th>\n",
       "      <th>addiction_perc</th>\n",
       "      <th>social anxiety_perc</th>\n",
       "      <th>loneliness_perc</th>\n",
       "    </tr>\n",
       "  </thead>\n",
       "  <tbody>\n",
       "    <tr>\n",
       "      <th>0</th>\n",
       "      <td>AB10 1NW</td>\n",
       "      <td>2136</td>\n",
       "      <td>63</td>\n",
       "      <td>1818</td>\n",
       "      <td>1854</td>\n",
       "      <td>291</td>\n",
       "      <td>1149</td>\n",
       "      <td>189</td>\n",
       "      <td>24</td>\n",
       "      <td>33</td>\n",
       "      <td>...</td>\n",
       "      <td>7.270499</td>\n",
       "      <td>0.214439</td>\n",
       "      <td>6.188094</td>\n",
       "      <td>6.310630</td>\n",
       "      <td>0.990503</td>\n",
       "      <td>3.910957</td>\n",
       "      <td>0.643317</td>\n",
       "      <td>0.081691</td>\n",
       "      <td>0.112325</td>\n",
       "      <td>19.422036</td>\n",
       "    </tr>\n",
       "    <tr>\n",
       "      <th>1</th>\n",
       "      <td>AB10 1NW</td>\n",
       "      <td>2070</td>\n",
       "      <td>48</td>\n",
       "      <td>1764</td>\n",
       "      <td>1788</td>\n",
       "      <td>255</td>\n",
       "      <td>1125</td>\n",
       "      <td>180</td>\n",
       "      <td>21</td>\n",
       "      <td>33</td>\n",
       "      <td>...</td>\n",
       "      <td>7.657308</td>\n",
       "      <td>0.177561</td>\n",
       "      <td>6.525358</td>\n",
       "      <td>6.614138</td>\n",
       "      <td>0.943292</td>\n",
       "      <td>4.161580</td>\n",
       "      <td>0.665853</td>\n",
       "      <td>0.077683</td>\n",
       "      <td>0.122073</td>\n",
       "      <td>20.297414</td>\n",
       "    </tr>\n",
       "    <tr>\n",
       "      <th>2</th>\n",
       "      <td>AB10 1NW</td>\n",
       "      <td>2361</td>\n",
       "      <td>54</td>\n",
       "      <td>2025</td>\n",
       "      <td>2073</td>\n",
       "      <td>327</td>\n",
       "      <td>1293</td>\n",
       "      <td>183</td>\n",
       "      <td>24</td>\n",
       "      <td>54</td>\n",
       "      <td>...</td>\n",
       "      <td>7.361332</td>\n",
       "      <td>0.168366</td>\n",
       "      <td>6.313722</td>\n",
       "      <td>6.463380</td>\n",
       "      <td>1.019549</td>\n",
       "      <td>4.031428</td>\n",
       "      <td>0.570573</td>\n",
       "      <td>0.074829</td>\n",
       "      <td>0.168366</td>\n",
       "      <td>19.689458</td>\n",
       "    </tr>\n",
       "  </tbody>\n",
       "</table>\n",
       "<p>3 rows × 25 columns</p>\n",
       "</div>"
      ],
      "text/plain": [
       "    pcstrip  depression  alzheimers  blood pressure  hypertension  diabeties  \\\n",
       "0  AB10 1NW        2136          63            1818          1854        291   \n",
       "1  AB10 1NW        2070          48            1764          1788        255   \n",
       "2  AB10 1NW        2361          54            2025          2073        327   \n",
       "\n",
       "   cardiovascular disease  insomnia  addiction  social anxiety  ...  \\\n",
       "0                    1149       189         24              33  ...   \n",
       "1                    1125       180         21              33  ...   \n",
       "2                    1293       183         24              54  ...   \n",
       "\n",
       "   depression_perc  alzheimers_perc blood pressure_perc hypertension_perc  \\\n",
       "0         7.270499         0.214439            6.188094          6.310630   \n",
       "1         7.657308         0.177561            6.525358          6.614138   \n",
       "2         7.361332         0.168366            6.313722          6.463380   \n",
       "\n",
       "   diabeties_perc  cardiovascular disease_perc  insomnia_perc  addiction_perc  \\\n",
       "0        0.990503                     3.910957       0.643317        0.081691   \n",
       "1        0.943292                     4.161580       0.665853        0.077683   \n",
       "2        1.019549                     4.031428       0.570573        0.074829   \n",
       "\n",
       "   social anxiety_perc  loneliness_perc  \n",
       "0             0.112325        19.422036  \n",
       "1             0.122073        20.297414  \n",
       "2             0.168366        19.689458  \n",
       "\n",
       "[3 rows x 25 columns]"
      ]
     },
     "execution_count": 95,
     "metadata": {},
     "output_type": "execute_result"
    }
   ],
   "source": [
    "data.head(3)"
   ]
  },
  {
   "cell_type": "markdown",
   "id": "3d1ec753",
   "metadata": {},
   "source": [
    "## Standardisation (z-scores)"
   ]
  },
  {
   "cell_type": "code",
   "execution_count": 96,
   "id": "4e6becf1",
   "metadata": {},
   "outputs": [],
   "source": [
    "# Calculate the z scores per illness\n",
    "\n",
    "# Make new column names.\n",
    "per_cols = ['depression_perc', 'alzheimers_perc', 'blood pressure_perc', 'hypertension_perc', \n",
    "            'diabeties_perc', 'cardiovascular disease_perc', 'insomnia_perc', 'addiction_perc',\n",
    "            'social anxiety_perc']\n",
    "\n",
    "# Calculate Z-scores for each column\n",
    "for i, col in enumerate(per_cols):\n",
    "    col_zscore = col[:-5] + 'zscore'  # New column name for Z-scores\n",
    "    data[col_zscore] = stats.zscore(data[col])\n"
   ]
  },
  {
   "cell_type": "code",
   "execution_count": 97,
   "id": "8ae34b36",
   "metadata": {},
   "outputs": [],
   "source": [
    "data['loneliness_zscore'] = data[[ 'depressionzscore', 'alzheimerszscore',\n",
    "       'blood pressurezscore', 'hypertensionzscore', 'diabetieszscore',\n",
    "       'cardiovascular diseasezscore', 'insomniazscore', 'addictionzscore',\n",
    "       'social anxietyzscore']].sum(axis=1)"
   ]
  },
  {
   "cell_type": "code",
   "execution_count": 98,
   "id": "16128f6d",
   "metadata": {},
   "outputs": [
    {
     "data": {
      "text/plain": [
       "<Axes: >"
      ]
     },
     "execution_count": 98,
     "metadata": {},
     "output_type": "execute_result"
    },
    {
     "data": {
      "image/png": "[encoded data removed]",
      "text/plain": [
       "<Figure size 640x480 with 1 Axes>"
      ]
     },
     "metadata": {},
     "output_type": "display_data"
    }
   ],
   "source": [
    "data.loneliness_zscore.hist(bins=100)"
   ]
  },
  {
   "cell_type": "code",
   "execution_count": 99,
   "id": "7036dcc9",
   "metadata": {},
   "outputs": [
    {
     "data": {
      "text/plain": [
       "array([[<Axes: title={'center': '0'}>]], dtype=object)"
      ]
     },
     "execution_count": 99,
     "metadata": {},
     "output_type": "execute_result"
    },
    {
     "data": {
      "image/png": "[encoded data removed]",
      "text/plain": [
       "<Figure size 640x480 with 1 Axes>"
      ]
     },
     "metadata": {},
     "output_type": "display_data"
    }
   ],
   "source": [
    "scaler = MinMaxScaler()\n",
    "pd.DataFrame(scaler.fit_transform(data[['loneliness_zscore']])).hist(bins=100)"
   ]
  },
  {
   "cell_type": "code",
   "execution_count": null,
   "id": "f7aaac6b",
   "metadata": {},
   "outputs": [],
   "source": []
  }
 ],
 "metadata": {
  "kernelspec": {
   "display_name": "Python 3 (ipykernel)",
   "language": "python",
   "name": "python3"
  },
  "language_info": {
   "codemirror_mode": {
    "name": "ipython",
    "version": 3
   },
   "file_extension": ".py",
   "mimetype": "text/x-python",
   "name": "python",
   "nbconvert_exporter": "python",
   "pygments_lexer": "ipython3",
   "version": "3.9.6"
  }
 },
 "nbformat": 4,
 "nbformat_minor": 5
}
